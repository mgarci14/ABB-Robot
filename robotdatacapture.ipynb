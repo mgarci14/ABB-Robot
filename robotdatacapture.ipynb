{
 "cells": [
  {
   "cell_type": "markdown",
   "id": "5de87b92-c5ae-4c50-8b3c-f90966b4909c",
   "metadata": {},
   "source": [
    "# Imports"
   ]
  },
  {
   "cell_type": "code",
   "execution_count": 1,
   "id": "50693a84-bf3b-4f2c-8eeb-daeedeabad4e",
   "metadata": {},
   "outputs": [],
   "source": [
    "import numpy as np\n",
    "from PIL import Image\n",
    "import tensorflow as tf\n",
    "from matplotlib import pyplot as plt\n",
    "from sklearn.model_selection import train_test_split\n",
    "import os\n",
    "import keras_tuner as kt\n",
    "import cv2"
   ]
  },
  {
   "cell_type": "markdown",
   "id": "86627631-9414-4b20-852c-21bbceab42ee",
   "metadata": {},
   "source": [
    "# MODEL ONE\n",
    "\n",
    "## END GOAL\n",
    "\n",
    "IMAGE Vec -> 6 joint outputs \n",
    "\n",
    "for movement of arm to condiment section\n",
    "\n",
    "## Structure of data\n",
    "\n",
    "IMAGES -> 6 joint positions \n",
    "\n",
    "images labeled with the 6 different joint positions \n",
    "\n",
    "multiple different starting positions with different ways to get to the condiment section\n",
    "\n",
    "Once object detection team done add the positions of the condiments and have the arm grab them \n",
    "\n",
    "# MODEL TWO\n",
    "\n",
    "## END GOAL \n",
    "\n",
    "IMAGE vec -> 6 joint outputs\n",
    "\n",
    "from condiment section to the person\n",
    "\n",
    "## Structure od data\n",
    "\n",
    "images labeled with 6 different joing positions\n",
    "\n",
    "multiple different starting positions with different ways to get to the person from the condiment sections\n",
    "\n",
    "from the object detection model we will take the persons position and use that to have the model move to the person\n"
   ]
  },
  {
   "cell_type": "markdown",
   "id": "b520addf-eeab-4d3b-aa41-58dea6dee635",
   "metadata": {},
   "source": [
    "# trying to make a linear regression model for age analysis"
   ]
  },
  {
   "cell_type": "code",
   "execution_count": 2,
   "id": "5ac15d43-6ad0-4bc9-a26c-489462c7f09b",
   "metadata": {
    "scrolled": true
   },
   "outputs": [],
   "source": [
    "# loading the dataset\n",
    "\n",
    "X = []\n",
    "y = []\n",
    "\n",
    "image_folder_path = \"../data/processed/UTKFace\"\n",
    "\n",
    "# Get a list of all the images in the folder\n",
    "image_files = os.listdir(image_folder_path)\n",
    "\n",
    "for x in range(len(image_files)):\n",
    "    if x < 10000:\n",
    "        if os.path.isfile(image_folder_path + \"/\" + image_files[x]):\n",
    "            X.append(np.array(Image.open(image_folder_path + \"/\" +  image_files[x])))\n",
    "            y.append(np.array([int(image_files[x].split('_')[0])]))\n",
    "        else:\n",
    "            print(\"file not found\")\n",
    "    else:\n",
    "        pass\n",
    "    \n",
    "X = np.array(X)\n",
    "y = np.array(y)"
   ]
  },
  {
   "cell_type": "code",
   "execution_count": 3,
   "id": "96da9179-b8e6-4689-a679-de91cf485f00",
   "metadata": {},
   "outputs": [],
   "source": [
    "# used this to split the data \n",
    "X_train, X_test, y_train, y_test = train_test_split(X, y, random_state=0, train_size = 0.8)\n",
    "X = None\n",
    "y = None"
   ]
  },
  {
   "cell_type": "code",
   "execution_count": null,
   "id": "a49fae08-24c3-4a4d-a9ce-3daa76b5b89c",
   "metadata": {},
   "outputs": [],
   "source": [
    "# def model_builder(hp):\n",
    "#     model = tf.keras.models.Sequential()\n",
    "#     model.add(tf.keras.layers.Normalization(input_shape=(200,200,3)))\n",
    "    \n",
    "#     hp_units_conv1 = hp.Int('units', min_value=32, max_value=128, step=16)\n",
    "#     model.add(tf.keras.layers.Conv2D(hp_units_conv1, (3, 3), activation='relu'))\n",
    "#     model.add(tf.keras.layers.MaxPooling2D(2,2))\n",
    "    \n",
    "#     hp_units_conv2 = hp.Int('units', min_value=64, max_value=128, step=16)\n",
    "#     model.add(tf.keras.layers.Conv2D(hp_units_conv2, (3, 3), activation='relu'))\n",
    "#     model.add(tf.keras.layers.MaxPooling2D(2,2))\n",
    "    \n",
    "#     hp_units_conv3 = hp.Int('units', min_value=128, max_value=256, step=16)\n",
    "#     model.add(tf.keras.layers.Conv2D(hp_units_conv3, (3, 3), activation='relu'))\n",
    "#     model.add(tf.keras.layers.MaxPooling2D(2,2))\n",
    "#     model.add(tf.keras.layers.Flatten())\n",
    "    \n",
    "#     hp_units_dense1 = hp.Int('units', min_value=32, max_value=512, step=32)\n",
    "#     model.add(tf.keras.layers.Dense(64, activation='relu'))\n",
    "#     model.add(tf.keras.layers.Dense(1, activation='relu'))\n",
    "#     hp_learning_rate = hp.Choice('learning_rate', values=[1e-2, 1e-3, 1e-4])\n",
    "#     model.compile(loss=tf.keras.losses.MeanSquaredError(),\n",
    "#                 optimizer=tf.keras.optimizers.Adam(hp_learning_rate), metrics=[tf.keras.metrics.MeanAbsoluteError()])\n",
    "#     return model"
   ]
  },
  {
   "cell_type": "code",
   "execution_count": null,
   "id": "1d6612dd-a3da-40ae-894f-4e87e231bcd9",
   "metadata": {},
   "outputs": [],
   "source": [
    "# stop_early = tf.keras.callbacks.EarlyStopping(monitor='val_loss', patience=5)\n",
    "\n",
    "# tuner = kt.Hyperband(model_builder,\n",
    "#                      objective='mse',\n",
    "#                      max_epochs=10,\n",
    "#                      factor=3,\n",
    "#                      directory='/',\n",
    "#                      project_name='intro_to_kt')\n",
    "\n",
    "# tuner.search(X_train, y_train, epochs=10, validation_split=0.2, callbacks=[stop_early])\n",
    "\n",
    "# # Get the optimal hyperparameters\n",
    "# best_hps=tuner.get_best_hyperparameters(num_trials=1)[0]\n",
    "\n",
    "# print(f\"\"\"\n",
    "# The hyperparameter search is complete. The optimal number of units in the first densely-connected\n",
    "# layer is {best_hps.get('units')} and the optimal learning rate for the optimizer\n",
    "# is {best_hps.get('learning_rate')}.\n",
    "# \"\"\")"
   ]
  },
  {
   "cell_type": "code",
   "execution_count": 15,
   "id": "c2b85c79-d1b9-45a9-b1eb-8ff82965c96f",
   "metadata": {},
   "outputs": [],
   "source": [
    "def create_model():\n",
    "    model = tf.keras.models.Sequential()\n",
    "    model.add(tf.keras.layers.Normalization(input_shape=(200, 200, 3)))\n",
    "    model.add(tf.keras.layers.Conv2D(112, (3, 3), activation='relu'))\n",
    "    model.add(tf.keras.layers.MaxPooling2D(2,2))\n",
    "    model.add(tf.keras.layers.Conv2D(80, (3, 3), activation='relu'))\n",
    "    model.add(tf.keras.layers.MaxPooling2D(2,2))\n",
    "    model.add(tf.keras.layers.Conv2D(256, (3, 3), activation='relu'))\n",
    "    model.add(tf.keras.layers.MaxPooling2D(2,2))\n",
    "    model.add(tf.keras.layers.Flatten())\n",
    "    model.add(tf.keras.layers.Dense(32, activation='relu'))\n",
    "    model.add(tf.keras.layers.Dense(1, activation='relu'))\n",
    "    model.compile(loss=tf.keras.losses.MeanSquaredError(),\n",
    "                    optimizer=tf.keras.optimizers.Adam(0.0001), metrics=[tf.keras.metrics.MeanAbsoluteError()])\n",
    "    return model"
   ]
  },
  {
   "cell_type": "code",
   "execution_count": 25,
   "id": "ed203dec-973e-402c-90ad-adaf41c8850e",
   "metadata": {},
   "outputs": [],
   "source": [
    "history = model.fit(X_train, y_train, epochs=10, \n",
    "                    validation_data=(X_test, y_test))"
   ]
  },
  {
   "cell_type": "code",
   "execution_count": 26,
   "id": "6a966837-33d2-4bde-aacc-69d7e0ddd2e3",
   "metadata": {},
   "outputs": [
    {
     "name": "stdout",
     "output_type": "stream",
     "text": [
      "63/63 [==============================] - 27s 424ms/step - loss: 90.5707 - mean_absolute_error: 7.0192\n"
     ]
    },
    {
     "data": {
      "text/plain": [
       "[90.57069396972656, 7.019184589385986]"
      ]
     },
     "execution_count": 26,
     "metadata": {},
     "output_type": "execute_result"
    }
   ],
   "source": [
    "model = tf.keras.models.load_model('../models/my_model_v1')\n",
    "model.evaluate(X_test, y_test)"
   ]
  },
  {
   "cell_type": "code",
   "execution_count": 31,
   "id": "83edf4a7-eabd-45c3-8b6b-63f1afd1eb9e",
   "metadata": {},
   "outputs": [
    {
     "name": "stdout",
     "output_type": "stream",
     "text": [
      "63/63 [==============================] - 27s 427ms/step\n"
     ]
    }
   ],
   "source": [
    "predicts = model.predict(X_test)"
   ]
  },
  {
   "cell_type": "code",
   "execution_count": 10,
   "id": "34ae4b5b-142d-43d8-89f6-a047940ef0b5",
   "metadata": {},
   "outputs": [
    {
     "data": {
      "text/plain": [
       "<matplotlib.legend.Legend at 0x15d883af050>"
      ]
     },
     "execution_count": 10,
     "metadata": {},
     "output_type": "execute_result"
    },
    {
     "data": {
      "image/png": "[encoded data removed]",
      "text/plain": [
       "<Figure size 640x480 with 1 Axes>"
      ]
     },
     "metadata": {},
     "output_type": "display_data"
    }
   ],
   "source": [
    "plt.plot(history.history['loss'], label='loss')\n",
    "plt.plot(history.history['mean_absolute_error'], label='mean_absolute_error')\n",
    "plt.xlabel('Epoch')\n",
    "plt.ylabel('loss')\n",
    "plt.legend(loc='lower right')\n",
    "# test_loss, test_acc = model.evaluate(X_test,  y_test, verbose=2)"
   ]
  },
  {
   "cell_type": "markdown",
   "id": "45c1bb6b-c334-466e-a4ef-b248726f7511",
   "metadata": {},
   "source": [
    "# END"
   ]
  },
  {
   "cell_type": "markdown",
   "id": "463dfce9-d2b0-4f48-ae04-7011457d0091",
   "metadata": {},
   "source": [
    "# ROBOT CONNECTION CLASS"
   ]
  },
  {
   "cell_type": "markdown",
   "id": "2acc4c2c-beef-4fe6-995b-810a81d2c188",
   "metadata": {},
   "source": [
    "# ROBOT DOCS\n",
    "\n",
    "Quick and Dirty Methods for ABB Communication Module\n",
    "\n",
    "METHODS:\n",
    "\n",
    "set_units(linear, angular) : \n",
    "\tAllows the user to set the units of the input for the robot.\n",
    "\t\n",
    "\tlinear (str) : Choice of millimeters, meters, or inches\n",
    "\tangular (str) : Choice of degrees or radians\n",
    "\n",
    "\n",
    "set_cartesian(pose):\n",
    "\tExecutes a linear move from the current position to the position indicated by pose.\n",
    "\n",
    "\tpose (cartesian position) : [[X, Y, Z], [q1,q2,q3,q4]] : the new position the robot is moving too.\n",
    "\t\tX, Y, and Z are the unit locations within the workObject and q1-q4 describe the \t\torientation of the tool\n",
    "\n",
    "set_joints(joints):\n",
    "\tdirectly sets the joint positions of the robot.\n",
    "\n",
    "\tjoints (array) : [1,2,3,4,5,6] : an array with 6 positions where joints[0] represents the degree value of \tjoint 1 (the base), and joints[5] represents the degree value of joint 6 (the tool face).\n",
    "\n",
    "get_cartesian():\n",
    "\treturns an array containing the current position and orientation of the tool within the work object.\n",
    "\n",
    "\tRETURNS: a “cartesian position” (see “set_cartesian”) containing the current position of the tool.\n",
    "\n",
    "get_joints():\n",
    "\tReturns an array containing the current degree values of the joints.\n",
    "\n",
    "\tRETURNS: an array with 6 positions, relating to the degree rotation of each of the 6 axis’\n",
    "\n",
    "get_external_axis():\n",
    "\tNOT NEEDED FOR OUR PROJECT. Returns the position of an external axis.\n",
    "\n",
    "get_robotinfo():\n",
    "\tReturns a string containing information such as the robot’s model number, RobotWare versions, and \tother similar info.\n",
    "\n",
    "set_tool(tool):\n",
    "\tAllows the user to define a tool center-point. Defining tools allows for more precise movement.\n",
    "\n",
    "\ttool (TCP data): [[X, Y, Z], [q1,q2,q3,q4]] : Very similar to a cartesian position. Essentially a position \tfrom the frame of reference of the tool plate, with X Y Z and orientation positions saved.\n",
    "\n",
    "\tNOTE: Though I do not see it here, tool data also usually includes its weight in kilograms and \tinformation to indicate the location of the tool’s center of mass. This allows the ABB software to take \tthese factors into consideration when making moves while keeping set speeds.\n",
    "\n",
    "load_json_tool(file_obj):\n",
    "\t(UNSURE?) Looks to be another way to load tool data using a JSON format.\n",
    "\n",
    "get_tool():\n",
    "\tReturns the data for the currently set tool.\n",
    "\n",
    "\tRETURNS: TCP data of currently active tool. (See “set_tool”)\n",
    "\n",
    "set_workobject(work_obj):\n",
    "\tAllows the user to set the current workObject data for the ABB Arm.\n",
    "\tWorkObjects are like frames of reference, they allow the user to define a specific coordinate systems \tfor a surface or object that is independent of rotation or actual position in the world.\n",
    "\n",
    "\twork_obj (WorkOBJData) : [[X, Y, Z], [q1,q2,q3,q4]] : Very similar to cartesian position. X, Y, and Z \trefer to the position in space of the origin of the work object. Q1-q4 refer to the orientation relative to \tthe world object\n",
    "\n",
    "set_speed(speed):\n",
    "\tAllows the user to set the speed of the robot.\n",
    "\n",
    "\tspeed (array) : [LSpeed, RSpeed, ExtLSpeed, ExtRSpeed] : Speed variables corresponding to linear \ttool speed (mm/s), rotational tool speed (degrees/s), external axis speed (mm/s), external axis \trotational speed (degrees/s)\n",
    "\n",
    "set_zone(zone_key, point_motion, manual_zone):\n",
    "\tAllows the user to set the zone of the robot. Zone refers to the amount of tolerance, in terms of \tdistance to a point, the robot has when considering its moves. Better explained in the Functions and \tDataTypes PDF.\n",
    "\n",
    "\tzone_key (str) : Refers to a set of preconfigured zone data values. (z0, z1, z5, z15, z20, z30, z50, \tz100, z200)\n",
    "\n",
    "\tpoint_motion (bool) : Refers specifically to “fine” point movements. I.E. Robot moves to the exact \tpoint position of a variable before moving to the next one.\n",
    "\n",
    "\tmanual_zone (array) : [pzone_tcp, pzone_ori, zone_ori] :\n",
    "        \t\tpzone_tcp: mm, radius from goal where robot tool centerpoint \n",
    "                   \t\tis not rigidly constrained\n",
    "        \t\tpzone_ori: mm, radius from goal where robot tool orientation \n",
    "                   \t\tis not rigidly constrained\n",
    "        \t\tzone_ori: degrees, zone size for the tool reorientation\n",
    "\n",
    "buffer_add(pose):\n",
    "\tAppends single pose to the remote buffer. Move will execute at current speed (which you can change \tbetween buffer_add calls)\n",
    "\n",
    "\n",
    "buffer_set(pose_list): \n",
    "\tAdd every pose in pose_list to the remote buffer.\n",
    "\n",
    "clear_buffer():\n",
    "\tClears remote buffer\n",
    "\n",
    "buffer_len():\n",
    "\tReturns the length of the remote buffer.\n",
    "\n",
    "buffer_execute():\n",
    "\tExecutes linear moves to every pose in the remote buffer.\n",
    "\n",
    "set_external_axis(axis_unscaled):\n",
    "\tNOT NEEDED FOR OUR PROJECT. Sets an external axis for the robot.\n",
    "\n",
    "move_circular(pose_onarc, pose_end):\n",
    "\tAllows the user to move the tool in a circular arc from the current position, to the peak of the arc at \t‘pose_onarc’, to the end of the arc at “pose_end’.\n",
    "\n",
    "\tpose_onarc (cartesian position) : the position at the peak of an arc.\n",
    "\t\n",
    "\tpose_end (cartesian position) : the position at the end of an arc.\n",
    "\n",
    "\tNOTE: This uses the MoveC RobotWare command. In my experience this command is particular \tfinicky. I requires minimum and maximum arc angles for it to run properly. Use at your own risk.\n",
    "\n",
    "set_dio(value, id):\n",
    "\tAllows the user to control the robot’s digital GPIO inputs.\n",
    "\n",
    "\tvalue (bool) : set IO to True or False\n",
    "\t\n",
    "\tid (int) : The specific GPIO? This doesn’t appear to be used in the abb.py program??? Have to double \tcheck this if we want to use GPIO pins\n",
    "\n",
    "send(message, wait_for_response=True):\n",
    "\tThis module sends data from the python program to the PC interface of the robot.\n",
    "\t\n",
    "\tmessage (str) : String message containing data for executing commands.\n",
    "\twait_for_response (bool) : (ASSUMED) Whether or not we should wait for a response from the robot.\n",
    "\n",
    "\tNOTE: If we want to use Python3, this module will have to be updated.\n",
    "\n",
    "format_pose(pose):\n",
    "\t(UNSURE?) My guess is that it converts a cartesian point (pose) into different units if necessary. \tPossibly converts info into string data? Not quite sure.\n",
    "\n",
    "close():\n",
    "\tDisconnects user from robot.\n",
    "\n",
    "check_coordinates(coordinates):\n",
    "\tconfirms that coordinates are of the correct cartesian formatting."
   ]
  },
  {
   "cell_type": "code",
   "execution_count": 1,
   "id": "180f57c2-bd2f-458a-9f9b-c5c32eba5744",
   "metadata": {},
   "outputs": [],
   "source": [
    "'''\n",
    "Michael Dawson-Haggerty\n",
    "\n",
    "abb.py: contains classes and support functions which interact with an ABB Robot running our software stack (RAPID code module SERVER)\n",
    "\n",
    "\n",
    "For functions which require targets (XYZ positions with quaternion orientation),\n",
    "targets can be passed as [[XYZ], [Quats]] OR [XYZ, Quats]\n",
    "\n",
    "'''\n",
    "\n",
    "import socket\n",
    "import json \n",
    "import time\n",
    "import inspect\n",
    "from threading import Thread\n",
    "from collections import deque\n",
    "import logging\n",
    "\n",
    "log = logging.getLogger(__name__)\n",
    "log.addHandler(logging.NullHandler())\n",
    "    \n",
    "class Robot:\n",
    "    def __init__(self, \n",
    "                 ip          = '192.168.125.1', \n",
    "                 port_motion = 5000,\n",
    "                 port_logger = 5001):\n",
    "\n",
    "        self.delay   = .08\n",
    "\n",
    "        self.connect_motion((ip, port_motion))\n",
    "        #log_thread = Thread(target = self.get_net, \n",
    "        #                    args   = ((ip, port_logger))).start()\n",
    "        \n",
    "        self.set_units('millimeters', 'degrees')\n",
    "        self.set_tool()\n",
    "        self.set_workobject()\n",
    "        self.set_speed()\n",
    "        self.set_zone()\n",
    "\n",
    "    def connect_motion(self, remote):        \n",
    "        log.info('Attempting to connect to robot motion server at %s', str(remote))\n",
    "        self.sock = socket.socket(socket.AF_INET, socket.SOCK_STREAM)\n",
    "        self.sock.settimeout(2.5)\n",
    "        self.sock.connect(remote)\n",
    "        self.sock.settimeout(None)\n",
    "        log.info('Connected to robot motion server at %s', str(remote))\n",
    "\n",
    "    def connect_logger(self, remote, maxlen=None):\n",
    "        self.pose   = deque(maxlen=maxlen)\n",
    "        self.joints = deque(maxlen=maxlen)\n",
    "        \n",
    "        s = socket.socket(socket.AF_INET, socket.SOCK_STREAM)\n",
    "        s.connect(remote)\n",
    "        s.setblocking(1)\n",
    "        try:\n",
    "            while True:\n",
    "                data = map(float, s.recv(4096).split())\n",
    "                if   int(data[1]) == 0: \n",
    "                    self.pose.append([data[2:5], data[5:]])\n",
    "                #elif int(data[1]) == 1: self.joints.append([a[2:5], a[5:]])\n",
    "        finally:\n",
    "            s.shutdown(socket.SHUT_RDWR)\n",
    "\n",
    "    def set_units(self, linear, angular):\n",
    "        units_l = {'millimeters': 1.0,\n",
    "                   'meters'     : 1000.0,\n",
    "                   'inches'     : 25.4}\n",
    "        units_a = {'degrees' : 1.0,\n",
    "                   'radians' : 57.2957795}\n",
    "        self.scale_linear = units_l[linear]\n",
    "        self.scale_angle  = units_a[angular]\n",
    "\n",
    "    def set_cartesian(self, pose):\n",
    "        '''\n",
    "        Executes a move immediately from the current pose,\n",
    "        to 'pose', with units of millimeters.\n",
    "        '''\n",
    "        msg  = \"01 \" + self.format_pose(pose)   \n",
    "        return self.send(msg)\n",
    "\n",
    "    def set_joints(self, joints):\n",
    "        '''\n",
    "        Executes a move immediately, from current joint angles,\n",
    "        to 'joints', in degrees. \n",
    "        '''\n",
    "        if len(joints) != 6: return False\n",
    "        msg = \"02 \"\n",
    "        for joint in joints: msg += format(joint*self.scale_angle, \"+08.2f\") + \" \" \n",
    "        msg += \"#\" \n",
    "        return self.send(msg)\n",
    "\n",
    "    def get_cartesian(self):\n",
    "        '''\n",
    "        Returns the current pose of the robot, in millimeters\n",
    "        '''\n",
    "        msg = \"03 #\"\n",
    "        data = self.send(msg).split()\n",
    "        r = [float(s) for s in data]\n",
    "        return [r[2:5], r[5:9]]\n",
    "\n",
    "    def get_joints(self):\n",
    "        '''\n",
    "        Returns the current angles of the robots joints, in degrees. \n",
    "        '''\n",
    "        msg = \"04 #\"\n",
    "        data = self.send(msg).split()\n",
    "        return [float(s) / self.scale_angle for s in data[2:8]]\n",
    "\n",
    "    def get_cart_pose(self, joints = [0,0,0,0,0,0]):\n",
    "        if len(joints) != 6: return False\n",
    "        msg = \"39 \"\n",
    "        for joint in joints: msg += format(joint*self.scale_angle, \"+08.2f\") + \" \" \n",
    "        msg += \"#\" \n",
    "        data = self.send(msg).split()\n",
    "        r = [float(s) for s in data]\n",
    "        return [r[2:5], r[5:9]]\n",
    "\n",
    "    def get_external_axis(self):\n",
    "        '''\n",
    "        If you have an external axis connected to your robot controller\n",
    "        (such as a FlexLifter 600, google it), this returns the joint angles\n",
    "        '''\n",
    "        msg = \"05 #\"\n",
    "        data = self.send(msg).split()\n",
    "        return [float(s) for s in data[2:8]]\n",
    "       \n",
    "    def get_robotinfo(self):\n",
    "        '''\n",
    "        Returns a robot- unique string, with things such as the\n",
    "        robot's model number. \n",
    "        Example output from and IRB 2400:\n",
    "        ['24-53243', 'ROBOTWARE_5.12.1021.01', '2400/16 Type B']\n",
    "        '''\n",
    "        msg = \"98 #\"\n",
    "        data = str(self.send(msg))[5:].split('*')\n",
    "        log.debug('get_robotinfo result: %s', str(data))\n",
    "        return data\n",
    "\n",
    "    def set_tool(self, tool=[[0,0,0], [1,0,0,0]]):\n",
    "        '''\n",
    "        Sets the tool centerpoint (TCP) of the robot. \n",
    "        When you command a cartesian move, \n",
    "        it aligns the TCP frame with the requested frame.\n",
    "        \n",
    "        Offsets are from tool0, which is defined at the intersection of the\n",
    "        tool flange center axis and the flange face.\n",
    "        '''\n",
    "        msg       = \"06 \" + self.format_pose(tool)    \n",
    "        self.send(msg)\n",
    "        self.tool = tool\n",
    "\n",
    "    def load_json_tool(self, file_obj):\n",
    "        if file_obj.__class__.__name__ == 'str':\n",
    "            file_obj = open(filename, 'rb');\n",
    "        tool = check_coordinates(json.load(file_obj))\n",
    "        self.set_tool(tool)\n",
    "        \n",
    "    def get_tool(self): \n",
    "        log.debug('get_tool returning: %s', str(self.tool))\n",
    "        return self.tool\n",
    "\n",
    "    def set_workobject(self, work_obj=[[0,0,0],[1,0,0,0]]):\n",
    "        '''\n",
    "        The workobject is a local coordinate frame you can define on the robot,\n",
    "        then subsequent cartesian moves will be in this coordinate frame. \n",
    "        '''\n",
    "        msg = \"07 \" + self.format_pose(work_obj)   \n",
    "        self.send(msg)\n",
    "\n",
    "    def set_speed(self, speed=[100,50,50,50]):\n",
    "        '''\n",
    "        speed: [robot TCP linear speed (mm/s), TCP orientation speed (deg/s),\n",
    "                external axis linear, external axis orientation]\n",
    "        '''\n",
    "\n",
    "        if len(speed) != 4: return False\n",
    "        msg = \"08 \" \n",
    "        msg += format(speed[0], \"+08.1f\") + \" \" \n",
    "        msg += format(speed[1], \"+08.2f\") + \" \"  \n",
    "        msg += format(speed[2], \"+08.1f\") + \" \" \n",
    "        msg += format(speed[3], \"+08.2f\") + \" #\"     \n",
    "        self.send(msg)\n",
    "\n",
    "    def set_zone(self, \n",
    "                 zone_key     = 'z1', \n",
    "                 point_motion = False, \n",
    "                 manual_zone  = []):\n",
    "        zone_dict = {'z0'  : [.3,.3,.03], \n",
    "                    'z1'  : [1,1,.1], \n",
    "                    'z5'  : [5,8,.8], \n",
    "                    'z10' : [10,15,1.5], \n",
    "                    'z15' : [15,23,2.3], \n",
    "                    'z20' : [20,30,3], \n",
    "                    'z30' : [30,45,4.5], \n",
    "                    'z50' : [50,75,7.5], \n",
    "                    'z100': [100,150,15], \n",
    "                    'z200': [200,300,30]}\n",
    "        '''\n",
    "        Sets the motion zone of the robot. This can also be thought of as\n",
    "        the flyby zone, AKA if the robot is going from point A -> B -> C,\n",
    "        how close do we have to pass by B to get to C\n",
    "        \n",
    "        zone_key: uses values from RAPID handbook (stored here in zone_dict)\n",
    "        with keys 'z*', you should probably use these\n",
    "\n",
    "        point_motion: go to point exactly, and stop briefly before moving on\n",
    "\n",
    "        manual_zone = [pzone_tcp, pzone_ori, zone_ori]\n",
    "        pzone_tcp: mm, radius from goal where robot tool centerpoint \n",
    "                   is not rigidly constrained\n",
    "        pzone_ori: mm, radius from goal where robot tool orientation \n",
    "                   is not rigidly constrained\n",
    "        zone_ori: degrees, zone size for the tool reorientation\n",
    "        '''\n",
    "\n",
    "        if point_motion: \n",
    "            zone = [0,0,0]\n",
    "        elif len(manual_zone) == 3: \n",
    "            zone = manual_zone\n",
    "        elif zone_key in zone_dict.keys(): \n",
    "            zone = zone_dict[zone_key]\n",
    "        else: return False\n",
    "        \n",
    "        msg = \"09 \" \n",
    "        msg += str(int(point_motion)) + \" \"\n",
    "        msg += format(zone[0], \"+08.4f\") + \" \" \n",
    "        msg += format(zone[1], \"+08.4f\") + \" \" \n",
    "        msg += format(zone[2], \"+08.4f\") + \" #\" \n",
    "        self.send(msg)\n",
    "\n",
    "    def buffer_add(self, pose):\n",
    "        '''\n",
    "        Appends single pose to the remote buffer\n",
    "        Move will execute at current speed (which you can change between buffer_add calls)\n",
    "        '''\n",
    "        msg = \"30 \" + self.format_pose(pose) \n",
    "        self.send(msg)\n",
    "\n",
    "    def buffer_set(self, pose_list):\n",
    "        '''\n",
    "        Adds every pose in pose_list to the remote buffer\n",
    "        '''\n",
    "        self.clear_buffer()\n",
    "        for pose in pose_list: \n",
    "            self.buffer_add(pose)\n",
    "        if self.buffer_len() == len(pose_list):\n",
    "            log.debug('Successfully added %i poses to remote buffer', \n",
    "                      len(pose_list))\n",
    "            return True\n",
    "        else:\n",
    "            log.warn('Failed to add poses to remote buffer!')\n",
    "            self.clear_buffer()\n",
    "            return False\n",
    "\n",
    "    def clear_buffer(self):\n",
    "        msg = \"31 #\"\n",
    "        data = self.send(msg)\n",
    "        if self.buffer_len() != 0:\n",
    "            log.warn('clear_buffer failed! buffer_len: %i', self.buffer_len())\n",
    "            raise NameError('clear_buffer failed!')\n",
    "        return data\n",
    "\n",
    "    def buffer_len(self):\n",
    "        '''\n",
    "        Returns the length (number of poses stored) of the remote buffer\n",
    "        '''\n",
    "        msg = \"32 #\"\n",
    "        data = self.send(msg).split()\n",
    "        return int(float(data[2]))\n",
    "\n",
    "    def buffer_execute(self):\n",
    "        '''\n",
    "        Immediately execute linear moves to every pose in the remote buffer.\n",
    "        '''\n",
    "        msg = \"33 #\"\n",
    "        return self.send(msg)\n",
    "\n",
    "    def set_external_axis(self, axis_unscaled=[-550,0,0,0,0,0]):\n",
    "        if len(axis_values) != 6: return False\n",
    "        msg = \"34 \"\n",
    "        for axis in axis_values:\n",
    "            msg += format(axis, \"+08.2f\") + \" \" \n",
    "        msg += \"#\"   \n",
    "        return self.send(msg)\n",
    "\n",
    "    def move_circular(self, pose_onarc, pose_end):\n",
    "        '''\n",
    "        Executes a movement in a circular path from current position, \n",
    "        through pose_onarc, to pose_end\n",
    "        '''\n",
    "        msg_0 = \"35 \" + self.format_pose(pose_onarc)  \n",
    "        msg_1 = \"36 \" + self.format_pose(pose_end)\n",
    "\n",
    "        data = self.send(msg_0).split()\n",
    "        if data[1] != '1': \n",
    "            log.warn('move_circular incorrect response, bailing!')\n",
    "            return False\n",
    "        return self.send(msg_1)\n",
    "\n",
    "    def set_dio(self, value, id=0):\n",
    "        '''\n",
    "        A function to set a physical DIO line on the robot.\n",
    "        For this to work you're going to need to edit the RAPID function\n",
    "        and fill in the DIO you want this to switch. \n",
    "        '''\n",
    "        msg = '97 ' + str(int(bool(value))) + ' #'\n",
    "        return \n",
    "        #return self.send(msg)\n",
    "\n",
    "    def set_do_grip(self, value):\n",
    "        msg = \"37 \" + str(int(bool(value))) + ' #'\n",
    "\n",
    "        return self.send(msg)\n",
    "    \n",
    "        \n",
    "    def send(self, message, wait_for_response=True):\n",
    "        '''\n",
    "        Send a formatted message to the robot socket.\n",
    "        if wait_for_response, we wait for the response and return it\n",
    "        '''\n",
    "        caller = inspect.stack()[1][3]\n",
    "        log.debug('%-14s sending: %s', caller, message)\n",
    "        self.sock.send(bytes(message, encoding='utf-8'))\n",
    "        time.sleep(self.delay)\n",
    "        if not wait_for_response: return\n",
    "        data = self.sock.recv(4096)\n",
    "        log.debug('%-14s recieved: %s', caller, data)\n",
    "        return data\n",
    "        \n",
    "    def format_pose(self, pose):\n",
    "        pose = check_coordinates(pose)\n",
    "        msg  = ''\n",
    "        for cartesian in pose[0]:\n",
    "            msg += format(cartesian * self.scale_linear,  \"+08.1f\") + \" \" \n",
    "        for quaternion in pose[1]:\n",
    "            msg += format(quaternion, \"+08.5f\") + \" \" \n",
    "        msg += \"#\" \n",
    "        return msg       \n",
    "        \n",
    "    def close(self):\n",
    "        self.send(\"99 #\", False)\n",
    "        self.sock.shutdown(socket.SHUT_RDWR)\n",
    "        self.sock.close()\n",
    "        log.info('Disconnected from ABB robot.')\n",
    "\n",
    "    def __enter__(self):\n",
    "        return self\n",
    "        \n",
    "    def __exit__(self, type, value, traceback):\n",
    "        self.close()\n",
    "\n",
    "def check_coordinates(coordinates):\n",
    "    if ((len(coordinates) == 2) and\n",
    "        (len(coordinates[0]) == 3) and \n",
    "        (len(coordinates[1]) == 4)): \n",
    "        return coordinates\n",
    "    elif (len(coordinates) == 7):\n",
    "        return [coordinates[0:3], coordinates[3:7]]\n",
    "    log.warn('Recieved malformed coordinate: %s', str(coordinates))\n",
    "    raise NameError('Malformed coordinate!')\n",
    "\n",
    "if __name__ == '__main__':\n",
    "    formatter = logging.Formatter(\"[%(asctime)s] %(levelname)-7s (%(filename)s:%(lineno)3s) %(message)s\", \"%Y-%m-%d %H:%M:%S\")\n",
    "    handler_stream = logging.StreamHandler()\n",
    "    handler_stream.setFormatter(formatter)\n",
    "    handler_stream.setLevel(logging.DEBUG)\n",
    "    log = logging.getLogger('abb')\n",
    "    log.setLevel(logging.DEBUG)\n",
    "    log.addHandler(handler_stream)\n",
    "    \n"
   ]
  },
  {
   "cell_type": "markdown",
   "id": "032b62af-be29-49da-b7b3-366029bdcc40",
   "metadata": {},
   "source": [
    "# ROBOT CONNECTION\n",
    "\n",
    "default ip is 192.168.125.1"
   ]
  },
  {
   "cell_type": "code",
   "execution_count": 91,
   "id": "2067c383-1aa9-4557-8b5f-8ad162b958dd",
   "metadata": {},
   "outputs": [
    {
     "name": "stderr",
     "output_type": "stream",
     "text": [
      "[2023-12-04 18:08:00] INFO    (4142056469.py: 42) Attempting to connect to robot motion server at ('192.168.125.1', 5000)\n",
      "[2023-12-04 18:08:00] INFO    (4142056469.py: 47) Connected to robot motion server at ('192.168.125.1', 5000)\n",
      "[2023-12-04 18:08:00] DEBUG   (4142056469.py:323) set_tool       sending: 06 +00000.0 +00000.0 +00000.0 +1.00000 +0.00000 +0.00000 +0.00000 #\n",
      "[2023-12-04 18:08:01] DEBUG   (4142056469.py:328) set_tool       recieved: b'6 1 '\n",
      "[2023-12-04 18:08:01] DEBUG   (4142056469.py:323) set_workobject sending: 07 +00000.0 +00000.0 +00000.0 +1.00000 +0.00000 +0.00000 +0.00000 #\n",
      "[2023-12-04 18:08:01] DEBUG   (4142056469.py:328) set_workobject recieved: b'7 1 '\n",
      "[2023-12-04 18:08:01] DEBUG   (4142056469.py:323) set_speed      sending: 08 +00100.0 +0050.00 +00050.0 +0050.00 #\n",
      "[2023-12-04 18:08:01] DEBUG   (4142056469.py:328) set_speed      recieved: b'8 1 '\n",
      "[2023-12-04 18:08:01] DEBUG   (4142056469.py:323) set_zone       sending: 09 0 +01.0000 +01.0000 +00.1000 #\n",
      "[2023-12-04 18:08:01] DEBUG   (4142056469.py:328) set_zone       recieved: b'9 1 '\n"
     ]
    }
   ],
   "source": [
    "R = Robot(ip='192.168.125.1')"
   ]
  },
  {
   "cell_type": "code",
   "execution_count": 17,
   "id": "9ec545ba-5c75-409f-8836-18f013c3d9d3",
   "metadata": {},
   "outputs": [
    {
     "name": "stderr",
     "output_type": "stream",
     "text": [
      "[2023-12-01 12:24:50] DEBUG   (4142056469.py:323) set_speed      sending: 08 +00175.0 +0175.00 +00001.0 +0001.00 #\n",
      "[2023-12-01 12:24:50] DEBUG   (4142056469.py:328) set_speed      recieved: b'8 1 '\n"
     ]
    }
   ],
   "source": [
    "R.set_speed([175, 175, 1, 1])"
   ]
  },
  {
   "cell_type": "code",
   "execution_count": 81,
   "id": "ecb74220-c69f-4fe6-aea8-ab275ca1781a",
   "metadata": {},
   "outputs": [
    {
     "name": "stderr",
     "output_type": "stream",
     "text": [
      "[2023-12-04 18:04:00] DEBUG   (4142056469.py:323) set_joints     sending: 02 +0038.00 +0055.00 +0035.00 +0000.00 -0090.00 +0090.00 #\n",
      "[2023-12-04 18:04:02] DEBUG   (4142056469.py:328) set_joints     recieved: b'2 1 '\n"
     ]
    },
    {
     "data": {
      "text/plain": [
       "b'2 1 '"
      ]
     },
     "execution_count": 81,
     "metadata": {},
     "output_type": "execute_result"
    }
   ],
   "source": [
    "R.set_joints([38, 55, 35, 0, -90, 90])"
   ]
  },
  {
   "cell_type": "code",
   "execution_count": 59,
   "id": "031297b1-54a5-4239-8163-8fd750a0472d",
   "metadata": {},
   "outputs": [
    {
     "name": "stderr",
     "output_type": "stream",
     "text": [
      "[2023-12-04 17:57:26] DEBUG   (4142056469.py:323) set_joints     sending: 02 +0038.00 +0065.00 +0015.00 +0000.00 -0080.00 +0090.00 #\n",
      "[2023-12-04 17:57:26] DEBUG   (4142056469.py:328) set_joints     recieved: b'2 1 '\n"
     ]
    },
    {
     "data": {
      "text/plain": [
       "b'2 1 '"
      ]
     },
     "execution_count": 59,
     "metadata": {},
     "output_type": "execute_result"
    }
   ],
   "source": [
    "R.set_joints([38, 65, 15, 0, -80, 90])"
   ]
  },
  {
   "cell_type": "code",
   "execution_count": 92,
   "id": "5bcf426e-4646-4e6f-ab78-ec8177f2d7d4",
   "metadata": {},
   "outputs": [
    {
     "name": "stderr",
     "output_type": "stream",
     "text": [
      "[2023-12-04 18:08:01] DEBUG   (4142056469.py:323) set_joints     sending: 02 +0000.00 +0000.00 +0000.00 +0000.00 +0000.00 +0000.00 #\n",
      "[2023-12-04 18:08:02] DEBUG   (4142056469.py:328) set_joints     recieved: b'2 1 '\n",
      "[2023-12-04 18:08:02] DEBUG   (4142056469.py:323) close          sending: 99 #\n",
      "[2023-12-04 18:08:02] INFO    (4142056469.py:345) Disconnected from ABB robot.\n"
     ]
    }
   ],
   "source": [
    "R.set_joints([0,0,0,0,0,0])\n",
    "R.close()"
   ]
  },
  {
   "cell_type": "code",
   "execution_count": 5,
   "id": "5ff43357-fa92-4b7e-978b-98b99eb4e230",
   "metadata": {},
   "outputs": [
    {
     "name": "stderr",
     "output_type": "stream",
     "text": [
      "[2023-11-29 15:06:57] DEBUG   (4142056469.py:323) get_cartesian  sending: 03 #\n",
      "[2023-11-29 15:06:57] DEBUG   (4142056469.py:328) get_cartesian  recieved: b'3 1 374.00 0.00 629.99 0.500 0.500 0.500 0.500'\n"
     ]
    }
   ],
   "source": [
    "arr1 = R.get_cartesian()"
   ]
  },
  {
   "cell_type": "code",
   "execution_count": 10,
   "id": "ba4a6b45-3c19-48bc-858f-70ce1b73c7e7",
   "metadata": {},
   "outputs": [
    {
     "name": "stdout",
     "output_type": "stream",
     "text": [
      "[374.0, 0.0, 629.99, 0.5, 0.5, 0.5, 0.5]\n"
     ]
    }
   ],
   "source": [
    "d =[]\n",
    "\n",
    "for row in arr1:\n",
    "    for val in row:\n",
    "        d.append(val)\n",
    "print(d)"
   ]
  },
  {
   "cell_type": "markdown",
   "id": "a6dc48f3-d4bd-44e2-876d-926889623bff",
   "metadata": {},
   "source": [
    "# ROBOT MOVEMENT\n",
    "\n",
    "6 moves hand joint\n",
    "\n",
    "5 is wrist joint\n",
    "\n",
    "4 is elbow joint\n",
    "\n",
    "3 is should joint\n",
    "\n",
    "2 is body joint\n",
    "\n",
    "1 is base joint\n",
    "\n",
    "1 2 3 4 5 6"
   ]
  },
  {
   "cell_type": "code",
   "execution_count": 28,
   "id": "0374211c-9c01-4bfc-9f74-84c33971b7ff",
   "metadata": {},
   "outputs": [
    {
     "name": "stderr",
     "output_type": "stream",
     "text": [
      "[2023-11-29 14:55:53] DEBUG   (4142056469.py:323) get_cart_pose  sending: 39 +0000.00 +0000.00 +0000.00 +0000.00 +0000.00 +0000.00 #\n",
      "[2023-11-29 14:55:53] DEBUG   (4142056469.py:323) get_cart_pose  sending: 39 +0000.00 +0000.00 +0000.00 +0000.00 +0000.00 +0000.00 #\n",
      "[2023-11-29 14:55:53] DEBUG   (4142056469.py:323) get_cart_pose  sending: 39 +0000.00 +0000.00 +0000.00 +0000.00 +0000.00 +0000.00 #\n",
      "[2023-11-29 14:55:53] DEBUG   (4142056469.py:328) get_cart_pose  recieved: b'39 1 374.00 0.00 630.00 0.707 0.000 0.707 0.000'\n",
      "[2023-11-29 14:55:53] DEBUG   (4142056469.py:328) get_cart_pose  recieved: b'39 1 374.00 0.00 630.00 0.707 0.000 0.707 0.000'\n",
      "[2023-11-29 14:55:53] DEBUG   (4142056469.py:328) get_cart_pose  recieved: b'39 1 374.00 0.00 630.00 0.707 0.000 0.707 0.000'\n"
     ]
    },
    {
     "data": {
      "text/plain": [
       "[[374.0, 0.0, 630.0], [0.707, 0.0, 0.707, 0.0]]"
      ]
     },
     "execution_count": 28,
     "metadata": {},
     "output_type": "execute_result"
    }
   ],
   "source": [
    "R.get_cart_pose()"
   ]
  },
  {
   "cell_type": "code",
   "execution_count": 14,
   "id": "deafba20-49fe-452b-a9c9-a3cb4e7c40d6",
   "metadata": {},
   "outputs": [
    {
     "name": "stderr",
     "output_type": "stream",
     "text": [
      "[2023-11-29 14:52:00] DEBUG   (4142056469.py:323) set_tool       sending: 06 +00000.0 +00000.0 +00000.0 +1.00000 +0.00000 +0.00000 +0.00000 #\n",
      "[2023-11-29 14:52:00] DEBUG   (4142056469.py:323) set_tool       sending: 06 +00000.0 +00000.0 +00000.0 +1.00000 +0.00000 +0.00000 +0.00000 #\n",
      "[2023-11-29 14:52:00] DEBUG   (4142056469.py:323) set_tool       sending: 06 +00000.0 +00000.0 +00000.0 +1.00000 +0.00000 +0.00000 +0.00000 #\n",
      "[2023-11-29 14:52:00] DEBUG   (4142056469.py:328) set_tool       recieved: b'6 1 '\n",
      "[2023-11-29 14:52:00] DEBUG   (4142056469.py:328) set_tool       recieved: b'6 1 '\n",
      "[2023-11-29 14:52:00] DEBUG   (4142056469.py:328) set_tool       recieved: b'6 1 '\n"
     ]
    }
   ],
   "source": [
    "R.set_tool()"
   ]
  },
  {
   "cell_type": "code",
   "execution_count": 11,
   "id": "39876830-afc9-47a3-9ef0-bc12a56d0355",
   "metadata": {},
   "outputs": [],
   "source": [
    "temp = points[0]"
   ]
  },
  {
   "cell_type": "code",
   "execution_count": 36,
   "id": "5162a193-9378-4d03-8769-423dcf9a9432",
   "metadata": {},
   "outputs": [
    {
     "name": "stderr",
     "output_type": "stream",
     "text": [
      "[2023-11-29 19:01:15] DEBUG   (4142056469.py:323) set_joints     sending: 02 +0032.00 +0087.00 -0031.00 -0026.00 -0058.00 +0090.00 #\n",
      "[2023-11-29 19:01:15] DEBUG   (4142056469.py:328) set_joints     recieved: b'2 1 '\n"
     ]
    },
    {
     "data": {
      "text/plain": [
       "b'2 1 '"
      ]
     },
     "execution_count": 36,
     "metadata": {},
     "output_type": "execute_result"
    }
   ],
   "source": [
    "R.set_joints([32, 87, -31, -26, -58, 90])"
   ]
  },
  {
   "cell_type": "code",
   "execution_count": 83,
   "id": "a257b48a-b434-487c-89b9-0edce3c58e76",
   "metadata": {
    "scrolled": true
   },
   "outputs": [],
   "source": [
    "points = []\n",
    "\n",
    "for x in range(45):\n",
    "    start = [38, 55, 35, 0, -90, 90]\n",
    "    temp = start\n",
    "    temp[0] = temp[0] - (x * 2)\n",
    "    points.append(temp)"
   ]
  },
  {
   "cell_type": "code",
   "execution_count": 84,
   "id": "fff1e639-a139-42d6-9e42-adad53ce183f",
   "metadata": {
    "scrolled": true
   },
   "outputs": [
    {
     "name": "stdout",
     "output_type": "stream",
     "text": [
      "[34, 55, 35, -16, -90, 90] ,\n",
      "[36, 55, 35, -8, -90, 90] ,\n",
      "[38, 55, 35, 0, -90, 90] ,\n",
      "[40, 55, 35, 8, -90, 90] ,\n",
      "[42, 55, 35, 16, -90, 90] ,\n",
      "[44, 55, 35, 24, -90, 90] ,\n",
      "[32, 55, 35, -16, -90, 90] ,\n",
      "[34, 55, 35, -8, -90, 90] ,\n",
      "[36, 55, 35, 0, -90, 90] ,\n",
      "[38, 55, 35, 8, -90, 90] ,\n",
      "[40, 55, 35, 16, -90, 90] ,\n",
      "[42, 55, 35, 24, -90, 90] ,\n",
      "[30, 55, 35, -16, -90, 90] ,\n",
      "[32, 55, 35, -8, -90, 90] ,\n",
      "[34, 55, 35, 0, -90, 90] ,\n",
      "[36, 55, 35, 8, -90, 90] ,\n",
      "[38, 55, 35, 16, -90, 90] ,\n",
      "[40, 55, 35, 24, -90, 90] ,\n",
      "[28, 55, 35, -16, -90, 90] ,\n",
      "[30, 55, 35, -8, -90, 90] ,\n",
      "[32, 55, 35, 0, -90, 90] ,\n",
      "[34, 55, 35, 8, -90, 90] ,\n",
      "[36, 55, 35, 16, -90, 90] ,\n",
      "[38, 55, 35, 24, -90, 90] ,\n",
      "[26, 55, 35, -16, -90, 90] ,\n",
      "[28, 55, 35, -8, -90, 90] ,\n",
      "[30, 55, 35, 0, -90, 90] ,\n",
      "[32, 55, 35, 8, -90, 90] ,\n",
      "[34, 55, 35, 16, -90, 90] ,\n",
      "[36, 55, 35, 24, -90, 90] ,\n",
      "[24, 55, 35, -16, -90, 90] ,\n",
      "[26, 55, 35, -8, -90, 90] ,\n",
      "[28, 55, 35, 0, -90, 90] ,\n",
      "[30, 55, 35, 8, -90, 90] ,\n",
      "[32, 55, 35, 16, -90, 90] ,\n",
      "[34, 55, 35, 24, -90, 90] ,\n",
      "[22, 55, 35, -16, -90, 90] ,\n",
      "[24, 55, 35, -8, -90, 90] ,\n",
      "[26, 55, 35, 0, -90, 90] ,\n",
      "[28, 55, 35, 8, -90, 90] ,\n",
      "[30, 55, 35, 16, -90, 90] ,\n",
      "[32, 55, 35, 24, -90, 90] ,\n",
      "[20, 55, 35, -16, -90, 90] ,\n",
      "[22, 55, 35, -8, -90, 90] ,\n",
      "[24, 55, 35, 0, -90, 90] ,\n",
      "[26, 55, 35, 8, -90, 90] ,\n",
      "[28, 55, 35, 16, -90, 90] ,\n",
      "[30, 55, 35, 24, -90, 90] ,\n",
      "[18, 55, 35, -16, -90, 90] ,\n",
      "[20, 55, 35, -8, -90, 90] ,\n",
      "[22, 55, 35, 0, -90, 90] ,\n",
      "[24, 55, 35, 8, -90, 90] ,\n",
      "[26, 55, 35, 16, -90, 90] ,\n",
      "[28, 55, 35, 24, -90, 90] ,\n",
      "[16, 55, 35, -16, -90, 90] ,\n",
      "[18, 55, 35, -8, -90, 90] ,\n",
      "[20, 55, 35, 0, -90, 90] ,\n",
      "[22, 55, 35, 8, -90, 90] ,\n",
      "[24, 55, 35, 16, -90, 90] ,\n",
      "[26, 55, 35, 24, -90, 90] ,\n",
      "[14, 55, 35, -16, -90, 90] ,\n",
      "[16, 55, 35, -8, -90, 90] ,\n",
      "[18, 55, 35, 0, -90, 90] ,\n",
      "[20, 55, 35, 8, -90, 90] ,\n",
      "[22, 55, 35, 16, -90, 90] ,\n",
      "[24, 55, 35, 24, -90, 90] ,\n",
      "[12, 55, 35, -16, -90, 90] ,\n",
      "[14, 55, 35, -8, -90, 90] ,\n",
      "[16, 55, 35, 0, -90, 90] ,\n",
      "[18, 55, 35, 8, -90, 90] ,\n",
      "[20, 55, 35, 16, -90, 90] ,\n",
      "[22, 55, 35, 24, -90, 90] ,\n",
      "[10, 55, 35, -16, -90, 90] ,\n",
      "[12, 55, 35, -8, -90, 90] ,\n",
      "[14, 55, 35, 0, -90, 90] ,\n",
      "[16, 55, 35, 8, -90, 90] ,\n",
      "[18, 55, 35, 16, -90, 90] ,\n",
      "[20, 55, 35, 24, -90, 90] ,\n",
      "[8, 55, 35, -16, -90, 90] ,\n",
      "[10, 55, 35, -8, -90, 90] ,\n",
      "[12, 55, 35, 0, -90, 90] ,\n",
      "[14, 55, 35, 8, -90, 90] ,\n",
      "[16, 55, 35, 16, -90, 90] ,\n",
      "[18, 55, 35, 24, -90, 90] ,\n",
      "[6, 55, 35, -16, -90, 90] ,\n",
      "[8, 55, 35, -8, -90, 90] ,\n",
      "[10, 55, 35, 0, -90, 90] ,\n",
      "[12, 55, 35, 8, -90, 90] ,\n",
      "[14, 55, 35, 16, -90, 90] ,\n",
      "[16, 55, 35, 24, -90, 90] ,\n",
      "[4, 55, 35, -16, -90, 90] ,\n",
      "[6, 55, 35, -8, -90, 90] ,\n",
      "[8, 55, 35, 0, -90, 90] ,\n",
      "[10, 55, 35, 8, -90, 90] ,\n",
      "[12, 55, 35, 16, -90, 90] ,\n",
      "[14, 55, 35, 24, -90, 90] ,\n",
      "[2, 55, 35, -16, -90, 90] ,\n",
      "[4, 55, 35, -8, -90, 90] ,\n",
      "[6, 55, 35, 0, -90, 90] ,\n",
      "[8, 55, 35, 8, -90, 90] ,\n",
      "[10, 55, 35, 16, -90, 90] ,\n",
      "[12, 55, 35, 24, -90, 90] ,\n",
      "[0, 55, 35, -16, -90, 90] ,\n",
      "[2, 55, 35, -8, -90, 90] ,\n",
      "[4, 55, 35, 0, -90, 90] ,\n",
      "[6, 55, 35, 8, -90, 90] ,\n",
      "[8, 55, 35, 16, -90, 90] ,\n",
      "[10, 55, 35, 24, -90, 90] ,\n",
      "[-2, 55, 35, -16, -90, 90] ,\n",
      "[0, 55, 35, -8, -90, 90] ,\n",
      "[2, 55, 35, 0, -90, 90] ,\n",
      "[4, 55, 35, 8, -90, 90] ,\n",
      "[6, 55, 35, 16, -90, 90] ,\n",
      "[8, 55, 35, 24, -90, 90] ,\n",
      "[-4, 55, 35, -16, -90, 90] ,\n",
      "[-2, 55, 35, -8, -90, 90] ,\n",
      "[0, 55, 35, 0, -90, 90] ,\n",
      "[2, 55, 35, 8, -90, 90] ,\n",
      "[4, 55, 35, 16, -90, 90] ,\n",
      "[6, 55, 35, 24, -90, 90] ,\n",
      "[-6, 55, 35, -16, -90, 90] ,\n",
      "[-4, 55, 35, -8, -90, 90] ,\n",
      "[-2, 55, 35, 0, -90, 90] ,\n",
      "[0, 55, 35, 8, -90, 90] ,\n",
      "[2, 55, 35, 16, -90, 90] ,\n",
      "[4, 55, 35, 24, -90, 90] ,\n",
      "[-8, 55, 35, -16, -90, 90] ,\n",
      "[-6, 55, 35, -8, -90, 90] ,\n",
      "[-4, 55, 35, 0, -90, 90] ,\n",
      "[-2, 55, 35, 8, -90, 90] ,\n",
      "[0, 55, 35, 16, -90, 90] ,\n",
      "[2, 55, 35, 24, -90, 90] ,\n",
      "[-10, 55, 35, -16, -90, 90] ,\n",
      "[-8, 55, 35, -8, -90, 90] ,\n",
      "[-6, 55, 35, 0, -90, 90] ,\n",
      "[-4, 55, 35, 8, -90, 90] ,\n",
      "[-2, 55, 35, 16, -90, 90] ,\n",
      "[0, 55, 35, 24, -90, 90] ,\n",
      "[-12, 55, 35, -16, -90, 90] ,\n",
      "[-10, 55, 35, -8, -90, 90] ,\n",
      "[-8, 55, 35, 0, -90, 90] ,\n",
      "[-6, 55, 35, 8, -90, 90] ,\n",
      "[-4, 55, 35, 16, -90, 90] ,\n",
      "[-2, 55, 35, 24, -90, 90] ,\n",
      "[-14, 55, 35, -16, -90, 90] ,\n",
      "[-12, 55, 35, -8, -90, 90] ,\n",
      "[-10, 55, 35, 0, -90, 90] ,\n",
      "[-8, 55, 35, 8, -90, 90] ,\n",
      "[-6, 55, 35, 16, -90, 90] ,\n",
      "[-4, 55, 35, 24, -90, 90] ,\n",
      "[-16, 55, 35, -16, -90, 90] ,\n",
      "[-14, 55, 35, -8, -90, 90] ,\n",
      "[-12, 55, 35, 0, -90, 90] ,\n",
      "[-10, 55, 35, 8, -90, 90] ,\n",
      "[-8, 55, 35, 16, -90, 90] ,\n",
      "[-6, 55, 35, 24, -90, 90] ,\n",
      "[-18, 55, 35, -16, -90, 90] ,\n",
      "[-16, 55, 35, -8, -90, 90] ,\n",
      "[-14, 55, 35, 0, -90, 90] ,\n",
      "[-12, 55, 35, 8, -90, 90] ,\n",
      "[-10, 55, 35, 16, -90, 90] ,\n",
      "[-8, 55, 35, 24, -90, 90] ,\n",
      "[-20, 55, 35, -16, -90, 90] ,\n",
      "[-18, 55, 35, -8, -90, 90] ,\n",
      "[-16, 55, 35, 0, -90, 90] ,\n",
      "[-14, 55, 35, 8, -90, 90] ,\n",
      "[-12, 55, 35, 16, -90, 90] ,\n",
      "[-10, 55, 35, 24, -90, 90] ,\n",
      "[-22, 55, 35, -16, -90, 90] ,\n",
      "[-20, 55, 35, -8, -90, 90] ,\n",
      "[-18, 55, 35, 0, -90, 90] ,\n",
      "[-16, 55, 35, 8, -90, 90] ,\n",
      "[-14, 55, 35, 16, -90, 90] ,\n",
      "[-12, 55, 35, 24, -90, 90] ,\n",
      "[-24, 55, 35, -16, -90, 90] ,\n",
      "[-22, 55, 35, -8, -90, 90] ,\n",
      "[-20, 55, 35, 0, -90, 90] ,\n",
      "[-18, 55, 35, 8, -90, 90] ,\n",
      "[-16, 55, 35, 16, -90, 90] ,\n",
      "[-14, 55, 35, 24, -90, 90] ,\n",
      "[-26, 55, 35, -16, -90, 90] ,\n",
      "[-24, 55, 35, -8, -90, 90] ,\n",
      "[-22, 55, 35, 0, -90, 90] ,\n",
      "[-20, 55, 35, 8, -90, 90] ,\n",
      "[-18, 55, 35, 16, -90, 90] ,\n",
      "[-16, 55, 35, 24, -90, 90] ,\n",
      "[-28, 55, 35, -16, -90, 90] ,\n",
      "[-26, 55, 35, -8, -90, 90] ,\n",
      "[-24, 55, 35, 0, -90, 90] ,\n",
      "[-22, 55, 35, 8, -90, 90] ,\n",
      "[-20, 55, 35, 16, -90, 90] ,\n",
      "[-18, 55, 35, 24, -90, 90] ,\n",
      "[-30, 55, 35, -16, -90, 90] ,\n",
      "[-28, 55, 35, -8, -90, 90] ,\n",
      "[-26, 55, 35, 0, -90, 90] ,\n",
      "[-24, 55, 35, 8, -90, 90] ,\n",
      "[-22, 55, 35, 16, -90, 90] ,\n",
      "[-20, 55, 35, 24, -90, 90] ,\n",
      "[-32, 55, 35, -16, -90, 90] ,\n",
      "[-30, 55, 35, -8, -90, 90] ,\n",
      "[-28, 55, 35, 0, -90, 90] ,\n",
      "[-26, 55, 35, 8, -90, 90] ,\n",
      "[-24, 55, 35, 16, -90, 90] ,\n",
      "[-22, 55, 35, 24, -90, 90] ,\n",
      "[-34, 55, 35, -16, -90, 90] ,\n",
      "[-32, 55, 35, -8, -90, 90] ,\n",
      "[-30, 55, 35, 0, -90, 90] ,\n",
      "[-28, 55, 35, 8, -90, 90] ,\n",
      "[-26, 55, 35, 16, -90, 90] ,\n",
      "[-24, 55, 35, 24, -90, 90] ,\n",
      "[-36, 55, 35, -16, -90, 90] ,\n",
      "[-34, 55, 35, -8, -90, 90] ,\n",
      "[-32, 55, 35, 0, -90, 90] ,\n",
      "[-30, 55, 35, 8, -90, 90] ,\n",
      "[-28, 55, 35, 16, -90, 90] ,\n",
      "[-26, 55, 35, 24, -90, 90] ,\n",
      "[-38, 55, 35, -16, -90, 90] ,\n",
      "[-36, 55, 35, -8, -90, 90] ,\n",
      "[-34, 55, 35, 0, -90, 90] ,\n",
      "[-32, 55, 35, 8, -90, 90] ,\n",
      "[-30, 55, 35, 16, -90, 90] ,\n",
      "[-28, 55, 35, 24, -90, 90] ,\n",
      "[-40, 55, 35, -16, -90, 90] ,\n",
      "[-38, 55, 35, -8, -90, 90] ,\n",
      "[-36, 55, 35, 0, -90, 90] ,\n",
      "[-34, 55, 35, 8, -90, 90] ,\n",
      "[-32, 55, 35, 16, -90, 90] ,\n",
      "[-30, 55, 35, 24, -90, 90] ,\n",
      "[-42, 55, 35, -16, -90, 90] ,\n",
      "[-40, 55, 35, -8, -90, 90] ,\n",
      "[-38, 55, 35, 0, -90, 90] ,\n",
      "[-36, 55, 35, 8, -90, 90] ,\n",
      "[-34, 55, 35, 16, -90, 90] ,\n",
      "[-32, 55, 35, 24, -90, 90] ,\n",
      "[-44, 55, 35, -16, -90, 90] ,\n",
      "[-42, 55, 35, -8, -90, 90] ,\n",
      "[-40, 55, 35, 0, -90, 90] ,\n",
      "[-38, 55, 35, 8, -90, 90] ,\n",
      "[-36, 55, 35, 16, -90, 90] ,\n",
      "[-34, 55, 35, 24, -90, 90] ,\n",
      "[-46, 55, 35, -16, -90, 90] ,\n",
      "[-44, 55, 35, -8, -90, 90] ,\n",
      "[-42, 55, 35, 0, -90, 90] ,\n",
      "[-40, 55, 35, 8, -90, 90] ,\n",
      "[-38, 55, 35, 16, -90, 90] ,\n",
      "[-36, 55, 35, 24, -90, 90] ,\n",
      "[-48, 55, 35, -16, -90, 90] ,\n",
      "[-46, 55, 35, -8, -90, 90] ,\n",
      "[-44, 55, 35, 0, -90, 90] ,\n",
      "[-42, 55, 35, 8, -90, 90] ,\n",
      "[-40, 55, 35, 16, -90, 90] ,\n",
      "[-38, 55, 35, 24, -90, 90] ,\n",
      "[-50, 55, 35, -16, -90, 90] ,\n",
      "[-48, 55, 35, -8, -90, 90] ,\n",
      "[-46, 55, 35, 0, -90, 90] ,\n",
      "[-44, 55, 35, 8, -90, 90] ,\n",
      "[-42, 55, 35, 16, -90, 90] ,\n",
      "[-40, 55, 35, 24, -90, 90] ,\n",
      "[-52, 55, 35, -16, -90, 90] ,\n",
      "[-50, 55, 35, -8, -90, 90] ,\n",
      "[-48, 55, 35, 0, -90, 90] ,\n",
      "[-46, 55, 35, 8, -90, 90] ,\n",
      "[-44, 55, 35, 16, -90, 90] ,\n",
      "[-42, 55, 35, 24, -90, 90] ,\n",
      "[-54, 55, 35, -16, -90, 90] ,\n",
      "[-52, 55, 35, -8, -90, 90] ,\n",
      "[-50, 55, 35, 0, -90, 90] ,\n",
      "[-48, 55, 35, 8, -90, 90] ,\n",
      "[-46, 55, 35, 16, -90, 90] ,\n",
      "[-44, 55, 35, 24, -90, 90] ,\n"
     ]
    }
   ],
   "source": [
    "npoints = []\n",
    "for y in range(len(points)):\n",
    "    temp = points[y]\n",
    "    temp[0] = temp[0] - 6\n",
    "    temp[3] = temp[3] - 24\n",
    "    for x in range(6):\n",
    "        temp[0] = temp[0] + 2\n",
    "        temp[3] = temp[3] + 8\n",
    "        print(temp, \",\")\n",
    "        npoints.append(temp)\n"
   ]
  },
  {
   "cell_type": "code",
   "execution_count": 85,
   "id": "18ebe514-06a2-4e2d-85f8-6ecf6c63781b",
   "metadata": {},
   "outputs": [],
   "source": [
    "points = [[34, 55, 35, -16, -90, 90] ,\n",
    "[36, 55, 35, -8, -90, 90] ,\n",
    "[38, 55, 35, 0, -90, 90] ,\n",
    "[40, 55, 35, 8, -90, 90] ,\n",
    "[42, 55, 35, 16, -90, 90] ,\n",
    "[44, 55, 35, 24, -90, 90] ,\n",
    "[32, 55, 35, -16, -90, 90] ,\n",
    "[34, 55, 35, -8, -90, 90] ,\n",
    "[36, 55, 35, 0, -90, 90] ,\n",
    "[38, 55, 35, 8, -90, 90] ,\n",
    "[40, 55, 35, 16, -90, 90] ,\n",
    "[42, 55, 35, 24, -90, 90] ,\n",
    "[30, 55, 35, -16, -90, 90] ,\n",
    "[32, 55, 35, -8, -90, 90] ,\n",
    "[34, 55, 35, 0, -90, 90] ,\n",
    "[36, 55, 35, 8, -90, 90] ,\n",
    "[38, 55, 35, 16, -90, 90] ,\n",
    "[40, 55, 35, 24, -90, 90] ,\n",
    "[28, 55, 35, -16, -90, 90] ,\n",
    "[30, 55, 35, -8, -90, 90] ,\n",
    "[32, 55, 35, 0, -90, 90] ,\n",
    "[34, 55, 35, 8, -90, 90] ,\n",
    "[36, 55, 35, 16, -90, 90] ,\n",
    "[38, 55, 35, 24, -90, 90] ,\n",
    "[26, 55, 35, -16, -90, 90] ,\n",
    "[28, 55, 35, -8, -90, 90] ,\n",
    "[30, 55, 35, 0, -90, 90] ,\n",
    "[32, 55, 35, 8, -90, 90] ,\n",
    "[34, 55, 35, 16, -90, 90] ,\n",
    "[36, 55, 35, 24, -90, 90] ,\n",
    "[24, 55, 35, -16, -90, 90] ,\n",
    "[26, 55, 35, -8, -90, 90] ,\n",
    "[28, 55, 35, 0, -90, 90] ,\n",
    "[30, 55, 35, 8, -90, 90] ,\n",
    "[32, 55, 35, 16, -90, 90] ,\n",
    "[34, 55, 35, 24, -90, 90] ,\n",
    "[22, 55, 35, -16, -90, 90] ,\n",
    "[24, 55, 35, -8, -90, 90] ,\n",
    "[26, 55, 35, 0, -90, 90] ,\n",
    "[28, 55, 35, 8, -90, 90] ,\n",
    "[30, 55, 35, 16, -90, 90] ,\n",
    "[32, 55, 35, 24, -90, 90] ,\n",
    "[20, 55, 35, -16, -90, 90] ,\n",
    "[22, 55, 35, -8, -90, 90] ,\n",
    "[24, 55, 35, 0, -90, 90] ,\n",
    "[26, 55, 35, 8, -90, 90] ,\n",
    "[28, 55, 35, 16, -90, 90] ,\n",
    "[30, 55, 35, 24, -90, 90] ,\n",
    "[18, 55, 35, -16, -90, 90] ,\n",
    "[20, 55, 35, -8, -90, 90] ,\n",
    "[22, 55, 35, 0, -90, 90] ,\n",
    "[24, 55, 35, 8, -90, 90] ,\n",
    "[26, 55, 35, 16, -90, 90] ,\n",
    "[28, 55, 35, 24, -90, 90] ,\n",
    "[16, 55, 35, -16, -90, 90] ,\n",
    "[18, 55, 35, -8, -90, 90] ,\n",
    "[20, 55, 35, 0, -90, 90] ,\n",
    "[22, 55, 35, 8, -90, 90] ,\n",
    "[24, 55, 35, 16, -90, 90] ,\n",
    "[26, 55, 35, 24, -90, 90] ,\n",
    "[14, 55, 35, -16, -90, 90] ,\n",
    "[16, 55, 35, -8, -90, 90] ,\n",
    "[18, 55, 35, 0, -90, 90] ,\n",
    "[20, 55, 35, 8, -90, 90] ,\n",
    "[22, 55, 35, 16, -90, 90] ,\n",
    "[24, 55, 35, 24, -90, 90] ,\n",
    "[12, 55, 35, -16, -90, 90] ,\n",
    "[14, 55, 35, -8, -90, 90] ,\n",
    "[16, 55, 35, 0, -90, 90] ,\n",
    "[18, 55, 35, 8, -90, 90] ,\n",
    "[20, 55, 35, 16, -90, 90] ,\n",
    "[22, 55, 35, 24, -90, 90] ,\n",
    "[10, 55, 35, -16, -90, 90] ,\n",
    "[12, 55, 35, -8, -90, 90] ,\n",
    "[14, 55, 35, 0, -90, 90] ,\n",
    "[16, 55, 35, 8, -90, 90] ,\n",
    "[18, 55, 35, 16, -90, 90] ,\n",
    "[20, 55, 35, 24, -90, 90] ,\n",
    "[8, 55, 35, -16, -90, 90] ,\n",
    "[10, 55, 35, -8, -90, 90] ,\n",
    "[12, 55, 35, 0, -90, 90] ,\n",
    "[14, 55, 35, 8, -90, 90] ,\n",
    "[16, 55, 35, 16, -90, 90] ,\n",
    "[18, 55, 35, 24, -90, 90] ,\n",
    "[6, 55, 35, -16, -90, 90] ,\n",
    "[8, 55, 35, -8, -90, 90] ,\n",
    "[10, 55, 35, 0, -90, 90] ,\n",
    "[12, 55, 35, 8, -90, 90] ,\n",
    "[14, 55, 35, 16, -90, 90] ,\n",
    "[16, 55, 35, 24, -90, 90] ,\n",
    "[4, 55, 35, -16, -90, 90] ,\n",
    "[6, 55, 35, -8, -90, 90] ,\n",
    "[8, 55, 35, 0, -90, 90] ,\n",
    "[10, 55, 35, 8, -90, 90] ,\n",
    "[12, 55, 35, 16, -90, 90] ,\n",
    "[14, 55, 35, 24, -90, 90] ,\n",
    "[2, 55, 35, -16, -90, 90] ,\n",
    "[4, 55, 35, -8, -90, 90] ,\n",
    "[6, 55, 35, 0, -90, 90] ,\n",
    "[8, 55, 35, 8, -90, 90] ,\n",
    "[10, 55, 35, 16, -90, 90] ,\n",
    "[12, 55, 35, 24, -90, 90] ,\n",
    "[0, 55, 35, -16, -90, 90] ,\n",
    "[2, 55, 35, -8, -90, 90] ,\n",
    "[4, 55, 35, 0, -90, 90] ,\n",
    "[6, 55, 35, 8, -90, 90] ,\n",
    "[8, 55, 35, 16, -90, 90] ,\n",
    "[10, 55, 35, 24, -90, 90] ,\n",
    "[-2, 55, 35, -16, -90, 90] ,\n",
    "[0, 55, 35, -8, -90, 90] ,\n",
    "[2, 55, 35, 0, -90, 90] ,\n",
    "[4, 55, 35, 8, -90, 90] ,\n",
    "[6, 55, 35, 16, -90, 90] ,\n",
    "[8, 55, 35, 24, -90, 90] ,\n",
    "[-4, 55, 35, -16, -90, 90] ,\n",
    "[-2, 55, 35, -8, -90, 90] ,\n",
    "[0, 55, 35, 0, -90, 90] ,\n",
    "[2, 55, 35, 8, -90, 90] ,\n",
    "[4, 55, 35, 16, -90, 90] ,\n",
    "[6, 55, 35, 24, -90, 90] ,\n",
    "[-6, 55, 35, -16, -90, 90] ,\n",
    "[-4, 55, 35, -8, -90, 90] ,\n",
    "[-2, 55, 35, 0, -90, 90] ,\n",
    "[0, 55, 35, 8, -90, 90] ,\n",
    "[2, 55, 35, 16, -90, 90] ,\n",
    "[4, 55, 35, 24, -90, 90] ,\n",
    "[-8, 55, 35, -16, -90, 90] ,\n",
    "[-6, 55, 35, -8, -90, 90] ,\n",
    "[-4, 55, 35, 0, -90, 90] ,\n",
    "[-2, 55, 35, 8, -90, 90] ,\n",
    "[0, 55, 35, 16, -90, 90] ,\n",
    "[2, 55, 35, 24, -90, 90] ,\n",
    "[-10, 55, 35, -16, -90, 90] ,\n",
    "[-8, 55, 35, -8, -90, 90] ,\n",
    "[-6, 55, 35, 0, -90, 90] ,\n",
    "[-4, 55, 35, 8, -90, 90] ,\n",
    "[-2, 55, 35, 16, -90, 90] ,\n",
    "[0, 55, 35, 24, -90, 90] ,\n",
    "[-12, 55, 35, -16, -90, 90] ,\n",
    "[-10, 55, 35, -8, -90, 90] ,\n",
    "[-8, 55, 35, 0, -90, 90] ,\n",
    "[-6, 55, 35, 8, -90, 90] ,\n",
    "[-4, 55, 35, 16, -90, 90] ,\n",
    "[-2, 55, 35, 24, -90, 90] ,\n",
    "[-14, 55, 35, -16, -90, 90] ,\n",
    "[-12, 55, 35, -8, -90, 90] ,\n",
    "[-10, 55, 35, 0, -90, 90] ,\n",
    "[-8, 55, 35, 8, -90, 90] ,\n",
    "[-6, 55, 35, 16, -90, 90] ,\n",
    "[-4, 55, 35, 24, -90, 90] ,\n",
    "[-16, 55, 35, -16, -90, 90] ,\n",
    "[-14, 55, 35, -8, -90, 90] ,\n",
    "[-12, 55, 35, 0, -90, 90] ,\n",
    "[-10, 55, 35, 8, -90, 90] ,\n",
    "[-8, 55, 35, 16, -90, 90] ,\n",
    "[-6, 55, 35, 24, -90, 90] ,\n",
    "[-18, 55, 35, -16, -90, 90] ,\n",
    "[-16, 55, 35, -8, -90, 90] ,\n",
    "[-14, 55, 35, 0, -90, 90] ,\n",
    "[-12, 55, 35, 8, -90, 90] ,\n",
    "[-10, 55, 35, 16, -90, 90] ,\n",
    "[-8, 55, 35, 24, -90, 90] ,\n",
    "[-20, 55, 35, -16, -90, 90] ,\n",
    "[-18, 55, 35, -8, -90, 90] ,\n",
    "[-16, 55, 35, 0, -90, 90] ,\n",
    "[-14, 55, 35, 8, -90, 90] ,\n",
    "[-12, 55, 35, 16, -90, 90] ,\n",
    "[-10, 55, 35, 24, -90, 90] ,\n",
    "[-22, 55, 35, -16, -90, 90] ,\n",
    "[-20, 55, 35, -8, -90, 90] ,\n",
    "[-18, 55, 35, 0, -90, 90] ,\n",
    "[-16, 55, 35, 8, -90, 90] ,\n",
    "[-14, 55, 35, 16, -90, 90] ,\n",
    "[-12, 55, 35, 24, -90, 90] ,\n",
    "[-24, 55, 35, -16, -90, 90] ,\n",
    "[-22, 55, 35, -8, -90, 90] ,\n",
    "[-20, 55, 35, 0, -90, 90] ,\n",
    "[-18, 55, 35, 8, -90, 90] ,\n",
    "[-16, 55, 35, 16, -90, 90] ,\n",
    "[-14, 55, 35, 24, -90, 90] ,\n",
    "[-26, 55, 35, -16, -90, 90] ,\n",
    "[-24, 55, 35, -8, -90, 90] ,\n",
    "[-22, 55, 35, 0, -90, 90] ,\n",
    "[-20, 55, 35, 8, -90, 90] ,\n",
    "[-18, 55, 35, 16, -90, 90] ,\n",
    "[-16, 55, 35, 24, -90, 90] ,\n",
    "[-28, 55, 35, -16, -90, 90] ,\n",
    "[-26, 55, 35, -8, -90, 90] ,\n",
    "[-24, 55, 35, 0, -90, 90] ,\n",
    "[-22, 55, 35, 8, -90, 90] ,\n",
    "[-20, 55, 35, 16, -90, 90] ,\n",
    "[-18, 55, 35, 24, -90, 90] ,\n",
    "[-30, 55, 35, -16, -90, 90] ,\n",
    "[-28, 55, 35, -8, -90, 90] ,\n",
    "[-26, 55, 35, 0, -90, 90] ,\n",
    "[-24, 55, 35, 8, -90, 90] ,\n",
    "[-22, 55, 35, 16, -90, 90] ,\n",
    "[-20, 55, 35, 24, -90, 90] ,\n",
    "[-32, 55, 35, -16, -90, 90] ,\n",
    "[-30, 55, 35, -8, -90, 90] ,\n",
    "[-28, 55, 35, 0, -90, 90] ,\n",
    "[-26, 55, 35, 8, -90, 90] ,\n",
    "[-24, 55, 35, 16, -90, 90] ,\n",
    "[-22, 55, 35, 24, -90, 90] ,\n",
    "[-34, 55, 35, -16, -90, 90] ,\n",
    "[-32, 55, 35, -8, -90, 90] ,\n",
    "[-30, 55, 35, 0, -90, 90] ,\n",
    "[-28, 55, 35, 8, -90, 90] ,\n",
    "[-26, 55, 35, 16, -90, 90] ,\n",
    "[-24, 55, 35, 24, -90, 90] ,\n",
    "[-36, 55, 35, -16, -90, 90] ,\n",
    "[-34, 55, 35, -8, -90, 90] ,\n",
    "[-32, 55, 35, 0, -90, 90] ,\n",
    "[-30, 55, 35, 8, -90, 90] ,\n",
    "[-28, 55, 35, 16, -90, 90] ,\n",
    "[-26, 55, 35, 24, -90, 90] ,\n",
    "[-38, 55, 35, -16, -90, 90] ,\n",
    "[-36, 55, 35, -8, -90, 90] ,\n",
    "[-34, 55, 35, 0, -90, 90] ,\n",
    "[-32, 55, 35, 8, -90, 90] ,\n",
    "[-30, 55, 35, 16, -90, 90] ,\n",
    "[-28, 55, 35, 24, -90, 90] ,\n",
    "[-40, 55, 35, -16, -90, 90] ,\n",
    "[-38, 55, 35, -8, -90, 90] ,\n",
    "[-36, 55, 35, 0, -90, 90] ,\n",
    "[-34, 55, 35, 8, -90, 90] ,\n",
    "[-32, 55, 35, 16, -90, 90] ,\n",
    "[-30, 55, 35, 24, -90, 90] ,\n",
    "[-42, 55, 35, -16, -90, 90] ,\n",
    "[-40, 55, 35, -8, -90, 90] ,\n",
    "[-38, 55, 35, 0, -90, 90] ,\n",
    "[-36, 55, 35, 8, -90, 90] ,\n",
    "[-34, 55, 35, 16, -90, 90] ,\n",
    "[-32, 55, 35, 24, -90, 90] ,\n",
    "[-44, 55, 35, -16, -90, 90] ,\n",
    "[-42, 55, 35, -8, -90, 90] ,\n",
    "[-40, 55, 35, 0, -90, 90] ,\n",
    "[-38, 55, 35, 8, -90, 90] ,\n",
    "[-36, 55, 35, 16, -90, 90] ,\n",
    "[-34, 55, 35, 24, -90, 90] ,\n",
    "[-46, 55, 35, -16, -90, 90] ,\n",
    "[-44, 55, 35, -8, -90, 90] ,\n",
    "[-42, 55, 35, 0, -90, 90] ,\n",
    "[-40, 55, 35, 8, -90, 90] ,\n",
    "[-38, 55, 35, 16, -90, 90] ,\n",
    "[-36, 55, 35, 24, -90, 90] ,\n",
    "[-48, 55, 35, -16, -90, 90] ,\n",
    "[-46, 55, 35, -8, -90, 90] ,\n",
    "[-44, 55, 35, 0, -90, 90] ,\n",
    "[-42, 55, 35, 8, -90, 90] ,\n",
    "[-40, 55, 35, 16, -90, 90] ,\n",
    "[-38, 55, 35, 24, -90, 90] ,\n",
    "[-50, 55, 35, -16, -90, 90] ,\n",
    "[-48, 55, 35, -8, -90, 90] ,\n",
    "[-46, 55, 35, 0, -90, 90] ,\n",
    "[-44, 55, 35, 8, -90, 90] ,\n",
    "[-42, 55, 35, 16, -90, 90] ,\n",
    "[-40, 55, 35, 24, -90, 90] ,\n",
    "[-52, 55, 35, -16, -90, 90] ,\n",
    "[-50, 55, 35, -8, -90, 90] ,\n",
    "[-48, 55, 35, 0, -90, 90] ,\n",
    "[-46, 55, 35, 8, -90, 90] ,\n",
    "[-44, 55, 35, 16, -90, 90] ,\n",
    "[-42, 55, 35, 24, -90, 90] ,\n",
    "[-54, 55, 35, -16, -90, 90] ,\n",
    "[-52, 55, 35, -8, -90, 90] ,\n",
    "[-50, 55, 35, 0, -90, 90] ,\n",
    "[-48, 55, 35, 8, -90, 90] ,\n",
    "[-46, 55, 35, 16, -90, 90] ,\n",
    "[-44, 55, 35, 24, -90, 90] ]"
   ]
  },
  {
   "cell_type": "code",
   "execution_count": 86,
   "id": "5f57bc93-84ed-4df9-8433-7526f54d4a5e",
   "metadata": {},
   "outputs": [],
   "source": [
    "# points = [[34, 87, -31, -16, -58, 90],\n",
    "# [36, 87, -31, -8, -58, 90],\n",
    "# [38, 87, -31, 0, -58, 90],\n",
    "# [40, 87, -31, 8, -58, 90],\n",
    "# [42, 87, -31, 16, -58, 90],\n",
    "# [44, 87, -31, 24, -58, 90],\n",
    "# [32, 87, -31, -16, -58, 90],\n",
    "# [34, 87, -31, -8, -58, 90],\n",
    "# [36, 87, -31, 0, -58, 90],\n",
    "# [38, 87, -31, 8, -58, 90],\n",
    "# [40, 87, -31, 16, -58, 90],\n",
    "# [42, 87, -31, 24, -58, 90],\n",
    "# [30, 87, -31, -16, -58, 90],\n",
    "# [32, 87, -31, -8, -58, 90],\n",
    "# [34, 87, -31, 0, -58, 90],\n",
    "# [36, 87, -31, 8, -58, 90],\n",
    "# [38, 87, -31, 16, -58, 90],\n",
    "# [40, 87, -31, 24, -58, 90],\n",
    "# [28, 87, -31, -16, -58, 90],\n",
    "# [30, 87, -31, -8, -58, 90],\n",
    "# [32, 87, -31, 0, -58, 90],\n",
    "# [34, 87, -31, 8, -58, 90],\n",
    "# [36, 87, -31, 16, -58, 90],\n",
    "# [38, 87, -31, 24, -58, 90],\n",
    "# [26, 87, -31, -16, -58, 90],\n",
    "# [28, 87, -31, -8, -58, 90],\n",
    "# [30, 87, -31, 0, -58, 90],\n",
    "# [32, 87, -31, 8, -58, 90],\n",
    "# [34, 87, -31, 16, -58, 90],\n",
    "# [36, 87, -31, 24, -58, 90],\n",
    "# [24, 87, -31, -16, -58, 90],\n",
    "# [26, 87, -31, -8, -58, 90],\n",
    "# [28, 87, -31, 0, -58, 90],\n",
    "# [30, 87, -31, 8, -58, 90],\n",
    "# [32, 87, -31, 16, -58, 90],\n",
    "# [34, 87, -31, 24, -58, 90],\n",
    "# [22, 87, -31, -16, -58, 90],\n",
    "# [24, 87, -31, -8, -58, 90],\n",
    "# [26, 87, -31, 0, -58, 90],\n",
    "# [28, 87, -31, 8, -58, 90],\n",
    "# [30, 87, -31, 16, -58, 90],\n",
    "# [32, 87, -31, 24, -58, 90],\n",
    "# [20, 87, -31, -16, -58, 90],\n",
    "# [22, 87, -31, -8, -58, 90],\n",
    "# [24, 87, -31, 0, -58, 90],\n",
    "# [26, 87, -31, 8, -58, 90],\n",
    "# [28, 87, -31, 16, -58, 90],\n",
    "# [30, 87, -31, 24, -58, 90],\n",
    "# [18, 87, -31, -16, -58, 90],\n",
    "# [20, 87, -31, -8, -58, 90],\n",
    "# [22, 87, -31, 0, -58, 90],\n",
    "# [24, 87, -31, 8, -58, 90],\n",
    "# [26, 87, -31, 16, -58, 90],\n",
    "# [28, 87, -31, 24, -58, 90],\n",
    "# [16, 87, -31, -16, -58, 90],\n",
    "# [18, 87, -31, -8, -58, 90],\n",
    "# [20, 87, -31, 0, -58, 90],\n",
    "# [22, 87, -31, 8, -58, 90],\n",
    "# [24, 87, -31, 16, -58, 90],\n",
    "# [26, 87, -31, 24, -58, 90],\n",
    "# [14, 87, -31, -16, -58, 90],\n",
    "# [16, 87, -31, -8, -58, 90],\n",
    "# [18, 87, -31, 0, -58, 90],\n",
    "# [20, 87, -31, 8, -58, 90],\n",
    "# [22, 87, -31, 16, -58, 90],\n",
    "# [24, 87, -31, 24, -58, 90],\n",
    "# [12, 87, -31, -16, -58, 90],\n",
    "# [14, 87, -31, -8, -58, 90],\n",
    "# [16, 87, -31, 0, -58, 90],\n",
    "# [18, 87, -31, 8, -58, 90],\n",
    "# [20, 87, -31, 16, -58, 90],\n",
    "# [22, 87, -31, 24, -58, 90],\n",
    "# [10, 87, -31, -16, -58, 90],\n",
    "# [12, 87, -31, -8, -58, 90],\n",
    "# [14, 87, -31, 0, -58, 90],\n",
    "# [16, 87, -31, 8, -58, 90],\n",
    "# [18, 87, -31, 16, -58, 90],\n",
    "# [20, 87, -31, 24, -58, 90],\n",
    "# [8, 87, -31, -16, -58, 90],\n",
    "# [10, 87, -31, -8, -58, 90],\n",
    "# [12, 87, -31, 0, -58, 90],\n",
    "# [14, 87, -31, 8, -58, 90],\n",
    "# [16, 87, -31, 16, -58, 90],\n",
    "# [18, 87, -31, 24, -58, 90],\n",
    "# [6, 87, -31, -16, -58, 90],\n",
    "# [8, 87, -31, -8, -58, 90],\n",
    "# [10, 87, -31, 0, -58, 90],\n",
    "# [12, 87, -31, 8, -58, 90],\n",
    "# [14, 87, -31, 16, -58, 90],\n",
    "# [16, 87, -31, 24, -58, 90],\n",
    "# [4, 87, -31, -16, -58, 90],\n",
    "# [6, 87, -31, -8, -58, 90],\n",
    "# [8, 87, -31, 0, -58, 90],\n",
    "# [10, 87, -31, 8, -58, 90],\n",
    "# [12, 87, -31, 16, -58, 90],\n",
    "# [14, 87, -31, 24, -58, 90],\n",
    "# [2, 87, -31, -16, -58, 90],\n",
    "# [4, 87, -31, -8, -58, 90],\n",
    "# [6, 87, -31, 0, -58, 90],\n",
    "# [8, 87, -31, 8, -58, 90],\n",
    "# [10, 87, -31, 16, -58, 90],\n",
    "# [12, 87, -31, 24, -58, 90],\n",
    "# [0, 87, -31, -16, -58, 90],\n",
    "# [2, 87, -31, -8, -58, 90],\n",
    "# [4, 87, -31, 0, -58, 90],\n",
    "# [6, 87, -31, 8, -58, 90],\n",
    "# [8, 87, -31, 16, -58, 90],\n",
    "# [10, 87, -31, 24, -58, 90],\n",
    "# [-2, 87, -31, -16, -58, 90],\n",
    "# [0, 87, -31, -8, -58, 90],\n",
    "# [2, 87, -31, 0, -58, 90],\n",
    "# [4, 87, -31, 8, -58, 90],\n",
    "# [6, 87, -31, 16, -58, 90],\n",
    "# [8, 87, -31, 24, -58, 90],\n",
    "# [-4, 87, -31, -16, -58, 90],\n",
    "# [-2, 87, -31, -8, -58, 90],\n",
    "# [0, 87, -31, 0, -58, 90],\n",
    "# [2, 87, -31, 8, -58, 90],\n",
    "# [4, 87, -31, 16, -58, 90],\n",
    "# [6, 87, -31, 24, -58, 90],\n",
    "# [-6, 87, -31, -16, -58, 90],\n",
    "# [-4, 87, -31, -8, -58, 90],\n",
    "# [-2, 87, -31, 0, -58, 90],\n",
    "# [0, 87, -31, 8, -58, 90],\n",
    "# [2, 87, -31, 16, -58, 90],\n",
    "# [4, 87, -31, 24, -58, 90],\n",
    "# [-8, 87, -31, -16, -58, 90],\n",
    "# [-6, 87, -31, -8, -58, 90],\n",
    "# [-4, 87, -31, 0, -58, 90],\n",
    "# [-2, 87, -31, 8, -58, 90],\n",
    "# [0, 87, -31, 16, -58, 90],\n",
    "# [2, 87, -31, 24, -58, 90],\n",
    "# [-10, 87, -31, -16, -58, 90],\n",
    "# [-8, 87, -31, -8, -58, 90],\n",
    "# [-6, 87, -31, 0, -58, 90],\n",
    "# [-4, 87, -31, 8, -58, 90],\n",
    "# [-2, 87, -31, 16, -58, 90],\n",
    "# [0, 87, -31, 24, -58, 90],\n",
    "# [-12, 87, -31, -16, -58, 90],\n",
    "# [-10, 87, -31, -8, -58, 90],\n",
    "# [-8, 87, -31, 0, -58, 90],\n",
    "# [-6, 87, -31, 8, -58, 90],\n",
    "# [-4, 87, -31, 16, -58, 90],\n",
    "# [-2, 87, -31, 24, -58, 90],\n",
    "# [-14, 87, -31, -16, -58, 90],\n",
    "# [-12, 87, -31, -8, -58, 90],\n",
    "# [-10, 87, -31, 0, -58, 90],\n",
    "# [-8, 87, -31, 8, -58, 90],\n",
    "# [-6, 87, -31, 16, -58, 90],\n",
    "# [-4, 87, -31, 24, -58, 90],\n",
    "# [-16, 87, -31, -16, -58, 90],\n",
    "# [-14, 87, -31, -8, -58, 90],\n",
    "# [-12, 87, -31, 0, -58, 90],\n",
    "# [-10, 87, -31, 8, -58, 90],\n",
    "# [-8, 87, -31, 16, -58, 90],\n",
    "# [-6, 87, -31, 24, -58, 90],\n",
    "# [-18, 87, -31, -16, -58, 90],\n",
    "# [-16, 87, -31, -8, -58, 90],\n",
    "# [-14, 87, -31, 0, -58, 90],\n",
    "# [-12, 87, -31, 8, -58, 90],\n",
    "# [-10, 87, -31, 16, -58, 90],\n",
    "# [-8, 87, -31, 24, -58, 90],\n",
    "# [-20, 87, -31, -16, -58, 90],\n",
    "# [-18, 87, -31, -8, -58, 90],\n",
    "# [-16, 87, -31, 0, -58, 90],\n",
    "# [-14, 87, -31, 8, -58, 90],\n",
    "# [-12, 87, -31, 16, -58, 90],\n",
    "# [-10, 87, -31, 24, -58, 90],\n",
    "# [-22, 87, -31, -16, -58, 90],\n",
    "# [-20, 87, -31, -8, -58, 90],\n",
    "# [-18, 87, -31, 0, -58, 90],\n",
    "# [-16, 87, -31, 8, -58, 90],\n",
    "# [-14, 87, -31, 16, -58, 90],\n",
    "# [-12, 87, -31, 24, -58, 90],\n",
    "# [-24, 87, -31, -16, -58, 90],\n",
    "# [-22, 87, -31, -8, -58, 90],\n",
    "# [-20, 87, -31, 0, -58, 90],\n",
    "# [-18, 87, -31, 8, -58, 90],\n",
    "# [-16, 87, -31, 16, -58, 90],\n",
    "# [-14, 87, -31, 24, -58, 90],\n",
    "# [-26, 87, -31, -16, -58, 90],\n",
    "# [-24, 87, -31, -8, -58, 90],\n",
    "# [-22, 87, -31, 0, -58, 90],\n",
    "# [-20, 87, -31, 8, -58, 90],\n",
    "# [-18, 87, -31, 16, -58, 90],\n",
    "# [-16, 87, -31, 24, -58, 90],\n",
    "# [-28, 87, -31, -16, -58, 90],\n",
    "# [-26, 87, -31, -8, -58, 90],\n",
    "# [-24, 87, -31, 0, -58, 90],\n",
    "# [-22, 87, -31, 8, -58, 90],\n",
    "# [-20, 87, -31, 16, -58, 90],\n",
    "# [-18, 87, -31, 24, -58, 90],\n",
    "# [-30, 87, -31, -16, -58, 90],\n",
    "# [-28, 87, -31, -8, -58, 90],\n",
    "# [-26, 87, -31, 0, -58, 90],\n",
    "# [-24, 87, -31, 8, -58, 90],\n",
    "# [-22, 87, -31, 16, -58, 90],\n",
    "# [-20, 87, -31, 24, -58, 90],\n",
    "# [-32, 87, -31, -16, -58, 90],\n",
    "# [-30, 87, -31, -8, -58, 90],\n",
    "# [-28, 87, -31, 0, -58, 90],\n",
    "# [-26, 87, -31, 8, -58, 90],\n",
    "# [-24, 87, -31, 16, -58, 90],\n",
    "# [-22, 87, -31, 24, -58, 90],\n",
    "# [-34, 87, -31, -16, -58, 90],\n",
    "# [-32, 87, -31, -8, -58, 90],\n",
    "# [-30, 87, -31, 0, -58, 90],\n",
    "# [-28, 87, -31, 8, -58, 90],\n",
    "# [-26, 87, -31, 16, -58, 90],\n",
    "# [-24, 87, -31, 24, -58, 90],\n",
    "# [-36, 87, -31, -16, -58, 90],\n",
    "# [-34, 87, -31, -8, -58, 90],\n",
    "# [-32, 87, -31, 0, -58, 90],\n",
    "# [-30, 87, -31, 8, -58, 90],\n",
    "# [-28, 87, -31, 16, -58, 90],\n",
    "# [-26, 87, -31, 24, -58, 90],\n",
    "# [-38, 87, -31, -16, -58, 90],\n",
    "# [-36, 87, -31, -8, -58, 90],\n",
    "# [-34, 87, -31, 0, -58, 90],\n",
    "# [-32, 87, -31, 8, -58, 90],\n",
    "# [-30, 87, -31, 16, -58, 90],\n",
    "# [-28, 87, -31, 24, -58, 90],\n",
    "# [-40, 87, -31, -16, -58, 90],\n",
    "# [-38, 87, -31, -8, -58, 90],\n",
    "# [-36, 87, -31, 0, -58, 90],\n",
    "# [-34, 87, -31, 8, -58, 90],\n",
    "# [-32, 87, -31, 16, -58, 90],\n",
    "# [-30, 87, -31, 24, -58, 90],\n",
    "# [-42, 87, -31, -16, -58, 90],\n",
    "# [-40, 87, -31, -8, -58, 90],\n",
    "# [-38, 87, -31, 0, -58, 90],\n",
    "# [-36, 87, -31, 8, -58, 90],\n",
    "# [-34, 87, -31, 16, -58, 90],\n",
    "# [-32, 87, -31, 24, -58, 90]]"
   ]
  },
  {
   "cell_type": "code",
   "execution_count": 87,
   "id": "ca03013d-4d9a-4bc8-a44e-ed6eed7564ee",
   "metadata": {},
   "outputs": [
    {
     "name": "stdout",
     "output_type": "stream",
     "text": [
      "270\n"
     ]
    }
   ],
   "source": [
    "print(len(points))"
   ]
  },
  {
   "cell_type": "code",
   "execution_count": 82,
   "id": "ab4d49bf-50e7-4c6a-8159-b8b1535e3b6e",
   "metadata": {},
   "outputs": [
    {
     "name": "stderr",
     "output_type": "stream",
     "text": [
      "[2023-11-28 17:38:56] DEBUG   (737952283.py:313) set_do_grip    sending: 37 0 #\n",
      "[2023-11-28 17:38:56] DEBUG   (737952283.py:313) set_do_grip    sending: 37 0 #\n",
      "[2023-11-28 17:38:56] DEBUG   (737952283.py:313) set_do_grip    sending: 37 0 #\n",
      "[2023-11-28 17:38:56] DEBUG   (737952283.py:313) set_do_grip    sending: 37 0 #\n",
      "[2023-11-28 17:38:56] DEBUG   (737952283.py:318) set_do_grip    recieved: b'37 1 '\n",
      "[2023-11-28 17:38:56] DEBUG   (737952283.py:318) set_do_grip    recieved: b'37 1 '\n",
      "[2023-11-28 17:38:56] DEBUG   (737952283.py:318) set_do_grip    recieved: b'37 1 '\n",
      "[2023-11-28 17:38:56] DEBUG   (737952283.py:318) set_do_grip    recieved: b'37 1 '\n"
     ]
    },
    {
     "data": {
      "text/plain": [
       "b'37 1 '"
      ]
     },
     "execution_count": 82,
     "metadata": {},
     "output_type": "execute_result"
    }
   ],
   "source": [
    "R.set_do_grip(0)"
   ]
  },
  {
   "cell_type": "markdown",
   "id": "d5d41011-d7d5-482c-a826-6102f493babe",
   "metadata": {},
   "source": [
    "# CLOSE CONNECTION"
   ]
  },
  {
   "cell_type": "code",
   "execution_count": 63,
   "id": "3049d99e-b096-4ed6-91aa-07d67bc0874d",
   "metadata": {},
   "outputs": [
    {
     "name": "stderr",
     "output_type": "stream",
     "text": [
      "[2023-12-04 17:58:38] DEBUG   (4142056469.py:323) close          sending: 99 #\n",
      "[2023-12-04 17:58:39] INFO    (4142056469.py:345) Disconnected from ABB robot.\n"
     ]
    }
   ],
   "source": [
    "# R.set_joints([0,0,0,0,0,0])\n",
    "R.close()"
   ]
  },
  {
   "cell_type": "markdown",
   "id": "2fe7dff4-10ea-4554-a244-90e1af216906",
   "metadata": {},
   "source": [
    "# Capturing Images"
   ]
  },
  {
   "cell_type": "code",
   "execution_count": 4,
   "id": "6cd8676f-9480-455a-949f-f4c1d2679010",
   "metadata": {},
   "outputs": [],
   "source": [
    "imagenum = 1"
   ]
  },
  {
   "cell_type": "markdown",
   "id": "83fdfcef-e196-4428-a54a-a50b9ce9acab",
   "metadata": {},
   "source": [
    "### data is saved as j1-j2-j3-j4-j5-j6-imgnum-x-y-z-p1-p2-p3-p4\n",
    "\n",
    "extra being added on\n",
    "\n",
    "j = joints \n",
    "\n",
    "x = x\n",
    "\n",
    "y = y\n",
    "\n",
    "z = z\n",
    "\n",
    "p = pose (quarterian)\n",
    "\n",
    "function for setting the joint positions to cartesian\n",
    "\n",
    "def get_cart_pose(joints)\n",
    "\n",
    "### data is saved as j1-j2-j3-j4-j5-j6-imgnum-x-y-z-p1-p2-p3-p4"
   ]
  },
  {
   "cell_type": "code",
   "execution_count": null,
   "id": "678152eb-eea1-4a2f-a2b0-38aa4b85ef82",
   "metadata": {},
   "outputs": [],
   "source": [
    "# this is the camera and connecting to the robot\n",
    "cam = cv2.VideoCapture(1)\n",
    "R = Robot(ip='192.168.125.1')"
   ]
  },
  {
   "cell_type": "markdown",
   "id": "6f083421-54ae-4254-84c2-5dff7d6b77f1",
   "metadata": {},
   "source": [
    "# this one goes to the end point and takes a picture"
   ]
  },
  {
   "cell_type": "code",
   "execution_count": 4,
   "id": "bdc13895-e183-4ef4-ab21-40e27ff84ead",
   "metadata": {
    "tags": []
   },
   "outputs": [],
   "source": [
    "def start_cap(points, R, cam):\n",
    "    R.set_speed([175, 175, 1, 1])\n",
    "    R.set_joints([0,0,0,0,0,90])\n",
    "    import cv2\n",
    "    import numpy as np\n",
    "    import time\n",
    "    from PIL import Image\n",
    "    global imagenum\n",
    "    for x in range(len(points)):\n",
    "        end = points[x]\n",
    "        for x in range(len(end)):\n",
    "            end[x] = int(round(end[x]))\n",
    "        print(end)\n",
    "        while True:\n",
    "            ret_val, capturedImg = cam.read()\n",
    "            cv2.imshow('my webcam', capturedImg)\n",
    "            key = None\n",
    "            key = cv2.waitKey(1)\n",
    "            if key == 27:\n",
    "                R.set_joints([0,0,0,0,0,90])\n",
    "                R.close()\n",
    "                cam.release()\n",
    "                cv2.destroyAllWindows() \n",
    "                break\n",
    "            else:\n",
    "                R.set_joints(end)\n",
    "                time.sleep(0.2)\n",
    "                arr = R.get_joints()\n",
    "                arr1 = R.get_cartesian()\n",
    "                d = []\n",
    "                for row in arr1:\n",
    "                    for val in row:\n",
    "                        d.append(val)\n",
    "                arr1 = d\n",
    "                begin = str(arr[0]) + '-' + str(arr[1]) + '-'+ str(arr[2]) + '-' + str(arr[3]) + '-' + str(arr[4]) + '-' + str(arr[5]) + '-'\n",
    "                e = str(arr1[0]) + '-' + str(arr1[1]) + '-'+ str(arr1[2]) + '-' + str(arr1[3]) + '-' + str(arr1[4]) + '-' + str(arr1[5]) + '-' + str(arr1[6])\n",
    "                Image.fromarray(capturedImg).save('../data/raw/all2/' + begin + 'imgcap' + str(imagenum) + '-' + e + '.jpg')\n",
    "                imagenum += 1\n",
    "                break\n",
    "    R.set_joints([0,0,0,0,0,90])\n",
    "    R.close()\n",
    "    cam.release()\n",
    "    cv2.destroyAllWindows() "
   ]
  },
  {
   "cell_type": "markdown",
   "id": "46f57c3d-93eb-4dac-ba22-f3c660244a07",
   "metadata": {},
   "source": [
    "# this one will slowly move to the endpoint in your points array"
   ]
  },
  {
   "cell_type": "code",
   "execution_count": 5,
   "id": "d96e7e12-842d-4d75-9d25-46e86c1d8881",
   "metadata": {
    "tags": []
   },
   "outputs": [],
   "source": [
    "def start_capslow(points, R, cam):\n",
    "    R.set_speed([175, 175, 1, 1])\n",
    "    R.set_joints([0,0,0,0,0,90])\n",
    "    import cv2\n",
    "    import numpy as np\n",
    "    import time\n",
    "    from PIL import Image\n",
    "    global imagenum\n",
    "    for x in range(len(points)):\n",
    "        end = points[x]\n",
    "        for x in range(len(end)):\n",
    "            end[x] = int(round(end[x]))\n",
    "        print(end)\n",
    "        while True:\n",
    "            ret_val, capturedImg = cam.read()\n",
    "            cv2.imshow('my webcam', capturedImg)\n",
    "            key = None\n",
    "            key = cv2.waitKey(1)\n",
    "            if key == 27:\n",
    "                R.set_joints([0,0,0,0,0,90])\n",
    "                R.close()\n",
    "                cam.release()\n",
    "                cv2.destroyAllWindows() \n",
    "                break\n",
    "            else:\n",
    "                pos = R.get_joints()\n",
    "                for x in range(len(pos)):\n",
    "                    pos[x] = int(round(pos[x]))\n",
    "                    \n",
    "                if int(pos[0]) != int(end[0]):\n",
    "                    t = 1\n",
    "                    if end[0] < 0:\n",
    "                        t = t * -1\n",
    "                    pos[0] = pos[0] + t\n",
    "                if int(pos[1]) != int(end[1]):\n",
    "                    t = 1\n",
    "                    if end[1] < 0:\n",
    "                        t = t * -1\n",
    "                    pos[1] = pos[1] + t\n",
    "                if int(pos[2]) != int(end[2]):\n",
    "                    t = 1\n",
    "                    if end[2] < 0:\n",
    "                        t = t * -1\n",
    "                    pos[2] = pos[2] + t\n",
    "                if int(pos[3]) != int(end[3]):\n",
    "                    t = 1\n",
    "                    if end[3] < 0:\n",
    "                        t = t * -1\n",
    "                    pos[3] = pos[3] + t\n",
    "                if int(pos[4]) != int(end[4]):\n",
    "                    t = 1\n",
    "                    if end[4] < 0:\n",
    "                        t = t * -1\n",
    "                    pos[4] = pos[4] + t\n",
    "                if int(pos[5]) != int(end[5]):\n",
    "                    t = 1\n",
    "                    if end[5] < 0:\n",
    "                        t = t * -1\n",
    "                    pos[5] = pos[5] + t\n",
    "                if int(pos[0]) == int(end[0]) and int(pos[1]) == int(end[1]) and int(pos[2]) == int(end[2]) and int(pos[3]) == int(end[3]) and int(pos[4]) == int(end[4]) and int(pos[5]) == int(end[5]):\n",
    "                    break\n",
    "                time.sleep(0.2)\n",
    "                arr = R.get_joints()\n",
    "                arr1 = R.get_cartesian()\n",
    "                d = []\n",
    "                for row in arr1:\n",
    "                    for val in row:\n",
    "                        d.append(val)\n",
    "                arr1 = d\n",
    "                begin = str(arr[0]) + '-' + str(arr[1]) + '-'+ str(arr[2]) + '-' + str(arr[3]) + '-' + str(arr[4]) + '-' + str(arr[5]) + '-'\n",
    "                e = str(arr1[0]) + '-' + str(arr1[1]) + '-'+ str(arr1[2]) + '-' + str(arr1[3]) + '-' + str(arr1[4]) + '-' + str(arr1[5]) + '-' + str(arr1[6])\n",
    "                Image.fromarray(capturedImg).save('../data/raw/all2/' + begin + 'imgcap' + str(imagenum) + '-' + e + '.jpg')\n",
    "                imagenum += 1\n",
    "    R.set_joints([0,0,0,0,0,90])\n",
    "    R.close()\n",
    "    cam.release()\n",
    "    cv2.destroyAllWindows() "
   ]
  },
  {
   "cell_type": "code",
   "execution_count": 94,
   "id": "ff01a86e-fce4-48ae-b8fa-33ec3be63bce",
   "metadata": {},
   "outputs": [],
   "source": [
    "imagenum = 20329"
   ]
  },
  {
   "cell_type": "code",
   "execution_count": 93,
   "id": "5d9edc4d-e71f-4882-b82f-5bb69eb18cb1",
   "metadata": {},
   "outputs": [
    {
     "name": "stdout",
     "output_type": "stream",
     "text": [
      "20329\n"
     ]
    }
   ],
   "source": [
    "print(imagenum)"
   ]
  },
  {
   "cell_type": "code",
   "execution_count": 90,
   "id": "ff0f6ffe-44c8-4649-bf74-743d1942ed28",
   "metadata": {
    "scrolled": true
   },
   "outputs": [
    {
     "name": "stderr",
     "output_type": "stream",
     "text": [
      "[2023-12-04 18:04:54] INFO    (4142056469.py: 42) Attempting to connect to robot motion server at ('192.168.125.1', 5000)\n",
      "[2023-12-04 18:04:54] INFO    (4142056469.py: 47) Connected to robot motion server at ('192.168.125.1', 5000)\n",
      "[2023-12-04 18:04:54] DEBUG   (4142056469.py:323) set_tool       sending: 06 +00000.0 +00000.0 +00000.0 +1.00000 +0.00000 +0.00000 +0.00000 #\n",
      "[2023-12-04 18:04:55] DEBUG   (4142056469.py:328) set_tool       recieved: b'6 1 '\n",
      "[2023-12-04 18:04:55] DEBUG   (4142056469.py:323) set_workobject sending: 07 +00000.0 +00000.0 +00000.0 +1.00000 +0.00000 +0.00000 +0.00000 #\n",
      "[2023-12-04 18:04:55] DEBUG   (4142056469.py:328) set_workobject recieved: b'7 1 '\n",
      "[2023-12-04 18:04:55] DEBUG   (4142056469.py:323) set_speed      sending: 08 +00100.0 +0050.00 +00050.0 +0050.00 #\n",
      "[2023-12-04 18:04:55] DEBUG   (4142056469.py:328) set_speed      recieved: b'8 1 '\n",
      "[2023-12-04 18:04:55] DEBUG   (4142056469.py:323) set_zone       sending: 09 0 +01.0000 +01.0000 +00.1000 #\n",
      "[2023-12-04 18:04:55] DEBUG   (4142056469.py:328) set_zone       recieved: b'9 1 '\n",
      "[2023-12-04 18:04:55] DEBUG   (4142056469.py:323) set_speed      sending: 08 +00175.0 +0175.00 +00001.0 +0001.00 #\n",
      "[2023-12-04 18:04:55] DEBUG   (4142056469.py:328) set_speed      recieved: b'8 1 '\n",
      "[2023-12-04 18:04:55] DEBUG   (4142056469.py:323) set_joints     sending: 02 +0000.00 +0000.00 +0000.00 +0000.00 +0000.00 +0090.00 #\n",
      "[2023-12-04 18:04:55] DEBUG   (4142056469.py:328) set_joints     recieved: b'2 1 '\n"
     ]
    },
    {
     "name": "stdout",
     "output_type": "stream",
     "text": [
      "[34, 55, 35, -16, -90, 90]\n"
     ]
    },
    {
     "name": "stderr",
     "output_type": "stream",
     "text": [
      "[2023-12-04 18:05:33] DEBUG   (4142056469.py:323) set_joints     sending: 02 +0034.00 +0055.00 +0035.00 -0016.00 -0090.00 +0090.00 #\n",
      "[2023-12-04 18:05:36] DEBUG   (4142056469.py:328) set_joints     recieved: b'2 1 '\n",
      "[2023-12-04 18:05:36] DEBUG   (4142056469.py:323) get_joints     sending: 04 #\n",
      "[2023-12-04 18:05:36] DEBUG   (4142056469.py:328) get_joints     recieved: b'4 1 30.10 48.69 30.98 -14.16 -79.66 90.00'\n",
      "[2023-12-04 18:05:36] DEBUG   (4142056469.py:323) get_cartesian  sending: 03 #\n",
      "[2023-12-04 18:05:36] DEBUG   (4142056469.py:328) get_cartesian  recieved: b'3 1 320.60 215.67 170.65 0.276 0.256 0.661 0.649'\n",
      "[2023-12-04 18:05:36] DEBUG   (4142056469.py:323) set_joints     sending: 02 +0036.00 +0055.00 +0035.00 -0008.00 -0090.00 +0090.00 #\n",
      "[2023-12-04 18:05:36] DEBUG   (4142056469.py:328) set_joints     recieved: b'2 1 '\n"
     ]
    },
    {
     "name": "stdout",
     "output_type": "stream",
     "text": [
      "[36, 55, 35, -8, -90, 90]\n"
     ]
    },
    {
     "name": "stderr",
     "output_type": "stream",
     "text": [
      "[2023-12-04 18:05:36] DEBUG   (4142056469.py:323) get_joints     sending: 04 #\n",
      "[2023-12-04 18:05:36] DEBUG   (4142056469.py:328) get_joints     recieved: b'4 1 35.76 55.01 35.01 -8.92 -90.01 90.00'\n",
      "[2023-12-04 18:05:36] DEBUG   (4142056469.py:323) get_cartesian  sending: 03 #\n",
      "[2023-12-04 18:05:37] DEBUG   (4142056469.py:328) get_cartesian  recieved: b'3 1 287.29 221.18 142.84 0.276 0.276 0.651 0.651'\n",
      "[2023-12-04 18:05:37] DEBUG   (4142056469.py:323) set_joints     sending: 02 +0038.00 +0055.00 +0035.00 +0000.00 -0090.00 +0090.00 #\n",
      "[2023-12-04 18:05:37] DEBUG   (4142056469.py:328) set_joints     recieved: b'2 1 '\n"
     ]
    },
    {
     "name": "stdout",
     "output_type": "stream",
     "text": [
      "[38, 55, 35, 0, -90, 90]\n"
     ]
    },
    {
     "name": "stderr",
     "output_type": "stream",
     "text": [
      "[2023-12-04 18:05:37] DEBUG   (4142056469.py:323) get_joints     sending: 04 #\n",
      "[2023-12-04 18:05:37] DEBUG   (4142056469.py:328) get_joints     recieved: b'4 1 38.00 55.00 35.00 0.01 -90.01 90.00'\n",
      "[2023-12-04 18:05:37] DEBUG   (4142056469.py:323) get_cartesian  sending: 03 #\n",
      "[2023-12-04 18:05:37] DEBUG   (4142056469.py:328) get_cartesian  recieved: b'3 1 286.19 223.59 142.87 0.310 0.310 0.635 0.636'\n",
      "[2023-12-04 18:05:37] DEBUG   (4142056469.py:323) set_joints     sending: 02 +0040.00 +0055.00 +0035.00 +0008.00 -0090.00 +0090.00 #\n",
      "[2023-12-04 18:05:37] DEBUG   (4142056469.py:328) set_joints     recieved: b'2 1 '\n"
     ]
    },
    {
     "name": "stdout",
     "output_type": "stream",
     "text": [
      "[40, 55, 35, 8, -90, 90]\n"
     ]
    },
    {
     "name": "stderr",
     "output_type": "stream",
     "text": [
      "[2023-12-04 18:05:37] DEBUG   (4142056469.py:323) get_joints     sending: 04 #\n",
      "[2023-12-04 18:05:37] DEBUG   (4142056469.py:328) get_joints     recieved: b'4 1 40.00 55.00 35.00 8.00 -90.00 90.00'\n",
      "[2023-12-04 18:05:37] DEBUG   (4142056469.py:323) get_cartesian  sending: 03 #\n",
      "[2023-12-04 18:05:38] DEBUG   (4142056469.py:328) get_cartesian  recieved: b'3 1 284.10 225.33 142.87 0.343 0.343 0.618 0.618'\n",
      "[2023-12-04 18:05:38] DEBUG   (4142056469.py:323) set_joints     sending: 02 +0042.00 +0055.00 +0035.00 +0016.00 -0090.00 +0090.00 #\n",
      "[2023-12-04 18:05:38] DEBUG   (4142056469.py:328) set_joints     recieved: b'2 1 '\n"
     ]
    },
    {
     "name": "stdout",
     "output_type": "stream",
     "text": [
      "[42, 55, 35, 16, -90, 90]\n"
     ]
    },
    {
     "name": "stderr",
     "output_type": "stream",
     "text": [
      "[2023-12-04 18:05:38] DEBUG   (4142056469.py:323) get_joints     sending: 04 #\n",
      "[2023-12-04 18:05:38] DEBUG   (4142056469.py:328) get_joints     recieved: b'4 1 42.00 55.00 35.00 16.01 -90.00 90.00'\n",
      "[2023-12-04 18:05:38] DEBUG   (4142056469.py:323) get_cartesian  sending: 03 #\n",
      "[2023-12-04 18:05:38] DEBUG   (4142056469.py:328) get_cartesian  recieved: b'3 1 281.09 226.39 142.87 0.375 0.375 0.600 0.600'\n",
      "[2023-12-04 18:05:38] DEBUG   (4142056469.py:323) set_joints     sending: 02 +0044.00 +0055.00 +0035.00 +0024.00 -0090.00 +0090.00 #\n",
      "[2023-12-04 18:05:38] DEBUG   (4142056469.py:328) set_joints     recieved: b'2 1 '\n"
     ]
    },
    {
     "name": "stdout",
     "output_type": "stream",
     "text": [
      "[44, 55, 35, 24, -90, 90]\n"
     ]
    },
    {
     "name": "stderr",
     "output_type": "stream",
     "text": [
      "[2023-12-04 18:05:38] DEBUG   (4142056469.py:323) get_joints     sending: 04 #\n",
      "[2023-12-04 18:05:39] DEBUG   (4142056469.py:328) get_joints     recieved: b'4 1 44.00 55.00 35.00 23.99 -90.00 90.00'\n",
      "[2023-12-04 18:05:39] DEBUG   (4142056469.py:323) get_cartesian  sending: 03 #\n",
      "[2023-12-04 18:05:39] DEBUG   (4142056469.py:328) get_cartesian  recieved: b'3 1 277.10 226.90 142.87 0.406 0.406 0.579 0.579'\n",
      "[2023-12-04 18:05:39] DEBUG   (4142056469.py:323) set_joints     sending: 02 +0032.00 +0055.00 +0035.00 -0016.00 -0090.00 +0090.00 #\n",
      "[2023-12-04 18:05:39] DEBUG   (4142056469.py:328) set_joints     recieved: b'2 1 '\n"
     ]
    },
    {
     "name": "stdout",
     "output_type": "stream",
     "text": [
      "[32, 55, 35, -16, -90, 90]\n"
     ]
    },
    {
     "name": "stderr",
     "output_type": "stream",
     "text": [
      "[2023-12-04 18:05:39] DEBUG   (4142056469.py:323) get_joints     sending: 04 #\n",
      "[2023-12-04 18:05:39] DEBUG   (4142056469.py:328) get_joints     recieved: b'4 1 38.91 55.00 35.00 7.03 -90.00 90.00'\n",
      "[2023-12-04 18:05:39] DEBUG   (4142056469.py:323) get_cartesian  sending: 03 #\n",
      "[2023-12-04 18:05:39] DEBUG   (4142056469.py:328) get_cartesian  recieved: b'3 1 294.33 210.47 142.87 0.268 0.268 0.654 0.654'\n",
      "[2023-12-04 18:05:39] DEBUG   (4142056469.py:323) set_joints     sending: 02 +0034.00 +0055.00 +0035.00 -0008.00 -0090.00 +0090.00 #\n",
      "[2023-12-04 18:05:39] DEBUG   (4142056469.py:328) set_joints     recieved: b'2 1 '\n"
     ]
    },
    {
     "name": "stdout",
     "output_type": "stream",
     "text": [
      "[34, 55, 35, -8, -90, 90]\n"
     ]
    },
    {
     "name": "stderr",
     "output_type": "stream",
     "text": [
      "[2023-12-04 18:05:40] DEBUG   (4142056469.py:323) get_joints     sending: 04 #\n",
      "[2023-12-04 18:05:40] DEBUG   (4142056469.py:328) get_joints     recieved: b'4 1 34.00 55.00 35.00 -8.00 -90.00 90.00'\n",
      "[2023-12-04 18:05:40] DEBUG   (4142056469.py:323) get_cartesian  sending: 03 #\n",
      "[2023-12-04 18:05:40] DEBUG   (4142056469.py:328) get_cartesian  recieved: b'3 1 294.88 211.02 142.87 0.288 0.288 0.646 0.646'\n",
      "[2023-12-04 18:05:40] DEBUG   (4142056469.py:323) set_joints     sending: 02 +0036.00 +0055.00 +0035.00 +0000.00 -0090.00 +0090.00 #\n",
      "[2023-12-04 18:05:40] DEBUG   (4142056469.py:328) set_joints     recieved: b'2 1 '\n"
     ]
    },
    {
     "name": "stdout",
     "output_type": "stream",
     "text": [
      "[36, 55, 35, 0, -90, 90]\n"
     ]
    },
    {
     "name": "stderr",
     "output_type": "stream",
     "text": [
      "[2023-12-04 18:05:40] DEBUG   (4142056469.py:323) get_joints     sending: 04 #\n",
      "[2023-12-04 18:05:40] DEBUG   (4142056469.py:328) get_joints     recieved: b'4 1 36.00 55.00 35.00 0.01 -90.00 90.00'\n",
      "[2023-12-04 18:05:40] DEBUG   (4142056469.py:323) get_cartesian  sending: 03 #\n",
      "[2023-12-04 18:05:40] DEBUG   (4142056469.py:328) get_cartesian  recieved: b'3 1 293.81 213.46 142.87 0.321 0.321 0.630 0.630'\n",
      "[2023-12-04 18:05:40] DEBUG   (4142056469.py:323) set_joints     sending: 02 +0038.00 +0055.00 +0035.00 +0008.00 -0090.00 +0090.00 #\n",
      "[2023-12-04 18:05:40] DEBUG   (4142056469.py:328) set_joints     recieved: b'2 1 '\n"
     ]
    },
    {
     "name": "stdout",
     "output_type": "stream",
     "text": [
      "[38, 55, 35, 8, -90, 90]\n"
     ]
    },
    {
     "name": "stderr",
     "output_type": "stream",
     "text": [
      "[2023-12-04 18:05:41] DEBUG   (4142056469.py:323) get_joints     sending: 04 #\n",
      "[2023-12-04 18:05:41] DEBUG   (4142056469.py:328) get_joints     recieved: b'4 1 37.99 55.00 35.00 7.98 -90.00 90.00'\n",
      "[2023-12-04 18:05:41] DEBUG   (4142056469.py:323) get_cartesian  sending: 03 #\n",
      "[2023-12-04 18:05:41] DEBUG   (4142056469.py:328) get_cartesian  recieved: b'3 1 291.79 215.27 142.87 0.354 0.354 0.612 0.612'\n",
      "[2023-12-04 18:05:41] DEBUG   (4142056469.py:323) set_joints     sending: 02 +0040.00 +0055.00 +0035.00 +0016.00 -0090.00 +0090.00 #\n",
      "[2023-12-04 18:05:41] DEBUG   (4142056469.py:328) set_joints     recieved: b'2 1 '\n"
     ]
    },
    {
     "name": "stdout",
     "output_type": "stream",
     "text": [
      "[40, 55, 35, 16, -90, 90]\n"
     ]
    },
    {
     "name": "stderr",
     "output_type": "stream",
     "text": [
      "[2023-12-04 18:05:41] DEBUG   (4142056469.py:323) get_joints     sending: 04 #\n",
      "[2023-12-04 18:05:41] DEBUG   (4142056469.py:328) get_joints     recieved: b'4 1 40.00 55.00 35.00 16.01 -90.00 90.00'\n",
      "[2023-12-04 18:05:41] DEBUG   (4142056469.py:323) get_cartesian  sending: 03 #\n",
      "[2023-12-04 18:05:41] DEBUG   (4142056469.py:328) get_cartesian  recieved: b'3 1 288.82 216.45 142.87 0.385 0.385 0.593 0.593'\n",
      "[2023-12-04 18:05:41] DEBUG   (4142056469.py:323) set_joints     sending: 02 +0042.00 +0055.00 +0035.00 +0024.00 -0090.00 +0090.00 #\n",
      "[2023-12-04 18:05:41] DEBUG   (4142056469.py:328) set_joints     recieved: b'2 1 '\n"
     ]
    },
    {
     "name": "stdout",
     "output_type": "stream",
     "text": [
      "[42, 55, 35, 24, -90, 90]\n"
     ]
    },
    {
     "name": "stderr",
     "output_type": "stream",
     "text": [
      "[2023-12-04 18:05:42] DEBUG   (4142056469.py:323) get_joints     sending: 04 #\n",
      "[2023-12-04 18:05:42] DEBUG   (4142056469.py:328) get_joints     recieved: b'4 1 42.00 55.00 35.00 24.00 -90.00 90.00'\n",
      "[2023-12-04 18:05:42] DEBUG   (4142056469.py:323) get_cartesian  sending: 03 #\n",
      "[2023-12-04 18:05:42] DEBUG   (4142056469.py:328) get_cartesian  recieved: b'3 1 284.85 217.09 142.86 0.416 0.416 0.572 0.572'\n",
      "[2023-12-04 18:05:42] DEBUG   (4142056469.py:323) set_joints     sending: 02 +0030.00 +0055.00 +0035.00 -0016.00 -0090.00 +0090.00 #\n",
      "[2023-12-04 18:05:42] DEBUG   (4142056469.py:328) set_joints     recieved: b'2 1 '\n"
     ]
    },
    {
     "name": "stdout",
     "output_type": "stream",
     "text": [
      "[30, 55, 35, -16, -90, 90]\n"
     ]
    },
    {
     "name": "stderr",
     "output_type": "stream",
     "text": [
      "[2023-12-04 18:05:42] DEBUG   (4142056469.py:323) get_joints     sending: 04 #\n",
      "[2023-12-04 18:05:42] DEBUG   (4142056469.py:328) get_joints     recieved: b'4 1 36.05 55.00 35.00 4.19 -90.00 90.00'\n",
      "[2023-12-04 18:05:42] DEBUG   (4142056469.py:323) get_cartesian  sending: 03 #\n",
      "[2023-12-04 18:05:42] DEBUG   (4142056469.py:328) get_cartesian  recieved: b'3 1 301.72 199.13 142.87 0.274 0.274 0.652 0.652'\n",
      "[2023-12-04 18:05:42] DEBUG   (4142056469.py:323) set_joints     sending: 02 +0032.00 +0055.00 +0035.00 -0008.00 -0090.00 +0090.00 #\n",
      "[2023-12-04 18:05:43] DEBUG   (4142056469.py:328) set_joints     recieved: b'2 1 '\n"
     ]
    },
    {
     "name": "stdout",
     "output_type": "stream",
     "text": [
      "[32, 55, 35, -8, -90, 90]\n"
     ]
    },
    {
     "name": "stderr",
     "output_type": "stream",
     "text": [
      "[2023-12-04 18:05:43] DEBUG   (4142056469.py:323) get_joints     sending: 04 #\n",
      "[2023-12-04 18:05:43] DEBUG   (4142056469.py:328) get_joints     recieved: b'4 1 32.00 55.00 35.00 -8.00 -90.00 90.00'\n",
      "[2023-12-04 18:05:43] DEBUG   (4142056469.py:323) get_cartesian  sending: 03 #\n",
      "[2023-12-04 18:05:43] DEBUG   (4142056469.py:328) get_cartesian  recieved: b'3 1 302.07 200.60 142.87 0.299 0.299 0.641 0.641'\n",
      "[2023-12-04 18:05:43] DEBUG   (4142056469.py:323) set_joints     sending: 02 +0034.00 +0055.00 +0035.00 +0000.00 -0090.00 +0090.00 #\n",
      "[2023-12-04 18:05:43] DEBUG   (4142056469.py:328) set_joints     recieved: b'2 1 '\n"
     ]
    },
    {
     "name": "stdout",
     "output_type": "stream",
     "text": [
      "[34, 55, 35, 0, -90, 90]\n"
     ]
    },
    {
     "name": "stderr",
     "output_type": "stream",
     "text": [
      "[2023-12-04 18:05:43] DEBUG   (4142056469.py:323) get_joints     sending: 04 #\n",
      "[2023-12-04 18:05:43] DEBUG   (4142056469.py:328) get_joints     recieved: b'4 1 34.00 55.00 35.00 0.01 -90.00 90.00'\n",
      "[2023-12-04 18:05:43] DEBUG   (4142056469.py:323) get_cartesian  sending: 03 #\n",
      "[2023-12-04 18:05:43] DEBUG   (4142056469.py:328) get_cartesian  recieved: b'3 1 301.08 203.08 142.87 0.332 0.332 0.624 0.624'\n",
      "[2023-12-04 18:05:44] DEBUG   (4142056469.py:323) set_joints     sending: 02 +0036.00 +0055.00 +0035.00 +0008.00 -0090.00 +0090.00 #\n",
      "[2023-12-04 18:05:44] DEBUG   (4142056469.py:328) set_joints     recieved: b'2 1 '\n"
     ]
    },
    {
     "name": "stdout",
     "output_type": "stream",
     "text": [
      "[36, 55, 35, 8, -90, 90]\n"
     ]
    },
    {
     "name": "stderr",
     "output_type": "stream",
     "text": [
      "[2023-12-04 18:05:44] DEBUG   (4142056469.py:323) get_joints     sending: 04 #\n",
      "[2023-12-04 18:05:44] DEBUG   (4142056469.py:328) get_joints     recieved: b'4 1 36.00 55.00 35.00 7.99 -90.00 90.00'\n",
      "[2023-12-04 18:05:44] DEBUG   (4142056469.py:323) get_cartesian  sending: 03 #\n",
      "[2023-12-04 18:05:44] DEBUG   (4142056469.py:328) get_cartesian  recieved: b'3 1 299.13 204.96 142.87 0.364 0.364 0.606 0.606'\n",
      "[2023-12-04 18:05:44] DEBUG   (4142056469.py:323) set_joints     sending: 02 +0038.00 +0055.00 +0035.00 +0016.00 -0090.00 +0090.00 #\n",
      "[2023-12-04 18:05:44] DEBUG   (4142056469.py:328) set_joints     recieved: b'2 1 '\n"
     ]
    },
    {
     "name": "stdout",
     "output_type": "stream",
     "text": [
      "[38, 55, 35, 16, -90, 90]\n"
     ]
    },
    {
     "name": "stderr",
     "output_type": "stream",
     "text": [
      "[2023-12-04 18:05:44] DEBUG   (4142056469.py:323) get_joints     sending: 04 #\n",
      "[2023-12-04 18:05:44] DEBUG   (4142056469.py:328) get_joints     recieved: b'4 1 38.00 55.00 35.00 16.01 -90.00 90.00'\n",
      "[2023-12-04 18:05:44] DEBUG   (4142056469.py:323) get_cartesian  sending: 03 #\n",
      "[2023-12-04 18:05:45] DEBUG   (4142056469.py:328) get_cartesian  recieved: b'3 1 296.20 206.23 142.87 0.395 0.395 0.586 0.586'\n",
      "[2023-12-04 18:05:45] DEBUG   (4142056469.py:323) set_joints     sending: 02 +0040.00 +0055.00 +0035.00 +0024.00 -0090.00 +0090.00 #\n",
      "[2023-12-04 18:05:45] DEBUG   (4142056469.py:328) set_joints     recieved: b'2 1 '\n"
     ]
    },
    {
     "name": "stdout",
     "output_type": "stream",
     "text": [
      "[40, 55, 35, 24, -90, 90]\n"
     ]
    },
    {
     "name": "stderr",
     "output_type": "stream",
     "text": [
      "[2023-12-04 18:05:45] DEBUG   (4142056469.py:323) get_joints     sending: 04 #\n",
      "[2023-12-04 18:05:45] DEBUG   (4142056469.py:328) get_joints     recieved: b'4 1 40.00 55.00 35.00 24.00 -90.00 90.00'\n",
      "[2023-12-04 18:05:45] DEBUG   (4142056469.py:323) get_cartesian  sending: 03 #\n",
      "[2023-12-04 18:05:45] DEBUG   (4142056469.py:328) get_cartesian  recieved: b'3 1 292.25 207.02 142.87 0.426 0.426 0.565 0.565'\n",
      "[2023-12-04 18:05:45] DEBUG   (4142056469.py:323) set_joints     sending: 02 +0028.00 +0055.00 +0035.00 -0016.00 -0090.00 +0090.00 #\n",
      "[2023-12-04 18:05:45] DEBUG   (4142056469.py:328) set_joints     recieved: b'2 1 '\n"
     ]
    },
    {
     "name": "stdout",
     "output_type": "stream",
     "text": [
      "[28, 55, 35, -16, -90, 90]\n"
     ]
    },
    {
     "name": "stderr",
     "output_type": "stream",
     "text": [
      "[2023-12-04 18:05:45] DEBUG   (4142056469.py:323) get_joints     sending: 04 #\n",
      "[2023-12-04 18:05:46] DEBUG   (4142056469.py:328) get_joints     recieved: b'4 1 34.69 55.00 35.00 6.33 -90.00 90.00'\n",
      "[2023-12-04 18:05:46] DEBUG   (4142056469.py:323) get_cartesian  sending: 03 #\n",
      "[2023-12-04 18:05:46] DEBUG   (4142056469.py:328) get_cartesian  recieved: b'3 1 308.30 189.42 142.87 0.291 0.291 0.645 0.645'\n",
      "[2023-12-04 18:05:46] DEBUG   (4142056469.py:323) set_joints     sending: 02 +0030.00 +0055.00 +0035.00 -0008.00 -0090.00 +0090.00 #\n",
      "[2023-12-04 18:05:46] DEBUG   (4142056469.py:328) set_joints     recieved: b'2 1 '\n"
     ]
    },
    {
     "name": "stdout",
     "output_type": "stream",
     "text": [
      "[30, 55, 35, -8, -90, 90]\n"
     ]
    },
    {
     "name": "stderr",
     "output_type": "stream",
     "text": [
      "[2023-12-04 18:05:46] DEBUG   (4142056469.py:323) get_joints     sending: 04 #\n",
      "[2023-12-04 18:05:46] DEBUG   (4142056469.py:328) get_joints     recieved: b'4 1 30.00 55.00 35.00 -8.01 -90.00 90.00'\n",
      "[2023-12-04 18:05:46] DEBUG   (4142056469.py:323) get_cartesian  sending: 03 #\n",
      "[2023-12-04 18:05:46] DEBUG   (4142056469.py:328) get_cartesian  recieved: b'3 1 308.88 189.93 142.87 0.310 0.310 0.636 0.636'\n",
      "[2023-12-04 18:05:46] DEBUG   (4142056469.py:323) set_joints     sending: 02 +0032.00 +0055.00 +0035.00 +0000.00 -0090.00 +0090.00 #\n",
      "[2023-12-04 18:05:46] DEBUG   (4142056469.py:328) set_joints     recieved: b'2 1 '\n"
     ]
    },
    {
     "name": "stdout",
     "output_type": "stream",
     "text": [
      "[32, 55, 35, 0, -90, 90]\n"
     ]
    },
    {
     "name": "stderr",
     "output_type": "stream",
     "text": [
      "[2023-12-04 18:05:46] DEBUG   (4142056469.py:323) get_joints     sending: 04 #\n",
      "[2023-12-04 18:05:47] DEBUG   (4142056469.py:328) get_joints     recieved: b'4 1 32.00 55.00 35.00 0.01 -90.00 90.00'\n",
      "[2023-12-04 18:05:47] DEBUG   (4142056469.py:323) get_cartesian  sending: 03 #\n",
      "[2023-12-04 18:05:47] DEBUG   (4142056469.py:328) get_cartesian  recieved: b'3 1 307.99 192.45 142.87 0.343 0.343 0.618 0.618'\n",
      "[2023-12-04 18:05:47] DEBUG   (4142056469.py:323) set_joints     sending: 02 +0034.00 +0055.00 +0035.00 +0008.00 -0090.00 +0090.00 #\n",
      "[2023-12-04 18:05:47] DEBUG   (4142056469.py:328) set_joints     recieved: b'2 1 '\n"
     ]
    },
    {
     "name": "stdout",
     "output_type": "stream",
     "text": [
      "[34, 55, 35, 8, -90, 90]\n"
     ]
    },
    {
     "name": "stderr",
     "output_type": "stream",
     "text": [
      "[2023-12-04 18:05:47] DEBUG   (4142056469.py:323) get_joints     sending: 04 #\n",
      "[2023-12-04 18:05:47] DEBUG   (4142056469.py:328) get_joints     recieved: b'4 1 34.00 55.00 35.00 8.00 -90.00 90.00'\n",
      "[2023-12-04 18:05:47] DEBUG   (4142056469.py:323) get_cartesian  sending: 03 #\n",
      "[2023-12-04 18:05:47] DEBUG   (4142056469.py:328) get_cartesian  recieved: b'3 1 306.10 194.40 142.87 0.375 0.375 0.600 0.600'\n",
      "[2023-12-04 18:05:47] DEBUG   (4142056469.py:323) set_joints     sending: 02 +0036.00 +0055.00 +0035.00 +0016.00 -0090.00 +0090.00 #\n",
      "[2023-12-04 18:05:47] DEBUG   (4142056469.py:328) set_joints     recieved: b'2 1 '\n"
     ]
    },
    {
     "name": "stdout",
     "output_type": "stream",
     "text": [
      "[36, 55, 35, 16, -90, 90]\n"
     ]
    },
    {
     "name": "stderr",
     "output_type": "stream",
     "text": [
      "[2023-12-04 18:05:48] DEBUG   (4142056469.py:323) get_joints     sending: 04 #\n",
      "[2023-12-04 18:05:48] DEBUG   (4142056469.py:328) get_joints     recieved: b'4 1 36.00 55.00 35.00 16.01 -90.00 90.00'\n",
      "[2023-12-04 18:05:48] DEBUG   (4142056469.py:323) get_cartesian  sending: 03 #\n",
      "[2023-12-04 18:05:48] DEBUG   (4142056469.py:328) get_cartesian  recieved: b'3 1 303.22 195.77 142.87 0.406 0.406 0.579 0.579'\n",
      "[2023-12-04 18:05:48] DEBUG   (4142056469.py:323) set_joints     sending: 02 +0038.00 +0055.00 +0035.00 +0024.00 -0090.00 +0090.00 #\n",
      "[2023-12-04 18:05:48] DEBUG   (4142056469.py:328) set_joints     recieved: b'2 1 '\n"
     ]
    },
    {
     "name": "stdout",
     "output_type": "stream",
     "text": [
      "[38, 55, 35, 24, -90, 90]\n"
     ]
    },
    {
     "name": "stderr",
     "output_type": "stream",
     "text": [
      "[2023-12-04 18:05:48] DEBUG   (4142056469.py:323) get_joints     sending: 04 #\n",
      "[2023-12-04 18:05:48] DEBUG   (4142056469.py:328) get_joints     recieved: b'4 1 37.99 55.00 35.00 23.99 -90.00 90.00'\n",
      "[2023-12-04 18:05:48] DEBUG   (4142056469.py:323) get_cartesian  sending: 03 #\n",
      "[2023-12-04 18:05:48] DEBUG   (4142056469.py:328) get_cartesian  recieved: b'3 1 299.30 196.70 142.87 0.435 0.435 0.557 0.557'\n",
      "[2023-12-04 18:05:48] DEBUG   (4142056469.py:323) set_joints     sending: 02 +0026.00 +0055.00 +0035.00 -0016.00 -0090.00 +0090.00 #\n",
      "[2023-12-04 18:05:48] DEBUG   (4142056469.py:328) set_joints     recieved: b'2 1 '\n"
     ]
    },
    {
     "name": "stdout",
     "output_type": "stream",
     "text": [
      "[26, 55, 35, -16, -90, 90]\n"
     ]
    },
    {
     "name": "stderr",
     "output_type": "stream",
     "text": [
      "[2023-12-04 18:05:49] DEBUG   (4142056469.py:323) get_joints     sending: 04 #\n",
      "[2023-12-04 18:05:49] DEBUG   (4142056469.py:328) get_joints     recieved: b'4 1 33.12 55.00 35.00 7.73 -90.00 90.00'\n",
      "[2023-12-04 18:05:49] DEBUG   (4142056469.py:323) get_cartesian  sending: 03 #\n",
      "[2023-12-04 18:05:49] DEBUG   (4142056469.py:328) get_cartesian  recieved: b'3 1 314.59 179.28 142.87 0.307 0.307 0.637 0.637'\n",
      "[2023-12-04 18:05:49] DEBUG   (4142056469.py:323) set_joints     sending: 02 +0028.00 +0055.00 +0035.00 -0008.00 -0090.00 +0090.00 #\n",
      "[2023-12-04 18:05:49] DEBUG   (4142056469.py:328) set_joints     recieved: b'2 1 '\n"
     ]
    },
    {
     "name": "stdout",
     "output_type": "stream",
     "text": [
      "[28, 55, 35, -8, -90, 90]\n"
     ]
    },
    {
     "name": "stderr",
     "output_type": "stream",
     "text": [
      "[2023-12-04 18:05:49] DEBUG   (4142056469.py:323) get_joints     sending: 04 #\n",
      "[2023-12-04 18:05:49] DEBUG   (4142056469.py:328) get_joints     recieved: b'4 1 27.99 55.00 35.00 -8.01 -90.00 90.00'\n",
      "[2023-12-04 18:05:49] DEBUG   (4142056469.py:323) get_cartesian  sending: 03 #\n",
      "[2023-12-04 18:05:49] DEBUG   (4142056469.py:328) get_cartesian  recieved: b'3 1 315.32 179.04 142.86 0.321 0.321 0.630 0.630'\n",
      "[2023-12-04 18:05:49] DEBUG   (4142056469.py:323) set_joints     sending: 02 +0030.00 +0055.00 +0035.00 +0000.00 -0090.00 +0090.00 #\n",
      "[2023-12-04 18:05:49] DEBUG   (4142056469.py:328) set_joints     recieved: b'2 1 '\n"
     ]
    },
    {
     "name": "stdout",
     "output_type": "stream",
     "text": [
      "[30, 55, 35, 0, -90, 90]\n"
     ]
    },
    {
     "name": "stderr",
     "output_type": "stream",
     "text": [
      "[2023-12-04 18:05:50] DEBUG   (4142056469.py:323) get_joints     sending: 04 #\n",
      "[2023-12-04 18:05:50] DEBUG   (4142056469.py:328) get_joints     recieved: b'4 1 30.00 55.00 35.00 0.01 -90.00 90.00'\n",
      "[2023-12-04 18:05:50] DEBUG   (4142056469.py:323) get_cartesian  sending: 03 #\n",
      "[2023-12-04 18:05:50] DEBUG   (4142056469.py:328) get_cartesian  recieved: b'3 1 314.52 181.58 142.86 0.354 0.354 0.612 0.612'\n",
      "[2023-12-04 18:05:50] DEBUG   (4142056469.py:323) set_joints     sending: 02 +0032.00 +0055.00 +0035.00 +0008.00 -0090.00 +0090.00 #\n",
      "[2023-12-04 18:05:50] DEBUG   (4142056469.py:328) set_joints     recieved: b'2 1 '\n"
     ]
    },
    {
     "name": "stdout",
     "output_type": "stream",
     "text": [
      "[32, 55, 35, 8, -90, 90]\n"
     ]
    },
    {
     "name": "stderr",
     "output_type": "stream",
     "text": [
      "[2023-12-04 18:05:50] DEBUG   (4142056469.py:323) get_joints     sending: 04 #\n",
      "[2023-12-04 18:05:50] DEBUG   (4142056469.py:328) get_joints     recieved: b'4 1 31.99 55.00 35.00 7.99 -90.00 90.00'\n",
      "[2023-12-04 18:05:50] DEBUG   (4142056469.py:323) get_cartesian  sending: 03 #\n",
      "[2023-12-04 18:05:50] DEBUG   (4142056469.py:328) get_cartesian  recieved: b'3 1 312.70 183.59 142.87 0.385 0.385 0.593 0.593'\n",
      "[2023-12-04 18:05:50] DEBUG   (4142056469.py:323) set_joints     sending: 02 +0034.00 +0055.00 +0035.00 +0016.00 -0090.00 +0090.00 #\n",
      "[2023-12-04 18:05:51] DEBUG   (4142056469.py:328) set_joints     recieved: b'2 1 '\n"
     ]
    },
    {
     "name": "stdout",
     "output_type": "stream",
     "text": [
      "[34, 55, 35, 16, -90, 90]\n"
     ]
    },
    {
     "name": "stderr",
     "output_type": "stream",
     "text": [
      "[2023-12-04 18:05:51] DEBUG   (4142056469.py:323) get_joints     sending: 04 #\n",
      "[2023-12-04 18:05:51] DEBUG   (4142056469.py:328) get_joints     recieved: b'4 1 34.00 55.00 35.00 16.01 -90.00 90.00'\n",
      "[2023-12-04 18:05:51] DEBUG   (4142056469.py:323) get_cartesian  sending: 03 #\n",
      "[2023-12-04 18:05:51] DEBUG   (4142056469.py:328) get_cartesian  recieved: b'3 1 309.86 185.07 142.87 0.416 0.416 0.572 0.572'\n",
      "[2023-12-04 18:05:51] DEBUG   (4142056469.py:323) set_joints     sending: 02 +0036.00 +0055.00 +0035.00 +0024.00 -0090.00 +0090.00 #\n",
      "[2023-12-04 18:05:51] DEBUG   (4142056469.py:328) set_joints     recieved: b'2 1 '\n"
     ]
    },
    {
     "name": "stdout",
     "output_type": "stream",
     "text": [
      "[36, 55, 35, 24, -90, 90]\n"
     ]
    },
    {
     "name": "stderr",
     "output_type": "stream",
     "text": [
      "[2023-12-04 18:05:51] DEBUG   (4142056469.py:323) get_joints     sending: 04 #\n",
      "[2023-12-04 18:05:51] DEBUG   (4142056469.py:328) get_joints     recieved: b'4 1 36.00 55.00 35.00 24.00 -90.00 90.00'\n",
      "[2023-12-04 18:05:51] DEBUG   (4142056469.py:323) get_cartesian  sending: 03 #\n",
      "[2023-12-04 18:05:51] DEBUG   (4142056469.py:328) get_cartesian  recieved: b'3 1 305.98 186.13 142.87 0.445 0.445 0.550 0.550'\n",
      "[2023-12-04 18:05:51] DEBUG   (4142056469.py:323) set_joints     sending: 02 +0024.00 +0055.00 +0035.00 -0016.00 -0090.00 +0090.00 #\n",
      "[2023-12-04 18:05:52] DEBUG   (4142056469.py:328) set_joints     recieved: b'2 1 '\n"
     ]
    },
    {
     "name": "stdout",
     "output_type": "stream",
     "text": [
      "[24, 55, 35, -16, -90, 90]\n"
     ]
    },
    {
     "name": "stderr",
     "output_type": "stream",
     "text": [
      "[2023-12-04 18:05:52] DEBUG   (4142056469.py:323) get_joints     sending: 04 #\n",
      "[2023-12-04 18:05:52] DEBUG   (4142056469.py:328) get_joints     recieved: b'4 1 30.90 55.00 35.00 7.03 -90.00 90.00'\n",
      "[2023-12-04 18:05:52] DEBUG   (4142056469.py:323) get_cartesian  sending: 03 #\n",
      "[2023-12-04 18:05:52] DEBUG   (4142056469.py:328) get_cartesian  recieved: b'3 1 320.49 169.01 142.87 0.323 0.323 0.629 0.629'\n",
      "[2023-12-04 18:05:52] DEBUG   (4142056469.py:323) set_joints     sending: 02 +0026.00 +0055.00 +0035.00 -0008.00 -0090.00 +0090.00 #\n",
      "[2023-12-04 18:05:52] DEBUG   (4142056469.py:328) set_joints     recieved: b'2 1 '\n"
     ]
    },
    {
     "name": "stdout",
     "output_type": "stream",
     "text": [
      "[26, 55, 35, -8, -90, 90]\n"
     ]
    },
    {
     "name": "stderr",
     "output_type": "stream",
     "text": [
      "[2023-12-04 18:05:52] DEBUG   (4142056469.py:323) get_joints     sending: 04 #\n",
      "[2023-12-04 18:05:52] DEBUG   (4142056469.py:328) get_joints     recieved: b'4 1 26.00 55.00 35.00 -8.01 -90.00 90.00'\n",
      "[2023-12-04 18:05:52] DEBUG   (4142056469.py:323) get_cartesian  sending: 03 #\n",
      "[2023-12-04 18:05:52] DEBUG   (4142056469.py:328) get_cartesian  recieved: b'3 1 321.38 167.92 142.87 0.332 0.332 0.624 0.624'\n",
      "[2023-12-04 18:05:53] DEBUG   (4142056469.py:323) set_joints     sending: 02 +0028.00 +0055.00 +0035.00 +0000.00 -0090.00 +0090.00 #\n",
      "[2023-12-04 18:05:53] DEBUG   (4142056469.py:328) set_joints     recieved: b'2 1 '\n"
     ]
    },
    {
     "name": "stdout",
     "output_type": "stream",
     "text": [
      "[28, 55, 35, 0, -90, 90]\n"
     ]
    },
    {
     "name": "stderr",
     "output_type": "stream",
     "text": [
      "[2023-12-04 18:05:53] DEBUG   (4142056469.py:323) get_joints     sending: 04 #\n",
      "[2023-12-04 18:05:53] DEBUG   (4142056469.py:328) get_joints     recieved: b'4 1 28.00 55.00 35.00 0.01 -90.00 90.00'\n",
      "[2023-12-04 18:05:53] DEBUG   (4142056469.py:323) get_cartesian  sending: 03 #\n",
      "[2023-12-04 18:05:53] DEBUG   (4142056469.py:328) get_cartesian  recieved: b'3 1 320.66 170.49 142.87 0.364 0.364 0.606 0.606'\n",
      "[2023-12-04 18:05:53] DEBUG   (4142056469.py:323) set_joints     sending: 02 +0030.00 +0055.00 +0035.00 +0008.00 -0090.00 +0090.00 #\n",
      "[2023-12-04 18:05:53] DEBUG   (4142056469.py:328) set_joints     recieved: b'2 1 '\n"
     ]
    },
    {
     "name": "stdout",
     "output_type": "stream",
     "text": [
      "[30, 55, 35, 8, -90, 90]\n"
     ]
    },
    {
     "name": "stderr",
     "output_type": "stream",
     "text": [
      "[2023-12-04 18:05:53] DEBUG   (4142056469.py:323) get_joints     sending: 04 #\n",
      "[2023-12-04 18:05:53] DEBUG   (4142056469.py:328) get_joints     recieved: b'4 1 29.99 55.00 35.00 7.99 -90.00 90.00'\n",
      "[2023-12-04 18:05:53] DEBUG   (4142056469.py:323) get_cartesian  sending: 03 #\n",
      "[2023-12-04 18:05:54] DEBUG   (4142056469.py:328) get_cartesian  recieved: b'3 1 318.91 172.57 142.87 0.395 0.395 0.586 0.586'\n",
      "[2023-12-04 18:05:54] DEBUG   (4142056469.py:323) set_joints     sending: 02 +0032.00 +0055.00 +0035.00 +0016.00 -0090.00 +0090.00 #\n",
      "[2023-12-04 18:05:54] DEBUG   (4142056469.py:328) set_joints     recieved: b'2 1 '\n"
     ]
    },
    {
     "name": "stdout",
     "output_type": "stream",
     "text": [
      "[32, 55, 35, 16, -90, 90]\n"
     ]
    },
    {
     "name": "stderr",
     "output_type": "stream",
     "text": [
      "[2023-12-04 18:05:54] DEBUG   (4142056469.py:323) get_joints     sending: 04 #\n",
      "[2023-12-04 18:05:54] DEBUG   (4142056469.py:328) get_joints     recieved: b'4 1 32.00 55.00 35.00 16.01 -90.00 90.00'\n",
      "[2023-12-04 18:05:54] DEBUG   (4142056469.py:323) get_cartesian  sending: 03 #\n",
      "[2023-12-04 18:05:54] DEBUG   (4142056469.py:328) get_cartesian  recieved: b'3 1 316.14 174.14 142.87 0.426 0.426 0.565 0.565'\n",
      "[2023-12-04 18:05:54] DEBUG   (4142056469.py:323) set_joints     sending: 02 +0034.00 +0055.00 +0035.00 +0024.00 -0090.00 +0090.00 #\n",
      "[2023-12-04 18:05:54] DEBUG   (4142056469.py:328) set_joints     recieved: b'2 1 '\n"
     ]
    },
    {
     "name": "stdout",
     "output_type": "stream",
     "text": [
      "[34, 55, 35, 24, -90, 90]\n"
     ]
    },
    {
     "name": "stderr",
     "output_type": "stream",
     "text": [
      "[2023-12-04 18:05:54] DEBUG   (4142056469.py:323) get_joints     sending: 04 #\n",
      "[2023-12-04 18:05:54] DEBUG   (4142056469.py:328) get_joints     recieved: b'4 1 34.00 55.00 35.00 24.00 -90.00 90.00'\n",
      "[2023-12-04 18:05:55] DEBUG   (4142056469.py:323) get_cartesian  sending: 03 #\n",
      "[2023-12-04 18:05:55] DEBUG   (4142056469.py:328) get_cartesian  recieved: b'3 1 312.29 175.33 142.87 0.455 0.455 0.542 0.542'\n",
      "[2023-12-04 18:05:55] DEBUG   (4142056469.py:323) set_joints     sending: 02 +0022.00 +0055.00 +0035.00 -0016.00 -0090.00 +0090.00 #\n",
      "[2023-12-04 18:05:55] DEBUG   (4142056469.py:328) set_joints     recieved: b'2 1 '\n"
     ]
    },
    {
     "name": "stdout",
     "output_type": "stream",
     "text": [
      "[22, 55, 35, -16, -90, 90]\n"
     ]
    },
    {
     "name": "stderr",
     "output_type": "stream",
     "text": [
      "[2023-12-04 18:05:55] DEBUG   (4142056469.py:323) get_joints     sending: 04 #\n",
      "[2023-12-04 18:05:55] DEBUG   (4142056469.py:328) get_joints     recieved: b'4 1 28.69 55.00 35.00 6.33 -90.00 90.00'\n",
      "[2023-12-04 18:05:55] DEBUG   (4142056469.py:323) get_cartesian  sending: 03 #\n",
      "[2023-12-04 18:05:55] DEBUG   (4142056469.py:328) get_cartesian  recieved: b'3 1 326.41 156.16 142.87 0.324 0.324 0.628 0.628'\n",
      "[2023-12-04 18:05:55] DEBUG   (4142056469.py:323) set_joints     sending: 02 +0024.00 +0055.00 +0035.00 -0008.00 -0090.00 +0090.00 #\n",
      "[2023-12-04 18:05:55] DEBUG   (4142056469.py:328) set_joints     recieved: b'2 1 '\n"
     ]
    },
    {
     "name": "stdout",
     "output_type": "stream",
     "text": [
      "[24, 55, 35, -8, -90, 90]\n"
     ]
    },
    {
     "name": "stderr",
     "output_type": "stream",
     "text": [
      "[2023-12-04 18:05:55] DEBUG   (4142056469.py:323) get_joints     sending: 04 #\n",
      "[2023-12-04 18:05:56] DEBUG   (4142056469.py:328) get_joints     recieved: b'4 1 24.00 55.00 35.00 -8.01 -90.00 90.00'\n",
      "[2023-12-04 18:05:56] DEBUG   (4142056469.py:323) get_cartesian  sending: 03 #\n",
      "[2023-12-04 18:05:56] DEBUG   (4142056469.py:328) get_cartesian  recieved: b'3 1 327.05 156.60 142.87 0.343 0.343 0.618 0.618'\n",
      "[2023-12-04 18:05:56] DEBUG   (4142056469.py:323) set_joints     sending: 02 +0026.00 +0055.00 +0035.00 +0000.00 -0090.00 +0090.00 #\n",
      "[2023-12-04 18:05:56] DEBUG   (4142056469.py:328) set_joints     recieved: b'2 1 '\n"
     ]
    },
    {
     "name": "stdout",
     "output_type": "stream",
     "text": [
      "[26, 55, 35, 0, -90, 90]\n"
     ]
    },
    {
     "name": "stderr",
     "output_type": "stream",
     "text": [
      "[2023-12-04 18:05:56] DEBUG   (4142056469.py:323) get_joints     sending: 04 #\n",
      "[2023-12-04 18:05:56] DEBUG   (4142056469.py:328) get_joints     recieved: b'4 1 26.00 55.00 35.00 0.01 -90.00 90.00'\n",
      "[2023-12-04 18:05:56] DEBUG   (4142056469.py:323) get_cartesian  sending: 03 #\n",
      "[2023-12-04 18:05:56] DEBUG   (4142056469.py:328) get_cartesian  recieved: b'3 1 326.42 159.20 142.87 0.375 0.375 0.600 0.600'\n",
      "[2023-12-04 18:05:56] DEBUG   (4142056469.py:323) set_joints     sending: 02 +0028.00 +0055.00 +0035.00 +0008.00 -0090.00 +0090.00 #\n",
      "[2023-12-04 18:05:56] DEBUG   (4142056469.py:328) set_joints     recieved: b'2 1 '\n"
     ]
    },
    {
     "name": "stdout",
     "output_type": "stream",
     "text": [
      "[28, 55, 35, 8, -90, 90]\n"
     ]
    },
    {
     "name": "stderr",
     "output_type": "stream",
     "text": [
      "[2023-12-04 18:05:57] DEBUG   (4142056469.py:323) get_joints     sending: 04 #\n",
      "[2023-12-04 18:05:57] DEBUG   (4142056469.py:328) get_joints     recieved: b'4 1 28.00 55.00 35.00 7.99 -90.00 90.00'\n",
      "[2023-12-04 18:05:57] DEBUG   (4142056469.py:323) get_cartesian  sending: 03 #\n",
      "[2023-12-04 18:05:57] DEBUG   (4142056469.py:328) get_cartesian  recieved: b'3 1 324.74 161.34 142.87 0.406 0.406 0.579 0.579'\n",
      "[2023-12-04 18:05:57] DEBUG   (4142056469.py:323) set_joints     sending: 02 +0030.00 +0055.00 +0035.00 +0016.00 -0090.00 +0090.00 #\n",
      "[2023-12-04 18:05:57] DEBUG   (4142056469.py:328) set_joints     recieved: b'2 1 '\n"
     ]
    },
    {
     "name": "stdout",
     "output_type": "stream",
     "text": [
      "[30, 55, 35, 16, -90, 90]\n"
     ]
    },
    {
     "name": "stderr",
     "output_type": "stream",
     "text": [
      "[2023-12-04 18:05:57] DEBUG   (4142056469.py:323) get_joints     sending: 04 #\n",
      "[2023-12-04 18:05:57] DEBUG   (4142056469.py:328) get_joints     recieved: b'4 1 30.00 55.00 35.00 16.01 -90.00 90.00'\n",
      "[2023-12-04 18:05:57] DEBUG   (4142056469.py:323) get_cartesian  sending: 03 #\n",
      "[2023-12-04 18:05:57] DEBUG   (4142056469.py:328) get_cartesian  recieved: b'3 1 322.02 163.00 142.87 0.435 0.435 0.557 0.557'\n",
      "[2023-12-04 18:05:57] DEBUG   (4142056469.py:323) set_joints     sending: 02 +0032.00 +0055.00 +0035.00 +0024.00 -0090.00 +0090.00 #\n",
      "[2023-12-04 18:05:57] DEBUG   (4142056469.py:328) set_joints     recieved: b'2 1 '\n"
     ]
    },
    {
     "name": "stdout",
     "output_type": "stream",
     "text": [
      "[32, 55, 35, 24, -90, 90]\n"
     ]
    },
    {
     "name": "stderr",
     "output_type": "stream",
     "text": [
      "[2023-12-04 18:05:58] DEBUG   (4142056469.py:323) get_joints     sending: 04 #\n",
      "[2023-12-04 18:05:58] DEBUG   (4142056469.py:328) get_joints     recieved: b'4 1 32.00 55.00 35.00 24.00 -90.00 90.00'\n",
      "[2023-12-04 18:05:58] DEBUG   (4142056469.py:323) get_cartesian  sending: 03 #\n",
      "[2023-12-04 18:05:58] DEBUG   (4142056469.py:328) get_cartesian  recieved: b'3 1 318.22 164.33 142.87 0.464 0.464 0.534 0.534'\n",
      "[2023-12-04 18:05:58] DEBUG   (4142056469.py:323) set_joints     sending: 02 +0020.00 +0055.00 +0035.00 -0016.00 -0090.00 +0090.00 #\n",
      "[2023-12-04 18:05:58] DEBUG   (4142056469.py:328) set_joints     recieved: b'2 1 '\n"
     ]
    },
    {
     "name": "stdout",
     "output_type": "stream",
     "text": [
      "[20, 55, 35, -16, -90, 90]\n"
     ]
    },
    {
     "name": "stderr",
     "output_type": "stream",
     "text": [
      "[2023-12-04 18:05:58] DEBUG   (4142056469.py:323) get_joints     sending: 04 #\n",
      "[2023-12-04 18:05:58] DEBUG   (4142056469.py:328) get_joints     recieved: b'4 1 26.05 55.00 35.00 4.20 -90.00 90.00'\n",
      "[2023-12-04 18:05:58] DEBUG   (4142056469.py:323) get_cartesian  sending: 03 #\n",
      "[2023-12-04 18:05:58] DEBUG   (4142056469.py:328) get_cartesian  recieved: b'3 1 331.70 144.02 142.87 0.331 0.331 0.625 0.625'\n",
      "[2023-12-04 18:05:58] DEBUG   (4142056469.py:323) set_joints     sending: 02 +0022.00 +0055.00 +0035.00 -0008.00 -0090.00 +0090.00 #\n",
      "[2023-12-04 18:05:58] DEBUG   (4142056469.py:328) set_joints     recieved: b'2 1 '\n"
     ]
    },
    {
     "name": "stdout",
     "output_type": "stream",
     "text": [
      "[22, 55, 35, -8, -90, 90]\n"
     ]
    },
    {
     "name": "stderr",
     "output_type": "stream",
     "text": [
      "[2023-12-04 18:05:59] DEBUG   (4142056469.py:323) get_joints     sending: 04 #\n",
      "[2023-12-04 18:05:59] DEBUG   (4142056469.py:328) get_joints     recieved: b'4 1 22.00 55.00 35.00 -8.01 -90.00 90.00'\n",
      "[2023-12-04 18:05:59] DEBUG   (4142056469.py:323) get_cartesian  sending: 03 #\n",
      "[2023-12-04 18:05:59] DEBUG   (4142056469.py:328) get_cartesian  recieved: b'3 1 332.31 145.10 142.87 0.354 0.354 0.612 0.612'\n",
      "[2023-12-04 18:05:59] DEBUG   (4142056469.py:323) set_joints     sending: 02 +0024.00 +0055.00 +0035.00 +0000.00 -0090.00 +0090.00 #\n",
      "[2023-12-04 18:05:59] DEBUG   (4142056469.py:328) set_joints     recieved: b'2 1 '\n"
     ]
    },
    {
     "name": "stdout",
     "output_type": "stream",
     "text": [
      "[24, 55, 35, 0, -90, 90]\n"
     ]
    },
    {
     "name": "stderr",
     "output_type": "stream",
     "text": [
      "[2023-12-04 18:05:59] DEBUG   (4142056469.py:323) get_joints     sending: 04 #\n",
      "[2023-12-04 18:05:59] DEBUG   (4142056469.py:328) get_joints     recieved: b'4 1 24.00 55.00 35.00 0.01 -90.00 90.00'\n",
      "[2023-12-04 18:05:59] DEBUG   (4142056469.py:323) get_cartesian  sending: 03 #\n",
      "[2023-12-04 18:05:59] DEBUG   (4142056469.py:328) get_cartesian  recieved: b'3 1 331.77 147.71 142.87 0.385 0.385 0.593 0.593'\n",
      "[2023-12-04 18:05:59] DEBUG   (4142056469.py:323) set_joints     sending: 02 +0026.00 +0055.00 +0035.00 +0008.00 -0090.00 +0090.00 #\n",
      "[2023-12-04 18:06:00] DEBUG   (4142056469.py:328) set_joints     recieved: b'2 1 '\n"
     ]
    },
    {
     "name": "stdout",
     "output_type": "stream",
     "text": [
      "[26, 55, 35, 8, -90, 90]\n"
     ]
    },
    {
     "name": "stderr",
     "output_type": "stream",
     "text": [
      "[2023-12-04 18:06:00] DEBUG   (4142056469.py:323) get_joints     sending: 04 #\n",
      "[2023-12-04 18:06:00] DEBUG   (4142056469.py:328) get_joints     recieved: b'4 1 26.00 55.00 35.00 8.00 -90.00 90.00'\n",
      "[2023-12-04 18:06:00] DEBUG   (4142056469.py:323) get_cartesian  sending: 03 #\n",
      "[2023-12-04 18:06:00] DEBUG   (4142056469.py:328) get_cartesian  recieved: b'3 1 330.17 149.90 142.87 0.416 0.416 0.572 0.572'\n",
      "[2023-12-04 18:06:00] DEBUG   (4142056469.py:323) set_joints     sending: 02 +0028.00 +0055.00 +0035.00 +0016.00 -0090.00 +0090.00 #\n",
      "[2023-12-04 18:06:00] DEBUG   (4142056469.py:328) set_joints     recieved: b'2 1 '\n"
     ]
    },
    {
     "name": "stdout",
     "output_type": "stream",
     "text": [
      "[28, 55, 35, 16, -90, 90]\n"
     ]
    },
    {
     "name": "stderr",
     "output_type": "stream",
     "text": [
      "[2023-12-04 18:06:00] DEBUG   (4142056469.py:323) get_joints     sending: 04 #\n",
      "[2023-12-04 18:06:00] DEBUG   (4142056469.py:328) get_joints     recieved: b'4 1 28.00 55.00 35.00 16.01 -90.00 90.00'\n",
      "[2023-12-04 18:06:00] DEBUG   (4142056469.py:323) get_cartesian  sending: 03 #\n",
      "[2023-12-04 18:06:00] DEBUG   (4142056469.py:328) get_cartesian  recieved: b'3 1 327.51 151.66 142.87 0.445 0.445 0.549 0.549'\n",
      "[2023-12-04 18:06:01] DEBUG   (4142056469.py:323) set_joints     sending: 02 +0030.00 +0055.00 +0035.00 +0024.00 -0090.00 +0090.00 #\n",
      "[2023-12-04 18:06:01] DEBUG   (4142056469.py:328) set_joints     recieved: b'2 1 '\n"
     ]
    },
    {
     "name": "stdout",
     "output_type": "stream",
     "text": [
      "[30, 55, 35, 24, -90, 90]\n"
     ]
    },
    {
     "name": "stderr",
     "output_type": "stream",
     "text": [
      "[2023-12-04 18:06:01] DEBUG   (4142056469.py:323) get_joints     sending: 04 #\n",
      "[2023-12-04 18:06:01] DEBUG   (4142056469.py:328) get_joints     recieved: b'4 1 30.00 55.00 35.00 23.99 -90.00 90.00'\n",
      "[2023-12-04 18:06:01] DEBUG   (4142056469.py:323) get_cartesian  sending: 03 #\n",
      "[2023-12-04 18:06:01] DEBUG   (4142056469.py:328) get_cartesian  recieved: b'3 1 323.76 153.13 142.87 0.473 0.473 0.525 0.525'\n",
      "[2023-12-04 18:06:01] DEBUG   (4142056469.py:323) set_joints     sending: 02 +0018.00 +0055.00 +0035.00 -0016.00 -0090.00 +0090.00 #\n",
      "[2023-12-04 18:06:01] DEBUG   (4142056469.py:328) set_joints     recieved: b'2 1 '\n"
     ]
    },
    {
     "name": "stdout",
     "output_type": "stream",
     "text": [
      "[18, 55, 35, -16, -90, 90]\n"
     ]
    },
    {
     "name": "stderr",
     "output_type": "stream",
     "text": [
      "[2023-12-04 18:06:01] DEBUG   (4142056469.py:323) get_joints     sending: 04 #\n",
      "[2023-12-04 18:06:01] DEBUG   (4142056469.py:328) get_joints     recieved: b'4 1 25.12 55.00 35.00 7.73 -90.00 90.00'\n",
      "[2023-12-04 18:06:01] DEBUG   (4142056469.py:323) get_cartesian  sending: 03 #\n",
      "[2023-12-04 18:06:02] DEBUG   (4142056469.py:328) get_cartesian  recieved: b'3 1 336.50 133.37 142.87 0.348 0.348 0.616 0.616'\n",
      "[2023-12-04 18:06:02] DEBUG   (4142056469.py:323) set_joints     sending: 02 +0020.00 +0055.00 +0035.00 -0008.00 -0090.00 +0090.00 #\n",
      "[2023-12-04 18:06:02] DEBUG   (4142056469.py:328) set_joints     recieved: b'2 1 '\n"
     ]
    },
    {
     "name": "stdout",
     "output_type": "stream",
     "text": [
      "[20, 55, 35, -8, -90, 90]\n"
     ]
    },
    {
     "name": "stderr",
     "output_type": "stream",
     "text": [
      "[2023-12-04 18:06:02] DEBUG   (4142056469.py:323) get_joints     sending: 04 #\n",
      "[2023-12-04 18:06:02] DEBUG   (4142056469.py:328) get_joints     recieved: b'4 1 20.00 55.00 35.00 -8.01 -90.00 90.00'\n",
      "[2023-12-04 18:06:02] DEBUG   (4142056469.py:323) get_cartesian  sending: 03 #\n",
      "[2023-12-04 18:06:02] DEBUG   (4142056469.py:328) get_cartesian  recieved: b'3 1 337.17 133.41 142.87 0.364 0.364 0.606 0.606'\n",
      "[2023-12-04 18:06:02] DEBUG   (4142056469.py:323) set_joints     sending: 02 +0022.00 +0055.00 +0035.00 +0000.00 -0090.00 +0090.00 #\n",
      "[2023-12-04 18:06:02] DEBUG   (4142056469.py:328) set_joints     recieved: b'2 1 '\n"
     ]
    },
    {
     "name": "stdout",
     "output_type": "stream",
     "text": [
      "[22, 55, 35, 0, -90, 90]\n"
     ]
    },
    {
     "name": "stderr",
     "output_type": "stream",
     "text": [
      "[2023-12-04 18:06:02] DEBUG   (4142056469.py:323) get_joints     sending: 04 #\n",
      "[2023-12-04 18:06:02] DEBUG   (4142056469.py:328) get_joints     recieved: b'4 1 21.99 55.00 35.00 -0.01 -90.00 90.00'\n",
      "[2023-12-04 18:06:03] DEBUG   (4142056469.py:323) get_cartesian  sending: 03 #\n",
      "[2023-12-04 18:06:03] DEBUG   (4142056469.py:328) get_cartesian  recieved: b'3 1 336.73 136.04 142.87 0.395 0.395 0.586 0.586'\n",
      "[2023-12-04 18:06:03] DEBUG   (4142056469.py:323) set_joints     sending: 02 +0024.00 +0055.00 +0035.00 +0008.00 -0090.00 +0090.00 #\n",
      "[2023-12-04 18:06:03] DEBUG   (4142056469.py:328) set_joints     recieved: b'2 1 '\n"
     ]
    },
    {
     "name": "stdout",
     "output_type": "stream",
     "text": [
      "[24, 55, 35, 8, -90, 90]\n"
     ]
    },
    {
     "name": "stderr",
     "output_type": "stream",
     "text": [
      "[2023-12-04 18:06:03] DEBUG   (4142056469.py:323) get_joints     sending: 04 #\n",
      "[2023-12-04 18:06:03] DEBUG   (4142056469.py:328) get_joints     recieved: b'4 1 24.00 55.00 35.00 8.00 -90.00 90.00'\n",
      "[2023-12-04 18:06:03] DEBUG   (4142056469.py:323) get_cartesian  sending: 03 #\n",
      "[2023-12-04 18:06:03] DEBUG   (4142056469.py:328) get_cartesian  recieved: b'3 1 335.20 138.29 142.86 0.426 0.426 0.565 0.565'\n",
      "[2023-12-04 18:06:03] DEBUG   (4142056469.py:323) set_joints     sending: 02 +0026.00 +0055.00 +0035.00 +0016.00 -0090.00 +0090.00 #\n",
      "[2023-12-04 18:06:03] DEBUG   (4142056469.py:328) set_joints     recieved: b'2 1 '\n"
     ]
    },
    {
     "name": "stdout",
     "output_type": "stream",
     "text": [
      "[26, 55, 35, 16, -90, 90]\n"
     ]
    },
    {
     "name": "stderr",
     "output_type": "stream",
     "text": [
      "[2023-12-04 18:06:03] DEBUG   (4142056469.py:323) get_joints     sending: 04 #\n",
      "[2023-12-04 18:06:04] DEBUG   (4142056469.py:328) get_joints     recieved: b'4 1 26.00 55.00 35.00 16.01 -90.00 90.00'\n",
      "[2023-12-04 18:06:04] DEBUG   (4142056469.py:323) get_cartesian  sending: 03 #\n",
      "[2023-12-04 18:06:04] DEBUG   (4142056469.py:328) get_cartesian  recieved: b'3 1 332.61 140.14 142.87 0.455 0.455 0.542 0.542'\n",
      "[2023-12-04 18:06:04] DEBUG   (4142056469.py:323) set_joints     sending: 02 +0028.00 +0055.00 +0035.00 +0024.00 -0090.00 +0090.00 #\n",
      "[2023-12-04 18:06:04] DEBUG   (4142056469.py:328) set_joints     recieved: b'2 1 '\n"
     ]
    },
    {
     "name": "stdout",
     "output_type": "stream",
     "text": [
      "[28, 55, 35, 24, -90, 90]\n"
     ]
    },
    {
     "name": "stderr",
     "output_type": "stream",
     "text": [
      "[2023-12-04 18:06:04] DEBUG   (4142056469.py:323) get_joints     sending: 04 #\n",
      "[2023-12-04 18:06:04] DEBUG   (4142056469.py:328) get_joints     recieved: b'4 1 28.00 55.00 35.00 24.00 -90.00 90.00'\n",
      "[2023-12-04 18:06:04] DEBUG   (4142056469.py:323) get_cartesian  sending: 03 #\n",
      "[2023-12-04 18:06:04] DEBUG   (4142056469.py:328) get_cartesian  recieved: b'3 1 328.91 141.73 142.87 0.482 0.482 0.517 0.517'\n",
      "[2023-12-04 18:06:04] DEBUG   (4142056469.py:323) set_joints     sending: 02 +0016.00 +0055.00 +0035.00 -0016.00 -0090.00 +0090.00 #\n",
      "[2023-12-04 18:06:04] DEBUG   (4142056469.py:328) set_joints     recieved: b'2 1 '\n"
     ]
    },
    {
     "name": "stdout",
     "output_type": "stream",
     "text": [
      "[16, 55, 35, -16, -90, 90]\n"
     ]
    },
    {
     "name": "stderr",
     "output_type": "stream",
     "text": [
      "[2023-12-04 18:06:05] DEBUG   (4142056469.py:323) get_joints     sending: 04 #\n",
      "[2023-12-04 18:06:05] DEBUG   (4142056469.py:328) get_joints     recieved: b'4 1 22.69 55.00 35.00 6.33 -90.00 90.00'\n",
      "[2023-12-04 18:06:05] DEBUG   (4142056469.py:323) get_cartesian  sending: 03 #\n",
      "[2023-12-04 18:06:05] DEBUG   (4142056469.py:328) get_cartesian  recieved: b'3 1 340.95 121.55 142.87 0.359 0.359 0.609 0.609'\n",
      "[2023-12-04 18:06:05] DEBUG   (4142056469.py:323) set_joints     sending: 02 +0018.00 +0055.00 +0035.00 -0008.00 -0090.00 +0090.00 #\n",
      "[2023-12-04 18:06:05] DEBUG   (4142056469.py:328) set_joints     recieved: b'2 1 '\n"
     ]
    },
    {
     "name": "stdout",
     "output_type": "stream",
     "text": [
      "[18, 55, 35, -8, -90, 90]\n"
     ]
    },
    {
     "name": "stderr",
     "output_type": "stream",
     "text": [
      "[2023-12-04 18:06:05] DEBUG   (4142056469.py:323) get_joints     sending: 04 #\n",
      "[2023-12-04 18:06:05] DEBUG   (4142056469.py:328) get_joints     recieved: b'4 1 18.00 55.00 35.00 -8.01 -90.00 90.00'\n",
      "[2023-12-04 18:06:05] DEBUG   (4142056469.py:323) get_cartesian  sending: 03 #\n",
      "[2023-12-04 18:06:05] DEBUG   (4142056469.py:328) get_cartesian  recieved: b'3 1 341.62 121.56 142.87 0.375 0.375 0.600 0.600'\n",
      "[2023-12-04 18:06:05] DEBUG   (4142056469.py:323) set_joints     sending: 02 +0020.00 +0055.00 +0035.00 +0000.00 -0090.00 +0090.00 #\n",
      "[2023-12-04 18:06:05] DEBUG   (4142056469.py:328) set_joints     recieved: b'2 1 '\n"
     ]
    },
    {
     "name": "stdout",
     "output_type": "stream",
     "text": [
      "[20, 55, 35, 0, -90, 90]\n"
     ]
    },
    {
     "name": "stderr",
     "output_type": "stream",
     "text": [
      "[2023-12-04 18:06:06] DEBUG   (4142056469.py:323) get_joints     sending: 04 #\n",
      "[2023-12-04 18:06:06] DEBUG   (4142056469.py:328) get_joints     recieved: b'4 1 19.99 55.00 35.00 -0.01 -90.00 90.00'\n",
      "[2023-12-04 18:06:06] DEBUG   (4142056469.py:323) get_cartesian  sending: 03 #\n",
      "[2023-12-04 18:06:06] DEBUG   (4142056469.py:328) get_cartesian  recieved: b'3 1 341.27 124.21 142.87 0.406 0.406 0.579 0.579'\n",
      "[2023-12-04 18:06:06] DEBUG   (4142056469.py:323) set_joints     sending: 02 +0022.00 +0055.00 +0035.00 +0008.00 -0090.00 +0090.00 #\n",
      "[2023-12-04 18:06:06] DEBUG   (4142056469.py:328) set_joints     recieved: b'2 1 '\n"
     ]
    },
    {
     "name": "stdout",
     "output_type": "stream",
     "text": [
      "[22, 55, 35, 8, -90, 90]\n"
     ]
    },
    {
     "name": "stderr",
     "output_type": "stream",
     "text": [
      "[2023-12-04 18:06:06] DEBUG   (4142056469.py:323) get_joints     sending: 04 #\n",
      "[2023-12-04 18:06:06] DEBUG   (4142056469.py:328) get_joints     recieved: b'4 1 21.99 55.00 35.00 7.99 -90.00 90.00'\n",
      "[2023-12-04 18:06:06] DEBUG   (4142056469.py:323) get_cartesian  sending: 03 #\n",
      "[2023-12-04 18:06:06] DEBUG   (4142056469.py:328) get_cartesian  recieved: b'3 1 339.82 126.51 142.87 0.435 0.435 0.557 0.557'\n",
      "[2023-12-04 18:06:06] DEBUG   (4142056469.py:323) set_joints     sending: 02 +0024.00 +0055.00 +0035.00 +0016.00 -0090.00 +0090.00 #\n",
      "[2023-12-04 18:06:06] DEBUG   (4142056469.py:328) set_joints     recieved: b'2 1 '\n"
     ]
    },
    {
     "name": "stdout",
     "output_type": "stream",
     "text": [
      "[24, 55, 35, 16, -90, 90]\n"
     ]
    },
    {
     "name": "stderr",
     "output_type": "stream",
     "text": [
      "[2023-12-04 18:06:07] DEBUG   (4142056469.py:323) get_joints     sending: 04 #\n",
      "[2023-12-04 18:06:07] DEBUG   (4142056469.py:328) get_joints     recieved: b'4 1 23.99 55.00 35.00 16.00 -90.00 90.00'\n",
      "[2023-12-04 18:06:07] DEBUG   (4142056469.py:323) get_cartesian  sending: 03 #\n",
      "[2023-12-04 18:06:07] DEBUG   (4142056469.py:328) get_cartesian  recieved: b'3 1 337.29 128.45 142.87 0.464 0.464 0.534 0.534'\n",
      "[2023-12-04 18:06:07] DEBUG   (4142056469.py:323) set_joints     sending: 02 +0026.00 +0055.00 +0035.00 +0024.00 -0090.00 +0090.00 #\n",
      "[2023-12-04 18:06:07] DEBUG   (4142056469.py:328) set_joints     recieved: b'2 1 '\n"
     ]
    },
    {
     "name": "stdout",
     "output_type": "stream",
     "text": [
      "[26, 55, 35, 24, -90, 90]\n"
     ]
    },
    {
     "name": "stderr",
     "output_type": "stream",
     "text": [
      "[2023-12-04 18:06:07] DEBUG   (4142056469.py:323) get_joints     sending: 04 #\n",
      "[2023-12-04 18:06:07] DEBUG   (4142056469.py:328) get_joints     recieved: b'4 1 26.00 55.00 35.00 24.00 -90.00 90.00'\n",
      "[2023-12-04 18:06:07] DEBUG   (4142056469.py:323) get_cartesian  sending: 03 #\n",
      "[2023-12-04 18:06:07] DEBUG   (4142056469.py:328) get_cartesian  recieved: b'3 1 333.65 130.17 142.87 0.491 0.491 0.509 0.509'\n",
      "[2023-12-04 18:06:07] DEBUG   (4142056469.py:323) set_joints     sending: 02 +0014.00 +0055.00 +0035.00 -0016.00 -0090.00 +0090.00 #\n",
      "[2023-12-04 18:06:07] DEBUG   (4142056469.py:328) set_joints     recieved: b'2 1 '\n"
     ]
    },
    {
     "name": "stdout",
     "output_type": "stream",
     "text": [
      "[14, 55, 35, -16, -90, 90]\n"
     ]
    },
    {
     "name": "stderr",
     "output_type": "stream",
     "text": [
      "[2023-12-04 18:06:08] DEBUG   (4142056469.py:323) get_joints     sending: 04 #\n",
      "[2023-12-04 18:06:08] DEBUG   (4142056469.py:328) get_joints     recieved: b'4 1 20.05 55.00 35.00 4.20 -90.00 90.00'\n",
      "[2023-12-04 18:06:08] DEBUG   (4142056469.py:323) get_cartesian  sending: 03 #\n",
      "[2023-12-04 18:06:08] DEBUG   (4142056469.py:328) get_cartesian  recieved: b'3 1 344.91 107.97 142.87 0.360 0.360 0.608 0.608'\n",
      "[2023-12-04 18:06:08] DEBUG   (4142056469.py:323) set_joints     sending: 02 +0016.00 +0055.00 +0035.00 -0008.00 -0090.00 +0090.00 #\n",
      "[2023-12-04 18:06:08] DEBUG   (4142056469.py:328) set_joints     recieved: b'2 1 '\n"
     ]
    },
    {
     "name": "stdout",
     "output_type": "stream",
     "text": [
      "[16, 55, 35, -8, -90, 90]\n"
     ]
    },
    {
     "name": "stderr",
     "output_type": "stream",
     "text": [
      "[2023-12-04 18:06:08] DEBUG   (4142056469.py:323) get_joints     sending: 04 #\n",
      "[2023-12-04 18:06:08] DEBUG   (4142056469.py:328) get_joints     recieved: b'4 1 16.00 55.00 35.00 -8.00 -90.00 90.00'\n",
      "[2023-12-04 18:06:08] DEBUG   (4142056469.py:323) get_cartesian  sending: 03 #\n",
      "[2023-12-04 18:06:08] DEBUG   (4142056469.py:328) get_cartesian  recieved: b'3 1 345.66 109.56 142.87 0.385 0.385 0.593 0.593'\n",
      "[2023-12-04 18:06:08] DEBUG   (4142056469.py:323) set_joints     sending: 02 +0018.00 +0055.00 +0035.00 +0000.00 -0090.00 +0090.00 #\n",
      "[2023-12-04 18:06:09] DEBUG   (4142056469.py:328) set_joints     recieved: b'2 1 '\n"
     ]
    },
    {
     "name": "stdout",
     "output_type": "stream",
     "text": [
      "[18, 55, 35, 0, -90, 90]\n"
     ]
    },
    {
     "name": "stderr",
     "output_type": "stream",
     "text": [
      "[2023-12-04 18:06:09] DEBUG   (4142056469.py:323) get_joints     sending: 04 #\n",
      "[2023-12-04 18:06:09] DEBUG   (4142056469.py:328) get_joints     recieved: b'4 1 18.00 55.00 35.00 0.01 -90.00 90.00'\n",
      "[2023-12-04 18:06:09] DEBUG   (4142056469.py:323) get_cartesian  sending: 03 #\n",
      "[2023-12-04 18:06:09] DEBUG   (4142056469.py:328) get_cartesian  recieved: b'3 1 345.40 112.22 142.87 0.416 0.416 0.572 0.572'\n",
      "[2023-12-04 18:06:09] DEBUG   (4142056469.py:323) set_joints     sending: 02 +0020.00 +0055.00 +0035.00 +0008.00 -0090.00 +0090.00 #\n",
      "[2023-12-04 18:06:09] DEBUG   (4142056469.py:328) set_joints     recieved: b'2 1 '\n"
     ]
    },
    {
     "name": "stdout",
     "output_type": "stream",
     "text": [
      "[20, 55, 35, 8, -90, 90]\n"
     ]
    },
    {
     "name": "stderr",
     "output_type": "stream",
     "text": [
      "[2023-12-04 18:06:09] DEBUG   (4142056469.py:323) get_joints     sending: 04 #\n",
      "[2023-12-04 18:06:09] DEBUG   (4142056469.py:328) get_joints     recieved: b'4 1 19.99 55.00 35.00 7.99 -90.00 90.00'\n",
      "[2023-12-04 18:06:09] DEBUG   (4142056469.py:323) get_cartesian  sending: 03 #\n",
      "[2023-12-04 18:06:10] DEBUG   (4142056469.py:328) get_cartesian  recieved: b'3 1 344.03 114.57 142.87 0.445 0.445 0.550 0.550'\n",
      "[2023-12-04 18:06:10] DEBUG   (4142056469.py:323) set_joints     sending: 02 +0022.00 +0055.00 +0035.00 +0016.00 -0090.00 +0090.00 #\n",
      "[2023-12-04 18:06:10] DEBUG   (4142056469.py:328) set_joints     recieved: b'2 1 '\n"
     ]
    },
    {
     "name": "stdout",
     "output_type": "stream",
     "text": [
      "[22, 55, 35, 16, -90, 90]\n"
     ]
    },
    {
     "name": "stderr",
     "output_type": "stream",
     "text": [
      "[2023-12-04 18:06:10] DEBUG   (4142056469.py:323) get_joints     sending: 04 #\n",
      "[2023-12-04 18:06:10] DEBUG   (4142056469.py:328) get_joints     recieved: b'4 1 22.00 55.00 35.00 16.01 -90.00 90.00'\n",
      "[2023-12-04 18:06:10] DEBUG   (4142056469.py:323) get_cartesian  sending: 03 #\n",
      "[2023-12-04 18:06:10] DEBUG   (4142056469.py:328) get_cartesian  recieved: b'3 1 341.57 116.60 142.87 0.473 0.473 0.525 0.525'\n",
      "[2023-12-04 18:06:10] DEBUG   (4142056469.py:323) set_joints     sending: 02 +0024.00 +0055.00 +0035.00 +0024.00 -0090.00 +0090.00 #\n",
      "[2023-12-04 18:06:10] DEBUG   (4142056469.py:328) set_joints     recieved: b'2 1 '\n"
     ]
    },
    {
     "name": "stdout",
     "output_type": "stream",
     "text": [
      "[24, 55, 35, 24, -90, 90]\n"
     ]
    },
    {
     "name": "stderr",
     "output_type": "stream",
     "text": [
      "[2023-12-04 18:06:10] DEBUG   (4142056469.py:323) get_joints     sending: 04 #\n",
      "[2023-12-04 18:06:10] DEBUG   (4142056469.py:328) get_joints     recieved: b'4 1 24.00 55.00 35.00 24.00 -90.00 90.00'\n",
      "[2023-12-04 18:06:10] DEBUG   (4142056469.py:323) get_cartesian  sending: 03 #\n",
      "[2023-12-04 18:06:11] DEBUG   (4142056469.py:328) get_cartesian  recieved: b'3 1 337.99 118.44 142.87 0.500 0.500 0.500 0.500'\n",
      "[2023-12-04 18:06:11] DEBUG   (4142056469.py:323) set_joints     sending: 02 +0012.00 +0055.00 +0035.00 -0016.00 -0090.00 +0090.00 #\n",
      "[2023-12-04 18:06:11] DEBUG   (4142056469.py:328) set_joints     recieved: b'2 1 '\n"
     ]
    },
    {
     "name": "stdout",
     "output_type": "stream",
     "text": [
      "[12, 55, 35, -16, -90, 90]\n"
     ]
    },
    {
     "name": "stderr",
     "output_type": "stream",
     "text": [
      "[2023-12-04 18:06:11] DEBUG   (4142056469.py:323) get_joints     sending: 04 #\n",
      "[2023-12-04 18:06:11] DEBUG   (4142056469.py:328) get_joints     recieved: b'4 1 17.84 55.00 35.00 3.49 -90.00 90.00'\n",
      "[2023-12-04 18:06:11] DEBUG   (4142056469.py:323) get_cartesian  sending: 03 #\n",
      "[2023-12-04 18:06:11] DEBUG   (4142056469.py:328) get_cartesian  recieved: b'3 1 348.49 96.15 142.87 0.372 0.372 0.601 0.601'\n",
      "[2023-12-04 18:06:11] DEBUG   (4142056469.py:323) set_joints     sending: 02 +0014.00 +0055.00 +0035.00 -0008.00 -0090.00 +0090.00 #\n",
      "[2023-12-04 18:06:11] DEBUG   (4142056469.py:328) set_joints     recieved: b'2 1 '\n"
     ]
    },
    {
     "name": "stdout",
     "output_type": "stream",
     "text": [
      "[14, 55, 35, -8, -90, 90]\n"
     ]
    },
    {
     "name": "stderr",
     "output_type": "stream",
     "text": [
      "[2023-12-04 18:06:11] DEBUG   (4142056469.py:323) get_joints     sending: 04 #\n",
      "[2023-12-04 18:06:12] DEBUG   (4142056469.py:328) get_joints     recieved: b'4 1 14.00 55.00 35.00 -8.01 -90.00 90.00'\n",
      "[2023-12-04 18:06:12] DEBUG   (4142056469.py:323) get_cartesian  sending: 03 #\n",
      "[2023-12-04 18:06:12] DEBUG   (4142056469.py:328) get_cartesian  recieved: b'3 1 349.27 97.44 142.87 0.395 0.395 0.586 0.586'\n",
      "[2023-12-04 18:06:12] DEBUG   (4142056469.py:323) set_joints     sending: 02 +0016.00 +0055.00 +0035.00 +0000.00 -0090.00 +0090.00 #\n",
      "[2023-12-04 18:06:12] DEBUG   (4142056469.py:328) set_joints     recieved: b'2 1 '\n"
     ]
    },
    {
     "name": "stdout",
     "output_type": "stream",
     "text": [
      "[16, 55, 35, 0, -90, 90]\n"
     ]
    },
    {
     "name": "stderr",
     "output_type": "stream",
     "text": [
      "[2023-12-04 18:06:12] DEBUG   (4142056469.py:323) get_joints     sending: 04 #\n",
      "[2023-12-04 18:06:12] DEBUG   (4142056469.py:328) get_joints     recieved: b'4 1 15.99 55.00 35.00 -0.01 -90.00 90.00'\n",
      "[2023-12-04 18:06:12] DEBUG   (4142056469.py:323) get_cartesian  sending: 03 #\n",
      "[2023-12-04 18:06:12] DEBUG   (4142056469.py:328) get_cartesian  recieved: b'3 1 349.10 100.10 142.87 0.426 0.426 0.565 0.565'\n",
      "[2023-12-04 18:06:12] DEBUG   (4142056469.py:323) set_joints     sending: 02 +0018.00 +0055.00 +0035.00 +0008.00 -0090.00 +0090.00 #\n",
      "[2023-12-04 18:06:12] DEBUG   (4142056469.py:328) set_joints     recieved: b'2 1 '\n"
     ]
    },
    {
     "name": "stdout",
     "output_type": "stream",
     "text": [
      "[18, 55, 35, 8, -90, 90]\n"
     ]
    },
    {
     "name": "stderr",
     "output_type": "stream",
     "text": [
      "[2023-12-04 18:06:13] DEBUG   (4142056469.py:323) get_joints     sending: 04 #\n",
      "[2023-12-04 18:06:13] DEBUG   (4142056469.py:328) get_joints     recieved: b'4 1 18.00 55.00 35.00 8.00 -90.00 90.00'\n",
      "[2023-12-04 18:06:13] DEBUG   (4142056469.py:323) get_cartesian  sending: 03 #\n",
      "[2023-12-04 18:06:13] DEBUG   (4142056469.py:328) get_cartesian  recieved: b'3 1 347.82 102.50 142.86 0.455 0.455 0.542 0.542'\n",
      "[2023-12-04 18:06:13] DEBUG   (4142056469.py:323) set_joints     sending: 02 +0020.00 +0055.00 +0035.00 +0016.00 -0090.00 +0090.00 #\n",
      "[2023-12-04 18:06:13] DEBUG   (4142056469.py:328) set_joints     recieved: b'2 1 '\n"
     ]
    },
    {
     "name": "stdout",
     "output_type": "stream",
     "text": [
      "[20, 55, 35, 16, -90, 90]\n"
     ]
    },
    {
     "name": "stderr",
     "output_type": "stream",
     "text": [
      "[2023-12-04 18:06:13] DEBUG   (4142056469.py:323) get_joints     sending: 04 #\n",
      "[2023-12-04 18:06:13] DEBUG   (4142056469.py:328) get_joints     recieved: b'4 1 20.00 55.00 35.00 16.01 -90.00 90.00'\n",
      "[2023-12-04 18:06:13] DEBUG   (4142056469.py:323) get_cartesian  sending: 03 #\n",
      "[2023-12-04 18:06:13] DEBUG   (4142056469.py:328) get_cartesian  recieved: b'3 1 345.43 104.61 142.87 0.482 0.482 0.517 0.517'\n",
      "[2023-12-04 18:06:13] DEBUG   (4142056469.py:323) set_joints     sending: 02 +0022.00 +0055.00 +0035.00 +0024.00 -0090.00 +0090.00 #\n",
      "[2023-12-04 18:06:13] DEBUG   (4142056469.py:328) set_joints     recieved: b'2 1 '\n"
     ]
    },
    {
     "name": "stdout",
     "output_type": "stream",
     "text": [
      "[22, 55, 35, 24, -90, 90]\n"
     ]
    },
    {
     "name": "stderr",
     "output_type": "stream",
     "text": [
      "[2023-12-04 18:06:14] DEBUG   (4142056469.py:323) get_joints     sending: 04 #\n",
      "[2023-12-04 18:06:14] DEBUG   (4142056469.py:328) get_joints     recieved: b'4 1 21.99 55.00 35.00 23.98 -90.00 90.00'\n",
      "[2023-12-04 18:06:14] DEBUG   (4142056469.py:323) get_cartesian  sending: 03 #\n",
      "[2023-12-04 18:06:14] DEBUG   (4142056469.py:328) get_cartesian  recieved: b'3 1 341.92 106.58 142.87 0.509 0.509 0.491 0.491'\n",
      "[2023-12-04 18:06:14] DEBUG   (4142056469.py:323) set_joints     sending: 02 +0010.00 +0055.00 +0035.00 -0016.00 -0090.00 +0090.00 #\n",
      "[2023-12-04 18:06:14] DEBUG   (4142056469.py:328) set_joints     recieved: b'2 1 '\n"
     ]
    },
    {
     "name": "stdout",
     "output_type": "stream",
     "text": [
      "[10, 55, 35, -16, -90, 90]\n"
     ]
    },
    {
     "name": "stderr",
     "output_type": "stream",
     "text": [
      "[2023-12-04 18:06:14] DEBUG   (4142056469.py:323) get_joints     sending: 04 #\n",
      "[2023-12-04 18:06:14] DEBUG   (4142056469.py:328) get_joints     recieved: b'4 1 16.27 55.00 35.00 4.90 -90.00 90.00'\n",
      "[2023-12-04 18:06:14] DEBUG   (4142056469.py:323) get_cartesian  sending: 03 #\n",
      "[2023-12-04 18:06:14] DEBUG   (4142056469.py:328) get_cartesian  recieved: b'3 1 351.64 83.92 142.87 0.383 0.383 0.595 0.595'\n",
      "[2023-12-04 18:06:14] DEBUG   (4142056469.py:323) set_joints     sending: 02 +0012.00 +0055.00 +0035.00 -0008.00 -0090.00 +0090.00 #\n",
      "[2023-12-04 18:06:14] DEBUG   (4142056469.py:328) set_joints     recieved: b'2 1 '\n"
     ]
    },
    {
     "name": "stdout",
     "output_type": "stream",
     "text": [
      "[12, 55, 35, -8, -90, 90]\n"
     ]
    },
    {
     "name": "stderr",
     "output_type": "stream",
     "text": [
      "[2023-12-04 18:06:15] DEBUG   (4142056469.py:323) get_joints     sending: 04 #\n",
      "[2023-12-04 18:06:15] DEBUG   (4142056469.py:328) get_joints     recieved: b'4 1 11.99 55.00 35.00 -8.02 -90.00 90.00'\n",
      "[2023-12-04 18:06:15] DEBUG   (4142056469.py:323) get_cartesian  sending: 03 #\n",
      "[2023-12-04 18:06:15] DEBUG   (4142056469.py:328) get_cartesian  recieved: b'3 1 352.46 85.18 142.87 0.406 0.406 0.579 0.579'\n",
      "[2023-12-04 18:06:15] DEBUG   (4142056469.py:323) set_joints     sending: 02 +0014.00 +0055.00 +0035.00 +0000.00 -0090.00 +0090.00 #\n",
      "[2023-12-04 18:06:15] DEBUG   (4142056469.py:328) set_joints     recieved: b'2 1 '\n"
     ]
    },
    {
     "name": "stdout",
     "output_type": "stream",
     "text": [
      "[14, 55, 35, 0, -90, 90]\n"
     ]
    },
    {
     "name": "stderr",
     "output_type": "stream",
     "text": [
      "[2023-12-04 18:06:15] DEBUG   (4142056469.py:323) get_joints     sending: 04 #\n",
      "[2023-12-04 18:06:15] DEBUG   (4142056469.py:328) get_joints     recieved: b'4 1 14.00 55.00 35.00 0.01 -90.00 90.00'\n",
      "[2023-12-04 18:06:15] DEBUG   (4142056469.py:323) get_cartesian  sending: 03 #\n",
      "[2023-12-04 18:06:15] DEBUG   (4142056469.py:328) get_cartesian  recieved: b'3 1 352.38 87.85 142.86 0.435 0.435 0.557 0.557'\n",
      "[2023-12-04 18:06:15] DEBUG   (4142056469.py:323) set_joints     sending: 02 +0016.00 +0055.00 +0035.00 +0008.00 -0090.00 +0090.00 #\n",
      "[2023-12-04 18:06:15] DEBUG   (4142056469.py:328) set_joints     recieved: b'2 1 '\n"
     ]
    },
    {
     "name": "stdout",
     "output_type": "stream",
     "text": [
      "[16, 55, 35, 8, -90, 90]\n"
     ]
    },
    {
     "name": "stderr",
     "output_type": "stream",
     "text": [
      "[2023-12-04 18:06:16] DEBUG   (4142056469.py:323) get_joints     sending: 04 #\n",
      "[2023-12-04 18:06:16] DEBUG   (4142056469.py:328) get_joints     recieved: b'4 1 16.00 55.00 35.00 8.00 -90.00 90.00'\n",
      "[2023-12-04 18:06:16] DEBUG   (4142056469.py:323) get_cartesian  sending: 03 #\n",
      "[2023-12-04 18:06:16] DEBUG   (4142056469.py:328) get_cartesian  recieved: b'3 1 351.19 90.29 142.87 0.464 0.464 0.534 0.534'\n",
      "[2023-12-04 18:06:16] DEBUG   (4142056469.py:323) set_joints     sending: 02 +0018.00 +0055.00 +0035.00 +0016.00 -0090.00 +0090.00 #\n",
      "[2023-12-04 18:06:16] DEBUG   (4142056469.py:328) set_joints     recieved: b'2 1 '\n"
     ]
    },
    {
     "name": "stdout",
     "output_type": "stream",
     "text": [
      "[18, 55, 35, 16, -90, 90]\n"
     ]
    },
    {
     "name": "stderr",
     "output_type": "stream",
     "text": [
      "[2023-12-04 18:06:16] DEBUG   (4142056469.py:323) get_joints     sending: 04 #\n",
      "[2023-12-04 18:06:16] DEBUG   (4142056469.py:328) get_joints     recieved: b'4 1 18.00 55.00 35.00 16.01 -90.00 90.00'\n",
      "[2023-12-04 18:06:16] DEBUG   (4142056469.py:323) get_cartesian  sending: 03 #\n",
      "[2023-12-04 18:06:16] DEBUG   (4142056469.py:328) get_cartesian  recieved: b'3 1 348.87 92.49 142.87 0.491 0.491 0.509 0.509'\n",
      "[2023-12-04 18:06:16] DEBUG   (4142056469.py:323) set_joints     sending: 02 +0020.00 +0055.00 +0035.00 +0024.00 -0090.00 +0090.00 #\n",
      "[2023-12-04 18:06:17] DEBUG   (4142056469.py:328) set_joints     recieved: b'2 1 '\n"
     ]
    },
    {
     "name": "stdout",
     "output_type": "stream",
     "text": [
      "[20, 55, 35, 24, -90, 90]\n"
     ]
    },
    {
     "name": "stderr",
     "output_type": "stream",
     "text": [
      "[2023-12-04 18:06:17] DEBUG   (4142056469.py:323) get_joints     sending: 04 #\n",
      "[2023-12-04 18:06:17] DEBUG   (4142056469.py:328) get_joints     recieved: b'4 1 20.00 55.00 35.00 24.00 -90.00 90.00'\n",
      "[2023-12-04 18:06:17] DEBUG   (4142056469.py:323) get_cartesian  sending: 03 #\n",
      "[2023-12-04 18:06:17] DEBUG   (4142056469.py:328) get_cartesian  recieved: b'3 1 345.43 94.58 142.87 0.517 0.517 0.482 0.482'\n",
      "[2023-12-04 18:06:17] DEBUG   (4142056469.py:323) set_joints     sending: 02 +0008.00 +0055.00 +0035.00 -0016.00 -0090.00 +0090.00 #\n",
      "[2023-12-04 18:06:17] DEBUG   (4142056469.py:328) set_joints     recieved: b'2 1 '\n"
     ]
    },
    {
     "name": "stdout",
     "output_type": "stream",
     "text": [
      "[8, 55, 35, -16, -90, 90]\n"
     ]
    },
    {
     "name": "stderr",
     "output_type": "stream",
     "text": [
      "[2023-12-04 18:06:17] DEBUG   (4142056469.py:323) get_joints     sending: 04 #\n",
      "[2023-12-04 18:06:17] DEBUG   (4142056469.py:328) get_joints     recieved: b'4 1 15.33 55.00 35.00 8.44 -90.00 90.00'\n",
      "[2023-12-04 18:06:17] DEBUG   (4142056469.py:323) get_cartesian  sending: 03 #\n",
      "[2023-12-04 18:06:18] DEBUG   (4142056469.py:328) get_cartesian  recieved: b'3 1 354.66 74.12 142.87 0.407 0.407 0.578 0.578'\n",
      "[2023-12-04 18:06:18] DEBUG   (4142056469.py:323) set_joints     sending: 02 +0010.00 +0055.00 +0035.00 -0008.00 -0090.00 +0090.00 #\n",
      "[2023-12-04 18:06:18] DEBUG   (4142056469.py:328) set_joints     recieved: b'2 1 '\n"
     ]
    },
    {
     "name": "stdout",
     "output_type": "stream",
     "text": [
      "[10, 55, 35, -8, -90, 90]\n"
     ]
    },
    {
     "name": "stderr",
     "output_type": "stream",
     "text": [
      "[2023-12-04 18:06:18] DEBUG   (4142056469.py:323) get_joints     sending: 04 #\n",
      "[2023-12-04 18:06:18] DEBUG   (4142056469.py:328) get_joints     recieved: b'4 1 10.00 55.00 35.00 -8.01 -90.00 90.00'\n",
      "[2023-12-04 18:06:18] DEBUG   (4142056469.py:323) get_cartesian  sending: 03 #\n",
      "[2023-12-04 18:06:18] DEBUG   (4142056469.py:328) get_cartesian  recieved: b'3 1 355.22 72.83 142.87 0.416 0.416 0.572 0.572'\n",
      "[2023-12-04 18:06:18] DEBUG   (4142056469.py:323) set_joints     sending: 02 +0012.00 +0055.00 +0035.00 +0000.00 -0090.00 +0090.00 #\n",
      "[2023-12-04 18:06:18] DEBUG   (4142056469.py:328) set_joints     recieved: b'2 1 '\n"
     ]
    },
    {
     "name": "stdout",
     "output_type": "stream",
     "text": [
      "[12, 55, 35, 0, -90, 90]\n"
     ]
    },
    {
     "name": "stderr",
     "output_type": "stream",
     "text": [
      "[2023-12-04 18:06:18] DEBUG   (4142056469.py:323) get_joints     sending: 04 #\n",
      "[2023-12-04 18:06:18] DEBUG   (4142056469.py:328) get_joints     recieved: b'4 1 11.98 55.00 35.00 -0.03 -90.00 90.00'\n",
      "[2023-12-04 18:06:18] DEBUG   (4142056469.py:323) get_cartesian  sending: 03 #\n",
      "[2023-12-04 18:06:19] DEBUG   (4142056469.py:328) get_cartesian  recieved: b'3 1 355.24 75.50 142.87 0.445 0.445 0.549 0.549'\n",
      "[2023-12-04 18:06:19] DEBUG   (4142056469.py:323) set_joints     sending: 02 +0014.00 +0055.00 +0035.00 +0008.00 -0090.00 +0090.00 #\n",
      "[2023-12-04 18:06:19] DEBUG   (4142056469.py:328) set_joints     recieved: b'2 1 '\n"
     ]
    },
    {
     "name": "stdout",
     "output_type": "stream",
     "text": [
      "[14, 55, 35, 8, -90, 90]\n"
     ]
    },
    {
     "name": "stderr",
     "output_type": "stream",
     "text": [
      "[2023-12-04 18:06:19] DEBUG   (4142056469.py:323) get_joints     sending: 04 #\n",
      "[2023-12-04 18:06:19] DEBUG   (4142056469.py:328) get_joints     recieved: b'4 1 13.99 55.00 35.00 7.98 -90.00 90.00'\n",
      "[2023-12-04 18:06:19] DEBUG   (4142056469.py:323) get_cartesian  sending: 03 #\n",
      "[2023-12-04 18:06:19] DEBUG   (4142056469.py:328) get_cartesian  recieved: b'3 1 354.12 77.98 142.87 0.473 0.473 0.525 0.525'\n",
      "[2023-12-04 18:06:19] DEBUG   (4142056469.py:323) set_joints     sending: 02 +0016.00 +0055.00 +0035.00 +0016.00 -0090.00 +0090.00 #\n",
      "[2023-12-04 18:06:19] DEBUG   (4142056469.py:328) set_joints     recieved: b'2 1 '\n"
     ]
    },
    {
     "name": "stdout",
     "output_type": "stream",
     "text": [
      "[16, 55, 35, 16, -90, 90]\n"
     ]
    },
    {
     "name": "stderr",
     "output_type": "stream",
     "text": [
      "[2023-12-04 18:06:19] DEBUG   (4142056469.py:323) get_joints     sending: 04 #\n",
      "[2023-12-04 18:06:20] DEBUG   (4142056469.py:328) get_joints     recieved: b'4 1 15.99 55.00 35.00 16.00 -90.00 90.00'\n",
      "[2023-12-04 18:06:20] DEBUG   (4142056469.py:323) get_cartesian  sending: 03 #\n",
      "[2023-12-04 18:06:20] DEBUG   (4142056469.py:328) get_cartesian  recieved: b'3 1 351.89 80.25 142.87 0.500 0.500 0.500 0.500'\n",
      "[2023-12-04 18:06:20] DEBUG   (4142056469.py:323) set_joints     sending: 02 +0018.00 +0055.00 +0035.00 +0024.00 -0090.00 +0090.00 #\n",
      "[2023-12-04 18:06:20] DEBUG   (4142056469.py:328) set_joints     recieved: b'2 1 '\n"
     ]
    },
    {
     "name": "stdout",
     "output_type": "stream",
     "text": [
      "[18, 55, 35, 24, -90, 90]\n"
     ]
    },
    {
     "name": "stderr",
     "output_type": "stream",
     "text": [
      "[2023-12-04 18:06:20] DEBUG   (4142056469.py:323) get_joints     sending: 04 #\n",
      "[2023-12-04 18:06:20] DEBUG   (4142056469.py:328) get_joints     recieved: b'4 1 18.00 55.00 35.00 24.00 -90.00 90.00'\n",
      "[2023-12-04 18:06:20] DEBUG   (4142056469.py:323) get_cartesian  sending: 03 #\n",
      "[2023-12-04 18:06:20] DEBUG   (4142056469.py:328) get_cartesian  recieved: b'3 1 348.52 82.47 142.87 0.525 0.525 0.473 0.473'\n",
      "[2023-12-04 18:06:20] DEBUG   (4142056469.py:323) set_joints     sending: 02 +0006.00 +0055.00 +0035.00 -0016.00 -0090.00 +0090.00 #\n",
      "[2023-12-04 18:06:20] DEBUG   (4142056469.py:328) set_joints     recieved: b'2 1 '\n"
     ]
    },
    {
     "name": "stdout",
     "output_type": "stream",
     "text": [
      "[6, 55, 35, -16, -90, 90]\n"
     ]
    },
    {
     "name": "stderr",
     "output_type": "stream",
     "text": [
      "[2023-12-04 18:06:21] DEBUG   (4142056469.py:323) get_joints     sending: 04 #\n",
      "[2023-12-04 18:06:21] DEBUG   (4142056469.py:328) get_joints     recieved: b'4 1 12.05 55.00 35.00 4.20 -90.00 90.00'\n",
      "[2023-12-04 18:06:21] DEBUG   (4142056469.py:323) get_cartesian  sending: 03 #\n",
      "[2023-12-04 18:06:21] DEBUG   (4142056469.py:328) get_cartesian  recieved: b'3 1 356.69 59.50 142.87 0.405 0.405 0.580 0.580'\n",
      "[2023-12-04 18:06:21] DEBUG   (4142056469.py:323) set_joints     sending: 02 +0008.00 +0055.00 +0035.00 -0008.00 -0090.00 +0090.00 #\n",
      "[2023-12-04 18:06:21] DEBUG   (4142056469.py:328) set_joints     recieved: b'2 1 '\n"
     ]
    },
    {
     "name": "stdout",
     "output_type": "stream",
     "text": [
      "[8, 55, 35, -8, -90, 90]\n"
     ]
    },
    {
     "name": "stderr",
     "output_type": "stream",
     "text": [
      "[2023-12-04 18:06:21] DEBUG   (4142056469.py:323) get_joints     sending: 04 #\n",
      "[2023-12-04 18:06:21] DEBUG   (4142056469.py:328) get_joints     recieved: b'4 1 8.00 55.00 35.00 -8.01 -90.00 90.00'\n",
      "[2023-12-04 18:06:21] DEBUG   (4142056469.py:323) get_cartesian  sending: 03 #\n",
      "[2023-12-04 18:06:21] DEBUG   (4142056469.py:328) get_cartesian  recieved: b'3 1 357.54 60.39 142.87 0.426 0.426 0.565 0.565'\n",
      "[2023-12-04 18:06:21] DEBUG   (4142056469.py:323) set_joints     sending: 02 +0010.00 +0055.00 +0035.00 +0000.00 -0090.00 +0090.00 #\n",
      "[2023-12-04 18:06:21] DEBUG   (4142056469.py:328) set_joints     recieved: b'2 1 '\n"
     ]
    },
    {
     "name": "stdout",
     "output_type": "stream",
     "text": [
      "[10, 55, 35, 0, -90, 90]\n"
     ]
    },
    {
     "name": "stderr",
     "output_type": "stream",
     "text": [
      "[2023-12-04 18:06:22] DEBUG   (4142056469.py:323) get_joints     sending: 04 #\n",
      "[2023-12-04 18:06:22] DEBUG   (4142056469.py:328) get_joints     recieved: b'4 1 9.99 55.00 35.00 0.00 -90.00 90.00'\n",
      "[2023-12-04 18:06:22] DEBUG   (4142056469.py:323) get_cartesian  sending: 03 #\n",
      "[2023-12-04 18:06:22] DEBUG   (4142056469.py:328) get_cartesian  recieved: b'3 1 357.65 63.06 142.87 0.455 0.455 0.542 0.542'\n",
      "[2023-12-04 18:06:22] DEBUG   (4142056469.py:323) set_joints     sending: 02 +0012.00 +0055.00 +0035.00 +0008.00 -0090.00 +0090.00 #\n",
      "[2023-12-04 18:06:22] DEBUG   (4142056469.py:328) set_joints     recieved: b'2 1 '\n"
     ]
    },
    {
     "name": "stdout",
     "output_type": "stream",
     "text": [
      "[12, 55, 35, 8, -90, 90]\n"
     ]
    },
    {
     "name": "stderr",
     "output_type": "stream",
     "text": [
      "[2023-12-04 18:06:22] DEBUG   (4142056469.py:323) get_joints     sending: 04 #\n",
      "[2023-12-04 18:06:22] DEBUG   (4142056469.py:328) get_joints     recieved: b'4 1 12.00 55.00 35.00 8.00 -90.00 90.00'\n",
      "[2023-12-04 18:06:22] DEBUG   (4142056469.py:323) get_cartesian  sending: 03 #\n",
      "[2023-12-04 18:06:22] DEBUG   (4142056469.py:328) get_cartesian  recieved: b'3 1 356.63 65.57 142.87 0.482 0.482 0.517 0.517'\n",
      "[2023-12-04 18:06:22] DEBUG   (4142056469.py:323) set_joints     sending: 02 +0014.00 +0055.00 +0035.00 +0016.00 -0090.00 +0090.00 #\n",
      "[2023-12-04 18:06:22] DEBUG   (4142056469.py:328) set_joints     recieved: b'2 1 '\n"
     ]
    },
    {
     "name": "stdout",
     "output_type": "stream",
     "text": [
      "[14, 55, 35, 16, -90, 90]\n"
     ]
    },
    {
     "name": "stderr",
     "output_type": "stream",
     "text": [
      "[2023-12-04 18:06:23] DEBUG   (4142056469.py:323) get_joints     sending: 04 #\n",
      "[2023-12-04 18:06:23] DEBUG   (4142056469.py:328) get_joints     recieved: b'4 1 14.00 55.00 35.00 16.01 -90.00 90.00'\n",
      "[2023-12-04 18:06:23] DEBUG   (4142056469.py:323) get_cartesian  sending: 03 #\n",
      "[2023-12-04 18:06:23] DEBUG   (4142056469.py:328) get_cartesian  recieved: b'3 1 354.48 67.92 142.87 0.509 0.509 0.491 0.491'\n",
      "[2023-12-04 18:06:23] DEBUG   (4142056469.py:323) set_joints     sending: 02 +0016.00 +0055.00 +0035.00 +0024.00 -0090.00 +0090.00 #\n",
      "[2023-12-04 18:06:23] DEBUG   (4142056469.py:328) set_joints     recieved: b'2 1 '\n"
     ]
    },
    {
     "name": "stdout",
     "output_type": "stream",
     "text": [
      "[16, 55, 35, 24, -90, 90]\n"
     ]
    },
    {
     "name": "stderr",
     "output_type": "stream",
     "text": [
      "[2023-12-04 18:06:23] DEBUG   (4142056469.py:323) get_joints     sending: 04 #\n",
      "[2023-12-04 18:06:23] DEBUG   (4142056469.py:328) get_joints     recieved: b'4 1 16.00 55.00 35.00 24.00 -90.00 90.00'\n",
      "[2023-12-04 18:06:23] DEBUG   (4142056469.py:323) get_cartesian  sending: 03 #\n",
      "[2023-12-04 18:06:23] DEBUG   (4142056469.py:328) get_cartesian  recieved: b'3 1 351.19 70.25 142.87 0.534 0.534 0.464 0.464'\n",
      "[2023-12-04 18:06:23] DEBUG   (4142056469.py:323) set_joints     sending: 02 +0004.00 +0055.00 +0035.00 -0016.00 -0090.00 +0090.00 #\n",
      "[2023-12-04 18:06:23] DEBUG   (4142056469.py:328) set_joints     recieved: b'2 1 '\n"
     ]
    },
    {
     "name": "stdout",
     "output_type": "stream",
     "text": [
      "[4, 55, 35, -16, -90, 90]\n"
     ]
    },
    {
     "name": "stderr",
     "output_type": "stream",
     "text": [
      "[2023-12-04 18:06:24] DEBUG   (4142056469.py:323) get_joints     sending: 04 #\n",
      "[2023-12-04 18:06:24] DEBUG   (4142056469.py:328) get_joints     recieved: b'4 1 10.90 55.00 35.00 7.03 -90.00 90.00'\n",
      "[2023-12-04 18:06:24] DEBUG   (4142056469.py:323) get_cartesian  sending: 03 #\n",
      "[2023-12-04 18:06:24] DEBUG   (4142056469.py:328) get_cartesian  recieved: b'3 1 358.84 48.38 142.87 0.423 0.423 0.567 0.567'\n",
      "[2023-12-04 18:06:24] DEBUG   (4142056469.py:323) set_joints     sending: 02 +0006.00 +0055.00 +0035.00 -0008.00 -0090.00 +0090.00 #\n",
      "[2023-12-04 18:06:24] DEBUG   (4142056469.py:328) set_joints     recieved: b'2 1 '\n"
     ]
    },
    {
     "name": "stdout",
     "output_type": "stream",
     "text": [
      "[6, 55, 35, -8, -90, 90]\n"
     ]
    },
    {
     "name": "stderr",
     "output_type": "stream",
     "text": [
      "[2023-12-04 18:06:24] DEBUG   (4142056469.py:323) get_joints     sending: 04 #\n",
      "[2023-12-04 18:06:24] DEBUG   (4142056469.py:328) get_joints     recieved: b'4 1 6.00 55.00 35.00 -8.01 -90.00 90.00'\n",
      "[2023-12-04 18:06:24] DEBUG   (4142056469.py:323) get_cartesian  sending: 03 #\n",
      "[2023-12-04 18:06:24] DEBUG   (4142056469.py:328) get_cartesian  recieved: b'3 1 359.43 47.88 142.87 0.435 0.435 0.557 0.557'\n",
      "[2023-12-04 18:06:24] DEBUG   (4142056469.py:323) set_joints     sending: 02 +0008.00 +0055.00 +0035.00 +0000.00 -0090.00 +0090.00 #\n",
      "[2023-12-04 18:06:25] DEBUG   (4142056469.py:328) set_joints     recieved: b'2 1 '\n"
     ]
    },
    {
     "name": "stdout",
     "output_type": "stream",
     "text": [
      "[8, 55, 35, 0, -90, 90]\n"
     ]
    },
    {
     "name": "stderr",
     "output_type": "stream",
     "text": [
      "[2023-12-04 18:06:25] DEBUG   (4142056469.py:323) get_joints     sending: 04 #\n",
      "[2023-12-04 18:06:25] DEBUG   (4142056469.py:328) get_joints     recieved: b'4 1 8.00 55.00 35.00 0.01 -90.00 90.00'\n",
      "[2023-12-04 18:06:25] DEBUG   (4142056469.py:323) get_cartesian  sending: 03 #\n",
      "[2023-12-04 18:06:25] DEBUG   (4142056469.py:328) get_cartesian  recieved: b'3 1 359.64 50.54 142.87 0.464 0.464 0.534 0.534'\n",
      "[2023-12-04 18:06:25] DEBUG   (4142056469.py:323) set_joints     sending: 02 +0010.00 +0055.00 +0035.00 +0008.00 -0090.00 +0090.00 #\n",
      "[2023-12-04 18:06:25] DEBUG   (4142056469.py:328) set_joints     recieved: b'2 1 '\n"
     ]
    },
    {
     "name": "stdout",
     "output_type": "stream",
     "text": [
      "[10, 55, 35, 8, -90, 90]\n"
     ]
    },
    {
     "name": "stderr",
     "output_type": "stream",
     "text": [
      "[2023-12-04 18:06:25] DEBUG   (4142056469.py:323) get_joints     sending: 04 #\n",
      "[2023-12-04 18:06:25] DEBUG   (4142056469.py:328) get_joints     recieved: b'4 1 10.00 55.00 35.00 7.99 -90.00 90.00'\n",
      "[2023-12-04 18:06:25] DEBUG   (4142056469.py:323) get_cartesian  sending: 03 #\n",
      "[2023-12-04 18:06:25] DEBUG   (4142056469.py:328) get_cartesian  recieved: b'3 1 358.70 53.09 142.86 0.491 0.491 0.509 0.509'\n",
      "[2023-12-04 18:06:26] DEBUG   (4142056469.py:323) set_joints     sending: 02 +0012.00 +0055.00 +0035.00 +0016.00 -0090.00 +0090.00 #\n",
      "[2023-12-04 18:06:26] DEBUG   (4142056469.py:328) set_joints     recieved: b'2 1 '\n"
     ]
    },
    {
     "name": "stdout",
     "output_type": "stream",
     "text": [
      "[12, 55, 35, 16, -90, 90]\n"
     ]
    },
    {
     "name": "stderr",
     "output_type": "stream",
     "text": [
      "[2023-12-04 18:06:26] DEBUG   (4142056469.py:323) get_joints     sending: 04 #\n",
      "[2023-12-04 18:06:26] DEBUG   (4142056469.py:328) get_joints     recieved: b'4 1 12.00 55.00 35.00 16.01 -90.00 90.00'\n",
      "[2023-12-04 18:06:26] DEBUG   (4142056469.py:323) get_cartesian  sending: 03 #\n",
      "[2023-12-04 18:06:26] DEBUG   (4142056469.py:328) get_cartesian  recieved: b'3 1 356.63 55.51 142.87 0.517 0.517 0.482 0.482'\n",
      "[2023-12-04 18:06:26] DEBUG   (4142056469.py:323) set_joints     sending: 02 +0014.00 +0055.00 +0035.00 +0024.00 -0090.00 +0090.00 #\n",
      "[2023-12-04 18:06:26] DEBUG   (4142056469.py:328) set_joints     recieved: b'2 1 '\n"
     ]
    },
    {
     "name": "stdout",
     "output_type": "stream",
     "text": [
      "[14, 55, 35, 24, -90, 90]\n"
     ]
    },
    {
     "name": "stderr",
     "output_type": "stream",
     "text": [
      "[2023-12-04 18:06:26] DEBUG   (4142056469.py:323) get_joints     sending: 04 #\n",
      "[2023-12-04 18:06:26] DEBUG   (4142056469.py:328) get_joints     recieved: b'4 1 14.00 55.00 35.00 23.99 -90.00 90.00'\n",
      "[2023-12-04 18:06:26] DEBUG   (4142056469.py:323) get_cartesian  sending: 03 #\n",
      "[2023-12-04 18:06:27] DEBUG   (4142056469.py:328) get_cartesian  recieved: b'3 1 353.42 57.95 142.87 0.542 0.542 0.455 0.455'\n",
      "[2023-12-04 18:06:27] DEBUG   (4142056469.py:323) set_joints     sending: 02 +0002.00 +0055.00 +0035.00 -0016.00 -0090.00 +0090.00 #\n",
      "[2023-12-04 18:06:27] DEBUG   (4142056469.py:328) set_joints     recieved: b'2 1 '\n"
     ]
    },
    {
     "name": "stdout",
     "output_type": "stream",
     "text": [
      "[2, 55, 35, -16, -90, 90]\n"
     ]
    },
    {
     "name": "stderr",
     "output_type": "stream",
     "text": [
      "[2023-12-04 18:06:27] DEBUG   (4142056469.py:323) get_joints     sending: 04 #\n",
      "[2023-12-04 18:06:27] DEBUG   (4142056469.py:328) get_joints     recieved: b'4 1 8.27 55.00 35.00 4.90 -90.00 90.00'\n",
      "[2023-12-04 18:06:27] DEBUG   (4142056469.py:323) get_cartesian  sending: 03 #\n",
      "[2023-12-04 18:06:27] DEBUG   (4142056469.py:328) get_cartesian  recieved: b'3 1 359.97 34.47 142.87 0.425 0.425 0.565 0.565'\n",
      "[2023-12-04 18:06:27] DEBUG   (4142056469.py:323) set_joints     sending: 02 +0004.00 +0055.00 +0035.00 -0008.00 -0090.00 +0090.00 #\n",
      "[2023-12-04 18:06:27] DEBUG   (4142056469.py:328) set_joints     recieved: b'2 1 '\n"
     ]
    },
    {
     "name": "stdout",
     "output_type": "stream",
     "text": [
      "[4, 55, 35, -8, -90, 90]\n"
     ]
    },
    {
     "name": "stderr",
     "output_type": "stream",
     "text": [
      "[2023-12-04 18:06:27] DEBUG   (4142056469.py:323) get_joints     sending: 04 #\n",
      "[2023-12-04 18:06:27] DEBUG   (4142056469.py:328) get_joints     recieved: b'4 1 4.00 55.00 35.00 -8.00 -90.00 90.00'\n",
      "[2023-12-04 18:06:28] DEBUG   (4142056469.py:323) get_cartesian  sending: 03 #\n",
      "[2023-12-04 18:06:28] DEBUG   (4142056469.py:328) get_cartesian  recieved: b'3 1 360.89 35.30 142.87 0.445 0.445 0.550 0.550'\n",
      "[2023-12-04 18:06:28] DEBUG   (4142056469.py:323) set_joints     sending: 02 +0006.00 +0055.00 +0035.00 +0000.00 -0090.00 +0090.00 #\n",
      "[2023-12-04 18:06:28] DEBUG   (4142056469.py:328) set_joints     recieved: b'2 1 '\n"
     ]
    },
    {
     "name": "stdout",
     "output_type": "stream",
     "text": [
      "[6, 55, 35, 0, -90, 90]\n"
     ]
    },
    {
     "name": "stderr",
     "output_type": "stream",
     "text": [
      "[2023-12-04 18:06:28] DEBUG   (4142056469.py:323) get_joints     sending: 04 #\n",
      "[2023-12-04 18:06:28] DEBUG   (4142056469.py:328) get_joints     recieved: b'4 1 6.00 55.00 35.00 0.01 -90.00 90.00'\n",
      "[2023-12-04 18:06:28] DEBUG   (4142056469.py:323) get_cartesian  sending: 03 #\n",
      "[2023-12-04 18:06:28] DEBUG   (4142056469.py:328) get_cartesian  recieved: b'3 1 361.18 37.96 142.87 0.473 0.473 0.525 0.525'\n",
      "[2023-12-04 18:06:28] DEBUG   (4142056469.py:323) set_joints     sending: 02 +0008.00 +0055.00 +0035.00 +0008.00 -0090.00 +0090.00 #\n",
      "[2023-12-04 18:06:28] DEBUG   (4142056469.py:328) set_joints     recieved: b'2 1 '\n"
     ]
    },
    {
     "name": "stdout",
     "output_type": "stream",
     "text": [
      "[8, 55, 35, 8, -90, 90]\n"
     ]
    },
    {
     "name": "stderr",
     "output_type": "stream",
     "text": [
      "[2023-12-04 18:06:28] DEBUG   (4142056469.py:323) get_joints     sending: 04 #\n",
      "[2023-12-04 18:06:29] DEBUG   (4142056469.py:328) get_joints     recieved: b'4 1 8.00 55.00 35.00 7.99 -90.00 90.00'\n",
      "[2023-12-04 18:06:29] DEBUG   (4142056469.py:323) get_cartesian  sending: 03 #\n",
      "[2023-12-04 18:06:29] DEBUG   (4142056469.py:328) get_cartesian  recieved: b'3 1 360.33 40.54 142.86 0.500 0.500 0.500 0.500'\n",
      "[2023-12-04 18:06:29] DEBUG   (4142056469.py:323) set_joints     sending: 02 +0010.00 +0055.00 +0035.00 +0016.00 -0090.00 +0090.00 #\n",
      "[2023-12-04 18:06:29] DEBUG   (4142056469.py:328) set_joints     recieved: b'2 1 '\n"
     ]
    },
    {
     "name": "stdout",
     "output_type": "stream",
     "text": [
      "[10, 55, 35, 16, -90, 90]\n"
     ]
    },
    {
     "name": "stderr",
     "output_type": "stream",
     "text": [
      "[2023-12-04 18:06:29] DEBUG   (4142056469.py:323) get_joints     sending: 04 #\n",
      "[2023-12-04 18:06:29] DEBUG   (4142056469.py:328) get_joints     recieved: b'4 1 10.00 55.00 35.00 16.01 -90.00 90.00'\n",
      "[2023-12-04 18:06:29] DEBUG   (4142056469.py:323) get_cartesian  sending: 03 #\n",
      "[2023-12-04 18:06:29] DEBUG   (4142056469.py:328) get_cartesian  recieved: b'3 1 358.35 43.03 142.87 0.526 0.526 0.473 0.473'\n",
      "[2023-12-04 18:06:29] DEBUG   (4142056469.py:323) set_joints     sending: 02 +0012.00 +0055.00 +0035.00 +0024.00 -0090.00 +0090.00 #\n",
      "[2023-12-04 18:06:29] DEBUG   (4142056469.py:328) set_joints     recieved: b'2 1 '\n"
     ]
    },
    {
     "name": "stdout",
     "output_type": "stream",
     "text": [
      "[12, 55, 35, 24, -90, 90]\n"
     ]
    },
    {
     "name": "stderr",
     "output_type": "stream",
     "text": [
      "[2023-12-04 18:06:30] DEBUG   (4142056469.py:323) get_joints     sending: 04 #\n",
      "[2023-12-04 18:06:30] DEBUG   (4142056469.py:328) get_joints     recieved: b'4 1 12.00 55.00 35.00 23.99 -90.00 90.00'\n",
      "[2023-12-04 18:06:30] DEBUG   (4142056469.py:323) get_cartesian  sending: 03 #\n",
      "[2023-12-04 18:06:30] DEBUG   (4142056469.py:328) get_cartesian  recieved: b'3 1 355.23 45.58 142.87 0.550 0.550 0.445 0.445'\n",
      "[2023-12-04 18:06:30] DEBUG   (4142056469.py:323) set_joints     sending: 02 +0000.00 +0055.00 +0035.00 -0016.00 -0090.00 +0090.00 #\n",
      "[2023-12-04 18:06:30] DEBUG   (4142056469.py:328) set_joints     recieved: b'2 1 '\n"
     ]
    },
    {
     "name": "stdout",
     "output_type": "stream",
     "text": [
      "[0, 55, 35, -16, -90, 90]\n"
     ]
    },
    {
     "name": "stderr",
     "output_type": "stream",
     "text": [
      "[2023-12-04 18:06:30] DEBUG   (4142056469.py:323) get_joints     sending: 04 #\n",
      "[2023-12-04 18:06:30] DEBUG   (4142056469.py:328) get_joints     recieved: b'4 1 5.84 55.00 35.00 3.49 -90.00 90.00'\n",
      "[2023-12-04 18:06:30] DEBUG   (4142056469.py:323) get_cartesian  sending: 03 #\n",
      "[2023-12-04 18:06:30] DEBUG   (4142056469.py:328) get_cartesian  recieved: b'3 1 360.79 21.31 142.87 0.432 0.432 0.560 0.560'\n",
      "[2023-12-04 18:06:30] DEBUG   (4142056469.py:323) set_joints     sending: 02 +0002.00 +0055.00 +0035.00 -0008.00 -0090.00 +0090.00 #\n",
      "[2023-12-04 18:06:30] DEBUG   (4142056469.py:328) set_joints     recieved: b'2 1 '\n"
     ]
    },
    {
     "name": "stdout",
     "output_type": "stream",
     "text": [
      "[2, 55, 35, -8, -90, 90]\n"
     ]
    },
    {
     "name": "stderr",
     "output_type": "stream",
     "text": [
      "[2023-12-04 18:06:31] DEBUG   (4142056469.py:323) get_joints     sending: 04 #\n",
      "[2023-12-04 18:06:31] DEBUG   (4142056469.py:328) get_joints     recieved: b'4 1 2.00 55.00 35.00 -8.00 -90.00 90.00'\n",
      "[2023-12-04 18:06:31] DEBUG   (4142056469.py:323) get_cartesian  sending: 03 #\n",
      "[2023-12-04 18:06:31] DEBUG   (4142056469.py:328) get_cartesian  recieved: b'3 1 361.90 22.69 142.87 0.455 0.455 0.542 0.542'\n",
      "[2023-12-04 18:06:31] DEBUG   (4142056469.py:323) set_joints     sending: 02 +0004.00 +0055.00 +0035.00 +0000.00 -0090.00 +0090.00 #\n",
      "[2023-12-04 18:06:31] DEBUG   (4142056469.py:328) set_joints     recieved: b'2 1 '\n"
     ]
    },
    {
     "name": "stdout",
     "output_type": "stream",
     "text": [
      "[4, 55, 35, 0, -90, 90]\n"
     ]
    },
    {
     "name": "stderr",
     "output_type": "stream",
     "text": [
      "[2023-12-04 18:06:31] DEBUG   (4142056469.py:323) get_joints     sending: 04 #\n",
      "[2023-12-04 18:06:31] DEBUG   (4142056469.py:328) get_joints     recieved: b'4 1 4.00 55.00 35.00 0.01 -90.00 90.00'\n",
      "[2023-12-04 18:06:31] DEBUG   (4142056469.py:323) get_cartesian  sending: 03 #\n",
      "[2023-12-04 18:06:31] DEBUG   (4142056469.py:328) get_cartesian  recieved: b'3 1 362.29 25.33 142.87 0.482 0.482 0.517 0.517'\n",
      "[2023-12-04 18:06:31] DEBUG   (4142056469.py:323) set_joints     sending: 02 +0006.00 +0055.00 +0035.00 +0008.00 -0090.00 +0090.00 #\n",
      "[2023-12-04 18:06:31] DEBUG   (4142056469.py:328) set_joints     recieved: b'2 1 '\n"
     ]
    },
    {
     "name": "stdout",
     "output_type": "stream",
     "text": [
      "[6, 55, 35, 8, -90, 90]\n"
     ]
    },
    {
     "name": "stderr",
     "output_type": "stream",
     "text": [
      "[2023-12-04 18:06:32] DEBUG   (4142056469.py:323) get_joints     sending: 04 #\n",
      "[2023-12-04 18:06:32] DEBUG   (4142056469.py:328) get_joints     recieved: b'4 1 6.00 55.00 35.00 8.00 -90.00 90.00'\n",
      "[2023-12-04 18:06:32] DEBUG   (4142056469.py:323) get_cartesian  sending: 03 #\n",
      "[2023-12-04 18:06:32] DEBUG   (4142056469.py:328) get_cartesian  recieved: b'3 1 361.53 27.94 142.87 0.509 0.509 0.491 0.491'\n",
      "[2023-12-04 18:06:32] DEBUG   (4142056469.py:323) set_joints     sending: 02 +0008.00 +0055.00 +0035.00 +0016.00 -0090.00 +0090.00 #\n",
      "[2023-12-04 18:06:32] DEBUG   (4142056469.py:328) set_joints     recieved: b'2 1 '\n"
     ]
    },
    {
     "name": "stdout",
     "output_type": "stream",
     "text": [
      "[8, 55, 35, 16, -90, 90]\n"
     ]
    },
    {
     "name": "stderr",
     "output_type": "stream",
     "text": [
      "[2023-12-04 18:06:32] DEBUG   (4142056469.py:323) get_joints     sending: 04 #\n",
      "[2023-12-04 18:06:32] DEBUG   (4142056469.py:328) get_joints     recieved: b'4 1 8.00 55.00 35.00 16.01 -90.00 90.00'\n",
      "[2023-12-04 18:06:33] DEBUG   (4142056469.py:323) get_cartesian  sending: 03 #\n",
      "[2023-12-04 18:06:33] DEBUG   (4142056469.py:328) get_cartesian  recieved: b'3 1 359.63 30.50 142.87 0.534 0.534 0.464 0.464'\n",
      "[2023-12-04 18:06:33] DEBUG   (4142056469.py:323) set_joints     sending: 02 +0010.00 +0055.00 +0035.00 +0024.00 -0090.00 +0090.00 #\n",
      "[2023-12-04 18:06:33] DEBUG   (4142056469.py:328) set_joints     recieved: b'2 1 '\n"
     ]
    },
    {
     "name": "stdout",
     "output_type": "stream",
     "text": [
      "[10, 55, 35, 24, -90, 90]\n"
     ]
    },
    {
     "name": "stderr",
     "output_type": "stream",
     "text": [
      "[2023-12-04 18:06:33] DEBUG   (4142056469.py:323) get_joints     sending: 04 #\n",
      "[2023-12-04 18:06:33] DEBUG   (4142056469.py:328) get_joints     recieved: b'4 1 10.00 55.00 35.00 24.00 -90.00 90.00'\n",
      "[2023-12-04 18:06:33] DEBUG   (4142056469.py:323) get_cartesian  sending: 03 #\n",
      "[2023-12-04 18:06:33] DEBUG   (4142056469.py:328) get_cartesian  recieved: b'3 1 356.61 33.15 142.87 0.557 0.557 0.435 0.435'\n",
      "[2023-12-04 18:06:33] DEBUG   (4142056469.py:323) set_joints     sending: 02 -0002.00 +0055.00 +0035.00 -0016.00 -0090.00 +0090.00 #\n",
      "[2023-12-04 18:06:33] DEBUG   (4142056469.py:328) set_joints     recieved: b'2 1 '\n"
     ]
    },
    {
     "name": "stdout",
     "output_type": "stream",
     "text": [
      "[-2, 55, 35, -16, -90, 90]\n"
     ]
    },
    {
     "name": "stderr",
     "output_type": "stream",
     "text": [
      "[2023-12-04 18:06:33] DEBUG   (4142056469.py:323) get_joints     sending: 04 #\n",
      "[2023-12-04 18:06:34] DEBUG   (4142056469.py:328) get_joints     recieved: b'4 1 4.27 55.00 35.00 4.90 -90.00 90.00'\n",
      "[2023-12-04 18:06:34] DEBUG   (4142056469.py:323) get_cartesian  sending: 03 #\n",
      "[2023-12-04 18:06:34] DEBUG   (4142056469.py:328) get_cartesian  recieved: b'3 1 361.50 9.27 142.87 0.444 0.444 0.550 0.550'\n",
      "[2023-12-04 18:06:34] DEBUG   (4142056469.py:323) set_joints     sending: 02 +0000.00 +0055.00 +0035.00 -0008.00 -0090.00 +0090.00 #\n",
      "[2023-12-04 18:06:34] DEBUG   (4142056469.py:328) set_joints     recieved: b'2 1 '\n"
     ]
    },
    {
     "name": "stdout",
     "output_type": "stream",
     "text": [
      "[0, 55, 35, -8, -90, 90]\n"
     ]
    },
    {
     "name": "stderr",
     "output_type": "stream",
     "text": [
      "[2023-12-04 18:06:34] DEBUG   (4142056469.py:323) get_joints     sending: 04 #\n",
      "[2023-12-04 18:06:34] DEBUG   (4142056469.py:328) get_joints     recieved: b'4 1 -0.01 55.00 35.00 -8.02 -90.00 90.00'\n",
      "[2023-12-04 18:06:34] DEBUG   (4142056469.py:323) get_cartesian  sending: 03 #\n",
      "[2023-12-04 18:06:34] DEBUG   (4142056469.py:328) get_cartesian  recieved: b'3 1 362.47 10.05 142.87 0.464 0.464 0.534 0.534'\n",
      "[2023-12-04 18:06:34] DEBUG   (4142056469.py:323) set_joints     sending: 02 +0002.00 +0055.00 +0035.00 +0000.00 -0090.00 +0090.00 #\n",
      "[2023-12-04 18:06:34] DEBUG   (4142056469.py:328) set_joints     recieved: b'2 1 '\n"
     ]
    },
    {
     "name": "stdout",
     "output_type": "stream",
     "text": [
      "[2, 55, 35, 0, -90, 90]\n"
     ]
    },
    {
     "name": "stderr",
     "output_type": "stream",
     "text": [
      "[2023-12-04 18:06:34] DEBUG   (4142056469.py:323) get_joints     sending: 04 #\n",
      "[2023-12-04 18:06:35] DEBUG   (4142056469.py:328) get_joints     recieved: b'4 1 1.97 55.00 35.00 -0.07 -90.00 90.00'\n",
      "[2023-12-04 18:06:35] DEBUG   (4142056469.py:323) get_cartesian  sending: 03 #\n",
      "[2023-12-04 18:06:35] DEBUG   (4142056469.py:328) get_cartesian  recieved: b'3 1 362.95 12.67 142.87 0.491 0.491 0.509 0.509'\n",
      "[2023-12-04 18:06:35] DEBUG   (4142056469.py:323) set_joints     sending: 02 +0004.00 +0055.00 +0035.00 +0008.00 -0090.00 +0090.00 #\n",
      "[2023-12-04 18:06:35] DEBUG   (4142056469.py:328) set_joints     recieved: b'2 1 '\n"
     ]
    },
    {
     "name": "stdout",
     "output_type": "stream",
     "text": [
      "[4, 55, 35, 8, -90, 90]\n"
     ]
    },
    {
     "name": "stderr",
     "output_type": "stream",
     "text": [
      "[2023-12-04 18:06:35] DEBUG   (4142056469.py:323) get_joints     sending: 04 #\n",
      "[2023-12-04 18:06:35] DEBUG   (4142056469.py:328) get_joints     recieved: b'4 1 4.00 55.00 35.00 8.00 -90.00 90.00'\n",
      "[2023-12-04 18:06:35] DEBUG   (4142056469.py:323) get_cartesian  sending: 03 #\n",
      "[2023-12-04 18:06:35] DEBUG   (4142056469.py:328) get_cartesian  recieved: b'3 1 362.28 15.30 142.87 0.517 0.517 0.482 0.482'\n",
      "[2023-12-04 18:06:35] DEBUG   (4142056469.py:323) set_joints     sending: 02 +0006.00 +0055.00 +0035.00 +0016.00 -0090.00 +0090.00 #\n",
      "[2023-12-04 18:06:35] DEBUG   (4142056469.py:328) set_joints     recieved: b'2 1 '\n"
     ]
    },
    {
     "name": "stdout",
     "output_type": "stream",
     "text": [
      "[6, 55, 35, 16, -90, 90]\n"
     ]
    },
    {
     "name": "stderr",
     "output_type": "stream",
     "text": [
      "[2023-12-04 18:06:36] DEBUG   (4142056469.py:323) get_joints     sending: 04 #\n",
      "[2023-12-04 18:06:36] DEBUG   (4142056469.py:328) get_joints     recieved: b'4 1 6.00 55.00 35.00 16.01 -90.00 90.00'\n",
      "[2023-12-04 18:06:36] DEBUG   (4142056469.py:323) get_cartesian  sending: 03 #\n",
      "[2023-12-04 18:06:36] DEBUG   (4142056469.py:328) get_cartesian  recieved: b'3 1 360.48 17.93 142.87 0.542 0.542 0.454 0.454'\n",
      "[2023-12-04 18:06:36] DEBUG   (4142056469.py:323) set_joints     sending: 02 +0008.00 +0055.00 +0035.00 +0024.00 -0090.00 +0090.00 #\n",
      "[2023-12-04 18:06:36] DEBUG   (4142056469.py:328) set_joints     recieved: b'2 1 '\n"
     ]
    },
    {
     "name": "stdout",
     "output_type": "stream",
     "text": [
      "[8, 55, 35, 24, -90, 90]\n"
     ]
    },
    {
     "name": "stderr",
     "output_type": "stream",
     "text": [
      "[2023-12-04 18:06:36] DEBUG   (4142056469.py:323) get_joints     sending: 04 #\n",
      "[2023-12-04 18:06:36] DEBUG   (4142056469.py:328) get_joints     recieved: b'4 1 7.99 55.00 35.00 23.99 -90.00 90.00'\n",
      "[2023-12-04 18:06:36] DEBUG   (4142056469.py:323) get_cartesian  sending: 03 #\n",
      "[2023-12-04 18:06:36] DEBUG   (4142056469.py:328) get_cartesian  recieved: b'3 1 357.55 20.69 142.87 0.565 0.565 0.426 0.426'\n",
      "[2023-12-04 18:06:36] DEBUG   (4142056469.py:323) set_joints     sending: 02 -0004.00 +0055.00 +0035.00 -0016.00 -0090.00 +0090.00 #\n",
      "[2023-12-04 18:06:36] DEBUG   (4142056469.py:328) set_joints     recieved: b'2 1 '\n"
     ]
    },
    {
     "name": "stdout",
     "output_type": "stream",
     "text": [
      "[-4, 55, 35, -16, -90, 90]\n"
     ]
    },
    {
     "name": "stderr",
     "output_type": "stream",
     "text": [
      "[2023-12-04 18:06:37] DEBUG   (4142056469.py:323) get_joints     sending: 04 #\n",
      "[2023-12-04 18:06:37] DEBUG   (4142056469.py:328) get_joints     recieved: b'4 1 2.90 55.00 35.00 7.03 -90.00 90.00'\n",
      "[2023-12-04 18:06:37] DEBUG   (4142056469.py:323) get_cartesian  sending: 03 #\n",
      "[2023-12-04 18:06:37] DEBUG   (4142056469.py:328) get_cartesian  recieved: b'3 1 362.20 -1.64 142.87 0.463 0.463 0.534 0.534'\n",
      "[2023-12-04 18:06:37] DEBUG   (4142056469.py:323) set_joints     sending: 02 -0002.00 +0055.00 +0035.00 -0008.00 -0090.00 +0090.00 #\n",
      "[2023-12-04 18:06:37] DEBUG   (4142056469.py:328) set_joints     recieved: b'2 1 '\n"
     ]
    },
    {
     "name": "stdout",
     "output_type": "stream",
     "text": [
      "[-2, 55, 35, -8, -90, 90]\n"
     ]
    },
    {
     "name": "stderr",
     "output_type": "stream",
     "text": [
      "[2023-12-04 18:06:37] DEBUG   (4142056469.py:323) get_joints     sending: 04 #\n",
      "[2023-12-04 18:06:37] DEBUG   (4142056469.py:328) get_joints     recieved: b'4 1 -2.00 55.00 35.00 -8.01 -90.00 90.00'\n",
      "[2023-12-04 18:06:37] DEBUG   (4142056469.py:323) get_cartesian  sending: 03 #\n",
      "[2023-12-04 18:06:37] DEBUG   (4142056469.py:328) get_cartesian  recieved: b'3 1 362.60 -2.61 142.87 0.473 0.473 0.526 0.526'\n",
      "[2023-12-04 18:06:37] DEBUG   (4142056469.py:323) set_joints     sending: 02 +0000.00 +0055.00 +0035.00 +0000.00 -0090.00 +0090.00 #\n",
      "[2023-12-04 18:06:37] DEBUG   (4142056469.py:328) set_joints     recieved: b'2 1 '\n"
     ]
    },
    {
     "name": "stdout",
     "output_type": "stream",
     "text": [
      "[0, 55, 35, 0, -90, 90]\n"
     ]
    },
    {
     "name": "stderr",
     "output_type": "stream",
     "text": [
      "[2023-12-04 18:06:38] DEBUG   (4142056469.py:323) get_joints     sending: 04 #\n",
      "[2023-12-04 18:06:38] DEBUG   (4142056469.py:328) get_joints     recieved: b'4 1 -0.01 55.00 35.00 -0.01 -90.00 90.00'\n",
      "[2023-12-04 18:06:38] DEBUG   (4142056469.py:323) get_cartesian  sending: 03 #\n",
      "[2023-12-04 18:06:38] DEBUG   (4142056469.py:328) get_cartesian  recieved: b'3 1 363.17 0.00 142.87 0.500 0.500 0.500 0.500'\n",
      "[2023-12-04 18:06:38] DEBUG   (4142056469.py:323) set_joints     sending: 02 +0002.00 +0055.00 +0035.00 +0008.00 -0090.00 +0090.00 #\n",
      "[2023-12-04 18:06:38] DEBUG   (4142056469.py:328) set_joints     recieved: b'2 1 '\n"
     ]
    },
    {
     "name": "stdout",
     "output_type": "stream",
     "text": [
      "[2, 55, 35, 8, -90, 90]\n"
     ]
    },
    {
     "name": "stderr",
     "output_type": "stream",
     "text": [
      "[2023-12-04 18:06:38] DEBUG   (4142056469.py:323) get_joints     sending: 04 #\n",
      "[2023-12-04 18:06:38] DEBUG   (4142056469.py:328) get_joints     recieved: b'4 1 2.00 55.00 35.00 7.99 -90.00 90.00'\n",
      "[2023-12-04 18:06:38] DEBUG   (4142056469.py:323) get_cartesian  sending: 03 #\n",
      "[2023-12-04 18:06:38] DEBUG   (4142056469.py:328) get_cartesian  recieved: b'3 1 362.60 2.65 142.87 0.525 0.525 0.473 0.473'\n",
      "[2023-12-04 18:06:38] DEBUG   (4142056469.py:323) set_joints     sending: 02 +0004.00 +0055.00 +0035.00 +0016.00 -0090.00 +0090.00 #\n",
      "[2023-12-04 18:06:38] DEBUG   (4142056469.py:328) set_joints     recieved: b'2 1 '\n"
     ]
    },
    {
     "name": "stdout",
     "output_type": "stream",
     "text": [
      "[4, 55, 35, 16, -90, 90]\n"
     ]
    },
    {
     "name": "stderr",
     "output_type": "stream",
     "text": [
      "[2023-12-04 18:06:39] DEBUG   (4142056469.py:323) get_joints     sending: 04 #\n",
      "[2023-12-04 18:06:39] DEBUG   (4142056469.py:328) get_joints     recieved: b'4 1 3.99 55.00 35.00 16.00 -90.00 90.00'\n",
      "[2023-12-04 18:06:39] DEBUG   (4142056469.py:323) get_cartesian  sending: 03 #\n",
      "[2023-12-04 18:06:39] DEBUG   (4142056469.py:328) get_cartesian  recieved: b'3 1 360.88 5.34 142.87 0.550 0.550 0.445 0.445'\n",
      "[2023-12-04 18:06:39] DEBUG   (4142056469.py:323) set_joints     sending: 02 +0006.00 +0055.00 +0035.00 +0024.00 -0090.00 +0090.00 #\n",
      "[2023-12-04 18:06:39] DEBUG   (4142056469.py:328) set_joints     recieved: b'2 1 '\n"
     ]
    },
    {
     "name": "stdout",
     "output_type": "stream",
     "text": [
      "[6, 55, 35, 24, -90, 90]\n"
     ]
    },
    {
     "name": "stderr",
     "output_type": "stream",
     "text": [
      "[2023-12-04 18:06:39] DEBUG   (4142056469.py:323) get_joints     sending: 04 #\n",
      "[2023-12-04 18:06:39] DEBUG   (4142056469.py:328) get_joints     recieved: b'4 1 6.00 55.00 35.00 23.99 -90.00 90.00'\n",
      "[2023-12-04 18:06:39] DEBUG   (4142056469.py:323) get_cartesian  sending: 03 #\n",
      "[2023-12-04 18:06:39] DEBUG   (4142056469.py:328) get_cartesian  recieved: b'3 1 358.05 8.20 142.87 0.572 0.572 0.416 0.416'\n",
      "[2023-12-04 18:06:39] DEBUG   (4142056469.py:323) set_joints     sending: 02 -0006.00 +0055.00 +0035.00 -0016.00 -0090.00 +0090.00 #\n",
      "[2023-12-04 18:06:39] DEBUG   (4142056469.py:328) set_joints     recieved: b'2 1 '\n"
     ]
    },
    {
     "name": "stdout",
     "output_type": "stream",
     "text": [
      "[-6, 55, 35, -16, -90, 90]\n"
     ]
    },
    {
     "name": "stderr",
     "output_type": "stream",
     "text": [
      "[2023-12-04 18:06:40] DEBUG   (4142056469.py:323) get_joints     sending: 04 #\n",
      "[2023-12-04 18:06:40] DEBUG   (4142056469.py:328) get_joints     recieved: b'4 1 0.27 55.00 35.00 4.90 -90.00 90.00'\n",
      "[2023-12-04 18:06:40] DEBUG   (4142056469.py:323) get_cartesian  sending: 03 #\n",
      "[2023-12-04 18:06:40] DEBUG   (4142056469.py:328) get_cartesian  recieved: b'3 1 361.79 -14.67 142.87 0.470 0.470 0.528 0.528'\n",
      "[2023-12-04 18:06:40] DEBUG   (4142056469.py:323) set_joints     sending: 02 -0004.00 +0055.00 +0035.00 -0008.00 -0090.00 +0090.00 #\n",
      "[2023-12-04 18:06:40] DEBUG   (4142056469.py:328) set_joints     recieved: b'2 1 '\n"
     ]
    },
    {
     "name": "stdout",
     "output_type": "stream",
     "text": [
      "[-4, 55, 35, -8, -90, 90]\n"
     ]
    },
    {
     "name": "stderr",
     "output_type": "stream",
     "text": [
      "[2023-12-04 18:06:40] DEBUG   (4142056469.py:323) get_joints     sending: 04 #\n",
      "[2023-12-04 18:06:40] DEBUG   (4142056469.py:328) get_joints     recieved: b'4 1 -4.00 55.00 35.00 -8.01 -90.00 90.00'\n",
      "[2023-12-04 18:06:40] DEBUG   (4142056469.py:323) get_cartesian  sending: 03 #\n",
      "[2023-12-04 18:06:40] DEBUG   (4142056469.py:328) get_cartesian  recieved: b'3 1 362.29 -15.27 142.87 0.482 0.482 0.517 0.517'\n",
      "[2023-12-04 18:06:40] DEBUG   (4142056469.py:323) set_joints     sending: 02 -0002.00 +0055.00 +0035.00 +0000.00 -0090.00 +0090.00 #\n",
      "[2023-12-04 18:06:40] DEBUG   (4142056469.py:328) set_joints     recieved: b'2 1 '\n"
     ]
    },
    {
     "name": "stdout",
     "output_type": "stream",
     "text": [
      "[-2, 55, 35, 0, -90, 90]\n"
     ]
    },
    {
     "name": "stderr",
     "output_type": "stream",
     "text": [
      "[2023-12-04 18:06:41] DEBUG   (4142056469.py:323) get_joints     sending: 04 #\n",
      "[2023-12-04 18:06:41] DEBUG   (4142056469.py:328) get_joints     recieved: b'4 1 -2.00 55.00 35.00 0.01 -90.00 90.00'\n",
      "[2023-12-04 18:06:41] DEBUG   (4142056469.py:323) get_cartesian  sending: 03 #\n",
      "[2023-12-04 18:06:41] DEBUG   (4142056469.py:328) get_cartesian  recieved: b'3 1 362.95 -12.68 142.86 0.509 0.509 0.491 0.491'\n",
      "[2023-12-04 18:06:41] DEBUG   (4142056469.py:323) set_joints     sending: 02 +0000.00 +0055.00 +0035.00 +0008.00 -0090.00 +0090.00 #\n",
      "[2023-12-04 18:06:41] DEBUG   (4142056469.py:328) set_joints     recieved: b'2 1 '\n"
     ]
    },
    {
     "name": "stdout",
     "output_type": "stream",
     "text": [
      "[0, 55, 35, 8, -90, 90]\n"
     ]
    },
    {
     "name": "stderr",
     "output_type": "stream",
     "text": [
      "[2023-12-04 18:06:41] DEBUG   (4142056469.py:323) get_joints     sending: 04 #\n",
      "[2023-12-04 18:06:41] DEBUG   (4142056469.py:328) get_joints     recieved: b'4 1 -0.01 55.00 35.00 7.98 -90.00 90.00'\n",
      "[2023-12-04 18:06:41] DEBUG   (4142056469.py:323) get_cartesian  sending: 03 #\n",
      "[2023-12-04 18:06:41] DEBUG   (4142056469.py:328) get_cartesian  recieved: b'3 1 362.47 -10.00 142.87 0.534 0.534 0.464 0.464'\n",
      "[2023-12-04 18:06:41] DEBUG   (4142056469.py:323) set_joints     sending: 02 +0002.00 +0055.00 +0035.00 +0016.00 -0090.00 +0090.00 #\n",
      "[2023-12-04 18:06:41] DEBUG   (4142056469.py:328) set_joints     recieved: b'2 1 '\n"
     ]
    },
    {
     "name": "stdout",
     "output_type": "stream",
     "text": [
      "[2, 55, 35, 16, -90, 90]\n"
     ]
    },
    {
     "name": "stderr",
     "output_type": "stream",
     "text": [
      "[2023-12-04 18:06:42] DEBUG   (4142056469.py:323) get_joints     sending: 04 #\n",
      "[2023-12-04 18:06:42] DEBUG   (4142056469.py:328) get_joints     recieved: b'4 1 2.00 55.00 35.00 16.01 -90.00 90.00'\n",
      "[2023-12-04 18:06:42] DEBUG   (4142056469.py:323) get_cartesian  sending: 03 #\n",
      "[2023-12-04 18:06:42] DEBUG   (4142056469.py:328) get_cartesian  recieved: b'3 1 360.85 -7.26 142.87 0.557 0.557 0.435 0.435'\n",
      "[2023-12-04 18:06:42] DEBUG   (4142056469.py:323) set_joints     sending: 02 +0004.00 +0055.00 +0035.00 +0024.00 -0090.00 +0090.00 #\n",
      "[2023-12-04 18:06:42] DEBUG   (4142056469.py:328) set_joints     recieved: b'2 1 '\n"
     ]
    },
    {
     "name": "stdout",
     "output_type": "stream",
     "text": [
      "[4, 55, 35, 24, -90, 90]\n"
     ]
    },
    {
     "name": "stderr",
     "output_type": "stream",
     "text": [
      "[2023-12-04 18:06:42] DEBUG   (4142056469.py:323) get_joints     sending: 04 #\n",
      "[2023-12-04 18:06:42] DEBUG   (4142056469.py:328) get_joints     recieved: b'4 1 3.98 55.00 35.00 23.96 -90.00 90.00'\n",
      "[2023-12-04 18:06:42] DEBUG   (4142056469.py:323) get_cartesian  sending: 03 #\n",
      "[2023-12-04 18:06:42] DEBUG   (4142056469.py:328) get_cartesian  recieved: b'3 1 358.12 -4.30 142.87 0.579 0.579 0.406 0.406'\n",
      "[2023-12-04 18:06:42] DEBUG   (4142056469.py:323) set_joints     sending: 02 -0008.00 +0055.00 +0035.00 -0016.00 -0090.00 +0090.00 #\n",
      "[2023-12-04 18:06:42] DEBUG   (4142056469.py:328) set_joints     recieved: b'2 1 '\n"
     ]
    },
    {
     "name": "stdout",
     "output_type": "stream",
     "text": [
      "[-8, 55, 35, -16, -90, 90]\n"
     ]
    },
    {
     "name": "stderr",
     "output_type": "stream",
     "text": [
      "[2023-12-04 18:06:43] DEBUG   (4142056469.py:323) get_joints     sending: 04 #\n",
      "[2023-12-04 18:06:43] DEBUG   (4142056469.py:328) get_joints     recieved: b'4 1 -1.52 55.00 35.00 5.62 -90.00 90.00'\n",
      "[2023-12-04 18:06:43] DEBUG   (4142056469.py:323) get_cartesian  sending: 03 #\n",
      "[2023-12-04 18:06:43] DEBUG   (4142056469.py:328) get_cartesian  recieved: b'3 1 360.76 -27.96 142.87 0.476 0.476 0.523 0.523'\n",
      "[2023-12-04 18:06:43] DEBUG   (4142056469.py:323) set_joints     sending: 02 -0006.00 +0055.00 +0035.00 -0008.00 -0090.00 +0090.00 #\n",
      "[2023-12-04 18:06:43] DEBUG   (4142056469.py:328) set_joints     recieved: b'2 1 '\n"
     ]
    },
    {
     "name": "stdout",
     "output_type": "stream",
     "text": [
      "[-6, 55, 35, -8, -90, 90]\n"
     ]
    },
    {
     "name": "stderr",
     "output_type": "stream",
     "text": [
      "[2023-12-04 18:06:43] DEBUG   (4142056469.py:323) get_joints     sending: 04 #\n",
      "[2023-12-04 18:06:43] DEBUG   (4142056469.py:328) get_joints     recieved: b'4 1 -6.00 55.00 35.00 -8.01 -90.00 90.00'\n",
      "[2023-12-04 18:06:43] DEBUG   (4142056469.py:323) get_cartesian  sending: 03 #\n",
      "[2023-12-04 18:06:43] DEBUG   (4142056469.py:328) get_cartesian  recieved: b'3 1 361.53 -27.90 142.87 0.491 0.491 0.509 0.509'\n",
      "[2023-12-04 18:06:43] DEBUG   (4142056469.py:323) set_joints     sending: 02 -0004.00 +0055.00 +0035.00 +0000.00 -0090.00 +0090.00 #\n",
      "[2023-12-04 18:06:44] DEBUG   (4142056469.py:328) set_joints     recieved: b'2 1 '\n"
     ]
    },
    {
     "name": "stdout",
     "output_type": "stream",
     "text": [
      "[-4, 55, 35, 0, -90, 90]\n"
     ]
    },
    {
     "name": "stderr",
     "output_type": "stream",
     "text": [
      "[2023-12-04 18:06:44] DEBUG   (4142056469.py:323) get_joints     sending: 04 #\n",
      "[2023-12-04 18:06:44] DEBUG   (4142056469.py:328) get_joints     recieved: b'4 1 -4.00 55.00 35.00 0.01 -90.00 90.00'\n",
      "[2023-12-04 18:06:44] DEBUG   (4142056469.py:323) get_cartesian  sending: 03 #\n",
      "[2023-12-04 18:06:44] DEBUG   (4142056469.py:328) get_cartesian  recieved: b'3 1 362.29 -25.34 142.87 0.517 0.517 0.482 0.482'\n",
      "[2023-12-04 18:06:44] DEBUG   (4142056469.py:323) set_joints     sending: 02 -0002.00 +0055.00 +0035.00 +0008.00 -0090.00 +0090.00 #\n",
      "[2023-12-04 18:06:44] DEBUG   (4142056469.py:328) set_joints     recieved: b'2 1 '\n"
     ]
    },
    {
     "name": "stdout",
     "output_type": "stream",
     "text": [
      "[-2, 55, 35, 8, -90, 90]\n"
     ]
    },
    {
     "name": "stderr",
     "output_type": "stream",
     "text": [
      "[2023-12-04 18:06:44] DEBUG   (4142056469.py:323) get_joints     sending: 04 #\n",
      "[2023-12-04 18:06:44] DEBUG   (4142056469.py:328) get_joints     recieved: b'4 1 -2.00 55.00 35.00 7.99 -90.00 90.00'\n",
      "[2023-12-04 18:06:44] DEBUG   (4142056469.py:323) get_cartesian  sending: 03 #\n",
      "[2023-12-04 18:06:44] DEBUG   (4142056469.py:328) get_cartesian  recieved: b'3 1 361.90 -22.65 142.87 0.542 0.542 0.455 0.455'\n",
      "[2023-12-04 18:06:44] DEBUG   (4142056469.py:323) set_joints     sending: 02 +0000.00 +0055.00 +0035.00 +0016.00 -0090.00 +0090.00 #\n",
      "[2023-12-04 18:06:45] DEBUG   (4142056469.py:328) set_joints     recieved: b'2 1 '\n"
     ]
    },
    {
     "name": "stdout",
     "output_type": "stream",
     "text": [
      "[0, 55, 35, 16, -90, 90]\n"
     ]
    },
    {
     "name": "stderr",
     "output_type": "stream",
     "text": [
      "[2023-12-04 18:06:45] DEBUG   (4142056469.py:323) get_joints     sending: 04 #\n",
      "[2023-12-04 18:06:45] DEBUG   (4142056469.py:328) get_joints     recieved: b'4 1 -0.01 55.00 35.00 16.01 -90.00 90.00'\n",
      "[2023-12-04 18:06:45] DEBUG   (4142056469.py:323) get_cartesian  sending: 03 #\n",
      "[2023-12-04 18:06:45] DEBUG   (4142056469.py:328) get_cartesian  recieved: b'3 1 360.38 -19.84 142.87 0.565 0.565 0.425 0.425'\n",
      "[2023-12-04 18:06:45] DEBUG   (4142056469.py:323) set_joints     sending: 02 +0002.00 +0055.00 +0035.00 +0024.00 -0090.00 +0090.00 #\n",
      "[2023-12-04 18:06:45] DEBUG   (4142056469.py:328) set_joints     recieved: b'2 1 '\n"
     ]
    },
    {
     "name": "stdout",
     "output_type": "stream",
     "text": [
      "[2, 55, 35, 24, -90, 90]\n"
     ]
    },
    {
     "name": "stderr",
     "output_type": "stream",
     "text": [
      "[2023-12-04 18:06:45] DEBUG   (4142056469.py:323) get_joints     sending: 04 #\n",
      "[2023-12-04 18:06:45] DEBUG   (4142056469.py:328) get_joints     recieved: b'4 1 2.00 55.00 35.00 23.99 -90.00 90.00'\n",
      "[2023-12-04 18:06:45] DEBUG   (4142056469.py:323) get_cartesian  sending: 03 #\n",
      "[2023-12-04 18:06:45] DEBUG   (4142056469.py:328) get_cartesian  recieved: b'3 1 357.75 -16.80 142.87 0.586 0.586 0.395 0.395'\n",
      "[2023-12-04 18:06:45] DEBUG   (4142056469.py:323) set_joints     sending: 02 -0010.00 +0055.00 +0035.00 -0016.00 -0090.00 +0090.00 #\n",
      "[2023-12-04 18:06:46] DEBUG   (4142056469.py:328) set_joints     recieved: b'2 1 '\n"
     ]
    },
    {
     "name": "stdout",
     "output_type": "stream",
     "text": [
      "[-10, 55, 35, -16, -90, 90]\n"
     ]
    },
    {
     "name": "stderr",
     "output_type": "stream",
     "text": [
      "[2023-12-04 18:06:46] DEBUG   (4142056469.py:323) get_joints     sending: 04 #\n",
      "[2023-12-04 18:06:46] DEBUG   (4142056469.py:328) get_joints     recieved: b'4 1 -2.46 55.00 35.00 9.15 -90.00 90.00'\n",
      "[2023-12-04 18:06:46] DEBUG   (4142056469.py:323) get_cartesian  sending: 03 #\n",
      "[2023-12-04 18:06:46] DEBUG   (4142056469.py:328) get_cartesian  recieved: b'3 1 360.51 -38.30 142.87 0.497 0.497 0.503 0.503'\n",
      "[2023-12-04 18:06:46] DEBUG   (4142056469.py:323) set_joints     sending: 02 -0008.00 +0055.00 +0035.00 -0008.00 -0090.00 +0090.00 #\n",
      "[2023-12-04 18:06:46] DEBUG   (4142056469.py:328) set_joints     recieved: b'2 1 '\n"
     ]
    },
    {
     "name": "stdout",
     "output_type": "stream",
     "text": [
      "[-8, 55, 35, -8, -90, 90]\n"
     ]
    },
    {
     "name": "stderr",
     "output_type": "stream",
     "text": [
      "[2023-12-04 18:06:46] DEBUG   (4142056469.py:323) get_joints     sending: 04 #\n",
      "[2023-12-04 18:06:46] DEBUG   (4142056469.py:328) get_joints     recieved: b'4 1 -8.01 55.00 35.00 -8.02 -90.00 90.00'\n",
      "[2023-12-04 18:06:46] DEBUG   (4142056469.py:323) get_cartesian  sending: 03 #\n",
      "[2023-12-04 18:06:46] DEBUG   (4142056469.py:328) get_cartesian  recieved: b'3 1 360.34 -40.50 142.87 0.500 0.500 0.500 0.500'\n",
      "[2023-12-04 18:06:46] DEBUG   (4142056469.py:323) set_joints     sending: 02 -0006.00 +0055.00 +0035.00 +0000.00 -0090.00 +0090.00 #\n",
      "[2023-12-04 18:06:47] DEBUG   (4142056469.py:328) set_joints     recieved: b'2 1 '\n"
     ]
    },
    {
     "name": "stdout",
     "output_type": "stream",
     "text": [
      "[-6, 55, 35, 0, -90, 90]\n"
     ]
    },
    {
     "name": "stderr",
     "output_type": "stream",
     "text": [
      "[2023-12-04 18:06:47] DEBUG   (4142056469.py:323) get_joints     sending: 04 #\n",
      "[2023-12-04 18:06:47] DEBUG   (4142056469.py:328) get_joints     recieved: b'4 1 -6.00 55.00 35.00 0.01 -90.00 90.00'\n",
      "[2023-12-04 18:06:47] DEBUG   (4142056469.py:323) get_cartesian  sending: 03 #\n",
      "[2023-12-04 18:06:47] DEBUG   (4142056469.py:328) get_cartesian  recieved: b'3 1 361.18 -37.96 142.86 0.526 0.526 0.473 0.473'\n",
      "[2023-12-04 18:06:47] DEBUG   (4142056469.py:323) set_joints     sending: 02 -0004.00 +0055.00 +0035.00 +0008.00 -0090.00 +0090.00 #\n",
      "[2023-12-04 18:06:47] DEBUG   (4142056469.py:328) set_joints     recieved: b'2 1 '\n"
     ]
    },
    {
     "name": "stdout",
     "output_type": "stream",
     "text": [
      "[-4, 55, 35, 8, -90, 90]\n"
     ]
    },
    {
     "name": "stderr",
     "output_type": "stream",
     "text": [
      "[2023-12-04 18:06:47] DEBUG   (4142056469.py:323) get_joints     sending: 04 #\n",
      "[2023-12-04 18:06:47] DEBUG   (4142056469.py:328) get_joints     recieved: b'4 1 -4.00 55.00 35.00 8.00 -90.00 90.00'\n",
      "[2023-12-04 18:06:47] DEBUG   (4142056469.py:323) get_cartesian  sending: 03 #\n",
      "[2023-12-04 18:06:47] DEBUG   (4142056469.py:328) get_cartesian  recieved: b'3 1 360.89 -35.27 142.86 0.550 0.550 0.445 0.445'\n",
      "[2023-12-04 18:06:48] DEBUG   (4142056469.py:323) set_joints     sending: 02 -0002.00 +0055.00 +0035.00 +0016.00 -0090.00 +0090.00 #\n",
      "[2023-12-04 18:06:48] DEBUG   (4142056469.py:328) set_joints     recieved: b'2 1 '\n"
     ]
    },
    {
     "name": "stdout",
     "output_type": "stream",
     "text": [
      "[-2, 55, 35, 16, -90, 90]\n"
     ]
    },
    {
     "name": "stderr",
     "output_type": "stream",
     "text": [
      "[2023-12-04 18:06:48] DEBUG   (4142056469.py:323) get_joints     sending: 04 #\n",
      "[2023-12-04 18:06:48] DEBUG   (4142056469.py:328) get_joints     recieved: b'4 1 -2.00 55.00 35.00 16.01 -90.00 90.00'\n",
      "[2023-12-04 18:06:48] DEBUG   (4142056469.py:323) get_cartesian  sending: 03 #\n",
      "[2023-12-04 18:06:48] DEBUG   (4142056469.py:328) get_cartesian  recieved: b'3 1 359.47 -32.41 142.86 0.572 0.572 0.416 0.416'\n",
      "[2023-12-04 18:06:48] DEBUG   (4142056469.py:323) set_joints     sending: 02 +0000.00 +0055.00 +0035.00 +0024.00 -0090.00 +0090.00 #\n",
      "[2023-12-04 18:06:48] DEBUG   (4142056469.py:328) set_joints     recieved: b'2 1 '\n"
     ]
    },
    {
     "name": "stdout",
     "output_type": "stream",
     "text": [
      "[0, 55, 35, 24, -90, 90]\n"
     ]
    },
    {
     "name": "stderr",
     "output_type": "stream",
     "text": [
      "[2023-12-04 18:06:48] DEBUG   (4142056469.py:323) get_joints     sending: 04 #\n",
      "[2023-12-04 18:06:48] DEBUG   (4142056469.py:328) get_joints     recieved: b'4 1 0.00 55.00 35.00 23.99 -90.00 90.00'\n",
      "[2023-12-04 18:06:48] DEBUG   (4142056469.py:323) get_cartesian  sending: 03 #\n",
      "[2023-12-04 18:06:49] DEBUG   (4142056469.py:328) get_cartesian  recieved: b'3 1 356.95 -29.27 142.86 0.593 0.593 0.385 0.385'\n",
      "[2023-12-04 18:06:49] DEBUG   (4142056469.py:323) set_joints     sending: 02 -0012.00 +0055.00 +0035.00 -0016.00 -0090.00 +0090.00 #\n",
      "[2023-12-04 18:06:49] DEBUG   (4142056469.py:328) set_joints     recieved: b'2 1 '\n"
     ]
    },
    {
     "name": "stdout",
     "output_type": "stream",
     "text": [
      "[-12, 55, 35, -16, -90, 90]\n"
     ]
    },
    {
     "name": "stderr",
     "output_type": "stream",
     "text": [
      "[2023-12-04 18:06:49] DEBUG   (4142056469.py:323) get_joints     sending: 04 #\n",
      "[2023-12-04 18:06:49] DEBUG   (4142056469.py:328) get_joints     recieved: b'4 1 -4.88 55.00 35.00 7.73 -90.00 90.00'\n",
      "[2023-12-04 18:06:49] DEBUG   (4142056469.py:323) get_cartesian  sending: 03 #\n",
      "[2023-12-04 18:06:49] DEBUG   (4142056469.py:328) get_cartesian  recieved: b'3 1 358.79 -51.26 142.87 0.503 0.503 0.497 0.497'\n",
      "[2023-12-04 18:06:49] DEBUG   (4142056469.py:323) set_joints     sending: 02 -0010.00 +0055.00 +0035.00 -0008.00 -0090.00 +0090.00 #\n",
      "[2023-12-04 18:06:49] DEBUG   (4142056469.py:328) set_joints     recieved: b'2 1 '\n"
     ]
    },
    {
     "name": "stdout",
     "output_type": "stream",
     "text": [
      "[-10, 55, 35, -8, -90, 90]\n"
     ]
    },
    {
     "name": "stderr",
     "output_type": "stream",
     "text": [
      "[2023-12-04 18:06:49] DEBUG   (4142056469.py:323) get_joints     sending: 04 #\n",
      "[2023-12-04 18:06:49] DEBUG   (4142056469.py:328) get_joints     recieved: b'4 1 -10.01 55.00 35.00 -8.02 -90.00 90.00'\n",
      "[2023-12-04 18:06:49] DEBUG   (4142056469.py:323) get_cartesian  sending: 03 #\n",
      "[2023-12-04 18:06:50] DEBUG   (4142056469.py:328) get_cartesian  recieved: b'3 1 358.71 -53.05 142.87 0.509 0.509 0.491 0.491'\n",
      "[2023-12-04 18:06:50] DEBUG   (4142056469.py:323) set_joints     sending: 02 -0008.00 +0055.00 +0035.00 +0000.00 -0090.00 +0090.00 #\n",
      "[2023-12-04 18:06:50] DEBUG   (4142056469.py:328) set_joints     recieved: b'2 1 '\n"
     ]
    },
    {
     "name": "stdout",
     "output_type": "stream",
     "text": [
      "[-8, 55, 35, 0, -90, 90]\n"
     ]
    },
    {
     "name": "stderr",
     "output_type": "stream",
     "text": [
      "[2023-12-04 18:06:50] DEBUG   (4142056469.py:323) get_joints     sending: 04 #\n",
      "[2023-12-04 18:06:50] DEBUG   (4142056469.py:328) get_joints     recieved: b'4 1 -8.01 55.00 35.00 0.00 -90.00 90.00'\n",
      "[2023-12-04 18:06:50] DEBUG   (4142056469.py:323) get_cartesian  sending: 03 #\n",
      "[2023-12-04 18:06:50] DEBUG   (4142056469.py:328) get_cartesian  recieved: b'3 1 359.64 -50.55 142.87 0.534 0.534 0.464 0.464'\n",
      "[2023-12-04 18:06:50] DEBUG   (4142056469.py:323) set_joints     sending: 02 -0006.00 +0055.00 +0035.00 +0008.00 -0090.00 +0090.00 #\n",
      "[2023-12-04 18:06:50] DEBUG   (4142056469.py:328) set_joints     recieved: b'2 1 '\n"
     ]
    },
    {
     "name": "stdout",
     "output_type": "stream",
     "text": [
      "[-6, 55, 35, 8, -90, 90]\n"
     ]
    },
    {
     "name": "stderr",
     "output_type": "stream",
     "text": [
      "[2023-12-04 18:06:50] DEBUG   (4142056469.py:323) get_joints     sending: 04 #\n",
      "[2023-12-04 18:06:50] DEBUG   (4142056469.py:328) get_joints     recieved: b'4 1 -6.00 55.00 35.00 7.99 -90.00 90.00'\n",
      "[2023-12-04 18:06:51] DEBUG   (4142056469.py:323) get_cartesian  sending: 03 #\n",
      "[2023-12-04 18:06:51] DEBUG   (4142056469.py:328) get_cartesian  recieved: b'3 1 359.44 -47.84 142.86 0.557 0.557 0.435 0.435'\n",
      "[2023-12-04 18:06:51] DEBUG   (4142056469.py:323) set_joints     sending: 02 -0004.00 +0055.00 +0035.00 +0016.00 -0090.00 +0090.00 #\n",
      "[2023-12-04 18:06:51] DEBUG   (4142056469.py:328) set_joints     recieved: b'2 1 '\n"
     ]
    },
    {
     "name": "stdout",
     "output_type": "stream",
     "text": [
      "[-4, 55, 35, 16, -90, 90]\n"
     ]
    },
    {
     "name": "stderr",
     "output_type": "stream",
     "text": [
      "[2023-12-04 18:06:51] DEBUG   (4142056469.py:323) get_joints     sending: 04 #\n",
      "[2023-12-04 18:06:51] DEBUG   (4142056469.py:328) get_joints     recieved: b'4 1 -4.00 55.00 35.00 16.01 -90.00 90.00'\n",
      "[2023-12-04 18:06:51] DEBUG   (4142056469.py:323) get_cartesian  sending: 03 #\n",
      "[2023-12-04 18:06:51] DEBUG   (4142056469.py:328) get_cartesian  recieved: b'3 1 358.12 -44.94 142.86 0.579 0.579 0.406 0.406'\n",
      "[2023-12-04 18:06:51] DEBUG   (4142056469.py:323) set_joints     sending: 02 -0002.00 +0055.00 +0035.00 +0024.00 -0090.00 +0090.00 #\n",
      "[2023-12-04 18:06:51] DEBUG   (4142056469.py:328) set_joints     recieved: b'2 1 '\n"
     ]
    },
    {
     "name": "stdout",
     "output_type": "stream",
     "text": [
      "[-2, 55, 35, 24, -90, 90]\n"
     ]
    },
    {
     "name": "stderr",
     "output_type": "stream",
     "text": [
      "[2023-12-04 18:06:51] DEBUG   (4142056469.py:323) get_joints     sending: 04 #\n",
      "[2023-12-04 18:06:52] DEBUG   (4142056469.py:328) get_joints     recieved: b'4 1 -2.00 55.00 35.00 24.00 -90.00 90.00'\n",
      "[2023-12-04 18:06:52] DEBUG   (4142056469.py:323) get_cartesian  sending: 03 #\n",
      "[2023-12-04 18:06:52] DEBUG   (4142056469.py:328) get_cartesian  recieved: b'3 1 355.71 -41.71 142.87 0.600 0.600 0.375 0.375'\n",
      "[2023-12-04 18:06:52] DEBUG   (4142056469.py:323) set_joints     sending: 02 -0014.00 +0055.00 +0035.00 -0016.00 -0090.00 +0090.00 #\n",
      "[2023-12-04 18:06:52] DEBUG   (4142056469.py:328) set_joints     recieved: b'2 1 '\n"
     ]
    },
    {
     "name": "stdout",
     "output_type": "stream",
     "text": [
      "[-14, 55, 35, -16, -90, 90]\n"
     ]
    },
    {
     "name": "stderr",
     "output_type": "stream",
     "text": [
      "[2023-12-04 18:06:52] DEBUG   (4142056469.py:323) get_joints     sending: 04 #\n",
      "[2023-12-04 18:06:52] DEBUG   (4142056469.py:328) get_joints     recieved: b'4 1 -7.73 55.00 35.00 4.90 -90.00 90.00'\n",
      "[2023-12-04 18:06:52] DEBUG   (4142056469.py:323) get_cartesian  sending: 03 #\n",
      "[2023-12-04 18:06:52] DEBUG   (4142056469.py:328) get_cartesian  recieved: b'3 1 355.86 -65.51 142.87 0.502 0.502 0.498 0.498'\n",
      "[2023-12-04 18:06:52] DEBUG   (4142056469.py:323) set_joints     sending: 02 -0012.00 +0055.00 +0035.00 -0008.00 -0090.00 +0090.00 #\n",
      "[2023-12-04 18:06:52] DEBUG   (4142056469.py:328) set_joints     recieved: b'2 1 '\n"
     ]
    },
    {
     "name": "stdout",
     "output_type": "stream",
     "text": [
      "[-12, 55, 35, -8, -90, 90]\n"
     ]
    },
    {
     "name": "stderr",
     "output_type": "stream",
     "text": [
      "[2023-12-04 18:06:52] DEBUG   (4142056469.py:323) get_joints     sending: 04 #\n",
      "[2023-12-04 18:06:53] DEBUG   (4142056469.py:328) get_joints     recieved: b'4 1 -12.01 55.00 35.00 -8.01 -90.00 90.00'\n",
      "[2023-12-04 18:06:53] DEBUG   (4142056469.py:323) get_cartesian  sending: 03 #\n",
      "[2023-12-04 18:06:53] DEBUG   (4142056469.py:328) get_cartesian  recieved: b'3 1 356.64 -65.53 142.87 0.517 0.517 0.482 0.482'\n",
      "[2023-12-04 18:06:53] DEBUG   (4142056469.py:323) set_joints     sending: 02 -0010.00 +0055.00 +0035.00 +0000.00 -0090.00 +0090.00 #\n",
      "[2023-12-04 18:06:53] DEBUG   (4142056469.py:328) set_joints     recieved: b'2 1 '\n"
     ]
    },
    {
     "name": "stdout",
     "output_type": "stream",
     "text": [
      "[-10, 55, 35, 0, -90, 90]\n"
     ]
    },
    {
     "name": "stderr",
     "output_type": "stream",
     "text": [
      "[2023-12-04 18:06:53] DEBUG   (4142056469.py:323) get_joints     sending: 04 #\n",
      "[2023-12-04 18:06:53] DEBUG   (4142056469.py:328) get_joints     recieved: b'4 1 -10.00 55.00 35.00 0.01 -90.00 90.00'\n",
      "[2023-12-04 18:06:53] DEBUG   (4142056469.py:323) get_cartesian  sending: 03 #\n",
      "[2023-12-04 18:06:53] DEBUG   (4142056469.py:328) get_cartesian  recieved: b'3 1 357.65 -63.07 142.87 0.542 0.542 0.454 0.454'\n",
      "[2023-12-04 18:06:53] DEBUG   (4142056469.py:323) set_joints     sending: 02 -0008.00 +0055.00 +0035.00 +0008.00 -0090.00 +0090.00 #\n",
      "[2023-12-04 18:06:53] DEBUG   (4142056469.py:328) set_joints     recieved: b'2 1 '\n"
     ]
    },
    {
     "name": "stdout",
     "output_type": "stream",
     "text": [
      "[-8, 55, 35, 8, -90, 90]\n"
     ]
    },
    {
     "name": "stderr",
     "output_type": "stream",
     "text": [
      "[2023-12-04 18:06:54] DEBUG   (4142056469.py:323) get_joints     sending: 04 #\n",
      "[2023-12-04 18:06:54] DEBUG   (4142056469.py:328) get_joints     recieved: b'4 1 -8.01 55.00 35.00 7.99 -90.00 90.00'\n",
      "[2023-12-04 18:06:54] DEBUG   (4142056469.py:323) get_cartesian  sending: 03 #\n",
      "[2023-12-04 18:06:54] DEBUG   (4142056469.py:328) get_cartesian  recieved: b'3 1 357.55 -60.36 142.87 0.565 0.565 0.426 0.426'\n",
      "[2023-12-04 18:06:54] DEBUG   (4142056469.py:323) set_joints     sending: 02 -0006.00 +0055.00 +0035.00 +0016.00 -0090.00 +0090.00 #\n",
      "[2023-12-04 18:06:54] DEBUG   (4142056469.py:328) set_joints     recieved: b'2 1 '\n"
     ]
    },
    {
     "name": "stdout",
     "output_type": "stream",
     "text": [
      "[-6, 55, 35, 16, -90, 90]\n"
     ]
    },
    {
     "name": "stderr",
     "output_type": "stream",
     "text": [
      "[2023-12-04 18:06:54] DEBUG   (4142056469.py:323) get_joints     sending: 04 #\n",
      "[2023-12-04 18:06:54] DEBUG   (4142056469.py:328) get_joints     recieved: b'4 1 -6.00 55.00 35.00 16.01 -90.00 90.00'\n",
      "[2023-12-04 18:06:54] DEBUG   (4142056469.py:323) get_cartesian  sending: 03 #\n",
      "[2023-12-04 18:06:54] DEBUG   (4142056469.py:328) get_cartesian  recieved: b'3 1 356.33 -57.41 142.86 0.586 0.586 0.395 0.395'\n",
      "[2023-12-04 18:06:54] DEBUG   (4142056469.py:323) set_joints     sending: 02 -0004.00 +0055.00 +0035.00 +0024.00 -0090.00 +0090.00 #\n",
      "[2023-12-04 18:06:54] DEBUG   (4142056469.py:328) set_joints     recieved: b'2 1 '\n"
     ]
    },
    {
     "name": "stdout",
     "output_type": "stream",
     "text": [
      "[-4, 55, 35, 24, -90, 90]\n"
     ]
    },
    {
     "name": "stderr",
     "output_type": "stream",
     "text": [
      "[2023-12-04 18:06:55] DEBUG   (4142056469.py:323) get_joints     sending: 04 #\n",
      "[2023-12-04 18:06:55] DEBUG   (4142056469.py:328) get_joints     recieved: b'4 1 -4.02 55.00 35.00 23.96 -90.00 90.00'\n",
      "[2023-12-04 18:06:55] DEBUG   (4142056469.py:323) get_cartesian  sending: 03 #\n",
      "[2023-12-04 18:06:55] DEBUG   (4142056469.py:328) get_cartesian  recieved: b'3 1 354.03 -54.10 142.86 0.606 0.606 0.364 0.364'\n",
      "[2023-12-04 18:06:55] DEBUG   (4142056469.py:323) set_joints     sending: 02 -0016.00 +0055.00 +0035.00 -0016.00 -0090.00 +0090.00 #\n",
      "[2023-12-04 18:06:55] DEBUG   (4142056469.py:328) set_joints     recieved: b'2 1 '\n"
     ]
    },
    {
     "name": "stdout",
     "output_type": "stream",
     "text": [
      "[-16, 55, 35, -16, -90, 90]\n"
     ]
    },
    {
     "name": "stderr",
     "output_type": "stream",
     "text": [
      "[2023-12-04 18:06:55] DEBUG   (4142056469.py:323) get_joints     sending: 04 #\n",
      "[2023-12-04 18:06:55] DEBUG   (4142056469.py:328) get_joints     recieved: b'4 1 -9.52 55.00 35.00 5.62 -90.00 90.00'\n",
      "[2023-12-04 18:06:55] DEBUG   (4142056469.py:323) get_cartesian  sending: 03 #\n",
      "[2023-12-04 18:06:55] DEBUG   (4142056469.py:328) get_cartesian  recieved: b'3 1 353.74 -77.26 142.87 0.515 0.515 0.485 0.485'\n",
      "[2023-12-04 18:06:55] DEBUG   (4142056469.py:323) set_joints     sending: 02 -0014.00 +0055.00 +0035.00 -0008.00 -0090.00 +0090.00 #\n",
      "[2023-12-04 18:06:55] DEBUG   (4142056469.py:328) set_joints     recieved: b'2 1 '\n"
     ]
    },
    {
     "name": "stdout",
     "output_type": "stream",
     "text": [
      "[-14, 55, 35, -8, -90, 90]\n"
     ]
    },
    {
     "name": "stderr",
     "output_type": "stream",
     "text": [
      "[2023-12-04 18:06:56] DEBUG   (4142056469.py:323) get_joints     sending: 04 #\n",
      "[2023-12-04 18:06:56] DEBUG   (4142056469.py:328) get_joints     recieved: b'4 1 -14.01 55.00 35.00 -8.02 -90.00 90.00'\n",
      "[2023-12-04 18:06:56] DEBUG   (4142056469.py:323) get_cartesian  sending: 03 #\n",
      "[2023-12-04 18:06:56] DEBUG   (4142056469.py:328) get_cartesian  recieved: b'3 1 354.13 -77.94 142.87 0.525 0.525 0.473 0.473'\n",
      "[2023-12-04 18:06:56] DEBUG   (4142056469.py:323) set_joints     sending: 02 -0012.00 +0055.00 +0035.00 +0000.00 -0090.00 +0090.00 #\n",
      "[2023-12-04 18:06:56] DEBUG   (4142056469.py:328) set_joints     recieved: b'2 1 '\n"
     ]
    },
    {
     "name": "stdout",
     "output_type": "stream",
     "text": [
      "[-12, 55, 35, 0, -90, 90]\n"
     ]
    },
    {
     "name": "stderr",
     "output_type": "stream",
     "text": [
      "[2023-12-04 18:06:56] DEBUG   (4142056469.py:323) get_joints     sending: 04 #\n",
      "[2023-12-04 18:06:56] DEBUG   (4142056469.py:328) get_joints     recieved: b'4 1 -12.00 55.00 35.00 0.01 -90.00 90.00'\n",
      "[2023-12-04 18:06:56] DEBUG   (4142056469.py:323) get_cartesian  sending: 03 #\n",
      "[2023-12-04 18:06:56] DEBUG   (4142056469.py:328) get_cartesian  recieved: b'3 1 355.23 -75.51 142.87 0.550 0.550 0.445 0.445'\n",
      "[2023-12-04 18:06:56] DEBUG   (4142056469.py:323) set_joints     sending: 02 -0010.00 +0055.00 +0035.00 +0008.00 -0090.00 +0090.00 #\n",
      "[2023-12-04 18:06:56] DEBUG   (4142056469.py:328) set_joints     recieved: b'2 1 '\n"
     ]
    },
    {
     "name": "stdout",
     "output_type": "stream",
     "text": [
      "[-10, 55, 35, 8, -90, 90]\n"
     ]
    },
    {
     "name": "stderr",
     "output_type": "stream",
     "text": [
      "[2023-12-04 18:06:57] DEBUG   (4142056469.py:323) get_joints     sending: 04 #\n",
      "[2023-12-04 18:06:57] DEBUG   (4142056469.py:328) get_joints     recieved: b'4 1 -10.00 55.00 35.00 7.99 -90.00 90.00'\n",
      "[2023-12-04 18:06:57] DEBUG   (4142056469.py:323) get_cartesian  sending: 03 #\n",
      "[2023-12-04 18:06:57] DEBUG   (4142056469.py:328) get_cartesian  recieved: b'3 1 355.22 -72.80 142.86 0.572 0.572 0.416 0.416'\n",
      "[2023-12-04 18:06:57] DEBUG   (4142056469.py:323) set_joints     sending: 02 -0008.00 +0055.00 +0035.00 +0016.00 -0090.00 +0090.00 #\n",
      "[2023-12-04 18:06:57] DEBUG   (4142056469.py:328) set_joints     recieved: b'2 1 '\n"
     ]
    },
    {
     "name": "stdout",
     "output_type": "stream",
     "text": [
      "[-8, 55, 35, 16, -90, 90]\n"
     ]
    },
    {
     "name": "stderr",
     "output_type": "stream",
     "text": [
      "[2023-12-04 18:06:57] DEBUG   (4142056469.py:323) get_joints     sending: 04 #\n",
      "[2023-12-04 18:06:57] DEBUG   (4142056469.py:328) get_joints     recieved: b'4 1 -8.00 55.00 35.00 16.01 -90.00 90.00'\n",
      "[2023-12-04 18:06:57] DEBUG   (4142056469.py:323) get_cartesian  sending: 03 #\n",
      "[2023-12-04 18:06:57] DEBUG   (4142056469.py:328) get_cartesian  recieved: b'3 1 354.11 -69.81 142.87 0.593 0.593 0.385 0.385'\n",
      "[2023-12-04 18:06:57] DEBUG   (4142056469.py:323) set_joints     sending: 02 -0006.00 +0055.00 +0035.00 +0024.00 -0090.00 +0090.00 #\n",
      "[2023-12-04 18:06:57] DEBUG   (4142056469.py:328) set_joints     recieved: b'2 1 '\n"
     ]
    },
    {
     "name": "stdout",
     "output_type": "stream",
     "text": [
      "[-6, 55, 35, 24, -90, 90]\n"
     ]
    },
    {
     "name": "stderr",
     "output_type": "stream",
     "text": [
      "[2023-12-04 18:06:58] DEBUG   (4142056469.py:323) get_joints     sending: 04 #\n",
      "[2023-12-04 18:06:58] DEBUG   (4142056469.py:328) get_joints     recieved: b'4 1 -6.00 55.00 35.00 24.00 -90.00 90.00'\n",
      "[2023-12-04 18:06:58] DEBUG   (4142056469.py:323) get_cartesian  sending: 03 #\n",
      "[2023-12-04 18:06:58] DEBUG   (4142056469.py:328) get_cartesian  recieved: b'3 1 351.93 -66.42 142.87 0.612 0.612 0.354 0.354'\n",
      "[2023-12-04 18:06:58] DEBUG   (4142056469.py:323) set_joints     sending: 02 -0018.00 +0055.00 +0035.00 -0016.00 -0090.00 +0090.00 #\n",
      "[2023-12-04 18:06:58] DEBUG   (4142056469.py:328) set_joints     recieved: b'2 1 '\n"
     ]
    },
    {
     "name": "stdout",
     "output_type": "stream",
     "text": [
      "[-18, 55, 35, -16, -90, 90]\n"
     ]
    },
    {
     "name": "stderr",
     "output_type": "stream",
     "text": [
      "[2023-12-04 18:06:58] DEBUG   (4142056469.py:323) get_joints     sending: 04 #\n",
      "[2023-12-04 18:06:58] DEBUG   (4142056469.py:328) get_joints     recieved: b'4 1 -10.67 55.00 35.00 8.44 -90.00 90.00'\n",
      "[2023-12-04 18:06:58] DEBUG   (4142056469.py:323) get_cartesian  sending: 03 #\n",
      "[2023-12-04 18:06:58] DEBUG   (4142056469.py:328) get_cartesian  recieved: b'3 1 351.67 -88.10 142.86 0.531 0.531 0.467 0.467'\n",
      "[2023-12-04 18:06:58] DEBUG   (4142056469.py:323) set_joints     sending: 02 -0016.00 +0055.00 +0035.00 -0008.00 -0090.00 +0090.00 #\n",
      "[2023-12-04 18:06:58] DEBUG   (4142056469.py:328) set_joints     recieved: b'2 1 '\n"
     ]
    },
    {
     "name": "stdout",
     "output_type": "stream",
     "text": [
      "[-16, 55, 35, -8, -90, 90]\n"
     ]
    },
    {
     "name": "stderr",
     "output_type": "stream",
     "text": [
      "[2023-12-04 18:06:59] DEBUG   (4142056469.py:323) get_joints     sending: 04 #\n",
      "[2023-12-04 18:06:59] DEBUG   (4142056469.py:328) get_joints     recieved: b'4 1 -16.00 55.00 35.00 -8.01 -90.00 90.00'\n",
      "[2023-12-04 18:06:59] DEBUG   (4142056469.py:323) get_cartesian  sending: 03 #\n",
      "[2023-12-04 18:06:59] DEBUG   (4142056469.py:328) get_cartesian  recieved: b'3 1 351.20 -90.25 142.86 0.534 0.534 0.464 0.464'\n",
      "[2023-12-04 18:06:59] DEBUG   (4142056469.py:323) set_joints     sending: 02 -0014.00 +0055.00 +0035.00 +0000.00 -0090.00 +0090.00 #\n",
      "[2023-12-04 18:06:59] DEBUG   (4142056469.py:328) set_joints     recieved: b'2 1 '\n"
     ]
    },
    {
     "name": "stdout",
     "output_type": "stream",
     "text": [
      "[-14, 55, 35, 0, -90, 90]\n"
     ]
    },
    {
     "name": "stderr",
     "output_type": "stream",
     "text": [
      "[2023-12-04 18:06:59] DEBUG   (4142056469.py:323) get_joints     sending: 04 #\n",
      "[2023-12-04 18:06:59] DEBUG   (4142056469.py:328) get_joints     recieved: b'4 1 -14.03 55.00 35.00 -0.06 -90.00 90.00'\n",
      "[2023-12-04 18:06:59] DEBUG   (4142056469.py:323) get_cartesian  sending: 03 #\n",
      "[2023-12-04 18:06:59] DEBUG   (4142056469.py:328) get_cartesian  recieved: b'3 1 352.38 -87.86 142.87 0.557 0.557 0.435 0.435'\n",
      "[2023-12-04 18:06:59] DEBUG   (4142056469.py:323) set_joints     sending: 02 -0012.00 +0055.00 +0035.00 +0008.00 -0090.00 +0090.00 #\n",
      "[2023-12-04 18:06:59] DEBUG   (4142056469.py:328) set_joints     recieved: b'2 1 '\n"
     ]
    },
    {
     "name": "stdout",
     "output_type": "stream",
     "text": [
      "[-12, 55, 35, 8, -90, 90]\n"
     ]
    },
    {
     "name": "stderr",
     "output_type": "stream",
     "text": [
      "[2023-12-04 18:07:00] DEBUG   (4142056469.py:323) get_joints     sending: 04 #\n",
      "[2023-12-04 18:07:00] DEBUG   (4142056469.py:328) get_joints     recieved: b'4 1 -12.01 55.00 35.00 7.99 -90.00 90.00'\n",
      "[2023-12-04 18:07:00] DEBUG   (4142056469.py:323) get_cartesian  sending: 03 #\n",
      "[2023-12-04 18:07:00] DEBUG   (4142056469.py:328) get_cartesian  recieved: b'3 1 352.47 -85.15 142.86 0.579 0.579 0.406 0.406'\n",
      "[2023-12-04 18:07:00] DEBUG   (4142056469.py:323) set_joints     sending: 02 -0010.00 +0055.00 +0035.00 +0016.00 -0090.00 +0090.00 #\n",
      "[2023-12-04 18:07:00] DEBUG   (4142056469.py:328) set_joints     recieved: b'2 1 '\n"
     ]
    },
    {
     "name": "stdout",
     "output_type": "stream",
     "text": [
      "[-10, 55, 35, 16, -90, 90]\n"
     ]
    },
    {
     "name": "stderr",
     "output_type": "stream",
     "text": [
      "[2023-12-04 18:07:00] DEBUG   (4142056469.py:323) get_joints     sending: 04 #\n",
      "[2023-12-04 18:07:00] DEBUG   (4142056469.py:328) get_joints     recieved: b'4 1 -10.00 55.00 35.00 16.01 -90.00 90.00'\n",
      "[2023-12-04 18:07:00] DEBUG   (4142056469.py:323) get_cartesian  sending: 03 #\n",
      "[2023-12-04 18:07:00] DEBUG   (4142056469.py:328) get_cartesian  recieved: b'3 1 351.46 -82.13 142.87 0.600 0.600 0.375 0.375'\n",
      "[2023-12-04 18:07:00] DEBUG   (4142056469.py:323) set_joints     sending: 02 -0008.00 +0055.00 +0035.00 +0024.00 -0090.00 +0090.00 #\n",
      "[2023-12-04 18:07:01] DEBUG   (4142056469.py:328) set_joints     recieved: b'2 1 '\n"
     ]
    },
    {
     "name": "stdout",
     "output_type": "stream",
     "text": [
      "[-8, 55, 35, 24, -90, 90]\n"
     ]
    },
    {
     "name": "stderr",
     "output_type": "stream",
     "text": [
      "[2023-12-04 18:07:01] DEBUG   (4142056469.py:323) get_joints     sending: 04 #\n",
      "[2023-12-04 18:07:01] DEBUG   (4142056469.py:328) get_joints     recieved: b'4 1 -8.00 55.00 35.00 23.99 -90.00 90.00'\n",
      "[2023-12-04 18:07:01] DEBUG   (4142056469.py:323) get_cartesian  sending: 03 #\n",
      "[2023-12-04 18:07:01] DEBUG   (4142056469.py:328) get_cartesian  recieved: b'3 1 349.40 -78.66 142.87 0.618 0.618 0.343 0.343'\n",
      "[2023-12-04 18:07:01] DEBUG   (4142056469.py:323) set_joints     sending: 02 -0020.00 +0055.00 +0035.00 -0016.00 -0090.00 +0090.00 #\n",
      "[2023-12-04 18:07:01] DEBUG   (4142056469.py:328) set_joints     recieved: b'2 1 '\n"
     ]
    },
    {
     "name": "stdout",
     "output_type": "stream",
     "text": [
      "[-20, 55, 35, -16, -90, 90]\n"
     ]
    },
    {
     "name": "stderr",
     "output_type": "stream",
     "text": [
      "[2023-12-04 18:07:01] DEBUG   (4142056469.py:323) get_joints     sending: 04 #\n",
      "[2023-12-04 18:07:01] DEBUG   (4142056469.py:328) get_joints     recieved: b'4 1 -13.73 55.00 35.00 4.90 -90.00 90.00'\n",
      "[2023-12-04 18:07:01] DEBUG   (4142056469.py:323) get_cartesian  sending: 03 #\n",
      "[2023-12-04 18:07:01] DEBUG   (4142056469.py:328) get_cartesian  recieved: b'3 1 347.28 -102.06 142.87 0.529 0.529 0.469 0.469'\n",
      "[2023-12-04 18:07:01] DEBUG   (4142056469.py:323) set_joints     sending: 02 -0018.00 +0055.00 +0035.00 -0008.00 -0090.00 +0090.00 #\n",
      "[2023-12-04 18:07:02] DEBUG   (4142056469.py:328) set_joints     recieved: b'2 1 '\n"
     ]
    },
    {
     "name": "stdout",
     "output_type": "stream",
     "text": [
      "[-18, 55, 35, -8, -90, 90]\n"
     ]
    },
    {
     "name": "stderr",
     "output_type": "stream",
     "text": [
      "[2023-12-04 18:07:02] DEBUG   (4142056469.py:323) get_joints     sending: 04 #\n",
      "[2023-12-04 18:07:02] DEBUG   (4142056469.py:328) get_joints     recieved: b'4 1 -18.00 55.00 35.00 -8.01 -90.00 90.00'\n",
      "[2023-12-04 18:07:02] DEBUG   (4142056469.py:323) get_cartesian  sending: 03 #\n",
      "[2023-12-04 18:07:02] DEBUG   (4142056469.py:328) get_cartesian  recieved: b'3 1 347.83 -102.45 142.87 0.542 0.542 0.455 0.455'\n",
      "[2023-12-04 18:07:02] DEBUG   (4142056469.py:323) set_joints     sending: 02 -0016.00 +0055.00 +0035.00 +0000.00 -0090.00 +0090.00 #\n",
      "[2023-12-04 18:07:02] DEBUG   (4142056469.py:328) set_joints     recieved: b'2 1 '\n"
     ]
    },
    {
     "name": "stdout",
     "output_type": "stream",
     "text": [
      "[-16, 55, 35, 0, -90, 90]\n"
     ]
    },
    {
     "name": "stderr",
     "output_type": "stream",
     "text": [
      "[2023-12-04 18:07:02] DEBUG   (4142056469.py:323) get_joints     sending: 04 #\n",
      "[2023-12-04 18:07:02] DEBUG   (4142056469.py:328) get_joints     recieved: b'4 1 -16.00 55.00 35.00 0.01 -90.00 90.00'\n",
      "[2023-12-04 18:07:02] DEBUG   (4142056469.py:323) get_cartesian  sending: 03 #\n",
      "[2023-12-04 18:07:02] DEBUG   (4142056469.py:328) get_cartesian  recieved: b'3 1 349.10 -100.11 142.86 0.565 0.565 0.425 0.425'\n",
      "[2023-12-04 18:07:02] DEBUG   (4142056469.py:323) set_joints     sending: 02 -0014.00 +0055.00 +0035.00 +0008.00 -0090.00 +0090.00 #\n",
      "[2023-12-04 18:07:03] DEBUG   (4142056469.py:328) set_joints     recieved: b'2 1 '\n"
     ]
    },
    {
     "name": "stdout",
     "output_type": "stream",
     "text": [
      "[-14, 55, 35, 8, -90, 90]\n"
     ]
    },
    {
     "name": "stderr",
     "output_type": "stream",
     "text": [
      "[2023-12-04 18:07:03] DEBUG   (4142056469.py:323) get_joints     sending: 04 #\n",
      "[2023-12-04 18:07:03] DEBUG   (4142056469.py:328) get_joints     recieved: b'4 1 -14.00 55.00 35.00 8.00 -90.00 90.00'\n",
      "[2023-12-04 18:07:03] DEBUG   (4142056469.py:323) get_cartesian  sending: 03 #\n",
      "[2023-12-04 18:07:03] DEBUG   (4142056469.py:328) get_cartesian  recieved: b'3 1 349.28 -97.40 142.86 0.586 0.586 0.395 0.395'\n",
      "[2023-12-04 18:07:03] DEBUG   (4142056469.py:323) set_joints     sending: 02 -0012.00 +0055.00 +0035.00 +0016.00 -0090.00 +0090.00 #\n",
      "[2023-12-04 18:07:03] DEBUG   (4142056469.py:328) set_joints     recieved: b'2 1 '\n"
     ]
    },
    {
     "name": "stdout",
     "output_type": "stream",
     "text": [
      "[-12, 55, 35, 16, -90, 90]\n"
     ]
    },
    {
     "name": "stderr",
     "output_type": "stream",
     "text": [
      "[2023-12-04 18:07:03] DEBUG   (4142056469.py:323) get_joints     sending: 04 #\n",
      "[2023-12-04 18:07:03] DEBUG   (4142056469.py:328) get_joints     recieved: b'4 1 -12.00 55.00 35.00 16.01 -90.00 90.00'\n",
      "[2023-12-04 18:07:03] DEBUG   (4142056469.py:323) get_cartesian  sending: 03 #\n",
      "[2023-12-04 18:07:03] DEBUG   (4142056469.py:328) get_cartesian  recieved: b'3 1 348.38 -94.34 142.87 0.606 0.606 0.364 0.364'\n",
      "[2023-12-04 18:07:03] DEBUG   (4142056469.py:323) set_joints     sending: 02 -0010.00 +0055.00 +0035.00 +0024.00 -0090.00 +0090.00 #\n",
      "[2023-12-04 18:07:04] DEBUG   (4142056469.py:328) set_joints     recieved: b'2 1 '\n"
     ]
    },
    {
     "name": "stdout",
     "output_type": "stream",
     "text": [
      "[-10, 55, 35, 24, -90, 90]\n"
     ]
    },
    {
     "name": "stderr",
     "output_type": "stream",
     "text": [
      "[2023-12-04 18:07:04] DEBUG   (4142056469.py:323) get_joints     sending: 04 #\n",
      "[2023-12-04 18:07:04] DEBUG   (4142056469.py:328) get_joints     recieved: b'4 1 -10.01 55.00 35.00 23.99 -90.00 90.00'\n",
      "[2023-12-04 18:07:04] DEBUG   (4142056469.py:323) get_cartesian  sending: 03 #\n",
      "[2023-12-04 18:07:04] DEBUG   (4142056469.py:328) get_cartesian  recieved: b'3 1 346.44 -90.81 142.87 0.624 0.624 0.332 0.332'\n",
      "[2023-12-04 18:07:04] DEBUG   (4142056469.py:323) set_joints     sending: 02 -0022.00 +0055.00 +0035.00 -0016.00 -0090.00 +0090.00 #\n",
      "[2023-12-04 18:07:04] DEBUG   (4142056469.py:328) set_joints     recieved: b'2 1 '\n"
     ]
    },
    {
     "name": "stdout",
     "output_type": "stream",
     "text": [
      "[-22, 55, 35, -16, -90, 90]\n"
     ]
    },
    {
     "name": "stderr",
     "output_type": "stream",
     "text": [
      "[2023-12-04 18:07:04] DEBUG   (4142056469.py:323) get_joints     sending: 04 #\n",
      "[2023-12-04 18:07:04] DEBUG   (4142056469.py:328) get_joints     recieved: b'4 1 -14.46 55.00 35.00 9.15 -90.00 90.00'\n",
      "[2023-12-04 18:07:04] DEBUG   (4142056469.py:323) get_cartesian  sending: 03 #\n",
      "[2023-12-04 18:07:04] DEBUG   (4142056469.py:328) get_cartesian  recieved: b'3 1 344.89 -112.04 142.86 0.549 0.549 0.446 0.446'\n",
      "[2023-12-04 18:07:05] DEBUG   (4142056469.py:323) set_joints     sending: 02 -0020.00 +0055.00 +0035.00 -0008.00 -0090.00 +0090.00 #\n",
      "[2023-12-04 18:07:05] DEBUG   (4142056469.py:328) set_joints     recieved: b'2 1 '\n"
     ]
    },
    {
     "name": "stdout",
     "output_type": "stream",
     "text": [
      "[-20, 55, 35, -8, -90, 90]\n"
     ]
    },
    {
     "name": "stderr",
     "output_type": "stream",
     "text": [
      "[2023-12-04 18:07:05] DEBUG   (4142056469.py:323) get_joints     sending: 04 #\n",
      "[2023-12-04 18:07:05] DEBUG   (4142056469.py:328) get_joints     recieved: b'4 1 -20.00 55.00 35.00 -8.01 -90.00 90.00'\n",
      "[2023-12-04 18:07:05] DEBUG   (4142056469.py:323) get_cartesian  sending: 03 #\n",
      "[2023-12-04 18:07:05] DEBUG   (4142056469.py:328) get_cartesian  recieved: b'3 1 344.05 -114.53 142.87 0.549 0.549 0.445 0.445'\n",
      "[2023-12-04 18:07:05] DEBUG   (4142056469.py:323) set_joints     sending: 02 -0018.00 +0055.00 +0035.00 +0000.00 -0090.00 +0090.00 #\n",
      "[2023-12-04 18:07:05] DEBUG   (4142056469.py:328) set_joints     recieved: b'2 1 '\n"
     ]
    },
    {
     "name": "stdout",
     "output_type": "stream",
     "text": [
      "[-18, 55, 35, 0, -90, 90]\n"
     ]
    },
    {
     "name": "stderr",
     "output_type": "stream",
     "text": [
      "[2023-12-04 18:07:05] DEBUG   (4142056469.py:323) get_joints     sending: 04 #\n",
      "[2023-12-04 18:07:05] DEBUG   (4142056469.py:328) get_joints     recieved: b'4 1 -18.01 55.00 35.00 -0.01 -90.00 90.00'\n",
      "[2023-12-04 18:07:05] DEBUG   (4142056469.py:323) get_cartesian  sending: 03 #\n",
      "[2023-12-04 18:07:06] DEBUG   (4142056469.py:328) get_cartesian  recieved: b'3 1 345.39 -112.23 142.87 0.572 0.572 0.416 0.416'\n",
      "[2023-12-04 18:07:06] DEBUG   (4142056469.py:323) set_joints     sending: 02 -0016.00 +0055.00 +0035.00 +0008.00 -0090.00 +0090.00 #\n",
      "[2023-12-04 18:07:06] DEBUG   (4142056469.py:328) set_joints     recieved: b'2 1 '\n"
     ]
    },
    {
     "name": "stdout",
     "output_type": "stream",
     "text": [
      "[-16, 55, 35, 8, -90, 90]\n"
     ]
    },
    {
     "name": "stderr",
     "output_type": "stream",
     "text": [
      "[2023-12-04 18:07:06] DEBUG   (4142056469.py:323) get_joints     sending: 04 #\n",
      "[2023-12-04 18:07:06] DEBUG   (4142056469.py:328) get_joints     recieved: b'4 1 -16.01 55.00 35.00 7.99 -90.00 90.00'\n",
      "[2023-12-04 18:07:06] DEBUG   (4142056469.py:323) get_cartesian  sending: 03 #\n",
      "[2023-12-04 18:07:06] DEBUG   (4142056469.py:328) get_cartesian  recieved: b'3 1 345.67 -109.53 142.86 0.593 0.593 0.385 0.385'\n",
      "[2023-12-04 18:07:06] DEBUG   (4142056469.py:323) set_joints     sending: 02 -0014.00 +0055.00 +0035.00 +0016.00 -0090.00 +0090.00 #\n",
      "[2023-12-04 18:07:06] DEBUG   (4142056469.py:328) set_joints     recieved: b'2 1 '\n"
     ]
    },
    {
     "name": "stdout",
     "output_type": "stream",
     "text": [
      "[-14, 55, 35, 16, -90, 90]\n"
     ]
    },
    {
     "name": "stderr",
     "output_type": "stream",
     "text": [
      "[2023-12-04 18:07:06] DEBUG   (4142056469.py:323) get_joints     sending: 04 #\n",
      "[2023-12-04 18:07:06] DEBUG   (4142056469.py:328) get_joints     recieved: b'4 1 -14.00 55.00 35.00 16.01 -90.00 90.00'\n",
      "[2023-12-04 18:07:06] DEBUG   (4142056469.py:323) get_cartesian  sending: 03 #\n",
      "[2023-12-04 18:07:07] DEBUG   (4142056469.py:328) get_cartesian  recieved: b'3 1 344.87 -106.44 142.87 0.612 0.612 0.354 0.354'\n",
      "[2023-12-04 18:07:07] DEBUG   (4142056469.py:323) set_joints     sending: 02 -0012.00 +0055.00 +0035.00 +0024.00 -0090.00 +0090.00 #\n",
      "[2023-12-04 18:07:07] DEBUG   (4142056469.py:328) set_joints     recieved: b'2 1 '\n"
     ]
    },
    {
     "name": "stdout",
     "output_type": "stream",
     "text": [
      "[-12, 55, 35, 24, -90, 90]\n"
     ]
    },
    {
     "name": "stderr",
     "output_type": "stream",
     "text": [
      "[2023-12-04 18:07:07] DEBUG   (4142056469.py:323) get_joints     sending: 04 #\n",
      "[2023-12-04 18:07:07] DEBUG   (4142056469.py:328) get_joints     recieved: b'4 1 -12.00 55.00 35.00 23.99 -90.00 90.00'\n",
      "[2023-12-04 18:07:07] DEBUG   (4142056469.py:323) get_cartesian  sending: 03 #\n",
      "[2023-12-04 18:07:07] DEBUG   (4142056469.py:328) get_cartesian  recieved: b'3 1 343.06 -102.84 142.86 0.630 0.630 0.321 0.321'\n",
      "[2023-12-04 18:07:07] DEBUG   (4142056469.py:323) set_joints     sending: 02 -0024.00 +0055.00 +0035.00 -0016.00 -0090.00 +0090.00 #\n",
      "[2023-12-04 18:07:07] DEBUG   (4142056469.py:328) set_joints     recieved: b'2 1 '\n"
     ]
    },
    {
     "name": "stdout",
     "output_type": "stream",
     "text": [
      "[-24, 55, 35, -16, -90, 90]\n"
     ]
    },
    {
     "name": "stderr",
     "output_type": "stream",
     "text": [
      "[2023-12-04 18:07:07] DEBUG   (4142056469.py:323) get_joints     sending: 04 #\n",
      "[2023-12-04 18:07:07] DEBUG   (4142056469.py:328) get_joints     recieved: b'4 1 -17.73 55.00 35.00 4.90 -90.00 90.00'\n",
      "[2023-12-04 18:07:08] DEBUG   (4142056469.py:323) get_cartesian  sending: 03 #\n",
      "[2023-12-04 18:07:08] DEBUG   (4142056469.py:328) get_cartesian  recieved: b'3 1 339.08 -126.32 142.87 0.544 0.544 0.452 0.452'\n",
      "[2023-12-04 18:07:08] DEBUG   (4142056469.py:323) set_joints     sending: 02 -0022.00 +0055.00 +0035.00 -0008.00 -0090.00 +0090.00 #\n",
      "[2023-12-04 18:07:08] DEBUG   (4142056469.py:328) set_joints     recieved: b'2 1 '\n"
     ]
    },
    {
     "name": "stdout",
     "output_type": "stream",
     "text": [
      "[-22, 55, 35, -8, -90, 90]\n"
     ]
    },
    {
     "name": "stderr",
     "output_type": "stream",
     "text": [
      "[2023-12-04 18:07:08] DEBUG   (4142056469.py:323) get_joints     sending: 04 #\n",
      "[2023-12-04 18:07:08] DEBUG   (4142056469.py:328) get_joints     recieved: b'4 1 -22.00 55.00 35.00 -8.01 -90.00 90.00'\n",
      "[2023-12-04 18:07:08] DEBUG   (4142056469.py:323) get_cartesian  sending: 03 #\n",
      "[2023-12-04 18:07:08] DEBUG   (4142056469.py:328) get_cartesian  recieved: b'3 1 339.84 -126.47 142.86 0.557 0.557 0.435 0.435'\n",
      "[2023-12-04 18:07:08] DEBUG   (4142056469.py:323) set_joints     sending: 02 -0020.00 +0055.00 +0035.00 +0000.00 -0090.00 +0090.00 #\n",
      "[2023-12-04 18:07:08] DEBUG   (4142056469.py:328) set_joints     recieved: b'2 1 '\n"
     ]
    },
    {
     "name": "stdout",
     "output_type": "stream",
     "text": [
      "[-20, 55, 35, 0, -90, 90]\n"
     ]
    },
    {
     "name": "stderr",
     "output_type": "stream",
     "text": [
      "[2023-12-04 18:07:08] DEBUG   (4142056469.py:323) get_joints     sending: 04 #\n",
      "[2023-12-04 18:07:09] DEBUG   (4142056469.py:328) get_joints     recieved: b'4 1 -20.01 55.00 35.00 0.00 -90.00 90.00'\n",
      "[2023-12-04 18:07:09] DEBUG   (4142056469.py:323) get_cartesian  sending: 03 #\n",
      "[2023-12-04 18:07:09] DEBUG   (4142056469.py:328) get_cartesian  recieved: b'3 1 341.27 -124.22 142.86 0.579 0.579 0.406 0.406'\n",
      "[2023-12-04 18:07:09] DEBUG   (4142056469.py:323) set_joints     sending: 02 -0018.00 +0055.00 +0035.00 +0008.00 -0090.00 +0090.00 #\n",
      "[2023-12-04 18:07:09] DEBUG   (4142056469.py:328) set_joints     recieved: b'2 1 '\n"
     ]
    },
    {
     "name": "stdout",
     "output_type": "stream",
     "text": [
      "[-18, 55, 35, 8, -90, 90]\n"
     ]
    },
    {
     "name": "stderr",
     "output_type": "stream",
     "text": [
      "[2023-12-04 18:07:09] DEBUG   (4142056469.py:323) get_joints     sending: 04 #\n",
      "[2023-12-04 18:07:09] DEBUG   (4142056469.py:328) get_joints     recieved: b'4 1 -18.02 55.00 35.00 7.96 -90.00 90.00'\n",
      "[2023-12-04 18:07:09] DEBUG   (4142056469.py:323) get_cartesian  sending: 03 #\n",
      "[2023-12-04 18:07:09] DEBUG   (4142056469.py:328) get_cartesian  recieved: b'3 1 341.64 -121.52 142.87 0.600 0.600 0.375 0.375'\n",
      "[2023-12-04 18:07:09] DEBUG   (4142056469.py:323) set_joints     sending: 02 -0016.00 +0055.00 +0035.00 +0016.00 -0090.00 +0090.00 #\n",
      "[2023-12-04 18:07:09] DEBUG   (4142056469.py:328) set_joints     recieved: b'2 1 '\n"
     ]
    },
    {
     "name": "stdout",
     "output_type": "stream",
     "text": [
      "[-16, 55, 35, 16, -90, 90]\n"
     ]
    },
    {
     "name": "stderr",
     "output_type": "stream",
     "text": [
      "[2023-12-04 18:07:10] DEBUG   (4142056469.py:323) get_joints     sending: 04 #\n",
      "[2023-12-04 18:07:10] DEBUG   (4142056469.py:328) get_joints     recieved: b'4 1 -16.01 55.00 35.00 16.01 -90.00 90.00'\n",
      "[2023-12-04 18:07:10] DEBUG   (4142056469.py:323) get_cartesian  sending: 03 #\n",
      "[2023-12-04 18:07:10] DEBUG   (4142056469.py:328) get_cartesian  recieved: b'3 1 340.95 -118.41 142.87 0.618 0.618 0.343 0.343'\n",
      "[2023-12-04 18:07:10] DEBUG   (4142056469.py:323) set_joints     sending: 02 -0014.00 +0055.00 +0035.00 +0024.00 -0090.00 +0090.00 #\n",
      "[2023-12-04 18:07:10] DEBUG   (4142056469.py:328) set_joints     recieved: b'2 1 '\n"
     ]
    },
    {
     "name": "stdout",
     "output_type": "stream",
     "text": [
      "[-14, 55, 35, 24, -90, 90]\n"
     ]
    },
    {
     "name": "stderr",
     "output_type": "stream",
     "text": [
      "[2023-12-04 18:07:10] DEBUG   (4142056469.py:323) get_joints     sending: 04 #\n",
      "[2023-12-04 18:07:10] DEBUG   (4142056469.py:328) get_joints     recieved: b'4 1 -14.01 55.00 35.00 23.99 -90.00 90.00'\n",
      "[2023-12-04 18:07:10] DEBUG   (4142056469.py:323) get_cartesian  sending: 03 #\n",
      "[2023-12-04 18:07:10] DEBUG   (4142056469.py:328) get_cartesian  recieved: b'3 1 339.26 -114.76 142.87 0.636 0.636 0.310 0.310'\n",
      "[2023-12-04 18:07:10] DEBUG   (4142056469.py:323) set_joints     sending: 02 -0026.00 +0055.00 +0035.00 -0016.00 -0090.00 +0090.00 #\n",
      "[2023-12-04 18:07:10] DEBUG   (4142056469.py:328) set_joints     recieved: b'2 1 '\n"
     ]
    },
    {
     "name": "stdout",
     "output_type": "stream",
     "text": [
      "[-26, 55, 35, -16, -90, 90]\n"
     ]
    },
    {
     "name": "stderr",
     "output_type": "stream",
     "text": [
      "[2023-12-04 18:07:11] DEBUG   (4142056469.py:323) get_joints     sending: 04 #\n",
      "[2023-12-04 18:07:11] DEBUG   (4142056469.py:328) get_joints     recieved: b'4 1 -19.10 55.00 35.00 7.03 -90.00 90.00'\n",
      "[2023-12-04 18:07:11] DEBUG   (4142056469.py:323) get_cartesian  sending: 03 #\n",
      "[2023-12-04 18:07:11] DEBUG   (4142056469.py:328) get_cartesian  recieved: b'3 1 335.47 -136.87 142.87 0.558 0.558 0.434 0.434'\n",
      "[2023-12-04 18:07:11] DEBUG   (4142056469.py:323) set_joints     sending: 02 -0024.00 +0055.00 +0035.00 -0008.00 -0090.00 +0090.00 #\n",
      "[2023-12-04 18:07:11] DEBUG   (4142056469.py:328) set_joints     recieved: b'2 1 '\n"
     ]
    },
    {
     "name": "stdout",
     "output_type": "stream",
     "text": [
      "[-24, 55, 35, -8, -90, 90]\n"
     ]
    },
    {
     "name": "stderr",
     "output_type": "stream",
     "text": [
      "[2023-12-04 18:07:11] DEBUG   (4142056469.py:323) get_joints     sending: 04 #\n",
      "[2023-12-04 18:07:11] DEBUG   (4142056469.py:328) get_joints     recieved: b'4 1 -24.00 55.00 35.00 -8.01 -90.00 90.00'\n",
      "[2023-12-04 18:07:11] DEBUG   (4142056469.py:323) get_cartesian  sending: 03 #\n",
      "[2023-12-04 18:07:11] DEBUG   (4142056469.py:328) get_cartesian  recieved: b'3 1 335.22 -138.26 142.87 0.565 0.565 0.426 0.426'\n",
      "[2023-12-04 18:07:11] DEBUG   (4142056469.py:323) set_joints     sending: 02 -0022.00 +0055.00 +0035.00 +0000.00 -0090.00 +0090.00 #\n",
      "[2023-12-04 18:07:11] DEBUG   (4142056469.py:328) set_joints     recieved: b'2 1 '\n"
     ]
    },
    {
     "name": "stdout",
     "output_type": "stream",
     "text": [
      "[-22, 55, 35, 0, -90, 90]\n"
     ]
    },
    {
     "name": "stderr",
     "output_type": "stream",
     "text": [
      "[2023-12-04 18:07:12] DEBUG   (4142056469.py:323) get_joints     sending: 04 #\n",
      "[2023-12-04 18:07:12] DEBUG   (4142056469.py:328) get_joints     recieved: b'4 1 -22.00 55.00 35.00 0.01 -90.00 90.00'\n",
      "[2023-12-04 18:07:12] DEBUG   (4142056469.py:323) get_cartesian  sending: 03 #\n",
      "[2023-12-04 18:07:12] DEBUG   (4142056469.py:328) get_cartesian  recieved: b'3 1 336.72 -136.05 142.86 0.586 0.586 0.395 0.395'\n",
      "[2023-12-04 18:07:12] DEBUG   (4142056469.py:323) set_joints     sending: 02 -0020.00 +0055.00 +0035.00 +0008.00 -0090.00 +0090.00 #\n",
      "[2023-12-04 18:07:12] DEBUG   (4142056469.py:328) set_joints     recieved: b'2 1 '\n"
     ]
    },
    {
     "name": "stdout",
     "output_type": "stream",
     "text": [
      "[-20, 55, 35, 8, -90, 90]\n"
     ]
    },
    {
     "name": "stderr",
     "output_type": "stream",
     "text": [
      "[2023-12-04 18:07:12] DEBUG   (4142056469.py:323) get_joints     sending: 04 #\n",
      "[2023-12-04 18:07:12] DEBUG   (4142056469.py:328) get_joints     recieved: b'4 1 -20.00 55.00 35.00 7.99 -90.00 90.00'\n",
      "[2023-12-04 18:07:12] DEBUG   (4142056469.py:323) get_cartesian  sending: 03 #\n",
      "[2023-12-04 18:07:12] DEBUG   (4142056469.py:328) get_cartesian  recieved: b'3 1 337.19 -133.38 142.86 0.606 0.606 0.364 0.364'\n",
      "[2023-12-04 18:07:12] DEBUG   (4142056469.py:323) set_joints     sending: 02 -0018.00 +0055.00 +0035.00 +0016.00 -0090.00 +0090.00 #\n",
      "[2023-12-04 18:07:12] DEBUG   (4142056469.py:328) set_joints     recieved: b'2 1 '\n"
     ]
    },
    {
     "name": "stdout",
     "output_type": "stream",
     "text": [
      "[-18, 55, 35, 16, -90, 90]\n"
     ]
    },
    {
     "name": "stderr",
     "output_type": "stream",
     "text": [
      "[2023-12-04 18:07:13] DEBUG   (4142056469.py:323) get_joints     sending: 04 #\n",
      "[2023-12-04 18:07:13] DEBUG   (4142056469.py:328) get_joints     recieved: b'4 1 -18.00 55.00 35.00 16.01 -90.00 90.00'\n",
      "[2023-12-04 18:07:13] DEBUG   (4142056469.py:323) get_cartesian  sending: 03 #\n",
      "[2023-12-04 18:07:13] DEBUG   (4142056469.py:328) get_cartesian  recieved: b'3 1 336.61 -130.24 142.86 0.624 0.624 0.332 0.332'\n",
      "[2023-12-04 18:07:13] DEBUG   (4142056469.py:323) set_joints     sending: 02 -0016.00 +0055.00 +0035.00 +0024.00 -0090.00 +0090.00 #\n",
      "[2023-12-04 18:07:13] DEBUG   (4142056469.py:328) set_joints     recieved: b'2 1 '\n"
     ]
    },
    {
     "name": "stdout",
     "output_type": "stream",
     "text": [
      "[-16, 55, 35, 24, -90, 90]\n"
     ]
    },
    {
     "name": "stderr",
     "output_type": "stream",
     "text": [
      "[2023-12-04 18:07:13] DEBUG   (4142056469.py:323) get_joints     sending: 04 #\n",
      "[2023-12-04 18:07:13] DEBUG   (4142056469.py:328) get_joints     recieved: b'4 1 -16.01 55.00 35.00 23.99 -90.00 90.00'\n",
      "[2023-12-04 18:07:13] DEBUG   (4142056469.py:323) get_cartesian  sending: 03 #\n",
      "[2023-12-04 18:07:13] DEBUG   (4142056469.py:328) get_cartesian  recieved: b'3 1 335.05 -126.53 142.87 0.641 0.641 0.299 0.299'\n",
      "[2023-12-04 18:07:13] DEBUG   (4142056469.py:323) set_joints     sending: 02 -0028.00 +0055.00 +0035.00 -0016.00 -0090.00 +0090.00 #\n",
      "[2023-12-04 18:07:13] DEBUG   (4142056469.py:328) set_joints     recieved: b'2 1 '\n"
     ]
    },
    {
     "name": "stdout",
     "output_type": "stream",
     "text": [
      "[-28, 55, 35, -16, -90, 90]\n"
     ]
    },
    {
     "name": "stderr",
     "output_type": "stream",
     "text": [
      "[2023-12-04 18:07:14] DEBUG   (4142056469.py:323) get_joints     sending: 04 #\n",
      "[2023-12-04 18:07:14] DEBUG   (4142056469.py:328) get_joints     recieved: b'4 1 -21.31 55.00 35.00 6.32 -90.00 90.00'\n",
      "[2023-12-04 18:07:14] DEBUG   (4142056469.py:323) get_cartesian  sending: 03 #\n",
      "[2023-12-04 18:07:14] DEBUG   (4142056469.py:328) get_cartesian  recieved: b'3 1 330.22 -148.82 142.87 0.564 0.564 0.426 0.426'\n",
      "[2023-12-04 18:07:14] DEBUG   (4142056469.py:323) set_joints     sending: 02 -0026.00 +0055.00 +0035.00 -0008.00 -0090.00 +0090.00 #\n",
      "[2023-12-04 18:07:14] DEBUG   (4142056469.py:328) set_joints     recieved: b'2 1 '\n"
     ]
    },
    {
     "name": "stdout",
     "output_type": "stream",
     "text": [
      "[-26, 55, 35, -8, -90, 90]\n"
     ]
    },
    {
     "name": "stderr",
     "output_type": "stream",
     "text": [
      "[2023-12-04 18:07:14] DEBUG   (4142056469.py:323) get_joints     sending: 04 #\n",
      "[2023-12-04 18:07:14] DEBUG   (4142056469.py:328) get_joints     recieved: b'4 1 -26.02 55.00 35.00 -8.05 -90.00 90.00'\n",
      "[2023-12-04 18:07:14] DEBUG   (4142056469.py:323) get_cartesian  sending: 03 #\n",
      "[2023-12-04 18:07:14] DEBUG   (4142056469.py:328) get_cartesian  recieved: b'3 1 330.19 -149.87 142.87 0.572 0.572 0.416 0.416'\n",
      "[2023-12-04 18:07:14] DEBUG   (4142056469.py:323) set_joints     sending: 02 -0024.00 +0055.00 +0035.00 +0000.00 -0090.00 +0090.00 #\n",
      "[2023-12-04 18:07:14] DEBUG   (4142056469.py:328) set_joints     recieved: b'2 1 '\n"
     ]
    },
    {
     "name": "stdout",
     "output_type": "stream",
     "text": [
      "[-24, 55, 35, 0, -90, 90]\n"
     ]
    },
    {
     "name": "stderr",
     "output_type": "stream",
     "text": [
      "[2023-12-04 18:07:15] DEBUG   (4142056469.py:323) get_joints     sending: 04 #\n",
      "[2023-12-04 18:07:15] DEBUG   (4142056469.py:328) get_joints     recieved: b'4 1 -24.00 55.00 35.00 0.01 -90.00 90.00'\n",
      "[2023-12-04 18:07:15] DEBUG   (4142056469.py:323) get_cartesian  sending: 03 #\n",
      "[2023-12-04 18:07:15] DEBUG   (4142056469.py:328) get_cartesian  recieved: b'3 1 331.77 -147.72 142.86 0.593 0.593 0.385 0.385'\n",
      "[2023-12-04 18:07:15] DEBUG   (4142056469.py:323) set_joints     sending: 02 -0022.00 +0055.00 +0035.00 +0008.00 -0090.00 +0090.00 #\n",
      "[2023-12-04 18:07:15] DEBUG   (4142056469.py:328) set_joints     recieved: b'2 1 '\n"
     ]
    },
    {
     "name": "stdout",
     "output_type": "stream",
     "text": [
      "[-22, 55, 35, 8, -90, 90]\n"
     ]
    },
    {
     "name": "stderr",
     "output_type": "stream",
     "text": [
      "[2023-12-04 18:07:15] DEBUG   (4142056469.py:323) get_joints     sending: 04 #\n",
      "[2023-12-04 18:07:15] DEBUG   (4142056469.py:328) get_joints     recieved: b'4 1 -22.01 55.00 35.00 7.99 -90.00 90.00'\n",
      "[2023-12-04 18:07:15] DEBUG   (4142056469.py:323) get_cartesian  sending: 03 #\n",
      "[2023-12-04 18:07:15] DEBUG   (4142056469.py:328) get_cartesian  recieved: b'3 1 332.33 -145.06 142.87 0.612 0.612 0.354 0.354'\n",
      "[2023-12-04 18:07:15] DEBUG   (4142056469.py:323) set_joints     sending: 02 -0020.00 +0055.00 +0035.00 +0016.00 -0090.00 +0090.00 #\n",
      "[2023-12-04 18:07:15] DEBUG   (4142056469.py:328) set_joints     recieved: b'2 1 '\n"
     ]
    },
    {
     "name": "stdout",
     "output_type": "stream",
     "text": [
      "[-20, 55, 35, 16, -90, 90]\n"
     ]
    },
    {
     "name": "stderr",
     "output_type": "stream",
     "text": [
      "[2023-12-04 18:07:16] DEBUG   (4142056469.py:323) get_joints     sending: 04 #\n",
      "[2023-12-04 18:07:16] DEBUG   (4142056469.py:328) get_joints     recieved: b'4 1 -20.02 55.00 35.00 15.98 -90.00 90.00'\n",
      "[2023-12-04 18:07:16] DEBUG   (4142056469.py:323) get_cartesian  sending: 03 #\n",
      "[2023-12-04 18:07:16] DEBUG   (4142056469.py:328) get_cartesian  recieved: b'3 1 331.86 -141.90 142.87 0.630 0.630 0.321 0.321'\n",
      "[2023-12-04 18:07:16] DEBUG   (4142056469.py:323) set_joints     sending: 02 -0018.00 +0055.00 +0035.00 +0024.00 -0090.00 +0090.00 #\n",
      "[2023-12-04 18:07:16] DEBUG   (4142056469.py:328) set_joints     recieved: b'2 1 '\n"
     ]
    },
    {
     "name": "stdout",
     "output_type": "stream",
     "text": [
      "[-18, 55, 35, 24, -90, 90]\n"
     ]
    },
    {
     "name": "stderr",
     "output_type": "stream",
     "text": [
      "[2023-12-04 18:07:16] DEBUG   (4142056469.py:323) get_joints     sending: 04 #\n",
      "[2023-12-04 18:07:16] DEBUG   (4142056469.py:328) get_joints     recieved: b'4 1 -18.01 55.00 35.00 23.99 -90.00 90.00'\n",
      "[2023-12-04 18:07:16] DEBUG   (4142056469.py:323) get_cartesian  sending: 03 #\n",
      "[2023-12-04 18:07:16] DEBUG   (4142056469.py:328) get_cartesian  recieved: b'3 1 330.43 -138.14 142.86 0.646 0.646 0.288 0.288'\n",
      "[2023-12-04 18:07:16] DEBUG   (4142056469.py:323) set_joints     sending: 02 -0030.00 +0055.00 +0035.00 -0016.00 -0090.00 +0090.00 #\n",
      "[2023-12-04 18:07:16] DEBUG   (4142056469.py:328) set_joints     recieved: b'2 1 '\n"
     ]
    },
    {
     "name": "stdout",
     "output_type": "stream",
     "text": [
      "[-30, 55, 35, -16, -90, 90]\n"
     ]
    },
    {
     "name": "stderr",
     "output_type": "stream",
     "text": [
      "[2023-12-04 18:07:17] DEBUG   (4142056469.py:323) get_joints     sending: 04 #\n",
      "[2023-12-04 18:07:17] DEBUG   (4142056469.py:328) get_joints     recieved: b'4 1 -23.73 55.00 35.00 4.90 -90.00 90.00'\n",
      "[2023-12-04 18:07:17] DEBUG   (4142056469.py:323) get_cartesian  sending: 03 #\n",
      "[2023-12-04 18:07:17] DEBUG   (4142056469.py:328) get_cartesian  recieved: b'3 1 324.27 -160.83 142.87 0.568 0.568 0.421 0.421'\n",
      "[2023-12-04 18:07:17] DEBUG   (4142056469.py:323) set_joints     sending: 02 -0028.00 +0055.00 +0035.00 -0008.00 -0090.00 +0090.00 #\n",
      "[2023-12-04 18:07:17] DEBUG   (4142056469.py:328) set_joints     recieved: b'2 1 '\n"
     ]
    },
    {
     "name": "stdout",
     "output_type": "stream",
     "text": [
      "[-28, 55, 35, -8, -90, 90]\n"
     ]
    },
    {
     "name": "stderr",
     "output_type": "stream",
     "text": [
      "[2023-12-04 18:07:17] DEBUG   (4142056469.py:323) get_joints     sending: 04 #\n",
      "[2023-12-04 18:07:17] DEBUG   (4142056469.py:328) get_joints     recieved: b'4 1 -28.02 55.00 35.00 -8.04 -90.00 90.00'\n",
      "[2023-12-04 18:07:17] DEBUG   (4142056469.py:323) get_cartesian  sending: 03 #\n",
      "[2023-12-04 18:07:17] DEBUG   (4142056469.py:328) get_cartesian  recieved: b'3 1 324.76 -161.30 142.87 0.579 0.579 0.406 0.406'\n",
      "[2023-12-04 18:07:17] DEBUG   (4142056469.py:323) set_joints     sending: 02 -0026.00 +0055.00 +0035.00 +0000.00 -0090.00 +0090.00 #\n",
      "[2023-12-04 18:07:17] DEBUG   (4142056469.py:328) set_joints     recieved: b'2 1 '\n"
     ]
    },
    {
     "name": "stdout",
     "output_type": "stream",
     "text": [
      "[-26, 55, 35, 0, -90, 90]\n"
     ]
    },
    {
     "name": "stderr",
     "output_type": "stream",
     "text": [
      "[2023-12-04 18:07:18] DEBUG   (4142056469.py:323) get_joints     sending: 04 #\n",
      "[2023-12-04 18:07:18] DEBUG   (4142056469.py:328) get_joints     recieved: b'4 1 -26.00 55.00 35.00 0.01 -90.00 90.00'\n",
      "[2023-12-04 18:07:18] DEBUG   (4142056469.py:323) get_cartesian  sending: 03 #\n",
      "[2023-12-04 18:07:18] DEBUG   (4142056469.py:328) get_cartesian  recieved: b'3 1 326.41 -159.20 142.87 0.600 0.600 0.375 0.375'\n",
      "[2023-12-04 18:07:18] DEBUG   (4142056469.py:323) set_joints     sending: 02 -0024.00 +0055.00 +0035.00 +0008.00 -0090.00 +0090.00 #\n",
      "[2023-12-04 18:07:18] DEBUG   (4142056469.py:328) set_joints     recieved: b'2 1 '\n"
     ]
    },
    {
     "name": "stdout",
     "output_type": "stream",
     "text": [
      "[-24, 55, 35, 8, -90, 90]\n"
     ]
    },
    {
     "name": "stderr",
     "output_type": "stream",
     "text": [
      "[2023-12-04 18:07:18] DEBUG   (4142056469.py:323) get_joints     sending: 04 #\n",
      "[2023-12-04 18:07:18] DEBUG   (4142056469.py:328) get_joints     recieved: b'4 1 -24.01 55.00 35.00 7.98 -90.00 90.00'\n",
      "[2023-12-04 18:07:18] DEBUG   (4142056469.py:323) get_cartesian  sending: 03 #\n",
      "[2023-12-04 18:07:18] DEBUG   (4142056469.py:328) get_cartesian  recieved: b'3 1 327.06 -156.57 142.87 0.618 0.618 0.343 0.343'\n",
      "[2023-12-04 18:07:18] DEBUG   (4142056469.py:323) set_joints     sending: 02 -0022.00 +0055.00 +0035.00 +0016.00 -0090.00 +0090.00 #\n",
      "[2023-12-04 18:07:18] DEBUG   (4142056469.py:328) set_joints     recieved: b'2 1 '\n"
     ]
    },
    {
     "name": "stdout",
     "output_type": "stream",
     "text": [
      "[-22, 55, 35, 16, -90, 90]\n"
     ]
    },
    {
     "name": "stderr",
     "output_type": "stream",
     "text": [
      "[2023-12-04 18:07:19] DEBUG   (4142056469.py:323) get_joints     sending: 04 #\n",
      "[2023-12-04 18:07:19] DEBUG   (4142056469.py:328) get_joints     recieved: b'4 1 -22.02 55.00 35.00 15.97 -90.00 90.00'\n",
      "[2023-12-04 18:07:19] DEBUG   (4142056469.py:323) get_cartesian  sending: 03 #\n",
      "[2023-12-04 18:07:19] DEBUG   (4142056469.py:328) get_cartesian  recieved: b'3 1 326.70 -153.40 142.87 0.636 0.636 0.310 0.310'\n",
      "[2023-12-04 18:07:19] DEBUG   (4142056469.py:323) set_joints     sending: 02 -0020.00 +0055.00 +0035.00 +0024.00 -0090.00 +0090.00 #\n",
      "[2023-12-04 18:07:19] DEBUG   (4142056469.py:328) set_joints     recieved: b'2 1 '\n"
     ]
    },
    {
     "name": "stdout",
     "output_type": "stream",
     "text": [
      "[-20, 55, 35, 24, -90, 90]\n"
     ]
    },
    {
     "name": "stderr",
     "output_type": "stream",
     "text": [
      "[2023-12-04 18:07:19] DEBUG   (4142056469.py:323) get_joints     sending: 04 #\n",
      "[2023-12-04 18:07:19] DEBUG   (4142056469.py:328) get_joints     recieved: b'4 1 -20.01 55.00 35.00 23.98 -90.00 90.00'\n",
      "[2023-12-04 18:07:19] DEBUG   (4142056469.py:323) get_cartesian  sending: 03 #\n",
      "[2023-12-04 18:07:19] DEBUG   (4142056469.py:328) get_cartesian  recieved: b'3 1 325.41 -149.58 142.87 0.651 0.651 0.276 0.276'\n",
      "[2023-12-04 18:07:19] DEBUG   (4142056469.py:323) set_joints     sending: 02 -0032.00 +0055.00 +0035.00 -0016.00 -0090.00 +0090.00 #\n",
      "[2023-12-04 18:07:20] DEBUG   (4142056469.py:328) set_joints     recieved: b'2 1 '\n"
     ]
    },
    {
     "name": "stdout",
     "output_type": "stream",
     "text": [
      "[-32, 55, 35, -16, -90, 90]\n"
     ]
    },
    {
     "name": "stderr",
     "output_type": "stream",
     "text": [
      "[2023-12-04 18:07:20] DEBUG   (4142056469.py:323) get_joints     sending: 04 #\n",
      "[2023-12-04 18:07:20] DEBUG   (4142056469.py:328) get_joints     recieved: b'4 1 -24.67 55.00 35.00 8.44 -90.00 90.00'\n",
      "[2023-12-04 18:07:20] DEBUG   (4142056469.py:323) get_cartesian  sending: 03 #\n",
      "[2023-12-04 18:07:20] DEBUG   (4142056469.py:328) get_cartesian  recieved: b'3 1 319.62 -170.88 142.86 0.582 0.582 0.402 0.402'\n",
      "[2023-12-04 18:07:20] DEBUG   (4142056469.py:323) set_joints     sending: 02 -0030.00 +0055.00 +0035.00 -0008.00 -0090.00 +0090.00 #\n",
      "[2023-12-04 18:07:20] DEBUG   (4142056469.py:328) set_joints     recieved: b'2 1 '\n"
     ]
    },
    {
     "name": "stdout",
     "output_type": "stream",
     "text": [
      "[-30, 55, 35, -8, -90, 90]\n"
     ]
    },
    {
     "name": "stderr",
     "output_type": "stream",
     "text": [
      "[2023-12-04 18:07:20] DEBUG   (4142056469.py:323) get_joints     sending: 04 #\n",
      "[2023-12-04 18:07:20] DEBUG   (4142056469.py:328) get_joints     recieved: b'4 1 -30.01 55.00 35.00 -8.03 -90.00 90.00'\n",
      "[2023-12-04 18:07:20] DEBUG   (4142056469.py:323) get_cartesian  sending: 03 #\n",
      "[2023-12-04 18:07:20] DEBUG   (4142056469.py:328) get_cartesian  recieved: b'3 1 318.93 -172.54 142.87 0.586 0.586 0.395 0.395'\n",
      "[2023-12-04 18:07:20] DEBUG   (4142056469.py:323) set_joints     sending: 02 -0028.00 +0055.00 +0035.00 +0000.00 -0090.00 +0090.00 #\n",
      "[2023-12-04 18:07:21] DEBUG   (4142056469.py:328) set_joints     recieved: b'2 1 '\n"
     ]
    },
    {
     "name": "stdout",
     "output_type": "stream",
     "text": [
      "[-28, 55, 35, 0, -90, 90]\n"
     ]
    },
    {
     "name": "stderr",
     "output_type": "stream",
     "text": [
      "[2023-12-04 18:07:21] DEBUG   (4142056469.py:323) get_joints     sending: 04 #\n",
      "[2023-12-04 18:07:21] DEBUG   (4142056469.py:328) get_joints     recieved: b'4 1 -28.00 55.00 35.00 0.01 -90.00 90.00'\n",
      "[2023-12-04 18:07:21] DEBUG   (4142056469.py:323) get_cartesian  sending: 03 #\n",
      "[2023-12-04 18:07:21] DEBUG   (4142056469.py:328) get_cartesian  recieved: b'3 1 320.66 -170.50 142.86 0.606 0.606 0.364 0.364'\n",
      "[2023-12-04 18:07:21] DEBUG   (4142056469.py:323) set_joints     sending: 02 -0026.00 +0055.00 +0035.00 +0008.00 -0090.00 +0090.00 #\n",
      "[2023-12-04 18:07:21] DEBUG   (4142056469.py:328) set_joints     recieved: b'2 1 '\n"
     ]
    },
    {
     "name": "stdout",
     "output_type": "stream",
     "text": [
      "[-26, 55, 35, 8, -90, 90]\n"
     ]
    },
    {
     "name": "stderr",
     "output_type": "stream",
     "text": [
      "[2023-12-04 18:07:21] DEBUG   (4142056469.py:323) get_joints     sending: 04 #\n",
      "[2023-12-04 18:07:21] DEBUG   (4142056469.py:328) get_joints     recieved: b'4 1 -26.00 55.00 35.00 7.99 -90.00 90.00'\n",
      "[2023-12-04 18:07:21] DEBUG   (4142056469.py:323) get_cartesian  sending: 03 #\n",
      "[2023-12-04 18:07:21] DEBUG   (4142056469.py:328) get_cartesian  recieved: b'3 1 321.40 -167.89 142.87 0.624 0.624 0.332 0.332'\n",
      "[2023-12-04 18:07:21] DEBUG   (4142056469.py:323) set_joints     sending: 02 -0024.00 +0055.00 +0035.00 +0016.00 -0090.00 +0090.00 #\n",
      "[2023-12-04 18:07:22] DEBUG   (4142056469.py:328) set_joints     recieved: b'2 1 '\n"
     ]
    },
    {
     "name": "stdout",
     "output_type": "stream",
     "text": [
      "[-24, 55, 35, 16, -90, 90]\n"
     ]
    },
    {
     "name": "stderr",
     "output_type": "stream",
     "text": [
      "[2023-12-04 18:07:22] DEBUG   (4142056469.py:323) get_joints     sending: 04 #\n",
      "[2023-12-04 18:07:22] DEBUG   (4142056469.py:328) get_joints     recieved: b'4 1 -24.00 55.00 35.00 16.01 -90.00 90.00'\n",
      "[2023-12-04 18:07:22] DEBUG   (4142056469.py:323) get_cartesian  sending: 03 #\n",
      "[2023-12-04 18:07:22] DEBUG   (4142056469.py:328) get_cartesian  recieved: b'3 1 321.15 -164.71 142.86 0.641 0.641 0.299 0.299'\n",
      "[2023-12-04 18:07:22] DEBUG   (4142056469.py:323) set_joints     sending: 02 -0022.00 +0055.00 +0035.00 +0024.00 -0090.00 +0090.00 #\n",
      "[2023-12-04 18:07:22] DEBUG   (4142056469.py:328) set_joints     recieved: b'2 1 '\n"
     ]
    },
    {
     "name": "stdout",
     "output_type": "stream",
     "text": [
      "[-22, 55, 35, 24, -90, 90]\n"
     ]
    },
    {
     "name": "stderr",
     "output_type": "stream",
     "text": [
      "[2023-12-04 18:07:22] DEBUG   (4142056469.py:323) get_joints     sending: 04 #\n",
      "[2023-12-04 18:07:22] DEBUG   (4142056469.py:328) get_joints     recieved: b'4 1 -22.02 55.00 35.00 23.96 -90.00 90.00'\n",
      "[2023-12-04 18:07:22] DEBUG   (4142056469.py:323) get_cartesian  sending: 03 #\n",
      "[2023-12-04 18:07:22] DEBUG   (4142056469.py:328) get_cartesian  recieved: b'3 1 319.99 -160.85 142.87 0.656 0.656 0.265 0.265'\n",
      "[2023-12-04 18:07:23] DEBUG   (4142056469.py:323) set_joints     sending: 02 -0034.00 +0055.00 +0035.00 -0016.00 -0090.00 +0090.00 #\n",
      "[2023-12-04 18:07:23] DEBUG   (4142056469.py:328) set_joints     recieved: b'2 1 '\n"
     ]
    },
    {
     "name": "stdout",
     "output_type": "stream",
     "text": [
      "[-34, 55, 35, -16, -90, 90]\n"
     ]
    },
    {
     "name": "stderr",
     "output_type": "stream",
     "text": [
      "[2023-12-04 18:07:23] DEBUG   (4142056469.py:323) get_joints     sending: 04 #\n",
      "[2023-12-04 18:07:23] DEBUG   (4142056469.py:328) get_joints     recieved: b'4 1 -26.88 55.00 35.00 7.73 -90.00 90.00'\n",
      "[2023-12-04 18:07:23] DEBUG   (4142056469.py:323) get_cartesian  sending: 03 #\n",
      "[2023-12-04 18:07:23] DEBUG   (4142056469.py:328) get_cartesian  recieved: b'3 1 312.27 -183.05 142.87 0.583 0.583 0.401 0.401'\n",
      "[2023-12-04 18:07:23] DEBUG   (4142056469.py:323) set_joints     sending: 02 -0032.00 +0055.00 +0035.00 -0008.00 -0090.00 +0090.00 #\n",
      "[2023-12-04 18:07:23] DEBUG   (4142056469.py:328) set_joints     recieved: b'2 1 '\n"
     ]
    },
    {
     "name": "stdout",
     "output_type": "stream",
     "text": [
      "[-32, 55, 35, -8, -90, 90]\n"
     ]
    },
    {
     "name": "stderr",
     "output_type": "stream",
     "text": [
      "[2023-12-04 18:07:23] DEBUG   (4142056469.py:323) get_joints     sending: 04 #\n",
      "[2023-12-04 18:07:23] DEBUG   (4142056469.py:328) get_joints     recieved: b'4 1 -32.01 55.00 35.00 -8.02 -90.00 90.00'\n",
      "[2023-12-04 18:07:23] DEBUG   (4142056469.py:323) get_cartesian  sending: 03 #\n",
      "[2023-12-04 18:07:24] DEBUG   (4142056469.py:328) get_cartesian  recieved: b'3 1 312.71 -183.56 142.87 0.593 0.593 0.385 0.385'\n",
      "[2023-12-04 18:07:24] DEBUG   (4142056469.py:323) set_joints     sending: 02 -0030.00 +0055.00 +0035.00 +0000.00 -0090.00 +0090.00 #\n",
      "[2023-12-04 18:07:24] DEBUG   (4142056469.py:328) set_joints     recieved: b'2 1 '\n"
     ]
    },
    {
     "name": "stdout",
     "output_type": "stream",
     "text": [
      "[-30, 55, 35, 0, -90, 90]\n"
     ]
    },
    {
     "name": "stderr",
     "output_type": "stream",
     "text": [
      "[2023-12-04 18:07:24] DEBUG   (4142056469.py:323) get_joints     sending: 04 #\n",
      "[2023-12-04 18:07:24] DEBUG   (4142056469.py:328) get_joints     recieved: b'4 1 -30.01 55.00 35.00 0.00 -90.00 90.00'\n",
      "[2023-12-04 18:07:24] DEBUG   (4142056469.py:323) get_cartesian  sending: 03 #\n",
      "[2023-12-04 18:07:24] DEBUG   (4142056469.py:328) get_cartesian  recieved: b'3 1 314.51 -181.59 142.87 0.612 0.612 0.353 0.353'\n",
      "[2023-12-04 18:07:24] DEBUG   (4142056469.py:323) set_joints     sending: 02 -0028.00 +0055.00 +0035.00 +0008.00 -0090.00 +0090.00 #\n",
      "[2023-12-04 18:07:24] DEBUG   (4142056469.py:328) set_joints     recieved: b'2 1 '\n"
     ]
    },
    {
     "name": "stdout",
     "output_type": "stream",
     "text": [
      "[-28, 55, 35, 8, -90, 90]\n"
     ]
    },
    {
     "name": "stderr",
     "output_type": "stream",
     "text": [
      "[2023-12-04 18:07:24] DEBUG   (4142056469.py:323) get_joints     sending: 04 #\n",
      "[2023-12-04 18:07:24] DEBUG   (4142056469.py:328) get_joints     recieved: b'4 1 -28.00 55.00 35.00 8.00 -90.00 90.00'\n",
      "[2023-12-04 18:07:24] DEBUG   (4142056469.py:323) get_cartesian  sending: 03 #\n",
      "[2023-12-04 18:07:25] DEBUG   (4142056469.py:328) get_cartesian  recieved: b'3 1 315.34 -179.01 142.86 0.630 0.630 0.321 0.321'\n",
      "[2023-12-04 18:07:25] DEBUG   (4142056469.py:323) set_joints     sending: 02 -0026.00 +0055.00 +0035.00 +0016.00 -0090.00 +0090.00 #\n",
      "[2023-12-04 18:07:25] DEBUG   (4142056469.py:328) set_joints     recieved: b'2 1 '\n"
     ]
    },
    {
     "name": "stdout",
     "output_type": "stream",
     "text": [
      "[-26, 55, 35, 16, -90, 90]\n"
     ]
    },
    {
     "name": "stderr",
     "output_type": "stream",
     "text": [
      "[2023-12-04 18:07:25] DEBUG   (4142056469.py:323) get_joints     sending: 04 #\n",
      "[2023-12-04 18:07:25] DEBUG   (4142056469.py:328) get_joints     recieved: b'4 1 -26.01 55.00 35.00 16.00 -90.00 90.00'\n",
      "[2023-12-04 18:07:25] DEBUG   (4142056469.py:323) get_cartesian  sending: 03 #\n",
      "[2023-12-04 18:07:25] DEBUG   (4142056469.py:328) get_cartesian  recieved: b'3 1 315.21 -175.82 142.87 0.646 0.646 0.288 0.288'\n",
      "[2023-12-04 18:07:25] DEBUG   (4142056469.py:323) set_joints     sending: 02 -0024.00 +0055.00 +0035.00 +0024.00 -0090.00 +0090.00 #\n",
      "[2023-12-04 18:07:25] DEBUG   (4142056469.py:328) set_joints     recieved: b'2 1 '\n"
     ]
    },
    {
     "name": "stdout",
     "output_type": "stream",
     "text": [
      "[-24, 55, 35, 24, -90, 90]\n"
     ]
    },
    {
     "name": "stderr",
     "output_type": "stream",
     "text": [
      "[2023-12-04 18:07:25] DEBUG   (4142056469.py:323) get_joints     sending: 04 #\n",
      "[2023-12-04 18:07:25] DEBUG   (4142056469.py:328) get_joints     recieved: b'4 1 -24.00 55.00 35.00 24.00 -90.00 90.00'\n",
      "[2023-12-04 18:07:25] DEBUG   (4142056469.py:323) get_cartesian  sending: 03 #\n",
      "[2023-12-04 18:07:26] DEBUG   (4142056469.py:328) get_cartesian  recieved: b'3 1 314.18 -171.92 142.86 0.660 0.660 0.253 0.253'\n",
      "[2023-12-04 18:07:26] DEBUG   (4142056469.py:323) set_joints     sending: 02 -0036.00 +0055.00 +0035.00 -0016.00 -0090.00 +0090.00 #\n",
      "[2023-12-04 18:07:26] DEBUG   (4142056469.py:328) set_joints     recieved: b'2 1 '\n"
     ]
    },
    {
     "name": "stdout",
     "output_type": "stream",
     "text": [
      "[-36, 55, 35, -16, -90, 90]\n"
     ]
    },
    {
     "name": "stderr",
     "output_type": "stream",
     "text": [
      "[2023-12-04 18:07:26] DEBUG   (4142056469.py:323) get_joints     sending: 04 #\n",
      "[2023-12-04 18:07:26] DEBUG   (4142056469.py:328) get_joints     recieved: b'4 1 -29.31 55.00 35.00 6.32 -90.00 90.00'\n",
      "[2023-12-04 18:07:26] DEBUG   (4142056469.py:323) get_cartesian  sending: 03 #\n",
      "[2023-12-04 18:07:26] DEBUG   (4142056469.py:328) get_cartesian  recieved: b'3 1 305.98 -193.59 142.87 0.591 0.591 0.388 0.388'\n",
      "[2023-12-04 18:07:26] DEBUG   (4142056469.py:323) set_joints     sending: 02 -0034.00 +0055.00 +0035.00 -0008.00 -0090.00 +0090.00 #\n",
      "[2023-12-04 18:07:26] DEBUG   (4142056469.py:328) set_joints     recieved: b'2 1 '\n"
     ]
    },
    {
     "name": "stdout",
     "output_type": "stream",
     "text": [
      "[-34, 55, 35, -8, -90, 90]\n"
     ]
    },
    {
     "name": "stderr",
     "output_type": "stream",
     "text": [
      "[2023-12-04 18:07:26] DEBUG   (4142056469.py:323) get_joints     sending: 04 #\n",
      "[2023-12-04 18:07:27] DEBUG   (4142056469.py:328) get_joints     recieved: b'4 1 -34.00 55.00 35.00 -8.01 -90.00 90.00'\n",
      "[2023-12-04 18:07:27] DEBUG   (4142056469.py:323) get_cartesian  sending: 03 #\n",
      "[2023-12-04 18:07:27] DEBUG   (4142056469.py:328) get_cartesian  recieved: b'3 1 306.12 -194.36 142.86 0.600 0.600 0.375 0.375'\n",
      "[2023-12-04 18:07:27] DEBUG   (4142056469.py:323) set_joints     sending: 02 -0032.00 +0055.00 +0035.00 +0000.00 -0090.00 +0090.00 #\n",
      "[2023-12-04 18:07:27] DEBUG   (4142056469.py:328) set_joints     recieved: b'2 1 '\n"
     ]
    },
    {
     "name": "stdout",
     "output_type": "stream",
     "text": [
      "[-32, 55, 35, 0, -90, 90]\n"
     ]
    },
    {
     "name": "stderr",
     "output_type": "stream",
     "text": [
      "[2023-12-04 18:07:27] DEBUG   (4142056469.py:323) get_joints     sending: 04 #\n",
      "[2023-12-04 18:07:27] DEBUG   (4142056469.py:328) get_joints     recieved: b'4 1 -32.01 55.00 35.00 -0.01 -90.00 90.00'\n",
      "[2023-12-04 18:07:27] DEBUG   (4142056469.py:323) get_cartesian  sending: 03 #\n",
      "[2023-12-04 18:07:27] DEBUG   (4142056469.py:328) get_cartesian  recieved: b'3 1 307.98 -192.46 142.86 0.618 0.618 0.343 0.343'\n",
      "[2023-12-04 18:07:27] DEBUG   (4142056469.py:323) set_joints     sending: 02 -0030.00 +0055.00 +0035.00 +0008.00 -0090.00 +0090.00 #\n",
      "[2023-12-04 18:07:27] DEBUG   (4142056469.py:328) set_joints     recieved: b'2 1 '\n"
     ]
    },
    {
     "name": "stdout",
     "output_type": "stream",
     "text": [
      "[-30, 55, 35, 8, -90, 90]\n"
     ]
    },
    {
     "name": "stderr",
     "output_type": "stream",
     "text": [
      "[2023-12-04 18:07:27] DEBUG   (4142056469.py:323) get_joints     sending: 04 #\n",
      "[2023-12-04 18:07:28] DEBUG   (4142056469.py:328) get_joints     recieved: b'4 1 -30.00 55.00 35.00 7.99 -90.00 90.00'\n",
      "[2023-12-04 18:07:28] DEBUG   (4142056469.py:323) get_cartesian  sending: 03 #\n",
      "[2023-12-04 18:07:28] DEBUG   (4142056469.py:328) get_cartesian  recieved: b'3 1 308.91 -189.90 142.86 0.636 0.636 0.310 0.310'\n",
      "[2023-12-04 18:07:28] DEBUG   (4142056469.py:323) set_joints     sending: 02 -0028.00 +0055.00 +0035.00 +0016.00 -0090.00 +0090.00 #\n",
      "[2023-12-04 18:07:28] DEBUG   (4142056469.py:328) set_joints     recieved: b'2 1 '\n"
     ]
    },
    {
     "name": "stdout",
     "output_type": "stream",
     "text": [
      "[-28, 55, 35, 16, -90, 90]\n"
     ]
    },
    {
     "name": "stderr",
     "output_type": "stream",
     "text": [
      "[2023-12-04 18:07:28] DEBUG   (4142056469.py:323) get_joints     sending: 04 #\n",
      "[2023-12-04 18:07:28] DEBUG   (4142056469.py:328) get_joints     recieved: b'4 1 -28.00 55.00 35.00 16.01 -90.00 90.00'\n",
      "[2023-12-04 18:07:28] DEBUG   (4142056469.py:323) get_cartesian  sending: 03 #\n",
      "[2023-12-04 18:07:28] DEBUG   (4142056469.py:328) get_cartesian  recieved: b'3 1 308.88 -186.71 142.86 0.651 0.651 0.276 0.276'\n",
      "[2023-12-04 18:07:28] DEBUG   (4142056469.py:323) set_joints     sending: 02 -0026.00 +0055.00 +0035.00 +0024.00 -0090.00 +0090.00 #\n",
      "[2023-12-04 18:07:28] DEBUG   (4142056469.py:328) set_joints     recieved: b'2 1 '\n"
     ]
    },
    {
     "name": "stdout",
     "output_type": "stream",
     "text": [
      "[-26, 55, 35, 24, -90, 90]\n"
     ]
    },
    {
     "name": "stderr",
     "output_type": "stream",
     "text": [
      "[2023-12-04 18:07:28] DEBUG   (4142056469.py:323) get_joints     sending: 04 #\n",
      "[2023-12-04 18:07:29] DEBUG   (4142056469.py:328) get_joints     recieved: b'4 1 -26.00 55.00 35.00 24.00 -90.00 90.00'\n",
      "[2023-12-04 18:07:29] DEBUG   (4142056469.py:323) get_cartesian  sending: 03 #\n",
      "[2023-12-04 18:07:29] DEBUG   (4142056469.py:328) get_cartesian  recieved: b'3 1 307.99 -182.79 142.87 0.664 0.664 0.242 0.242'\n",
      "[2023-12-04 18:07:29] DEBUG   (4142056469.py:323) set_joints     sending: 02 -0038.00 +0055.00 +0035.00 -0016.00 -0090.00 +0090.00 #\n",
      "[2023-12-04 18:07:29] DEBUG   (4142056469.py:328) set_joints     recieved: b'2 1 '\n"
     ]
    },
    {
     "name": "stdout",
     "output_type": "stream",
     "text": [
      "[-38, 55, 35, -16, -90, 90]\n"
     ]
    },
    {
     "name": "stderr",
     "output_type": "stream",
     "text": [
      "[2023-12-04 18:07:29] DEBUG   (4142056469.py:323) get_joints     sending: 04 #\n",
      "[2023-12-04 18:07:29] DEBUG   (4142056469.py:328) get_joints     recieved: b'4 1 -30.88 55.00 35.00 7.73 -90.00 90.00'\n",
      "[2023-12-04 18:07:29] DEBUG   (4142056469.py:323) get_cartesian  sending: 03 #\n",
      "[2023-12-04 18:07:29] DEBUG   (4142056469.py:328) get_cartesian  recieved: b'3 1 299.68 -203.63 142.87 0.601 0.601 0.373 0.373'\n",
      "[2023-12-04 18:07:29] DEBUG   (4142056469.py:323) set_joints     sending: 02 -0036.00 +0055.00 +0035.00 -0008.00 -0090.00 +0090.00 #\n",
      "[2023-12-04 18:07:29] DEBUG   (4142056469.py:328) set_joints     recieved: b'2 1 '\n"
     ]
    },
    {
     "name": "stdout",
     "output_type": "stream",
     "text": [
      "[-36, 55, 35, -8, -90, 90]\n"
     ]
    },
    {
     "name": "stderr",
     "output_type": "stream",
     "text": [
      "[2023-12-04 18:07:30] DEBUG   (4142056469.py:323) get_joints     sending: 04 #\n",
      "[2023-12-04 18:07:30] DEBUG   (4142056469.py:328) get_joints     recieved: b'4 1 -36.02 55.00 35.00 -8.05 -90.00 90.00'\n",
      "[2023-12-04 18:07:30] DEBUG   (4142056469.py:323) get_cartesian  sending: 03 #\n",
      "[2023-12-04 18:07:30] DEBUG   (4142056469.py:328) get_cartesian  recieved: b'3 1 299.15 -204.93 142.87 0.606 0.606 0.364 0.364'\n",
      "[2023-12-04 18:07:30] DEBUG   (4142056469.py:323) set_joints     sending: 02 -0034.00 +0055.00 +0035.00 +0000.00 -0090.00 +0090.00 #\n",
      "[2023-12-04 18:07:30] DEBUG   (4142056469.py:328) set_joints     recieved: b'2 1 '\n"
     ]
    },
    {
     "name": "stdout",
     "output_type": "stream",
     "text": [
      "[-34, 55, 35, 0, -90, 90]\n"
     ]
    },
    {
     "name": "stderr",
     "output_type": "stream",
     "text": [
      "[2023-12-04 18:07:30] DEBUG   (4142056469.py:323) get_joints     sending: 04 #\n",
      "[2023-12-04 18:07:30] DEBUG   (4142056469.py:328) get_joints     recieved: b'4 1 -34.00 55.00 35.00 0.01 -90.00 90.00'\n",
      "[2023-12-04 18:07:30] DEBUG   (4142056469.py:323) get_cartesian  sending: 03 #\n",
      "[2023-12-04 18:07:30] DEBUG   (4142056469.py:328) get_cartesian  recieved: b'3 1 301.08 -203.08 142.86 0.624 0.624 0.332 0.332'\n",
      "[2023-12-04 18:07:30] DEBUG   (4142056469.py:323) set_joints     sending: 02 -0032.00 +0055.00 +0035.00 +0008.00 -0090.00 +0090.00 #\n",
      "[2023-12-04 18:07:30] DEBUG   (4142056469.py:328) set_joints     recieved: b'2 1 '\n"
     ]
    },
    {
     "name": "stdout",
     "output_type": "stream",
     "text": [
      "[-32, 55, 35, 8, -90, 90]\n"
     ]
    },
    {
     "name": "stderr",
     "output_type": "stream",
     "text": [
      "[2023-12-04 18:07:31] DEBUG   (4142056469.py:323) get_joints     sending: 04 #\n",
      "[2023-12-04 18:07:31] DEBUG   (4142056469.py:328) get_joints     recieved: b'4 1 -32.00 55.00 35.00 8.00 -90.00 90.00'\n",
      "[2023-12-04 18:07:31] DEBUG   (4142056469.py:323) get_cartesian  sending: 03 #\n",
      "[2023-12-04 18:07:31] DEBUG   (4142056469.py:328) get_cartesian  recieved: b'3 1 302.09 -200.57 142.86 0.641 0.641 0.299 0.299'\n",
      "[2023-12-04 18:07:31] DEBUG   (4142056469.py:323) set_joints     sending: 02 -0030.00 +0055.00 +0035.00 +0016.00 -0090.00 +0090.00 #\n",
      "[2023-12-04 18:07:31] DEBUG   (4142056469.py:328) set_joints     recieved: b'2 1 '\n"
     ]
    },
    {
     "name": "stdout",
     "output_type": "stream",
     "text": [
      "[-30, 55, 35, 16, -90, 90]\n"
     ]
    },
    {
     "name": "stderr",
     "output_type": "stream",
     "text": [
      "[2023-12-04 18:07:31] DEBUG   (4142056469.py:323) get_joints     sending: 04 #\n",
      "[2023-12-04 18:07:31] DEBUG   (4142056469.py:328) get_joints     recieved: b'4 1 -30.00 55.00 35.00 16.01 -90.00 90.00'\n",
      "[2023-12-04 18:07:31] DEBUG   (4142056469.py:323) get_cartesian  sending: 03 #\n",
      "[2023-12-04 18:07:31] DEBUG   (4142056469.py:328) get_cartesian  recieved: b'3 1 302.17 -197.38 142.86 0.656 0.656 0.265 0.265'\n",
      "[2023-12-04 18:07:31] DEBUG   (4142056469.py:323) set_joints     sending: 02 -0028.00 +0055.00 +0035.00 +0024.00 -0090.00 +0090.00 #\n",
      "[2023-12-04 18:07:31] DEBUG   (4142056469.py:328) set_joints     recieved: b'2 1 '\n"
     ]
    },
    {
     "name": "stdout",
     "output_type": "stream",
     "text": [
      "[-28, 55, 35, 24, -90, 90]\n"
     ]
    },
    {
     "name": "stderr",
     "output_type": "stream",
     "text": [
      "[2023-12-04 18:07:32] DEBUG   (4142056469.py:323) get_joints     sending: 04 #\n",
      "[2023-12-04 18:07:32] DEBUG   (4142056469.py:328) get_joints     recieved: b'4 1 -28.00 55.00 35.00 24.00 -90.00 90.00'\n",
      "[2023-12-04 18:07:32] DEBUG   (4142056469.py:323) get_cartesian  sending: 03 #\n",
      "[2023-12-04 18:07:32] DEBUG   (4142056469.py:328) get_cartesian  recieved: b'3 1 301.42 -193.42 142.86 0.669 0.669 0.230 0.230'\n",
      "[2023-12-04 18:07:32] DEBUG   (4142056469.py:323) set_joints     sending: 02 -0040.00 +0055.00 +0035.00 -0016.00 -0090.00 +0090.00 #\n",
      "[2023-12-04 18:07:32] DEBUG   (4142056469.py:328) set_joints     recieved: b'2 1 '\n"
     ]
    },
    {
     "name": "stdout",
     "output_type": "stream",
     "text": [
      "[-40, 55, 35, -16, -90, 90]\n"
     ]
    },
    {
     "name": "stderr",
     "output_type": "stream",
     "text": [
      "[2023-12-04 18:07:32] DEBUG   (4142056469.py:323) get_joints     sending: 04 #\n",
      "[2023-12-04 18:07:32] DEBUG   (4142056469.py:328) get_joints     recieved: b'4 1 -33.73 55.00 35.00 4.90 -90.00 90.00'\n",
      "[2023-12-04 18:07:32] DEBUG   (4142056469.py:323) get_cartesian  sending: 03 #\n",
      "[2023-12-04 18:07:32] DEBUG   (4142056469.py:328) get_cartesian  recieved: b'3 1 291.42 -214.69 142.87 0.603 0.603 0.370 0.370'\n",
      "[2023-12-04 18:07:32] DEBUG   (4142056469.py:323) set_joints     sending: 02 -0038.00 +0055.00 +0035.00 -0008.00 -0090.00 +0090.00 #\n",
      "[2023-12-04 18:07:32] DEBUG   (4142056469.py:328) set_joints     recieved: b'2 1 '\n"
     ]
    },
    {
     "name": "stdout",
     "output_type": "stream",
     "text": [
      "[-38, 55, 35, -8, -90, 90]\n"
     ]
    },
    {
     "name": "stderr",
     "output_type": "stream",
     "text": [
      "[2023-12-04 18:07:33] DEBUG   (4142056469.py:323) get_joints     sending: 04 #\n",
      "[2023-12-04 18:07:33] DEBUG   (4142056469.py:328) get_joints     recieved: b'4 1 -38.00 55.00 35.00 -8.01 -90.00 90.00'\n",
      "[2023-12-04 18:07:33] DEBUG   (4142056469.py:323) get_cartesian  sending: 03 #\n",
      "[2023-12-04 18:07:33] DEBUG   (4142056469.py:328) get_cartesian  recieved: b'3 1 291.81 -215.24 142.87 0.612 0.612 0.354 0.354'\n",
      "[2023-12-04 18:07:33] DEBUG   (4142056469.py:323) set_joints     sending: 02 -0036.00 +0055.00 +0035.00 +0000.00 -0090.00 +0090.00 #\n",
      "[2023-12-04 18:07:33] DEBUG   (4142056469.py:328) set_joints     recieved: b'2 1 '\n"
     ]
    },
    {
     "name": "stdout",
     "output_type": "stream",
     "text": [
      "[-36, 55, 35, 0, -90, 90]\n"
     ]
    },
    {
     "name": "stderr",
     "output_type": "stream",
     "text": [
      "[2023-12-04 18:07:33] DEBUG   (4142056469.py:323) get_joints     sending: 04 #\n",
      "[2023-12-04 18:07:33] DEBUG   (4142056469.py:328) get_joints     recieved: b'4 1 -36.02 55.00 35.00 -0.03 -90.00 90.00'\n",
      "[2023-12-04 18:07:33] DEBUG   (4142056469.py:323) get_cartesian  sending: 03 #\n",
      "[2023-12-04 18:07:33] DEBUG   (4142056469.py:328) get_cartesian  recieved: b'3 1 293.81 -213.47 142.87 0.630 0.630 0.321 0.321'\n",
      "[2023-12-04 18:07:33] DEBUG   (4142056469.py:323) set_joints     sending: 02 -0034.00 +0055.00 +0035.00 +0008.00 -0090.00 +0090.00 #\n",
      "[2023-12-04 18:07:33] DEBUG   (4142056469.py:328) set_joints     recieved: b'2 1 '\n"
     ]
    },
    {
     "name": "stdout",
     "output_type": "stream",
     "text": [
      "[-34, 55, 35, 8, -90, 90]\n"
     ]
    },
    {
     "name": "stderr",
     "output_type": "stream",
     "text": [
      "[2023-12-04 18:07:34] DEBUG   (4142056469.py:323) get_joints     sending: 04 #\n",
      "[2023-12-04 18:07:34] DEBUG   (4142056469.py:328) get_joints     recieved: b'4 1 -34.00 55.00 35.00 8.00 -90.00 90.00'\n",
      "[2023-12-04 18:07:34] DEBUG   (4142056469.py:323) get_cartesian  sending: 03 #\n",
      "[2023-12-04 18:07:34] DEBUG   (4142056469.py:328) get_cartesian  recieved: b'3 1 294.91 -210.99 142.86 0.646 0.646 0.288 0.288'\n",
      "[2023-12-04 18:07:34] DEBUG   (4142056469.py:323) set_joints     sending: 02 -0032.00 +0055.00 +0035.00 +0016.00 -0090.00 +0090.00 #\n",
      "[2023-12-04 18:07:34] DEBUG   (4142056469.py:328) set_joints     recieved: b'2 1 '\n"
     ]
    },
    {
     "name": "stdout",
     "output_type": "stream",
     "text": [
      "[-32, 55, 35, 16, -90, 90]\n"
     ]
    },
    {
     "name": "stderr",
     "output_type": "stream",
     "text": [
      "[2023-12-04 18:07:34] DEBUG   (4142056469.py:323) get_joints     sending: 04 #\n",
      "[2023-12-04 18:07:34] DEBUG   (4142056469.py:328) get_joints     recieved: b'4 1 -32.00 55.00 35.00 16.01 -90.00 90.00'\n",
      "[2023-12-04 18:07:34] DEBUG   (4142056469.py:323) get_cartesian  sending: 03 #\n",
      "[2023-12-04 18:07:34] DEBUG   (4142056469.py:328) get_cartesian  recieved: b'3 1 295.10 -207.80 142.87 0.660 0.660 0.253 0.253'\n",
      "[2023-12-04 18:07:34] DEBUG   (4142056469.py:323) set_joints     sending: 02 -0030.00 +0055.00 +0035.00 +0024.00 -0090.00 +0090.00 #\n",
      "[2023-12-04 18:07:34] DEBUG   (4142056469.py:328) set_joints     recieved: b'2 1 '\n"
     ]
    },
    {
     "name": "stdout",
     "output_type": "stream",
     "text": [
      "[-30, 55, 35, 24, -90, 90]\n"
     ]
    },
    {
     "name": "stderr",
     "output_type": "stream",
     "text": [
      "[2023-12-04 18:07:35] DEBUG   (4142056469.py:323) get_joints     sending: 04 #\n",
      "[2023-12-04 18:07:35] DEBUG   (4142056469.py:328) get_joints     recieved: b'4 1 -30.00 55.00 35.00 24.00 -90.00 90.00'\n",
      "[2023-12-04 18:07:35] DEBUG   (4142056469.py:323) get_cartesian  sending: 03 #\n",
      "[2023-12-04 18:07:35] DEBUG   (4142056469.py:328) get_cartesian  recieved: b'3 1 294.49 -203.82 142.86 0.672 0.672 0.219 0.219'\n",
      "[2023-12-04 18:07:35] DEBUG   (4142056469.py:323) set_joints     sending: 02 -0042.00 +0055.00 +0035.00 -0016.00 -0090.00 +0090.00 #\n",
      "[2023-12-04 18:07:35] DEBUG   (4142056469.py:328) set_joints     recieved: b'2 1 '\n"
     ]
    },
    {
     "name": "stdout",
     "output_type": "stream",
     "text": [
      "[-42, 55, 35, -16, -90, 90]\n"
     ]
    },
    {
     "name": "stderr",
     "output_type": "stream",
     "text": [
      "[2023-12-04 18:07:35] DEBUG   (4142056469.py:323) get_joints     sending: 04 #\n",
      "[2023-12-04 18:07:35] DEBUG   (4142056469.py:328) get_joints     recieved: b'4 1 -34.88 55.00 35.00 7.73 -90.00 90.00'\n",
      "[2023-12-04 18:07:35] DEBUG   (4142056469.py:323) get_cartesian  sending: 03 #\n",
      "[2023-12-04 18:07:35] DEBUG   (4142056469.py:328) get_cartesian  recieved: b'3 1 285.09 -223.79 142.86 0.615 0.615 0.349 0.349'\n",
      "[2023-12-04 18:07:35] DEBUG   (4142056469.py:323) set_joints     sending: 02 -0040.00 +0055.00 +0035.00 -0008.00 -0090.00 +0090.00 #\n",
      "[2023-12-04 18:07:35] DEBUG   (4142056469.py:328) set_joints     recieved: b'2 1 '\n"
     ]
    },
    {
     "name": "stdout",
     "output_type": "stream",
     "text": [
      "[-40, 55, 35, -8, -90, 90]\n"
     ]
    },
    {
     "name": "stderr",
     "output_type": "stream",
     "text": [
      "[2023-12-04 18:07:36] DEBUG   (4142056469.py:323) get_joints     sending: 04 #\n",
      "[2023-12-04 18:07:36] DEBUG   (4142056469.py:328) get_joints     recieved: b'4 1 -40.00 55.00 35.00 -8.01 -90.00 90.00'\n",
      "[2023-12-04 18:07:36] DEBUG   (4142056469.py:323) get_cartesian  sending: 03 #\n",
      "[2023-12-04 18:07:36] DEBUG   (4142056469.py:328) get_cartesian  recieved: b'3 1 284.12 -225.30 142.87 0.618 0.618 0.343 0.343'\n",
      "[2023-12-04 18:07:36] DEBUG   (4142056469.py:323) set_joints     sending: 02 -0038.00 +0055.00 +0035.00 +0000.00 -0090.00 +0090.00 #\n",
      "[2023-12-04 18:07:36] DEBUG   (4142056469.py:328) set_joints     recieved: b'2 1 '\n"
     ]
    },
    {
     "name": "stdout",
     "output_type": "stream",
     "text": [
      "[-38, 55, 35, 0, -90, 90]\n"
     ]
    },
    {
     "name": "stderr",
     "output_type": "stream",
     "text": [
      "[2023-12-04 18:07:36] DEBUG   (4142056469.py:323) get_joints     sending: 04 #\n",
      "[2023-12-04 18:07:36] DEBUG   (4142056469.py:328) get_joints     recieved: b'4 1 -38.00 55.00 35.00 0.01 -90.00 90.00'\n",
      "[2023-12-04 18:07:36] DEBUG   (4142056469.py:323) get_cartesian  sending: 03 #\n",
      "[2023-12-04 18:07:36] DEBUG   (4142056469.py:328) get_cartesian  recieved: b'3 1 286.18 -223.59 142.86 0.636 0.636 0.310 0.310'\n",
      "[2023-12-04 18:07:36] DEBUG   (4142056469.py:323) set_joints     sending: 02 -0036.00 +0055.00 +0035.00 +0008.00 -0090.00 +0090.00 #\n",
      "[2023-12-04 18:07:36] DEBUG   (4142056469.py:328) set_joints     recieved: b'2 1 '\n"
     ]
    },
    {
     "name": "stdout",
     "output_type": "stream",
     "text": [
      "[-36, 55, 35, 8, -90, 90]\n"
     ]
    },
    {
     "name": "stderr",
     "output_type": "stream",
     "text": [
      "[2023-12-04 18:07:37] DEBUG   (4142056469.py:323) get_joints     sending: 04 #\n",
      "[2023-12-04 18:07:37] DEBUG   (4142056469.py:328) get_joints     recieved: b'4 1 -36.01 55.00 35.00 7.98 -90.00 90.00'\n",
      "[2023-12-04 18:07:37] DEBUG   (4142056469.py:323) get_cartesian  sending: 03 #\n",
      "[2023-12-04 18:07:37] DEBUG   (4142056469.py:328) get_cartesian  recieved: b'3 1 287.36 -221.15 142.87 0.651 0.651 0.276 0.276'\n",
      "[2023-12-04 18:07:37] DEBUG   (4142056469.py:323) set_joints     sending: 02 -0034.00 +0055.00 +0035.00 +0016.00 -0090.00 +0090.00 #\n",
      "[2023-12-04 18:07:37] DEBUG   (4142056469.py:328) set_joints     recieved: b'2 1 '\n"
     ]
    },
    {
     "name": "stdout",
     "output_type": "stream",
     "text": [
      "[-34, 55, 35, 16, -90, 90]\n"
     ]
    },
    {
     "name": "stderr",
     "output_type": "stream",
     "text": [
      "[2023-12-04 18:07:37] DEBUG   (4142056469.py:323) get_joints     sending: 04 #\n",
      "[2023-12-04 18:07:37] DEBUG   (4142056469.py:328) get_joints     recieved: b'4 1 -34.00 55.00 35.00 16.01 -90.00 90.00'\n",
      "[2023-12-04 18:07:37] DEBUG   (4142056469.py:323) get_cartesian  sending: 03 #\n",
      "[2023-12-04 18:07:37] DEBUG   (4142056469.py:328) get_cartesian  recieved: b'3 1 287.67 -217.97 142.87 0.664 0.664 0.242 0.242'\n",
      "[2023-12-04 18:07:37] DEBUG   (4142056469.py:323) set_joints     sending: 02 -0032.00 +0055.00 +0035.00 +0024.00 -0090.00 +0090.00 #\n",
      "[2023-12-04 18:07:38] DEBUG   (4142056469.py:328) set_joints     recieved: b'2 1 '\n"
     ]
    },
    {
     "name": "stdout",
     "output_type": "stream",
     "text": [
      "[-32, 55, 35, 24, -90, 90]\n"
     ]
    },
    {
     "name": "stderr",
     "output_type": "stream",
     "text": [
      "[2023-12-04 18:07:38] DEBUG   (4142056469.py:323) get_joints     sending: 04 #\n",
      "[2023-12-04 18:07:38] DEBUG   (4142056469.py:328) get_joints     recieved: b'4 1 -32.00 55.00 35.00 24.00 -90.00 90.00'\n",
      "[2023-12-04 18:07:38] DEBUG   (4142056469.py:323) get_cartesian  sending: 03 #\n",
      "[2023-12-04 18:07:38] DEBUG   (4142056469.py:328) get_cartesian  recieved: b'3 1 287.19 -213.98 142.86 0.676 0.676 0.207 0.207'\n",
      "[2023-12-04 18:07:38] DEBUG   (4142056469.py:323) set_joints     sending: 02 -0044.00 +0055.00 +0035.00 -0016.00 -0090.00 +0090.00 #\n",
      "[2023-12-04 18:07:38] DEBUG   (4142056469.py:328) set_joints     recieved: b'2 1 '\n"
     ]
    },
    {
     "name": "stdout",
     "output_type": "stream",
     "text": [
      "[-44, 55, 35, -16, -90, 90]\n"
     ]
    },
    {
     "name": "stderr",
     "output_type": "stream",
     "text": [
      "[2023-12-04 18:07:38] DEBUG   (4142056469.py:323) get_joints     sending: 04 #\n",
      "[2023-12-04 18:07:38] DEBUG   (4142056469.py:328) get_joints     recieved: b'4 1 -37.31 55.00 35.00 6.32 -90.00 90.00'\n",
      "[2023-12-04 18:07:38] DEBUG   (4142056469.py:323) get_cartesian  sending: 03 #\n",
      "[2023-12-04 18:07:38] DEBUG   (4142056469.py:328) get_cartesian  recieved: b'3 1 275.74 -234.49 142.87 0.615 0.615 0.348 0.348'\n",
      "[2023-12-04 18:07:38] DEBUG   (4142056469.py:323) set_joints     sending: 02 -0042.00 +0055.00 +0035.00 -0008.00 -0090.00 +0090.00 #\n",
      "[2023-12-04 18:07:39] DEBUG   (4142056469.py:328) set_joints     recieved: b'2 1 '\n"
     ]
    },
    {
     "name": "stdout",
     "output_type": "stream",
     "text": [
      "[-42, 55, 35, -8, -90, 90]\n"
     ]
    },
    {
     "name": "stderr",
     "output_type": "stream",
     "text": [
      "[2023-12-04 18:07:39] DEBUG   (4142056469.py:323) get_joints     sending: 04 #\n",
      "[2023-12-04 18:07:39] DEBUG   (4142056469.py:328) get_joints     recieved: b'4 1 -42.01 55.00 35.00 -8.01 -90.00 90.00'\n",
      "[2023-12-04 18:07:39] DEBUG   (4142056469.py:323) get_cartesian  sending: 03 #\n",
      "[2023-12-04 18:07:39] DEBUG   (4142056469.py:328) get_cartesian  recieved: b'3 1 276.09 -235.08 142.87 0.624 0.624 0.332 0.332'\n",
      "[2023-12-04 18:07:39] DEBUG   (4142056469.py:323) set_joints     sending: 02 -0040.00 +0055.00 +0035.00 +0000.00 -0090.00 +0090.00 #\n",
      "[2023-12-04 18:07:39] DEBUG   (4142056469.py:328) set_joints     recieved: b'2 1 '\n"
     ]
    },
    {
     "name": "stdout",
     "output_type": "stream",
     "text": [
      "[-40, 55, 35, 0, -90, 90]\n"
     ]
    },
    {
     "name": "stderr",
     "output_type": "stream",
     "text": [
      "[2023-12-04 18:07:39] DEBUG   (4142056469.py:323) get_joints     sending: 04 #\n",
      "[2023-12-04 18:07:39] DEBUG   (4142056469.py:328) get_joints     recieved: b'4 1 -40.00 55.00 35.00 0.01 -90.00 90.00'\n",
      "[2023-12-04 18:07:39] DEBUG   (4142056469.py:323) get_cartesian  sending: 03 #\n",
      "[2023-12-04 18:07:39] DEBUG   (4142056469.py:328) get_cartesian  recieved: b'3 1 278.20 -233.44 142.86 0.641 0.641 0.299 0.299'\n",
      "[2023-12-04 18:07:40] DEBUG   (4142056469.py:323) set_joints     sending: 02 -0038.00 +0055.00 +0035.00 +0008.00 -0090.00 +0090.00 #\n",
      "[2023-12-04 18:07:40] DEBUG   (4142056469.py:328) set_joints     recieved: b'2 1 '\n"
     ]
    },
    {
     "name": "stdout",
     "output_type": "stream",
     "text": [
      "[-38, 55, 35, 8, -90, 90]\n"
     ]
    },
    {
     "name": "stderr",
     "output_type": "stream",
     "text": [
      "[2023-12-04 18:07:40] DEBUG   (4142056469.py:323) get_joints     sending: 04 #\n",
      "[2023-12-04 18:07:40] DEBUG   (4142056469.py:328) get_joints     recieved: b'4 1 -38.00 55.00 35.00 8.00 -90.00 90.00'\n",
      "[2023-12-04 18:07:40] DEBUG   (4142056469.py:323) get_cartesian  sending: 03 #\n",
      "[2023-12-04 18:07:40] DEBUG   (4142056469.py:328) get_cartesian  recieved: b'3 1 279.47 -231.04 142.86 0.656 0.656 0.265 0.265'\n",
      "[2023-12-04 18:07:40] DEBUG   (4142056469.py:323) set_joints     sending: 02 -0036.00 +0055.00 +0035.00 +0016.00 -0090.00 +0090.00 #\n",
      "[2023-12-04 18:07:40] DEBUG   (4142056469.py:328) set_joints     recieved: b'2 1 '\n"
     ]
    },
    {
     "name": "stdout",
     "output_type": "stream",
     "text": [
      "[-36, 55, 35, 16, -90, 90]\n"
     ]
    },
    {
     "name": "stderr",
     "output_type": "stream",
     "text": [
      "[2023-12-04 18:07:40] DEBUG   (4142056469.py:323) get_joints     sending: 04 #\n",
      "[2023-12-04 18:07:40] DEBUG   (4142056469.py:328) get_joints     recieved: b'4 1 -36.00 55.00 35.00 16.01 -90.00 90.00'\n",
      "[2023-12-04 18:07:40] DEBUG   (4142056469.py:323) get_cartesian  sending: 03 #\n",
      "[2023-12-04 18:07:40] DEBUG   (4142056469.py:328) get_cartesian  recieved: b'3 1 279.89 -227.88 142.86 0.669 0.669 0.230 0.230'\n",
      "[2023-12-04 18:07:41] DEBUG   (4142056469.py:323) set_joints     sending: 02 -0034.00 +0055.00 +0035.00 +0024.00 -0090.00 +0090.00 #\n",
      "[2023-12-04 18:07:41] DEBUG   (4142056469.py:328) set_joints     recieved: b'2 1 '\n"
     ]
    },
    {
     "name": "stdout",
     "output_type": "stream",
     "text": [
      "[-34, 55, 35, 24, -90, 90]\n"
     ]
    },
    {
     "name": "stderr",
     "output_type": "stream",
     "text": [
      "[2023-12-04 18:07:41] DEBUG   (4142056469.py:323) get_joints     sending: 04 #\n",
      "[2023-12-04 18:07:41] DEBUG   (4142056469.py:328) get_joints     recieved: b'4 1 -34.00 55.00 35.00 24.00 -90.00 90.00'\n",
      "[2023-12-04 18:07:41] DEBUG   (4142056469.py:323) get_cartesian  sending: 03 #\n",
      "[2023-12-04 18:07:41] DEBUG   (4142056469.py:328) get_cartesian  recieved: b'3 1 279.55 -223.87 142.86 0.680 0.680 0.195 0.195'\n",
      "[2023-12-04 18:07:41] DEBUG   (4142056469.py:323) set_joints     sending: 02 -0046.00 +0055.00 +0035.00 -0016.00 -0090.00 +0090.00 #\n",
      "[2023-12-04 18:07:41] DEBUG   (4142056469.py:328) set_joints     recieved: b'2 1 '\n"
     ]
    },
    {
     "name": "stdout",
     "output_type": "stream",
     "text": [
      "[-46, 55, 35, -16, -90, 90]\n"
     ]
    },
    {
     "name": "stderr",
     "output_type": "stream",
     "text": [
      "[2023-12-04 18:07:41] DEBUG   (4142056469.py:323) get_joints     sending: 04 #\n",
      "[2023-12-04 18:07:41] DEBUG   (4142056469.py:328) get_joints     recieved: b'4 1 -38.88 55.00 35.00 7.73 -90.00 90.00'\n",
      "[2023-12-04 18:07:41] DEBUG   (4142056469.py:323) get_cartesian  sending: 03 #\n",
      "[2023-12-04 18:07:42] DEBUG   (4142056469.py:328) get_cartesian  recieved: b'3 1 268.78 -243.13 142.86 0.627 0.627 0.328 0.328'\n",
      "[2023-12-04 18:07:42] DEBUG   (4142056469.py:323) set_joints     sending: 02 -0044.00 +0055.00 +0035.00 -0008.00 -0090.00 +0090.00 #\n",
      "[2023-12-04 18:07:42] DEBUG   (4142056469.py:328) set_joints     recieved: b'2 1 '\n"
     ]
    },
    {
     "name": "stdout",
     "output_type": "stream",
     "text": [
      "[-44, 55, 35, -8, -90, 90]\n"
     ]
    },
    {
     "name": "stderr",
     "output_type": "stream",
     "text": [
      "[2023-12-04 18:07:42] DEBUG   (4142056469.py:323) get_joints     sending: 04 #\n",
      "[2023-12-04 18:07:42] DEBUG   (4142056469.py:328) get_joints     recieved: b'4 1 -44.01 55.00 35.00 -8.03 -90.00 90.00'\n",
      "[2023-12-04 18:07:42] DEBUG   (4142056469.py:323) get_cartesian  sending: 03 #\n",
      "[2023-12-04 18:07:42] DEBUG   (4142056469.py:328) get_cartesian  recieved: b'3 1 267.72 -244.57 142.87 0.630 0.630 0.321 0.321'\n",
      "[2023-12-04 18:07:42] DEBUG   (4142056469.py:323) set_joints     sending: 02 -0042.00 +0055.00 +0035.00 +0000.00 -0090.00 +0090.00 #\n",
      "[2023-12-04 18:07:42] DEBUG   (4142056469.py:328) set_joints     recieved: b'2 1 '\n"
     ]
    },
    {
     "name": "stdout",
     "output_type": "stream",
     "text": [
      "[-42, 55, 35, 0, -90, 90]\n"
     ]
    },
    {
     "name": "stderr",
     "output_type": "stream",
     "text": [
      "[2023-12-04 18:07:42] DEBUG   (4142056469.py:323) get_joints     sending: 04 #\n",
      "[2023-12-04 18:07:42] DEBUG   (4142056469.py:328) get_joints     recieved: b'4 1 -42.01 55.00 35.00 -0.01 -90.00 90.00'\n",
      "[2023-12-04 18:07:42] DEBUG   (4142056469.py:323) get_cartesian  sending: 03 #\n",
      "[2023-12-04 18:07:43] DEBUG   (4142056469.py:328) get_cartesian  recieved: b'3 1 269.89 -243.01 142.87 0.646 0.646 0.288 0.288'\n",
      "[2023-12-04 18:07:43] DEBUG   (4142056469.py:323) set_joints     sending: 02 -0040.00 +0055.00 +0035.00 +0008.00 -0090.00 +0090.00 #\n",
      "[2023-12-04 18:07:43] DEBUG   (4142056469.py:328) set_joints     recieved: b'2 1 '\n"
     ]
    },
    {
     "name": "stdout",
     "output_type": "stream",
     "text": [
      "[-40, 55, 35, 8, -90, 90]\n"
     ]
    },
    {
     "name": "stderr",
     "output_type": "stream",
     "text": [
      "[2023-12-04 18:07:43] DEBUG   (4142056469.py:323) get_joints     sending: 04 #\n",
      "[2023-12-04 18:07:43] DEBUG   (4142056469.py:328) get_joints     recieved: b'4 1 -40.00 55.00 35.00 7.99 -90.00 90.00'\n",
      "[2023-12-04 18:07:43] DEBUG   (4142056469.py:323) get_cartesian  sending: 03 #\n",
      "[2023-12-04 18:07:43] DEBUG   (4142056469.py:328) get_cartesian  recieved: b'3 1 271.24 -240.66 142.87 0.660 0.660 0.253 0.253'\n",
      "[2023-12-04 18:07:43] DEBUG   (4142056469.py:323) set_joints     sending: 02 -0038.00 +0055.00 +0035.00 +0016.00 -0090.00 +0090.00 #\n",
      "[2023-12-04 18:07:43] DEBUG   (4142056469.py:328) set_joints     recieved: b'2 1 '\n"
     ]
    },
    {
     "name": "stdout",
     "output_type": "stream",
     "text": [
      "[-38, 55, 35, 16, -90, 90]\n"
     ]
    },
    {
     "name": "stderr",
     "output_type": "stream",
     "text": [
      "[2023-12-04 18:07:43] DEBUG   (4142056469.py:323) get_joints     sending: 04 #\n",
      "[2023-12-04 18:07:43] DEBUG   (4142056469.py:328) get_joints     recieved: b'4 1 -38.00 55.00 35.00 16.01 -90.00 90.00'\n",
      "[2023-12-04 18:07:43] DEBUG   (4142056469.py:323) get_cartesian  sending: 03 #\n",
      "[2023-12-04 18:07:44] DEBUG   (4142056469.py:328) get_cartesian  recieved: b'3 1 271.76 -237.51 142.86 0.673 0.673 0.218 0.218'\n",
      "[2023-12-04 18:07:44] DEBUG   (4142056469.py:323) set_joints     sending: 02 -0036.00 +0055.00 +0035.00 +0024.00 -0090.00 +0090.00 #\n",
      "[2023-12-04 18:07:44] DEBUG   (4142056469.py:328) set_joints     recieved: b'2 1 '\n"
     ]
    },
    {
     "name": "stdout",
     "output_type": "stream",
     "text": [
      "[-36, 55, 35, 24, -90, 90]\n"
     ]
    },
    {
     "name": "stderr",
     "output_type": "stream",
     "text": [
      "[2023-12-04 18:07:44] DEBUG   (4142056469.py:323) get_joints     sending: 04 #\n",
      "[2023-12-04 18:07:44] DEBUG   (4142056469.py:328) get_joints     recieved: b'4 1 -36.00 55.00 35.00 24.00 -90.00 90.00'\n",
      "[2023-12-04 18:07:44] DEBUG   (4142056469.py:323) get_cartesian  sending: 03 #\n",
      "[2023-12-04 18:07:44] DEBUG   (4142056469.py:328) get_cartesian  recieved: b'3 1 271.57 -233.49 142.86 0.683 0.683 0.183 0.183'\n",
      "[2023-12-04 18:07:44] DEBUG   (4142056469.py:323) set_joints     sending: 02 -0048.00 +0055.00 +0035.00 -0016.00 -0090.00 +0090.00 #\n",
      "[2023-12-04 18:07:44] DEBUG   (4142056469.py:328) set_joints     recieved: b'2 1 '\n"
     ]
    },
    {
     "name": "stdout",
     "output_type": "stream",
     "text": [
      "[-48, 55, 35, -16, -90, 90]\n"
     ]
    },
    {
     "name": "stderr",
     "output_type": "stream",
     "text": [
      "[2023-12-04 18:07:44] DEBUG   (4142056469.py:323) get_joints     sending: 04 #\n",
      "[2023-12-04 18:07:44] DEBUG   (4142056469.py:328) get_joints     recieved: b'4 1 -40.88 55.00 35.00 7.73 -90.00 90.00'\n",
      "[2023-12-04 18:07:45] DEBUG   (4142056469.py:323) get_cartesian  sending: 03 #\n",
      "[2023-12-04 18:07:45] DEBUG   (4142056469.py:328) get_cartesian  recieved: b'3 1 260.13 -252.36 142.86 0.632 0.632 0.317 0.317'\n",
      "[2023-12-04 18:07:45] DEBUG   (4142056469.py:323) set_joints     sending: 02 -0046.00 +0055.00 +0035.00 -0008.00 -0090.00 +0090.00 #\n",
      "[2023-12-04 18:07:45] DEBUG   (4142056469.py:328) set_joints     recieved: b'2 1 '\n"
     ]
    },
    {
     "name": "stdout",
     "output_type": "stream",
     "text": [
      "[-46, 55, 35, -8, -90, 90]\n"
     ]
    },
    {
     "name": "stderr",
     "output_type": "stream",
     "text": [
      "[2023-12-04 18:07:45] DEBUG   (4142056469.py:323) get_joints     sending: 04 #\n",
      "[2023-12-04 18:07:45] DEBUG   (4142056469.py:328) get_joints     recieved: b'4 1 -46.01 55.00 35.00 -8.03 -90.00 90.00'\n",
      "[2023-12-04 18:07:45] DEBUG   (4142056469.py:323) get_cartesian  sending: 03 #\n",
      "[2023-12-04 18:07:45] DEBUG   (4142056469.py:328) get_cartesian  recieved: b'3 1 259.02 -253.76 142.87 0.636 0.636 0.310 0.310'\n",
      "[2023-12-04 18:07:45] DEBUG   (4142056469.py:323) set_joints     sending: 02 -0044.00 +0055.00 +0035.00 +0000.00 -0090.00 +0090.00 #\n",
      "[2023-12-04 18:07:45] DEBUG   (4142056469.py:328) set_joints     recieved: b'2 1 '\n"
     ]
    },
    {
     "name": "stdout",
     "output_type": "stream",
     "text": [
      "[-44, 55, 35, 0, -90, 90]\n"
     ]
    },
    {
     "name": "stderr",
     "output_type": "stream",
     "text": [
      "[2023-12-04 18:07:45] DEBUG   (4142056469.py:323) get_joints     sending: 04 #\n",
      "[2023-12-04 18:07:46] DEBUG   (4142056469.py:328) get_joints     recieved: b'4 1 -44.01 55.00 35.00 -0.01 -90.00 90.00'\n",
      "[2023-12-04 18:07:46] DEBUG   (4142056469.py:323) get_cartesian  sending: 03 #\n",
      "[2023-12-04 18:07:46] DEBUG   (4142056469.py:328) get_cartesian  recieved: b'3 1 261.24 -252.28 142.87 0.651 0.651 0.276 0.276'\n",
      "[2023-12-04 18:07:46] DEBUG   (4142056469.py:323) set_joints     sending: 02 -0042.00 +0055.00 +0035.00 +0008.00 -0090.00 +0090.00 #\n",
      "[2023-12-04 18:07:46] DEBUG   (4142056469.py:328) set_joints     recieved: b'2 1 '\n"
     ]
    },
    {
     "name": "stdout",
     "output_type": "stream",
     "text": [
      "[-42, 55, 35, 8, -90, 90]\n"
     ]
    },
    {
     "name": "stderr",
     "output_type": "stream",
     "text": [
      "[2023-12-04 18:07:46] DEBUG   (4142056469.py:323) get_joints     sending: 04 #\n",
      "[2023-12-04 18:07:46] DEBUG   (4142056469.py:328) get_joints     recieved: b'4 1 -42.01 55.00 35.00 7.98 -90.00 90.00'\n",
      "[2023-12-04 18:07:46] DEBUG   (4142056469.py:323) get_cartesian  sending: 03 #\n",
      "[2023-12-04 18:07:46] DEBUG   (4142056469.py:328) get_cartesian  recieved: b'3 1 262.67 -249.98 142.87 0.664 0.664 0.242 0.242'\n",
      "[2023-12-04 18:07:46] DEBUG   (4142056469.py:323) set_joints     sending: 02 -0040.00 +0055.00 +0035.00 +0016.00 -0090.00 +0090.00 #\n",
      "[2023-12-04 18:07:46] DEBUG   (4142056469.py:328) set_joints     recieved: b'2 1 '\n"
     ]
    },
    {
     "name": "stdout",
     "output_type": "stream",
     "text": [
      "[-40, 55, 35, 16, -90, 90]\n"
     ]
    },
    {
     "name": "stderr",
     "output_type": "stream",
     "text": [
      "[2023-12-04 18:07:46] DEBUG   (4142056469.py:323) get_joints     sending: 04 #\n",
      "[2023-12-04 18:07:47] DEBUG   (4142056469.py:328) get_joints     recieved: b'4 1 -40.01 55.00 35.00 16.00 -90.00 90.00'\n",
      "[2023-12-04 18:07:47] DEBUG   (4142056469.py:323) get_cartesian  sending: 03 #\n",
      "[2023-12-04 18:07:47] DEBUG   (4142056469.py:328) get_cartesian  recieved: b'3 1 263.31 -246.85 142.87 0.676 0.676 0.207 0.207'\n",
      "[2023-12-04 18:07:47] DEBUG   (4142056469.py:323) set_joints     sending: 02 -0038.00 +0055.00 +0035.00 +0024.00 -0090.00 +0090.00 #\n",
      "[2023-12-04 18:07:47] DEBUG   (4142056469.py:328) set_joints     recieved: b'2 1 '\n"
     ]
    },
    {
     "name": "stdout",
     "output_type": "stream",
     "text": [
      "[-38, 55, 35, 24, -90, 90]\n"
     ]
    },
    {
     "name": "stderr",
     "output_type": "stream",
     "text": [
      "[2023-12-04 18:07:47] DEBUG   (4142056469.py:323) get_joints     sending: 04 #\n",
      "[2023-12-04 18:07:47] DEBUG   (4142056469.py:328) get_joints     recieved: b'4 1 -38.01 55.00 35.00 23.98 -90.00 90.00'\n",
      "[2023-12-04 18:07:47] DEBUG   (4142056469.py:323) get_cartesian  sending: 03 #\n",
      "[2023-12-04 18:07:47] DEBUG   (4142056469.py:328) get_cartesian  recieved: b'3 1 263.26 -242.82 142.87 0.686 0.686 0.171 0.171'\n",
      "[2023-12-04 18:07:47] DEBUG   (4142056469.py:323) set_joints     sending: 02 -0050.00 +0055.00 +0035.00 -0016.00 -0090.00 +0090.00 #\n",
      "[2023-12-04 18:07:47] DEBUG   (4142056469.py:328) set_joints     recieved: b'2 1 '\n"
     ]
    },
    {
     "name": "stdout",
     "output_type": "stream",
     "text": [
      "[-50, 55, 35, -16, -90, 90]\n"
     ]
    },
    {
     "name": "stderr",
     "output_type": "stream",
     "text": [
      "[2023-12-04 18:07:47] DEBUG   (4142056469.py:323) get_joints     sending: 04 #\n",
      "[2023-12-04 18:07:48] DEBUG   (4142056469.py:328) get_joints     recieved: b'4 1 -43.52 55.00 35.00 5.62 -90.00 90.00'\n",
      "[2023-12-04 18:07:48] DEBUG   (4142056469.py:323) get_cartesian  sending: 03 #\n",
      "[2023-12-04 18:07:48] DEBUG   (4142056469.py:328) get_cartesian  recieved: b'3 1 249.71 -262.03 142.87 0.633 0.633 0.316 0.316'\n",
      "[2023-12-04 18:07:48] DEBUG   (4142056469.py:323) set_joints     sending: 02 -0048.00 +0055.00 +0035.00 -0008.00 -0090.00 +0090.00 #\n",
      "[2023-12-04 18:07:48] DEBUG   (4142056469.py:328) set_joints     recieved: b'2 1 '\n"
     ]
    },
    {
     "name": "stdout",
     "output_type": "stream",
     "text": [
      "[-48, 55, 35, -8, -90, 90]\n"
     ]
    },
    {
     "name": "stderr",
     "output_type": "stream",
     "text": [
      "[2023-12-04 18:07:48] DEBUG   (4142056469.py:323) get_joints     sending: 04 #\n",
      "[2023-12-04 18:07:48] DEBUG   (4142056469.py:328) get_joints     recieved: b'4 1 -48.01 55.00 35.00 -8.01 -90.00 90.00'\n",
      "[2023-12-04 18:07:48] DEBUG   (4142056469.py:323) get_cartesian  sending: 03 #\n",
      "[2023-12-04 18:07:48] DEBUG   (4142056469.py:328) get_cartesian  recieved: b'3 1 250.00 -262.65 142.87 0.641 0.641 0.299 0.299'\n",
      "[2023-12-04 18:07:48] DEBUG   (4142056469.py:323) set_joints     sending: 02 -0046.00 +0055.00 +0035.00 +0000.00 -0090.00 +0090.00 #\n",
      "[2023-12-04 18:07:48] DEBUG   (4142056469.py:328) set_joints     recieved: b'2 1 '\n"
     ]
    },
    {
     "name": "stdout",
     "output_type": "stream",
     "text": [
      "[-46, 55, 35, 0, -90, 90]\n"
     ]
    },
    {
     "name": "stderr",
     "output_type": "stream",
     "text": [
      "[2023-12-04 18:07:49] DEBUG   (4142056469.py:323) get_joints     sending: 04 #\n",
      "[2023-12-04 18:07:49] DEBUG   (4142056469.py:328) get_joints     recieved: b'4 1 -46.00 55.00 35.00 0.01 -90.00 90.00'\n",
      "[2023-12-04 18:07:49] DEBUG   (4142056469.py:323) get_cartesian  sending: 03 #\n",
      "[2023-12-04 18:07:49] DEBUG   (4142056469.py:328) get_cartesian  recieved: b'3 1 252.28 -261.25 142.86 0.656 0.656 0.265 0.265'\n",
      "[2023-12-04 18:07:49] DEBUG   (4142056469.py:323) set_joints     sending: 02 -0044.00 +0055.00 +0035.00 +0008.00 -0090.00 +0090.00 #\n",
      "[2023-12-04 18:07:49] DEBUG   (4142056469.py:328) set_joints     recieved: b'2 1 '\n"
     ]
    },
    {
     "name": "stdout",
     "output_type": "stream",
     "text": [
      "[-44, 55, 35, 8, -90, 90]\n"
     ]
    },
    {
     "name": "stderr",
     "output_type": "stream",
     "text": [
      "[2023-12-04 18:07:49] DEBUG   (4142056469.py:323) get_joints     sending: 04 #\n",
      "[2023-12-04 18:07:49] DEBUG   (4142056469.py:328) get_joints     recieved: b'4 1 -44.01 55.00 35.00 7.99 -90.00 90.00'\n",
      "[2023-12-04 18:07:49] DEBUG   (4142056469.py:323) get_cartesian  sending: 03 #\n",
      "[2023-12-04 18:07:49] DEBUG   (4142056469.py:328) get_cartesian  recieved: b'3 1 253.79 -258.99 142.87 0.669 0.669 0.230 0.230'\n",
      "[2023-12-04 18:07:49] DEBUG   (4142056469.py:323) set_joints     sending: 02 -0042.00 +0055.00 +0035.00 +0016.00 -0090.00 +0090.00 #\n",
      "[2023-12-04 18:07:49] DEBUG   (4142056469.py:328) set_joints     recieved: b'2 1 '\n"
     ]
    },
    {
     "name": "stdout",
     "output_type": "stream",
     "text": [
      "[-42, 55, 35, 16, -90, 90]\n"
     ]
    },
    {
     "name": "stderr",
     "output_type": "stream",
     "text": [
      "[2023-12-04 18:07:50] DEBUG   (4142056469.py:323) get_joints     sending: 04 #\n",
      "[2023-12-04 18:07:50] DEBUG   (4142056469.py:328) get_joints     recieved: b'4 1 -42.00 55.00 35.00 16.01 -90.00 90.00'\n",
      "[2023-12-04 18:07:50] DEBUG   (4142056469.py:323) get_cartesian  sending: 03 #\n",
      "[2023-12-04 18:07:50] DEBUG   (4142056469.py:328) get_cartesian  recieved: b'3 1 254.53 -255.89 142.86 0.680 0.680 0.195 0.195'\n",
      "[2023-12-04 18:07:50] DEBUG   (4142056469.py:323) set_joints     sending: 02 -0040.00 +0055.00 +0035.00 +0024.00 -0090.00 +0090.00 #\n",
      "[2023-12-04 18:07:50] DEBUG   (4142056469.py:328) set_joints     recieved: b'2 1 '\n"
     ]
    },
    {
     "name": "stdout",
     "output_type": "stream",
     "text": [
      "[-40, 55, 35, 24, -90, 90]\n"
     ]
    },
    {
     "name": "stderr",
     "output_type": "stream",
     "text": [
      "[2023-12-04 18:07:50] DEBUG   (4142056469.py:323) get_joints     sending: 04 #\n",
      "[2023-12-04 18:07:50] DEBUG   (4142056469.py:328) get_joints     recieved: b'4 1 -40.00 55.00 35.00 24.00 -90.00 90.00'\n",
      "[2023-12-04 18:07:50] DEBUG   (4142056469.py:323) get_cartesian  sending: 03 #\n",
      "[2023-12-04 18:07:50] DEBUG   (4142056469.py:328) get_cartesian  recieved: b'3 1 254.62 -251.86 142.86 0.689 0.689 0.159 0.159'\n",
      "[2023-12-04 18:07:50] DEBUG   (4142056469.py:323) set_joints     sending: 02 -0052.00 +0055.00 +0035.00 -0016.00 -0090.00 +0090.00 #\n",
      "[2023-12-04 18:07:50] DEBUG   (4142056469.py:328) set_joints     recieved: b'2 1 '\n"
     ]
    },
    {
     "name": "stdout",
     "output_type": "stream",
     "text": [
      "[-52, 55, 35, -16, -90, 90]\n"
     ]
    },
    {
     "name": "stderr",
     "output_type": "stream",
     "text": [
      "[2023-12-04 18:07:51] DEBUG   (4142056469.py:323) get_joints     sending: 04 #\n",
      "[2023-12-04 18:07:51] DEBUG   (4142056469.py:328) get_joints     recieved: b'4 1 -45.10 55.00 35.00 7.03 -90.00 90.00'\n",
      "[2023-12-04 18:07:51] DEBUG   (4142056469.py:323) get_cartesian  sending: 03 #\n",
      "[2023-12-04 18:07:51] DEBUG   (4142056469.py:328) get_cartesian  recieved: b'3 1 240.42 -270.59 142.87 0.638 0.638 0.305 0.305'\n",
      "[2023-12-04 18:07:51] DEBUG   (4142056469.py:323) set_joints     sending: 02 -0050.00 +0055.00 +0035.00 -0008.00 -0090.00 +0090.00 #\n",
      "[2023-12-04 18:07:51] DEBUG   (4142056469.py:328) set_joints     recieved: b'2 1 '\n"
     ]
    },
    {
     "name": "stdout",
     "output_type": "stream",
     "text": [
      "[-50, 55, 35, -8, -90, 90]\n"
     ]
    },
    {
     "name": "stderr",
     "output_type": "stream",
     "text": [
      "[2023-12-04 18:07:51] DEBUG   (4142056469.py:323) get_joints     sending: 04 #\n",
      "[2023-12-04 18:07:51] DEBUG   (4142056469.py:328) get_joints     recieved: b'4 1 -50.01 55.00 35.00 -8.01 -90.00 90.00'\n",
      "[2023-12-04 18:07:51] DEBUG   (4142056469.py:323) get_cartesian  sending: 03 #\n",
      "[2023-12-04 18:07:51] DEBUG   (4142056469.py:328) get_cartesian  recieved: b'3 1 240.68 -271.21 142.87 0.646 0.646 0.288 0.288'\n",
      "[2023-12-04 18:07:51] DEBUG   (4142056469.py:323) set_joints     sending: 02 -0048.00 +0055.00 +0035.00 +0000.00 -0090.00 +0090.00 #\n",
      "[2023-12-04 18:07:51] DEBUG   (4142056469.py:328) set_joints     recieved: b'2 1 '\n"
     ]
    },
    {
     "name": "stdout",
     "output_type": "stream",
     "text": [
      "[-48, 55, 35, 0, -90, 90]\n"
     ]
    },
    {
     "name": "stderr",
     "output_type": "stream",
     "text": [
      "[2023-12-04 18:07:52] DEBUG   (4142056469.py:323) get_joints     sending: 04 #\n",
      "[2023-12-04 18:07:52] DEBUG   (4142056469.py:328) get_joints     recieved: b'4 1 -48.01 55.00 35.00 -0.01 -90.00 90.00'\n",
      "[2023-12-04 18:07:52] DEBUG   (4142056469.py:323) get_cartesian  sending: 03 #\n",
      "[2023-12-04 18:07:52] DEBUG   (4142056469.py:328) get_cartesian  recieved: b'3 1 243.00 -269.89 142.86 0.660 0.660 0.253 0.253'\n",
      "[2023-12-04 18:07:52] DEBUG   (4142056469.py:323) set_joints     sending: 02 -0046.00 +0055.00 +0035.00 +0008.00 -0090.00 +0090.00 #\n",
      "[2023-12-04 18:07:52] DEBUG   (4142056469.py:328) set_joints     recieved: b'2 1 '\n"
     ]
    },
    {
     "name": "stdout",
     "output_type": "stream",
     "text": [
      "[-46, 55, 35, 8, -90, 90]\n"
     ]
    },
    {
     "name": "stderr",
     "output_type": "stream",
     "text": [
      "[2023-12-04 18:07:52] DEBUG   (4142056469.py:323) get_joints     sending: 04 #\n",
      "[2023-12-04 18:07:52] DEBUG   (4142056469.py:328) get_joints     recieved: b'4 1 -46.00 55.00 35.00 7.99 -90.00 90.00'\n",
      "[2023-12-04 18:07:52] DEBUG   (4142056469.py:323) get_cartesian  sending: 03 #\n",
      "[2023-12-04 18:07:52] DEBUG   (4142056469.py:328) get_cartesian  recieved: b'3 1 244.60 -267.69 142.86 0.672 0.672 0.219 0.219'\n",
      "[2023-12-04 18:07:52] DEBUG   (4142056469.py:323) set_joints     sending: 02 -0044.00 +0055.00 +0035.00 +0016.00 -0090.00 +0090.00 #\n",
      "[2023-12-04 18:07:53] DEBUG   (4142056469.py:328) set_joints     recieved: b'2 1 '\n"
     ]
    },
    {
     "name": "stdout",
     "output_type": "stream",
     "text": [
      "[-44, 55, 35, 16, -90, 90]\n"
     ]
    },
    {
     "name": "stderr",
     "output_type": "stream",
     "text": [
      "[2023-12-04 18:07:53] DEBUG   (4142056469.py:323) get_joints     sending: 04 #\n",
      "[2023-12-04 18:07:53] DEBUG   (4142056469.py:328) get_joints     recieved: b'4 1 -44.00 55.00 35.00 16.01 -90.00 90.00'\n",
      "[2023-12-04 18:07:53] DEBUG   (4142056469.py:323) get_cartesian  sending: 03 #\n",
      "[2023-12-04 18:07:53] DEBUG   (4142056469.py:328) get_cartesian  recieved: b'3 1 245.45 -264.62 142.87 0.683 0.683 0.183 0.183'\n",
      "[2023-12-04 18:07:53] DEBUG   (4142056469.py:323) set_joints     sending: 02 -0042.00 +0055.00 +0035.00 +0024.00 -0090.00 +0090.00 #\n",
      "[2023-12-04 18:07:53] DEBUG   (4142056469.py:328) set_joints     recieved: b'2 1 '\n"
     ]
    },
    {
     "name": "stdout",
     "output_type": "stream",
     "text": [
      "[-42, 55, 35, 24, -90, 90]\n"
     ]
    },
    {
     "name": "stderr",
     "output_type": "stream",
     "text": [
      "[2023-12-04 18:07:53] DEBUG   (4142056469.py:323) get_joints     sending: 04 #\n",
      "[2023-12-04 18:07:53] DEBUG   (4142056469.py:328) get_joints     recieved: b'4 1 -42.00 55.00 35.00 24.00 -90.00 90.00'\n",
      "[2023-12-04 18:07:53] DEBUG   (4142056469.py:323) get_cartesian  sending: 03 #\n",
      "[2023-12-04 18:07:53] DEBUG   (4142056469.py:328) get_cartesian  recieved: b'3 1 245.68 -260.60 142.86 0.692 0.692 0.147 0.147'\n",
      "[2023-12-04 18:07:54] DEBUG   (4142056469.py:323) set_joints     sending: 02 -0054.00 +0055.00 +0035.00 -0016.00 -0090.00 +0090.00 #\n",
      "[2023-12-04 18:07:54] DEBUG   (4142056469.py:328) set_joints     recieved: b'2 1 '\n"
     ]
    },
    {
     "name": "stdout",
     "output_type": "stream",
     "text": [
      "[-54, 55, 35, -16, -90, 90]\n"
     ]
    },
    {
     "name": "stderr",
     "output_type": "stream",
     "text": [
      "[2023-12-04 18:07:54] DEBUG   (4142056469.py:323) get_joints     sending: 04 #\n",
      "[2023-12-04 18:07:54] DEBUG   (4142056469.py:328) get_joints     recieved: b'4 1 -47.10 55.00 35.00 7.03 -90.00 90.00'\n",
      "[2023-12-04 18:07:54] DEBUG   (4142056469.py:323) get_cartesian  sending: 03 #\n",
      "[2023-12-04 18:07:54] DEBUG   (4142056469.py:328) get_cartesian  recieved: b'3 1 231.18 -278.67 142.87 0.644 0.644 0.291 0.291'\n",
      "[2023-12-04 18:07:54] DEBUG   (4142056469.py:323) set_joints     sending: 02 -0052.00 +0055.00 +0035.00 -0008.00 -0090.00 +0090.00 #\n",
      "[2023-12-04 18:07:54] DEBUG   (4142056469.py:328) set_joints     recieved: b'2 1 '\n"
     ]
    },
    {
     "name": "stdout",
     "output_type": "stream",
     "text": [
      "[-52, 55, 35, -8, -90, 90]\n"
     ]
    },
    {
     "name": "stderr",
     "output_type": "stream",
     "text": [
      "[2023-12-04 18:07:54] DEBUG   (4142056469.py:323) get_joints     sending: 04 #\n",
      "[2023-12-04 18:07:54] DEBUG   (4142056469.py:328) get_joints     recieved: b'4 1 -52.00 55.00 35.00 -8.00 -90.00 90.00'\n",
      "[2023-12-04 18:07:54] DEBUG   (4142056469.py:323) get_cartesian  sending: 03 #\n",
      "[2023-12-04 18:07:55] DEBUG   (4142056469.py:328) get_cartesian  recieved: b'3 1 231.07 -279.45 142.86 0.651 0.651 0.276 0.276'\n",
      "[2023-12-04 18:07:55] DEBUG   (4142056469.py:323) set_joints     sending: 02 -0050.00 +0055.00 +0035.00 +0000.00 -0090.00 +0090.00 #\n",
      "[2023-12-04 18:07:55] DEBUG   (4142056469.py:328) set_joints     recieved: b'2 1 '\n"
     ]
    },
    {
     "name": "stdout",
     "output_type": "stream",
     "text": [
      "[-50, 55, 35, 0, -90, 90]\n"
     ]
    },
    {
     "name": "stderr",
     "output_type": "stream",
     "text": [
      "[2023-12-04 18:07:55] DEBUG   (4142056469.py:323) get_joints     sending: 04 #\n",
      "[2023-12-04 18:07:55] DEBUG   (4142056469.py:328) get_joints     recieved: b'4 1 -50.00 55.00 35.00 0.01 -90.00 90.00'\n",
      "[2023-12-04 18:07:55] DEBUG   (4142056469.py:323) get_cartesian  sending: 03 #\n",
      "[2023-12-04 18:07:55] DEBUG   (4142056469.py:328) get_cartesian  recieved: b'3 1 233.44 -278.21 142.86 0.664 0.664 0.242 0.242'\n",
      "[2023-12-04 18:07:55] DEBUG   (4142056469.py:323) set_joints     sending: 02 -0048.00 +0055.00 +0035.00 +0008.00 -0090.00 +0090.00 #\n",
      "[2023-12-04 18:07:55] DEBUG   (4142056469.py:328) set_joints     recieved: b'2 1 '\n"
     ]
    },
    {
     "name": "stdout",
     "output_type": "stream",
     "text": [
      "[-48, 55, 35, 8, -90, 90]\n"
     ]
    },
    {
     "name": "stderr",
     "output_type": "stream",
     "text": [
      "[2023-12-04 18:07:55] DEBUG   (4142056469.py:323) get_joints     sending: 04 #\n",
      "[2023-12-04 18:07:56] DEBUG   (4142056469.py:328) get_joints     recieved: b'4 1 -48.00 55.00 35.00 8.00 -90.00 90.00'\n",
      "[2023-12-04 18:07:56] DEBUG   (4142056469.py:323) get_cartesian  sending: 03 #\n",
      "[2023-12-04 18:07:56] DEBUG   (4142056469.py:328) get_cartesian  recieved: b'3 1 235.10 -276.07 142.86 0.676 0.676 0.207 0.207'\n",
      "[2023-12-04 18:07:56] DEBUG   (4142056469.py:323) set_joints     sending: 02 -0046.00 +0055.00 +0035.00 +0016.00 -0090.00 +0090.00 #\n",
      "[2023-12-04 18:07:56] DEBUG   (4142056469.py:328) set_joints     recieved: b'2 1 '\n"
     ]
    },
    {
     "name": "stdout",
     "output_type": "stream",
     "text": [
      "[-46, 55, 35, 16, -90, 90]\n"
     ]
    },
    {
     "name": "stderr",
     "output_type": "stream",
     "text": [
      "[2023-12-04 18:07:56] DEBUG   (4142056469.py:323) get_joints     sending: 04 #\n",
      "[2023-12-04 18:07:56] DEBUG   (4142056469.py:328) get_joints     recieved: b'4 1 -46.00 55.00 35.00 16.01 -90.00 90.00'\n",
      "[2023-12-04 18:07:56] DEBUG   (4142056469.py:323) get_cartesian  sending: 03 #\n",
      "[2023-12-04 18:07:56] DEBUG   (4142056469.py:328) get_cartesian  recieved: b'3 1 236.06 -273.02 142.86 0.686 0.686 0.171 0.171'\n",
      "[2023-12-04 18:07:56] DEBUG   (4142056469.py:323) set_joints     sending: 02 -0044.00 +0055.00 +0035.00 +0024.00 -0090.00 +0090.00 #\n",
      "[2023-12-04 18:07:56] DEBUG   (4142056469.py:328) set_joints     recieved: b'2 1 '\n"
     ]
    },
    {
     "name": "stdout",
     "output_type": "stream",
     "text": [
      "[-44, 55, 35, 24, -90, 90]\n"
     ]
    },
    {
     "name": "stderr",
     "output_type": "stream",
     "text": [
      "[2023-12-04 18:07:57] DEBUG   (4142056469.py:323) get_joints     sending: 04 #\n",
      "[2023-12-04 18:07:57] DEBUG   (4142056469.py:328) get_joints     recieved: b'4 1 -44.00 55.00 35.00 24.00 -90.00 90.00'\n",
      "[2023-12-04 18:07:57] DEBUG   (4142056469.py:323) get_cartesian  sending: 03 #\n",
      "[2023-12-04 18:07:57] DEBUG   (4142056469.py:328) get_cartesian  recieved: b'3 1 236.43 -269.01 142.86 0.694 0.694 0.135 0.135'\n",
      "[2023-12-04 18:07:57] DEBUG   (4142056469.py:323) set_joints     sending: 02 +0000.00 +0000.00 +0000.00 +0000.00 +0000.00 +0090.00 #\n",
      "[2023-12-04 18:08:00] DEBUG   (4142056469.py:328) set_joints     recieved: b'2 1 '\n",
      "[2023-12-04 18:08:00] DEBUG   (4142056469.py:323) close          sending: 99 #\n",
      "[2023-12-04 18:08:00] INFO    (4142056469.py:345) Disconnected from ABB robot.\n"
     ]
    }
   ],
   "source": [
    "start_cap(points)"
   ]
  },
  {
   "cell_type": "code",
   "execution_count": null,
   "id": "74da0814-c584-433d-98fe-72093082cd31",
   "metadata": {},
   "outputs": [],
   "source": []
  }
 ],
 "metadata": {
  "kernelspec": {
   "display_name": "Python 3 (ipykernel)",
   "language": "python",
   "name": "python3"
  },
  "language_info": {
   "codemirror_mode": {
    "name": "ipython",
    "version": 3
   },
   "file_extension": ".py",
   "mimetype": "text/x-python",
   "name": "python",
   "nbconvert_exporter": "python",
   "pygments_lexer": "ipython3",
   "version": "3.11.2"
  }
 },
 "nbformat": 4,
 "nbformat_minor": 5
}
